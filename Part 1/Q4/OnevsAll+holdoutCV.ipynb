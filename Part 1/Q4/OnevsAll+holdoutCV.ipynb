{
  "nbformat": 4,
  "nbformat_minor": 0,
  "metadata": {
    "colab": {
      "name": "AssignmentQ4.ipynb",
      "provenance": []
    },
    "kernelspec": {
      "name": "python3",
      "display_name": "Python 3"
    },
    "language_info": {
      "name": "python"
    }
  },
  "cells": [
    {
      "cell_type": "code",
      "execution_count": null,
      "metadata": {
        "id": "fars9kYiB5YK"
      },
      "outputs": [],
      "source": [
        "import sklearn\n",
        "import numpy as np\n",
        "import pandas as pd\n",
        "import matplotlib.pyplot as plt\n",
        "from scipy.io import loadmat\n",
        "import scipy\n",
        "import pandas as pd\n",
        "from sklearn.model_selection import train_test_split"
      ]
    },
    {
      "cell_type": "code",
      "source": [
        "from google.colab import drive\n",
        "drive.mount('/content/drive/')"
      ],
      "metadata": {
        "colab": {
          "base_uri": "https://localhost:8080/"
        },
        "id": "R1fgYz9MCAgJ",
        "outputId": "92975988-44c0-48a2-bc15-6853fb1a87bb"
      },
      "execution_count": null,
      "outputs": [
        {
          "output_type": "stream",
          "name": "stdout",
          "text": [
            "Mounted at /content/drive/\n"
          ]
        }
      ]
    },
    {
      "cell_type": "markdown",
      "source": [
        "ONE VS ALL METHOD"
      ],
      "metadata": {
        "id": "eaDd-NabrPnA"
      }
    },
    {
      "cell_type": "code",
      "source": [
        "data = pd.read_excel('/content/drive/MyDrive/NNFL Assignment/data.xlsx');\n"
      ],
      "metadata": {
        "id": "z0vukRtSF17p"
      },
      "execution_count": null,
      "outputs": []
    },
    {
      "cell_type": "code",
      "source": [
        "print(data)"
      ],
      "metadata": {
        "id": "gJuvtJvoJCAf",
        "colab": {
          "base_uri": "https://localhost:8080/"
        },
        "outputId": "01729d57-776e-4feb-b242-3443aecc8e52"
      },
      "execution_count": null,
      "outputs": [
        {
          "output_type": "stream",
          "name": "stdout",
          "text": [
            "      242.751526  281.801298  250.032405  ...  1.281972    1.844860    1.000000  \n",
            "0     216.585951  297.057883  300.938478  ...    1.598582    1.625395           1\n",
            "1     265.735536  339.271134  269.817305  ...    1.848160    1.706134           1\n",
            "2     207.631953  255.284282  254.563071  ...    1.710404    1.664391           1\n",
            "3     205.016124  333.265999  536.342842  ...    1.703264    1.535684           1\n",
            "4     195.777116  284.978457  351.491093  ...    1.834746    1.731494           1\n",
            "...          ...         ...         ...  ...         ...         ...         ...\n",
            "3406  723.913528  343.529660  360.468834  ...    1.948758    1.758541           4\n",
            "3407  466.593370  215.858228  235.940729  ...    1.568558    1.494537           4\n",
            "3408  446.227198  219.936910  181.605753  ...    1.418510    1.772295           4\n",
            "3409  511.406437  215.379710  170.598957  ...    1.609298    1.664890           4\n",
            "3410  757.967516  268.431243  189.755280  ...    1.790039    1.560633           4\n",
            "\n",
            "[3411 rows x 61 columns]\n"
          ]
        }
      ]
    },
    {
      "cell_type": "code",
      "source": [
        "D0 = data.copy();\n",
        "D1 = data.copy(); \n",
        "D2 = data.copy();\n",
        "D3 = data.copy();\n",
        "\n",
        "D0 = D0.to_numpy();\n",
        "D1 = D1.to_numpy();\n",
        "D2 = D2.to_numpy();\n",
        "D3 = D3.to_numpy();"
      ],
      "metadata": {
        "id": "4unAVWVZMwfX"
      },
      "execution_count": null,
      "outputs": []
    },
    {
      "cell_type": "code",
      "source": [
        "for j in range(3411):\n",
        "    if (D0[j,60] == 1):\n",
        "      D0[j,60] = 1\n",
        "    else:\n",
        "      D0[j,60] = 0\n",
        "\n",
        "for j in range(3411):\n",
        "    if D1[j,60] == 2:\n",
        "      D1[j,60] = 1\n",
        "    else:\n",
        "      D1[j,60] = 0\n",
        "\n",
        "for j in range(3411):\n",
        "    if D2[j,60] == 3:\n",
        "      D2[j,60] = 1\n",
        "    else:\n",
        "      D2[j,60] = 0\n",
        "\n",
        "for j in range(3411):\n",
        "    if D3[j,60] == 4:\n",
        "      D3[j,60] = 1\n",
        "    else:\n",
        "      D3[j,60] = 0"
      ],
      "metadata": {
        "id": "i_i_LHTYQDqM"
      },
      "execution_count": null,
      "outputs": []
    },
    {
      "cell_type": "code",
      "source": [
        "print(D0.shape)\n",
        "print(D1.shape)\n",
        "print(D2.shape)\n",
        "print(D3.shape)"
      ],
      "metadata": {
        "id": "bvqLKdUXSEVp",
        "colab": {
          "base_uri": "https://localhost:8080/"
        },
        "outputId": "3896be46-2c62-48a0-b51f-5e3c81e34f1d"
      },
      "execution_count": null,
      "outputs": [
        {
          "output_type": "stream",
          "name": "stdout",
          "text": [
            "(3411, 61)\n",
            "(3411, 61)\n",
            "(3411, 61)\n",
            "(3411, 61)\n"
          ]
        }
      ]
    },
    {
      "cell_type": "code",
      "source": [
        "m=D0.shape[0]\n",
        "Y0=D0[:, 60] # class label\n",
        "X0=D0[:, 0:60] # feature matrix\n",
        "\n",
        "m=D1.shape[0]\n",
        "\n",
        "Y1=D1[:, 60] # class label\n",
        "X1=D1[:, 0:60] # feature matrix\n",
        "\n",
        "m=D2.shape[0]\n",
        "\n",
        "Y2=D2[:, 60] # class label\n",
        "X2=D2[:, 0:60] # feature matrix\n",
        "\n",
        "m=D3.shape[0]\n",
        "\n",
        "Y3=D3[:, 60] # class label\n",
        "X3=D3[:, 0:60] # feature matrix"
      ],
      "metadata": {
        "id": "CPwJDBZtiMq1"
      },
      "execution_count": null,
      "outputs": []
    },
    {
      "cell_type": "code",
      "source": [
        "print(X0.shape)\n",
        "print(Y0.shape)\n",
        "\n",
        "print(X1.shape)\n",
        "print(Y1.shape)\n",
        "\n",
        "print(X2.shape)\n",
        "print(Y2.shape)\n",
        "\n",
        "print(X3.shape)\n",
        "print(Y3.shape)"
      ],
      "metadata": {
        "id": "hBbYJlGpp_uD",
        "colab": {
          "base_uri": "https://localhost:8080/"
        },
        "outputId": "358a96e9-2099-4fc2-cd4b-d6e55e231e77"
      },
      "execution_count": null,
      "outputs": [
        {
          "output_type": "stream",
          "name": "stdout",
          "text": [
            "(3411, 60)\n",
            "(3411,)\n",
            "(3411, 60)\n",
            "(3411,)\n",
            "(3411, 60)\n",
            "(3411,)\n",
            "(3411, 60)\n",
            "(3411,)\n"
          ]
        }
      ]
    },
    {
      "cell_type": "code",
      "source": [
        "xmin = np.min(X0, axis = 0)\n",
        "xmax = np.max(X0, axis = 0)\n",
        "X0 = (X0- xmin)/(xmax-xmin)\n",
        "xmin = np.min(Y0, axis = 0)\n",
        "xmax = np.max(Y0, axis = 0)\n",
        "Y0 = (Y0- xmin)/(xmax-xmin) \n",
        "\n",
        "xmin = np.min(X1, axis = 0)\n",
        "xmax = np.max(X1, axis = 0)\n",
        "X1 = (X1- xmin)/(xmax-xmin)\n",
        "xmin = np.min(Y1, axis = 0)\n",
        "xmax = np.max(Y1, axis = 0)\n",
        "Y1 = (Y1- xmin)/(xmax-xmin) \n",
        "\n",
        "xmin = np.min(X2, axis = 0)\n",
        "xmax = np.max(X2, axis = 0)\n",
        "X2 = (X2- xmin)/(xmax-xmin)\n",
        "xmin = np.min(Y2, axis = 0)\n",
        "xmax = np.max(Y2, axis = 0)\n",
        "Y2 = (Y2- xmin)/(xmax-xmin) \n",
        "\n",
        "xmin = np.min(X3, axis = 0)\n",
        "xmax = np.max(X3, axis = 0)\n",
        "X3 = (X3- xmin)/(xmax-xmin)\n",
        "xmin = np.min(Y3, axis = 0)\n",
        "xmax = np.max(Y3, axis = 0)\n",
        "Y3 = (Y3- xmin)/(xmax-xmin) "
      ],
      "metadata": {
        "id": "Iz55WQHmJS7X"
      },
      "execution_count": null,
      "outputs": []
    },
    {
      "cell_type": "code",
      "source": [
        "print(X0.shape)\n",
        "print(Y0.shape)\n",
        "\n",
        "print(X1.shape)\n",
        "print(Y1.shape)\n",
        "\n",
        "print(X2.shape)\n",
        "print(Y2.shape)\n",
        "\n",
        "print(X3.shape)\n",
        "print(Y3.shape)"
      ],
      "metadata": {
        "id": "5PIelGTjpxlJ",
        "colab": {
          "base_uri": "https://localhost:8080/"
        },
        "outputId": "ac922c69-c691-4f1b-8922-3e4988d5dbf2"
      },
      "execution_count": null,
      "outputs": [
        {
          "output_type": "stream",
          "name": "stdout",
          "text": [
            "(3411, 60)\n",
            "(3411,)\n",
            "(3411, 60)\n",
            "(3411,)\n",
            "(3411, 60)\n",
            "(3411,)\n",
            "(3411, 60)\n",
            "(3411,)\n"
          ]
        }
      ]
    },
    {
      "cell_type": "markdown",
      "source": [
        "HOLDOUT VALIDATION METHOD"
      ],
      "metadata": {
        "id": "QXgAkc_scgzw"
      }
    },
    {
      "cell_type": "code",
      "source": [
        "# set aside 20% of train and test data for evaluation\n",
        "X0_train, X0_test, Y0_train, Y0_test = train_test_split(X0,Y0,test_size=0.2, shuffle = True, random_state = 8)\n",
        "\n",
        "# Use the same function above for the validation set\n",
        "X0_train, X0_val, Y0_train, Y0_val = train_test_split(X0_train, Y0_train, \n",
        "    test_size=0.125, random_state= 8) # 0.25 x 0.8 = 0.2\n",
        "\n",
        "\n",
        "print((X0_train.shape))\n",
        "print((X0_test.shape))\n",
        "print((Y0_train.shape))\n",
        "print((Y0_test.shape))\n",
        "print((X0_val.shape))\n",
        "print((Y0_val.shape))\n",
        "\n",
        "# set aside 20% of train and test data for evaluation\n",
        "X1_train, X1_test, Y1_train, Y1_test = train_test_split(X1,Y1,test_size=0.2, shuffle = True, random_state = 8)\n",
        "\n",
        "# Use the same function above for the validation set\n",
        "X1_train, X1_val, Y1_train, Y1_val = train_test_split(X1_train, Y1_train, \n",
        "    test_size=0.125, random_state= 8) # 0.25 x 0.8 = 0.2\n",
        "\n",
        "\n",
        "print((X1_train.shape))\n",
        "print((X1_test.shape))\n",
        "print((Y1_train.shape))\n",
        "print((Y1_test.shape))\n",
        "print((X1_val.shape))\n",
        "print((Y1_val.shape))\n",
        "\n",
        "# set aside 20% of train and test data for evaluation\n",
        "X2_train, X2_test, Y2_train, Y2_test = train_test_split(X2,Y2,test_size=0.2, shuffle = True, random_state = 8)\n",
        "\n",
        "# Use the same function above for the validation set\n",
        "X2_train, X2_val, Y2_train, Y2_val = train_test_split(X2_train, Y2_train, \n",
        "    test_size=0.125, random_state= 8) # 0.25 x 0.8 = 0.2\n",
        "\n",
        "\n",
        "print((X2_train.shape))\n",
        "print((X2_test.shape))\n",
        "print((Y2_train.shape))\n",
        "print((Y2_test.shape))\n",
        "print((X2_val.shape))\n",
        "print((Y2_val.shape))\n",
        "\n",
        "# set aside 20% of train and test data for evaluation\n",
        "X3_train, X3_test, Y3_train, Y3_test = train_test_split(X3,Y3,test_size=0.2, shuffle = True, random_state = 8)\n",
        "\n",
        "# Use the same function above for the validation set\n",
        "X3_train, X3_val, Y3_train, Y3_val = train_test_split(X3_train, Y3_train, \n",
        "    test_size=0.125, random_state= 8) # 0.25 x 0.8 = 0.2\n",
        "\n",
        "\n",
        "print((X3_train.shape))\n",
        "print((X3_test.shape))\n",
        "print((Y3_train.shape))\n",
        "print((Y3_test.shape))\n",
        "print((X3_val.shape))\n",
        "print((Y3_val.shape))"
      ],
      "metadata": {
        "colab": {
          "base_uri": "https://localhost:8080/"
        },
        "id": "Oro_l-6fcgER",
        "outputId": "930ddf28-727e-4ed1-daeb-ae7b70f79a2f"
      },
      "execution_count": null,
      "outputs": [
        {
          "output_type": "stream",
          "name": "stdout",
          "text": [
            "(2387, 60)\n",
            "(683, 60)\n",
            "(2387,)\n",
            "(683,)\n",
            "(341, 60)\n",
            "(341,)\n",
            "(2387, 60)\n",
            "(683, 60)\n",
            "(2387,)\n",
            "(683,)\n",
            "(341, 60)\n",
            "(341,)\n",
            "(2387, 60)\n",
            "(683, 60)\n",
            "(2387,)\n",
            "(683,)\n",
            "(341, 60)\n",
            "(341,)\n",
            "(2387, 60)\n",
            "(683, 60)\n",
            "(2387,)\n",
            "(683,)\n",
            "(341, 60)\n",
            "(341,)\n"
          ]
        }
      ]
    },
    {
      "cell_type": "code",
      "source": [
        "m=len(X0_train)\n",
        "pp = np.ones([m, 1]) \n",
        "X0_train = np.append(pp,X0_train, axis=1)\n",
        "m=len(X0_test)\n",
        "pp = np.ones([m, 1]) \n",
        "X0_test = np.append(pp,X0_test, axis=1)\n",
        "m=len(X0_val)\n",
        "pp = np.ones([m, 1]) \n",
        "X0_val = np.append(pp,X0_val, axis=1)\n",
        "\n",
        "m=len(X1_train)\n",
        "pp = np.ones([m, 1]) \n",
        "X1_train = np.append(pp,X1_train, axis=1)\n",
        "m=len(X1_test)\n",
        "pp = np.ones([m, 1]) \n",
        "X1_test = np.append(pp,X1_test, axis=1)\n",
        "m=len(X1_val)\n",
        "pp = np.ones([m, 1]) \n",
        "X1_val = np.append(pp,X1_val, axis=1)\n",
        "\n",
        "m=len(X2_train)\n",
        "pp = np.ones([m, 1]) \n",
        "X2_train = np.append(pp,X2_train, axis=1)\n",
        "m=len(X2_test)\n",
        "pp = np.ones([m, 1]) \n",
        "X2_test = np.append(pp,X2_test, axis=1)\n",
        "m=len(X2_val)\n",
        "pp = np.ones([m, 1]) \n",
        "X2_val = np.append(pp,X2_val, axis=1)\n",
        "\n",
        "m=len(X3_train)\n",
        "pp = np.ones([m, 1]) \n",
        "X3_train = np.append(pp,X3_train, axis=1)\n",
        "m=len(X3_test)\n",
        "pp = np.ones([m, 1]) \n",
        "X3_test = np.append(pp,X3_test, axis=1)\n",
        "m=len(X3_val)\n",
        "pp = np.ones([m, 1]) \n",
        "X3_val = np.append(pp,X3_val, axis=1)\n"
      ],
      "metadata": {
        "id": "GGk6uzLxRz8b"
      },
      "execution_count": null,
      "outputs": []
    },
    {
      "cell_type": "code",
      "source": [
        "print(X0_train.shape)\n",
        "print(X0_test.shape)\n",
        "print(Y0_train.shape)\n",
        "print(Y0_test.shape)\n",
        "print(X0_val.shape)\n",
        "print(Y0_val.shape)\n",
        "\n",
        "print(X1_train.shape)\n",
        "print(X1_test.shape)\n",
        "print(Y1_train.shape)\n",
        "print(Y1_test.shape)\n",
        "print(X1_val.shape)\n",
        "print(Y1_val.shape)\n",
        "\n",
        "print(X2_train.shape)\n",
        "print(X2_test.shape)\n",
        "print(Y2_train.shape)\n",
        "print(Y2_test.shape)\n",
        "print(X2_val.shape)\n",
        "print(Y2_val.shape)\n",
        "\n",
        "print(X3_train.shape)\n",
        "print(X3_test.shape)\n",
        "print(Y3_train.shape)\n",
        "print(Y3_test.shape)\n",
        "print(X3_val.shape)\n",
        "print(Y3_val.shape)"
      ],
      "metadata": {
        "colab": {
          "base_uri": "https://localhost:8080/"
        },
        "id": "PdBWaU9fSidd",
        "outputId": "09f00066-a1ba-4a77-9ced-ff8ab88b15ff"
      },
      "execution_count": null,
      "outputs": [
        {
          "output_type": "stream",
          "name": "stdout",
          "text": [
            "(2387, 61)\n",
            "(683, 61)\n",
            "(2387,)\n",
            "(683,)\n",
            "(341, 61)\n",
            "(341,)\n",
            "(2387, 61)\n",
            "(683, 61)\n",
            "(2387,)\n",
            "(683,)\n",
            "(341, 61)\n",
            "(341,)\n",
            "(2387, 61)\n",
            "(683, 61)\n",
            "(2387,)\n",
            "(683,)\n",
            "(341, 61)\n",
            "(341,)\n",
            "(2387, 61)\n",
            "(683, 61)\n",
            "(2387,)\n",
            "(683,)\n",
            "(341, 61)\n",
            "(341,)\n"
          ]
        }
      ]
    },
    {
      "cell_type": "code",
      "source": [
        "def sigmoid(z):\n",
        "  return 1.0/(1 + np.exp(-z))"
      ],
      "metadata": {
        "id": "K7D1VrRDSqcO"
      },
      "execution_count": null,
      "outputs": []
    },
    {
      "cell_type": "code",
      "source": [
        "def cost_function(X,y,w):\n",
        "  hypothesis = sigmoid(np.dot(X,w.T)) \n",
        "  J =-(1/m)*(np.sum(y*(np.log(hypothesis)) + (1-y)*np.log(1-hypothesis)))\n",
        "  return J\n"
      ],
      "metadata": {
        "id": "8GkXlcOrTKyp"
      },
      "execution_count": null,
      "outputs": []
    },
    {
      "cell_type": "code",
      "source": [
        "def batch_gradient_descent(X,y,w,alpha,iters):\n",
        "  cost_history = np.zeros(iters) \n",
        "\n",
        "  for i in range(iters):\n",
        "    hypothesis = sigmoid(np.dot(X,w.T))\n",
        "    #w = w - (alpha/len(y)) * (np.dot((X.T) , (hypothesis - y))).T\n",
        "    w = w - (alpha/len(y))*np.dot((hypothesis - y), X)\n",
        "    cost_history[i] = cost_function(X,y,w)\n",
        "  return w,cost_history"
      ],
      "metadata": {
        "id": "pnEf76yhTTwp"
      },
      "execution_count": null,
      "outputs": []
    },
    {
      "cell_type": "code",
      "source": [
        "def MB_gradient_descent(X,y,w,alpha, iters, batch_size):\n",
        "  cost_history = np.zeros(iters)\n",
        "  for i in range(iters):\n",
        "    rand_index = np.random.randint(len(y)-batch_size)\n",
        "    ind_x = X[rand_index:rand_index+batch_size]\n",
        "    ind_y = y[rand_index:rand_index+batch_size]\n",
        "    w = w - (alpha/batch_size)*(ind_x.T.dot(sigmoid(ind_x.dot(w)) - ind_y))\n",
        "\n",
        "    #w = w - (alpha/batch_size) * (ind_x.T.dot(sigmoid(ind_x.dot(w.T)) - ind_y)).T\n",
        "    cost_history[i] = cost_function(ind_x,ind_y,w)\n",
        "  return w, cost_history"
      ],
      "metadata": {
        "id": "zup7lsSOTTxk"
      },
      "execution_count": null,
      "outputs": []
    },
    {
      "cell_type": "code",
      "source": [
        "def stochastic_gradient_descent(X,y,w,alpha, iters):\n",
        "  cost_history = np.zeros(iters)\n",
        "  for i in range(iters):\n",
        "    rand_index = np.random.randint(len(y)-1)\n",
        "    ind_x = X[rand_index:rand_index+1]\n",
        "    ind_y = y[rand_index:rand_index+1]\n",
        "    w = w - alpha*(ind_x.T.dot(sigmoid(ind_x.dot(w)) - ind_y))\n",
        "\n",
        "    #w = w - alpha * (ind_x.T.dot(sigmoid(ind_x.dot(w.T)) - ind_y)).T\n",
        "    cost_history[i] = cost_function(ind_x,ind_y,w)\n",
        "  return w, cost_history"
      ],
      "metadata": {
        "id": "MUVwkm1HTa_w"
      },
      "execution_count": null,
      "outputs": []
    },
    {
      "cell_type": "code",
      "source": [
        "w= np.zeros((X0_train.shape[1])) \n",
        "#w = np.random.randn(1 , X_train.shape[1]).ravel()\n",
        "print(w.shape)\n"
      ],
      "metadata": {
        "colab": {
          "base_uri": "https://localhost:8080/"
        },
        "id": "BwiTTyIJT3S9",
        "outputId": "cc70339e-fa17-4955-c7b8-a2018bf65c26"
      },
      "execution_count": null,
      "outputs": [
        {
          "output_type": "stream",
          "name": "stdout",
          "text": [
            "(61,)\n"
          ]
        }
      ]
    },
    {
      "cell_type": "markdown",
      "source": [
        "FOR 1ST CLASS\n"
      ],
      "metadata": {
        "id": "WJ8jDE-lZ084"
      }
    },
    {
      "cell_type": "code",
      "source": [
        "alpha=0.5 ##learning rate\n",
        "iters=2000 ###iterations\n",
        "batch_w,J_his = batch_gradient_descent(X0_train,Y0_train,w,alpha,iters)\n",
        "plt.plot(range(iters),J_his)\n",
        "plt.show()"
      ],
      "metadata": {
        "colab": {
          "base_uri": "https://localhost:8080/",
          "height": 265
        },
        "id": "eJQaItBLT5-s",
        "outputId": "fac269aa-d08b-4372-9284-39ddc64921b7"
      },
      "execution_count": null,
      "outputs": [
        {
          "output_type": "display_data",
          "data": {
            "image/png": "[encoded data removed]",
            "text/plain": [
              "<Figure size 432x288 with 1 Axes>"
            ]
          },
          "metadata": {
            "needs_background": "light"
          }
        }
      ]
    },
    {
      "cell_type": "code",
      "source": [
        "z = np.dot(X0_test, batch_w.T)\n",
        "print(z.T)\n",
        "h = sigmoid(z)\n",
        "y_pred=h>0.5\n",
        "y_pred00=y_pred.astype(int)\n",
        "print(y_pred00.T)\n"
      ],
      "metadata": {
        "colab": {
          "base_uri": "https://localhost:8080/"
        },
        "id": "e5DoW_1Ty6yY",
        "outputId": "4d682cb5-f793-4a37-ef5b-e4b3e88eb8ba"
      },
      "execution_count": null,
      "outputs": [
        {
          "output_type": "stream",
          "name": "stdout",
          "text": [
            "[-0.97105319 -0.56674545 -1.22028454 -0.79904274 -0.91280132 -1.29408098\n",
            " -0.44498686 -1.13016261 -1.32379163 -0.92314524 -1.27572459 -1.00306506\n",
            " -1.65221096 -0.95741856 -1.05704929 -1.08581719 -0.92054227 -0.58948741\n",
            " -1.12496444 -1.09929922 -0.94388326 -0.71246285 -1.34717504 -0.69874081\n",
            " -1.47162796 -1.85518081 -1.12535151 -1.34090593 -1.11075075 -1.50352519\n",
            " -1.16279096 -1.36988967 -1.01442035 -1.36163184 -1.2820262  -1.07649146\n",
            " -0.93835108 -1.00232418 -0.9981199  -1.28564738 -1.19027284 -1.13707238\n",
            " -1.41574517 -1.62313856 -0.9074018  -0.95508583 -1.19932987 -1.31796713\n",
            " -1.34320609 -1.61277665 -1.47925803 -0.88763036 -1.38559746 -1.125286\n",
            " -1.59574299 -1.46490629 -1.33012676 -0.88288548 -1.69397419 -1.4088091\n",
            " -1.4577492  -1.04144962 -1.05421568 -1.13410368 -1.37128268 -0.90138876\n",
            " -0.74808224 -1.16223015 -1.2547576  -1.49089225 -1.52003692 -1.4570548\n",
            " -1.39994487 -1.02435633 -0.47375398 -1.15496155 -1.23420213 -0.67421903\n",
            " -1.59151658 -0.9135219  -1.05609458 -0.8991721  -1.09594567 -0.86770359\n",
            " -1.32714107 -1.08823192 -1.22914841 -1.49769071 -0.52046886 -0.99842509\n",
            " -1.1116278  -1.09547657 -0.79225566 -1.10509602 -1.10926757 -1.24082102\n",
            " -1.13408889 -1.25314591 -1.10247796 -1.0829376  -0.93572857 -1.26305745\n",
            " -1.20309443 -0.91913966 -0.92518737 -1.44741073 -0.68880408 -0.93462965\n",
            " -1.01090652 -0.90872234 -1.48942665 -1.01663786 -1.08908627 -0.93913478\n",
            " -0.72652384 -1.32879912 -1.12600773 -0.9871931  -1.3883675  -1.23888447\n",
            " -0.9695227  -0.94736864 -0.8377861  -1.4340992  -1.68769459 -0.68718858\n",
            " -1.10736924 -1.41767557 -1.17649575 -0.9698115  -1.41622389 -0.95456789\n",
            " -1.22214555 -1.0512391  -0.43778828 -1.25004901 -1.27585916 -1.22746559\n",
            " -1.21250423 -1.38773148 -1.01375843 -0.91645044 -1.17154291 -0.77253502\n",
            " -1.81468049 -1.89349929 -1.37419438 -1.28019978 -0.75340284 -0.90094373\n",
            " -1.20140968 -0.96442692 -1.45186487 -0.60594974 -1.42272176 -0.6555952\n",
            " -0.99143862 -0.88645128 -0.75542848 -0.95510138 -1.34533601 -0.96227178\n",
            " -0.84463068 -1.12644171 -1.1973275  -1.17738544 -1.07054396 -1.51808763\n",
            " -1.51318743 -0.67692536 -1.20469743 -0.91422634 -1.2486698  -0.74474461\n",
            " -1.07859898 -1.1550806  -1.24961428 -1.2046071  -0.76073279 -1.64341578\n",
            " -1.33288857 -1.50921588 -1.66467593 -0.58191876 -1.58747127 -1.08821316\n",
            " -1.04740013 -1.25584727 -0.99237878 -1.13019025 -1.25712471 -1.46925192\n",
            " -0.78745393 -0.80894757 -0.85250022 -0.81553734 -1.20418826 -1.19747613\n",
            " -1.06726557 -1.18448323 -0.67179649 -0.90477903 -0.50215438 -1.4908324\n",
            " -0.66904082 -1.47979128 -1.39666894 -0.97239822 -1.79055355 -1.20627009\n",
            " -0.69713439 -0.89345421 -1.06307305 -1.41665517 -1.11238244 -1.1164502\n",
            " -1.14938759 -1.32473303 -1.00084985 -0.40580206 -1.32228928 -1.47188959\n",
            " -1.27543264 -1.49852967 -1.44385238 -1.0431337  -0.71969182 -0.99978711\n",
            " -0.89279695 -0.55688076 -1.25361491 -0.95181756 -1.77109367 -0.72034402\n",
            " -1.50562662 -0.9466028  -0.41430922 -0.99631173 -1.09561399 -0.69255946\n",
            " -1.26809457 -1.37952488 -0.82269118 -0.69353704 -1.46803977 -0.7716746\n",
            " -1.10926757 -1.20236945 -1.45470649 -1.24059153 -0.90873951 -0.85954305\n",
            " -1.37399571 -1.63241073 -0.92294625 -1.1317446  -1.62816975 -1.12528849\n",
            " -1.19232394 -1.33962502 -1.62159432 -1.02635013 -0.52179367 -1.39637491\n",
            " -1.31693126 -0.51807422 -0.8467908  -0.57567158 -1.22318221 -1.57780714\n",
            " -1.42426477 -1.02699083 -1.68164454 -1.03085395 -1.23380033 -1.51774121\n",
            " -0.96927011 -0.88304113 -0.51794389 -1.41343435 -0.88908254 -1.27785939\n",
            " -1.37565161 -0.68613296 -1.16279096 -0.96150972 -1.11951177 -1.03621375\n",
            " -1.23590907 -1.00496996 -1.35804503 -1.06445271 -1.1030034  -1.31399575\n",
            " -0.75401424 -0.82858071 -1.08129401 -1.40963504 -1.2039115  -0.7053565\n",
            " -1.0801342  -0.28377342 -1.29476005 -1.11668547 -1.64919173 -0.9173797\n",
            " -1.21557815 -1.44253242 -1.00774662 -1.32095387 -1.5878158  -0.92296027\n",
            " -1.69396048 -1.06760349 -0.82607168 -1.13642311 -0.97235159 -1.30791668\n",
            " -0.98449329 -0.94290382 -1.43967595 -1.17765445 -1.01703071 -1.01764614\n",
            " -1.02512377 -0.70689471 -0.15256783 -1.11358352 -1.4703007  -1.35471871\n",
            " -1.03703167 -0.86080129 -1.37000285 -1.01127098 -0.83565307 -0.54648588\n",
            " -0.78324862 -1.5128957  -1.05626237 -1.22624324 -0.98693111 -1.11287042\n",
            " -1.06518765 -0.19279805 -1.01498347 -2.20713585 -1.18534493 -0.86518988\n",
            " -0.68281334 -0.75163569 -1.05892905 -1.23822491 -1.33696506 -0.29126448\n",
            " -0.45600936 -1.33136724 -0.85608961 -1.26375144 -1.10621386 -1.40332759\n",
            " -0.68349533 -0.62821196 -0.25229869 -1.64447793 -1.20453098 -1.38006142\n",
            " -0.66125154 -0.76077912 -1.25335448 -0.98430238 -1.35268376 -0.96148505\n",
            " -1.08458582 -0.64163744 -0.99440349 -1.3360728  -1.03183491 -1.28496736\n",
            " -1.16260097 -1.34018594 -0.88584516 -0.86530575 -0.71577292 -1.792939\n",
            " -0.77977976 -1.21765374 -0.97926185 -1.39112442 -1.56111937 -0.9755219\n",
            " -1.14984684 -0.79262291 -1.22688566 -1.08518328 -0.74703577 -1.39756804\n",
            " -1.43083002 -1.09000856 -1.21328887 -1.50982406 -1.27638875 -1.37206261\n",
            " -1.03592511 -0.67576139 -0.9473077  -1.168251   -0.87064583 -1.14981758\n",
            " -1.11088899 -1.30888208 -0.61359725 -1.11836514 -1.25514335 -1.56239563\n",
            " -0.74157403 -0.87423435 -0.97013367 -1.68401999 -1.12218128 -0.43910669\n",
            " -0.57310292 -0.90071333 -0.96020866 -0.97074268 -1.41835868 -1.39784318\n",
            " -0.99666623 -1.2953665  -0.57749963 -0.75554744 -1.384274   -0.67706578\n",
            " -1.29331693 -1.13981715 -1.05583408 -0.64747903 -1.51056317 -1.00899627\n",
            " -0.65522522 -1.90068665 -1.19149361 -0.87360794 -1.06427754 -1.39685939\n",
            " -1.00517743 -0.80489217 -0.97309897 -1.38166787 -0.58502255 -0.9514587\n",
            " -1.22548084 -1.43594789 -1.51885568 -1.45872011 -1.39878006 -1.40795247\n",
            " -1.09003524 -1.20135748 -1.03428299 -1.33678226 -1.09237443 -1.55593551\n",
            " -0.87520413 -0.87945936 -1.17702221 -1.25805021 -1.23753145 -0.72646667\n",
            " -0.93507934 -1.40489514 -1.09392559 -1.4379338  -1.29152801 -0.95054612\n",
            " -1.21161391 -1.34532122 -0.88151095 -0.80828223 -1.13388887 -0.92470635\n",
            " -1.26096659 -0.83631709 -1.83362235 -1.29486694 -0.64739828 -1.27433101\n",
            " -0.97436144 -1.20708595 -1.00515212 -1.14949171 -0.85558398 -1.20633105\n",
            " -1.47303946 -1.09707117 -0.89694615 -1.30244045 -1.18564453 -0.88722845\n",
            " -0.95086019 -1.00433766 -1.4342555  -0.91459865 -1.40373533 -1.19394748\n",
            " -1.10307476 -1.05867394 -1.18020353 -1.5453362  -1.38493236 -1.57678925\n",
            " -0.90336336 -1.57923316 -1.28693135 -1.81245026 -0.71134144 -1.40782222\n",
            " -1.18856122 -1.30514987 -0.95193874 -1.38865522 -1.19784279 -1.48176662\n",
            " -1.17324259 -1.33018324 -1.24328174 -1.10848453 -0.96766428 -0.84143674\n",
            " -1.43530387 -1.7267105  -0.90956678 -1.25397469 -1.02088153 -1.36503226\n",
            " -1.18504815 -0.85257337 -1.25205154 -0.69077874 -1.36467785 -1.6509565\n",
            " -0.85781662 -0.87758884 -1.24760053 -1.31393183 -0.48397432 -1.04920202\n",
            " -1.05853973 -1.04826619 -1.29542641 -1.24545001 -0.3265233  -1.0679137\n",
            " -0.93081607 -1.39985379 -1.41326954 -0.75726431 -0.92470635 -0.5467615\n",
            " -1.68788301 -1.53584122 -0.94422239 -1.55342703 -0.62880445 -0.75048561\n",
            " -1.24313858 -1.27996168 -0.4558911  -0.90241328 -1.12365153 -1.188443\n",
            " -1.164278   -1.01513902 -0.80071713 -0.62239045 -1.50791483 -0.92757376\n",
            " -0.98400417 -1.2011062  -1.60053036 -1.41660355 -1.45800372 -1.30425974\n",
            " -1.46344745 -2.17472942 -0.61945664 -1.01870625 -1.04301622 -0.9721452\n",
            " -0.92707251 -1.47791904 -1.5881108  -1.14823717 -0.64123882 -1.0084236\n",
            " -1.04492678 -0.80413833 -1.35965234 -1.08309508 -1.19299762 -0.65275513\n",
            " -0.71453543 -0.98889802 -1.02395758 -1.73262158 -1.23350925 -1.56558082\n",
            " -1.64462146 -1.02485195 -1.94694032 -1.08905342 -0.76485628 -0.66604262\n",
            " -1.73471553 -0.99183668 -1.12696469 -1.22377273 -1.68693828 -1.12154404\n",
            " -1.05732075 -1.52952611 -1.17034985 -1.79492142 -0.66401545 -1.55609478\n",
            " -1.45360803 -0.73066484 -1.0955927  -0.93732763 -1.31032216 -1.36518866\n",
            " -1.30763956 -1.08068981 -1.15187473 -1.18598333 -0.77493007 -1.0995912\n",
            " -1.2093927  -1.36130102 -1.20932662 -1.0491705  -1.26894866 -1.19925475\n",
            " -0.86053938 -0.8457149  -1.29856064 -0.86457214 -0.86587415 -1.01733757\n",
            " -1.07390867 -0.90907322 -1.34545189 -1.0870918  -1.38713012 -0.86696075\n",
            " -1.13825498 -0.90855214 -1.18419109 -0.80124398 -1.16358538 -1.28778866\n",
            " -1.89063886 -0.92889168 -0.95675564 -1.70306537 -0.86385221 -1.47137919\n",
            " -0.96503981 -1.33449543 -1.22807915 -1.36868147 -1.22549881 -0.71738663\n",
            " -1.34130141 -1.71176281 -1.28820025 -1.18961063 -1.41255123 -1.12755337\n",
            " -1.32871071 -1.38921476 -1.28659953 -1.4198676  -1.39182954]\n",
            "[0 0 0 0 0 0 0 0 0 0 0 0 0 0 0 0 0 0 0 0 0 0 0 0 0 0 0 0 0 0 0 0 0 0 0 0 0\n",
            " 0 0 0 0 0 0 0 0 0 0 0 0 0 0 0 0 0 0 0 0 0 0 0 0 0 0 0 0 0 0 0 0 0 0 0 0 0\n",
            " 0 0 0 0 0 0 0 0 0 0 0 0 0 0 0 0 0 0 0 0 0 0 0 0 0 0 0 0 0 0 0 0 0 0 0 0 0\n",
            " 0 0 0 0 0 0 0 0 0 0 0 0 0 0 0 0 0 0 0 0 0 0 0 0 0 0 0 0 0 0 0 0 0 0 0 0 0\n",
            " 0 0 0 0 0 0 0 0 0 0 0 0 0 0 0 0 0 0 0 0 0 0 0 0 0 0 0 0 0 0 0 0 0 0 0 0 0\n",
            " 0 0 0 0 0 0 0 0 0 0 0 0 0 0 0 0 0 0 0 0 0 0 0 0 0 0 0 0 0 0 0 0 0 0 0 0 0\n",
            " 0 0 0 0 0 0 0 0 0 0 0 0 0 0 0 0 0 0 0 0 0 0 0 0 0 0 0 0 0 0 0 0 0 0 0 0 0\n",
            " 0 0 0 0 0 0 0 0 0 0 0 0 0 0 0 0 0 0 0 0 0 0 0 0 0 0 0 0 0 0 0 0 0 0 0 0 0\n",
            " 0 0 0 0 0 0 0 0 0 0 0 0 0 0 0 0 0 0 0 0 0 0 0 0 0 0 0 0 0 0 0 0 0 0 0 0 0\n",
            " 0 0 0 0 0 0 0 0 0 0 0 0 0 0 0 0 0 0 0 0 0 0 0 0 0 0 0 0 0 0 0 0 0 0 0 0 0\n",
            " 0 0 0 0 0 0 0 0 0 0 0 0 0 0 0 0 0 0 0 0 0 0 0 0 0 0 0 0 0 0 0 0 0 0 0 0 0\n",
            " 0 0 0 0 0 0 0 0 0 0 0 0 0 0 0 0 0 0 0 0 0 0 0 0 0 0 0 0 0 0 0 0 0 0 0 0 0\n",
            " 0 0 0 0 0 0 0 0 0 0 0 0 0 0 0 0 0 0 0 0 0 0 0 0 0 0 0 0 0 0 0 0 0 0 0 0 0\n",
            " 0 0 0 0 0 0 0 0 0 0 0 0 0 0 0 0 0 0 0 0 0 0 0 0 0 0 0 0 0 0 0 0 0 0 0 0 0\n",
            " 0 0 0 0 0 0 0 0 0 0 0 0 0 0 0 0 0 0 0 0 0 0 0 0 0 0 0 0 0 0 0 0 0 0 0 0 0\n",
            " 0 0 0 0 0 0 0 0 0 0 0 0 0 0 0 0 0 0 0 0 0 0 0 0 0 0 0 0 0 0 0 0 0 0 0 0 0\n",
            " 0 0 0 0 0 0 0 0 0 0 0 0 0 0 0 0 0 0 0 0 0 0 0 0 0 0 0 0 0 0 0 0 0 0 0 0 0\n",
            " 0 0 0 0 0 0 0 0 0 0 0 0 0 0 0 0 0 0 0 0 0 0 0 0 0 0 0 0 0 0 0 0 0 0 0 0 0\n",
            " 0 0 0 0 0 0 0 0 0 0 0 0 0 0 0 0 0]\n"
          ]
        }
      ]
    },
    {
      "cell_type": "code",
      "source": [
        "#Implementing Grid Search for hyperparameter tuning\n",
        "\n",
        "iters = 2000\n",
        "def grid_search00(w,X,y):\n",
        "  alpha_val = [0.01 , 0.05 , 0.1 , 0.15 , 0.2 , 0.5]\n",
        "  lambda_val = [0.05 , 0.1 , 0.15 , 0.2 , 0.5 , 1]\n",
        "  max_w = w\n",
        "  max_accuracy = 0\n",
        "  for alpha in alpha_val:\n",
        "    for Lambda in lambda_val:\n",
        "      w_temp , J_temp = batch_gradient_descent(X,y,w,alpha,iters)\n",
        "      m = y.shape[0]\n",
        "      hypothesis = sigmoid(np.dot(X0_val,w_temp.T))\n",
        "      error = hypothesis - y\n",
        "      accuracy = 100 - (np.mean(np.abs(hypothesis - y))*100)\n",
        "      if max_accuracy < accuracy:\n",
        "        max_accuracy = accuracy\n",
        "        max_w = w_temp\n",
        "  return max_w , max_accuracy\n"
      ],
      "metadata": {
        "id": "7hM75LIXFvw_"
      },
      "execution_count": null,
      "outputs": []
    },
    {
      "cell_type": "code",
      "source": [
        "final_w , final_accuracy00 = grid_search00(w,X0_val,Y0_val)\n",
        "#print(final_w)\n",
        "print(final_accuracy00)"
      ],
      "metadata": {
        "id": "lAVKRbZSHX7o",
        "colab": {
          "base_uri": "https://localhost:8080/"
        },
        "outputId": "3d4e8486-6952-488a-9cdc-c66c80ab8e88"
      },
      "execution_count": null,
      "outputs": [
        {
          "output_type": "stream",
          "name": "stdout",
          "text": [
            "65.11607944091257\n"
          ]
        }
      ]
    },
    {
      "cell_type": "code",
      "source": [
        "alpha=0.2\n",
        "iters=2000\n",
        "batch_size=5\n",
        "mini_batch_w,J_mini_batch = MB_gradient_descent(X0_train,Y0_train,w,alpha,iters, batch_size)\n",
        "plt.plot(range(iters),J_mini_batch)\n",
        "plt.show()\n"
      ],
      "metadata": {
        "colab": {
          "base_uri": "https://localhost:8080/",
          "height": 265
        },
        "id": "-oag_d3qT8W1",
        "outputId": "2787dc24-9e2c-4dbe-db90-7a624dd121b9"
      },
      "execution_count": null,
      "outputs": [
        {
          "output_type": "display_data",
          "data": {
            "image/png": "[encoded data removed]",
            "text/plain": [
              "<Figure size 432x288 with 1 Axes>"
            ]
          },
          "metadata": {
            "needs_background": "light"
          }
        }
      ]
    },
    {
      "cell_type": "code",
      "source": [
        "z = np.dot(X0_test, mini_batch_w.T)\n",
        "print(z.T)\n",
        "h = sigmoid(z)\n",
        "y_pred=h>0.5\n",
        "y_pred01=y_pred.astype(int)\n",
        "print(y_pred01.T)\n"
      ],
      "metadata": {
        "colab": {
          "base_uri": "https://localhost:8080/"
        },
        "id": "DFkR6Gzhzl5c",
        "outputId": "a3bf5c1c-feec-41ec-b0ee-5d35e3073698"
      },
      "execution_count": null,
      "outputs": [
        {
          "output_type": "stream",
          "name": "stdout",
          "text": [
            "[-1.99932397 -1.5040168  -2.15253967 -1.85508533 -1.75227805 -2.06351191\n",
            " -1.5084954  -1.95493545 -2.0257586  -1.84582477 -2.43802375 -2.02040037\n",
            " -2.48119549 -1.86673725 -2.02014583 -1.95300689 -1.99892882 -1.52459728\n",
            " -2.24337551 -2.03924568 -1.83230652 -1.90421034 -1.88421209 -1.65195821\n",
            " -2.38881459 -2.28842982 -1.66171736 -2.13519275 -1.80742571 -2.41096802\n",
            " -2.11086859 -2.18717972 -1.92909712 -2.24533879 -2.2076027  -2.11141655\n",
            " -1.63370077 -2.10531368 -1.85396683 -1.98753753 -2.16524974 -1.87951003\n",
            " -2.07285443 -2.42897979 -1.69930201 -1.73013972 -1.8374958  -2.13027833\n",
            " -2.20911296 -2.45682316 -2.44297326 -1.79304728 -2.30861453 -1.89637572\n",
            " -2.52237543 -2.22713015 -2.39425356 -1.82516496 -2.2977119  -2.3412702\n",
            " -2.27764529 -1.73003691 -1.80491506 -2.11419009 -1.94450842 -1.83514108\n",
            " -1.66870798 -1.95933876 -1.73790299 -2.31179224 -1.98858264 -2.38740359\n",
            " -2.15728396 -2.00571549 -1.64227687 -2.1231119  -2.12630585 -1.77915718\n",
            " -2.20930472 -1.96788631 -1.86995504 -1.62983673 -1.91467101 -1.68289029\n",
            " -1.84359801 -2.12032747 -1.77864327 -2.19776225 -1.43962364 -1.91121995\n",
            " -2.02313781 -1.81246561 -1.72760368 -2.11299866 -1.70968948 -1.91772157\n",
            " -1.87695854 -1.94751546 -1.76595158 -1.90547976 -2.01606469 -2.24938532\n",
            " -2.21675499 -1.78811153 -1.68826822 -2.41000636 -1.70974802 -1.89967618\n",
            " -1.81164366 -1.86192327 -2.33948823 -2.13299194 -2.27336981 -2.03322134\n",
            " -1.60227002 -2.35352012 -1.77311296 -1.63695759 -2.00625622 -1.97706402\n",
            " -2.0344823  -1.81222742 -1.67375834 -2.29154687 -2.31662706 -1.40832896\n",
            " -1.82350838 -2.13657239 -2.03708383 -1.7477951  -2.37636842 -1.82702792\n",
            " -2.2546116  -1.97579427 -1.22499097 -2.02464445 -2.22184175 -2.19826813\n",
            " -2.14753656 -2.42092565 -1.71162654 -1.95575308 -1.92692484 -1.80230505\n",
            " -2.20498793 -2.69027296 -2.24772541 -2.3505129  -1.77479058 -2.03971473\n",
            " -2.25756542 -1.98431379 -2.08566667 -1.68544996 -2.21676296 -1.81089096\n",
            " -1.7710384  -2.06548409 -1.58511338 -1.82230714 -2.37907159 -1.79950492\n",
            " -1.78937929 -2.1874407  -1.98987639 -2.07229621 -2.00023723 -2.25715433\n",
            " -2.29991826 -1.66632186 -2.1067189  -1.72871819 -1.79048283 -1.55733054\n",
            " -1.98980379 -1.84866162 -1.9926928  -1.79747877 -1.72900047 -2.32186567\n",
            " -2.28505246 -2.1121485  -2.63080644 -1.46804301 -2.3853632  -1.71660799\n",
            " -1.89779214 -2.19716626 -2.0493039  -2.2258244  -2.1012306  -2.27366943\n",
            " -1.60220847 -1.62698132 -1.83160319 -2.01628968 -2.12837958 -2.08263096\n",
            " -1.83964204 -1.86588612 -1.48510396 -1.71272379 -1.60977036 -2.47463252\n",
            " -1.82641429 -2.221438   -2.19605326 -1.93156375 -2.56013683 -1.93219243\n",
            " -1.46481981 -1.73812339 -2.00538481 -2.25601211 -1.79644157 -2.22033047\n",
            " -1.88520135 -2.14676713 -1.87820817 -1.37529736 -2.08020567 -2.46259708\n",
            " -2.15526434 -2.30305843 -2.58579057 -1.75308212 -1.78278593 -1.80140246\n",
            " -1.85648958 -1.87316172 -1.97207354 -1.65412599 -2.66066128 -1.80764606\n",
            " -2.39049853 -2.05380716 -1.69094552 -1.76799474 -2.06219329 -1.49330326\n",
            " -2.23473055 -2.32743357 -1.68341883 -1.57914696 -2.41249791 -1.77645692\n",
            " -1.70968948 -2.10619735 -2.07401036 -2.01916854 -2.01530203 -1.79858151\n",
            " -2.32723679 -2.59957786 -2.06223492 -1.96123882 -2.44501298 -1.95292451\n",
            " -2.12539974 -2.19499801 -2.16284643 -1.97483882 -1.56234808 -2.31204541\n",
            " -2.03550923 -1.3793482  -1.93046702 -1.71024883 -2.02057057 -2.37005717\n",
            " -2.18997829 -1.99697026 -2.33497479 -1.90840102 -2.18069434 -2.30051559\n",
            " -2.1207669  -1.96572752 -1.56532515 -2.13631128 -1.80962295 -1.96213121\n",
            " -2.17889445 -1.80507106 -2.11086859 -1.87735477 -2.07200844 -1.95291012\n",
            " -2.02793946 -2.01148    -2.14841898 -1.89525521 -1.79831645 -2.35001966\n",
            " -1.66884342 -1.87582307 -2.01571666 -2.08190757 -1.92254538 -1.6707908\n",
            " -1.90980494 -1.37416524 -2.22144921 -2.07617969 -2.33643085 -1.98858674\n",
            " -2.11042328 -2.14776452 -2.03029592 -1.92766225 -2.25648517 -1.98531478\n",
            " -2.48179439 -1.94383725 -1.98053645 -2.07620581 -1.93074558 -1.95061482\n",
            " -1.67604078 -1.86286748 -2.31815277 -1.98013822 -1.97956998 -1.60762427\n",
            " -1.73047736 -1.82110673 -1.39820102 -1.92823676 -2.19993878 -2.29922636\n",
            " -1.98867876 -1.64582088 -2.07700582 -1.87201382 -1.733328   -1.39372379\n",
            " -1.92886644 -2.07525826 -1.758257   -2.1510906  -2.23637584 -2.11626644\n",
            " -2.06145608 -1.25965235 -1.75384393 -2.55354936 -1.77695488 -1.71639642\n",
            " -1.81900777 -1.76691086 -2.156228   -1.97848788 -1.9445383  -1.29423279\n",
            " -1.42264992 -2.01210297 -1.74689315 -1.89368325 -2.16556653 -2.32678042\n",
            " -1.69689732 -1.58315145 -1.46094176 -2.66487525 -1.80197767 -2.17146444\n",
            " -1.5964285  -1.71038265 -2.0079751  -1.92753897 -2.19750226 -2.19993775\n",
            " -1.97671665 -1.5798022  -1.80719172 -2.09965352 -1.91119755 -1.98263725\n",
            " -2.00408747 -2.23537605 -1.61429676 -1.79745208 -1.62052361 -2.43032217\n",
            " -1.7032363  -2.0400908  -1.81760588 -2.23466895 -2.36577304 -2.05683203\n",
            " -1.96561295 -1.80599573 -1.79189898 -1.93360137 -1.73708033 -1.95980878\n",
            " -2.25195872 -2.15417121 -2.16342699 -2.0722557  -2.17961564 -2.25951824\n",
            " -1.89097226 -1.78283888 -2.00691849 -1.98531758 -2.04942465 -2.13329084\n",
            " -2.23310368 -2.20610245 -1.83612933 -2.0375374  -2.04793089 -2.56448514\n",
            " -1.49884186 -1.79486823 -2.09893736 -2.63631325 -1.85535221 -1.31834375\n",
            " -1.55170706 -1.90896427 -1.93398036 -1.927597   -2.22340293 -2.08973235\n",
            " -1.89965503 -2.46543169 -1.43922559 -1.71176867 -1.96593104 -1.88089431\n",
            " -1.99427524 -1.91735584 -2.05467579 -1.58373477 -2.20194157 -2.07036702\n",
            " -1.63982923 -2.75686737 -2.01081526 -1.83303967 -1.92152347 -2.34268854\n",
            " -1.9783892  -1.62126993 -1.78284633 -1.98256074 -1.52323094 -1.86880329\n",
            " -2.03234288 -2.20398851 -2.2199029  -2.39934776 -2.17879935 -2.3073798\n",
            " -1.85028464 -2.26752906 -1.97629226 -2.17778018 -1.95926602 -2.27855222\n",
            " -1.64690158 -2.007702   -2.03533892 -2.13785995 -2.06334221 -1.58044714\n",
            " -1.8385013  -2.30115488 -2.05170874 -2.24767586 -2.12397799 -1.91533129\n",
            " -2.2321407  -2.06162319 -2.11387736 -1.65455261 -2.08945783 -1.96859021\n",
            " -2.19038725 -1.71969908 -2.80346302 -2.15125734 -2.082321   -1.99612078\n",
            " -1.83102732 -2.00967113 -2.13846816 -2.03707349 -1.71965393 -2.00348924\n",
            " -2.0304223  -2.24738695 -1.76312735 -1.90671116 -2.14743558 -1.77903748\n",
            " -2.07690023 -1.94314603 -2.25013544 -1.56585661 -1.92682712 -2.20546644\n",
            " -2.0433508  -1.84874722 -1.89845237 -2.433088   -2.37335705 -2.57416133\n",
            " -1.83269732 -2.48508935 -1.99860718 -2.72009977 -1.78792834 -2.27506799\n",
            " -2.18644247 -2.31923573 -1.72976203 -2.42204106 -2.07207113 -2.33131373\n",
            " -2.00644875 -2.32475611 -1.98787931 -1.84175895 -2.05360887 -2.05479886\n",
            " -2.23239293 -2.55114778 -2.05475284 -1.9245279  -1.95096443 -2.14525206\n",
            " -2.08835554 -1.82646259 -2.00248909 -1.81827744 -1.97370201 -2.20687798\n",
            " -1.81032299 -1.85060546 -1.90686001 -2.26335612 -1.45865273 -1.79995385\n",
            " -1.95672502 -1.93485806 -2.10801098 -2.04525802 -1.52455585 -2.28811009\n",
            " -1.95964624 -2.40949401 -2.28642737 -1.67129693 -1.96859021 -1.55062905\n",
            " -2.48500292 -2.1195095  -1.61490502 -2.49687324 -1.71866044 -1.66105961\n",
            " -1.88977305 -1.87018246 -1.59778958 -1.69402764 -2.03003536 -1.89417525\n",
            " -2.13913333 -1.8624421  -1.67712531 -1.71132945 -2.19857469 -1.70517963\n",
            " -1.94056114 -2.35998026 -2.32403989 -2.37285973 -2.1019579  -1.98639238\n",
            " -2.1679549  -2.89025418 -1.44647114 -1.81861115 -1.95788472 -1.77428616\n",
            " -1.83883749 -2.15272422 -2.4574827  -2.32311139 -1.45204893 -2.01199612\n",
            " -1.97855769 -1.77547633 -2.06154091 -2.07745509 -2.05109312 -1.48351883\n",
            " -2.04044074 -1.91388554 -1.95485349 -2.5208131  -1.97240915 -2.2225502\n",
            " -2.51663395 -1.80700829 -2.2341992  -2.18647519 -1.63511141 -1.68403979\n",
            " -2.55994552 -1.87391663 -1.9090274  -1.92439843 -2.455669   -2.11985604\n",
            " -1.85505813 -2.25749942 -1.8965996  -2.45635383 -1.58373643 -2.43114185\n",
            " -2.20148334 -1.80403602 -2.0488872  -1.61793919 -2.07973399 -2.44362038\n",
            " -2.23842387 -2.14327963 -1.89037163 -2.01438064 -1.63068518 -2.25042589\n",
            " -2.01385217 -2.2492519  -2.26758398 -1.98605732 -2.41979986 -2.01008169\n",
            " -2.23756436 -1.53501899 -2.05811923 -1.79916906 -1.92687259 -1.64511655\n",
            " -2.15722782 -1.73231086 -2.24512368 -1.91703036 -1.99109864 -1.93063937\n",
            " -1.86463746 -1.70928632 -1.97715055 -1.79011463 -2.00931911 -2.1910285\n",
            " -2.60196706 -1.87175372 -1.67262731 -2.26105792 -1.79964794 -2.20410078\n",
            " -1.69495952 -1.95046929 -2.03150201 -2.18446878 -2.1062159  -1.7901631\n",
            " -2.18587671 -2.64078237 -2.00637326 -1.96714381 -2.32950146 -2.01028888\n",
            " -2.14901212 -2.24710353 -2.11741325 -2.08630064 -2.35158646]\n",
            "[0 0 0 0 0 0 0 0 0 0 0 0 0 0 0 0 0 0 0 0 0 0 0 0 0 0 0 0 0 0 0 0 0 0 0 0 0\n",
            " 0 0 0 0 0 0 0 0 0 0 0 0 0 0 0 0 0 0 0 0 0 0 0 0 0 0 0 0 0 0 0 0 0 0 0 0 0\n",
            " 0 0 0 0 0 0 0 0 0 0 0 0 0 0 0 0 0 0 0 0 0 0 0 0 0 0 0 0 0 0 0 0 0 0 0 0 0\n",
            " 0 0 0 0 0 0 0 0 0 0 0 0 0 0 0 0 0 0 0 0 0 0 0 0 0 0 0 0 0 0 0 0 0 0 0 0 0\n",
            " 0 0 0 0 0 0 0 0 0 0 0 0 0 0 0 0 0 0 0 0 0 0 0 0 0 0 0 0 0 0 0 0 0 0 0 0 0\n",
            " 0 0 0 0 0 0 0 0 0 0 0 0 0 0 0 0 0 0 0 0 0 0 0 0 0 0 0 0 0 0 0 0 0 0 0 0 0\n",
            " 0 0 0 0 0 0 0 0 0 0 0 0 0 0 0 0 0 0 0 0 0 0 0 0 0 0 0 0 0 0 0 0 0 0 0 0 0\n",
            " 0 0 0 0 0 0 0 0 0 0 0 0 0 0 0 0 0 0 0 0 0 0 0 0 0 0 0 0 0 0 0 0 0 0 0 0 0\n",
            " 0 0 0 0 0 0 0 0 0 0 0 0 0 0 0 0 0 0 0 0 0 0 0 0 0 0 0 0 0 0 0 0 0 0 0 0 0\n",
            " 0 0 0 0 0 0 0 0 0 0 0 0 0 0 0 0 0 0 0 0 0 0 0 0 0 0 0 0 0 0 0 0 0 0 0 0 0\n",
            " 0 0 0 0 0 0 0 0 0 0 0 0 0 0 0 0 0 0 0 0 0 0 0 0 0 0 0 0 0 0 0 0 0 0 0 0 0\n",
            " 0 0 0 0 0 0 0 0 0 0 0 0 0 0 0 0 0 0 0 0 0 0 0 0 0 0 0 0 0 0 0 0 0 0 0 0 0\n",
            " 0 0 0 0 0 0 0 0 0 0 0 0 0 0 0 0 0 0 0 0 0 0 0 0 0 0 0 0 0 0 0 0 0 0 0 0 0\n",
            " 0 0 0 0 0 0 0 0 0 0 0 0 0 0 0 0 0 0 0 0 0 0 0 0 0 0 0 0 0 0 0 0 0 0 0 0 0\n",
            " 0 0 0 0 0 0 0 0 0 0 0 0 0 0 0 0 0 0 0 0 0 0 0 0 0 0 0 0 0 0 0 0 0 0 0 0 0\n",
            " 0 0 0 0 0 0 0 0 0 0 0 0 0 0 0 0 0 0 0 0 0 0 0 0 0 0 0 0 0 0 0 0 0 0 0 0 0\n",
            " 0 0 0 0 0 0 0 0 0 0 0 0 0 0 0 0 0 0 0 0 0 0 0 0 0 0 0 0 0 0 0 0 0 0 0 0 0\n",
            " 0 0 0 0 0 0 0 0 0 0 0 0 0 0 0 0 0 0 0 0 0 0 0 0 0 0 0 0 0 0 0 0 0 0 0 0 0\n",
            " 0 0 0 0 0 0 0 0 0 0 0 0 0 0 0 0 0]\n"
          ]
        }
      ]
    },
    {
      "cell_type": "code",
      "source": [
        "#Implementing Grid Search for hyperparameter tuning\n",
        "\n",
        "iters = 2000\n",
        "def grid_search01(w,X,y):\n",
        "  alpha_val = [0.01 , 0.05 , 0.1 , 0.15 , 0.2 , 0.5]\n",
        "  lambda_val = [0.05 , 0.1 , 0.15 , 0.2 , 0.5 , 1]\n",
        "  max_w = w\n",
        "  max_accuracy = 0\n",
        "  for alpha in alpha_val:\n",
        "    for Lambda in lambda_val:\n",
        "      w_temp , J_temp = MB_gradient_descent(X,y,w,alpha,iters, batch_size)\n",
        "      m = y.shape[0]\n",
        "      hypothesis = sigmoid(np.dot(X0_val,w_temp.T))\n",
        "      error = hypothesis - y\n",
        "      accuracy = 100 - (np.mean(np.abs(hypothesis - y))*100)\n",
        "      if max_accuracy < accuracy:\n",
        "        max_accuracy = accuracy\n",
        "        max_w = w_temp\n",
        "  return max_w , max_accuracy"
      ],
      "metadata": {
        "id": "u5isjah2XS7o"
      },
      "execution_count": null,
      "outputs": []
    },
    {
      "cell_type": "code",
      "source": [
        "final_w , final_accuracy01 = grid_search01(w,X0_val,Y0_val)\n",
        "#print(final_w)\n",
        "print(final_accuracy01)"
      ],
      "metadata": {
        "colab": {
          "base_uri": "https://localhost:8080/"
        },
        "id": "7NsjkDyjXU7D",
        "outputId": "da2ebedc-fc80-46bd-a6fc-467be876696a"
      },
      "execution_count": null,
      "outputs": [
        {
          "output_type": "stream",
          "name": "stdout",
          "text": [
            "72.36312562257399\n"
          ]
        }
      ]
    },
    {
      "cell_type": "code",
      "source": [
        "n_epochs=2000\n",
        "alpha=0.02\n",
        "w_n,J_sgd = stochastic_gradient_descent(X0_train,Y0_train,w, alpha, n_epochs)\n",
        "plt.plot(range(n_epochs),J_sgd)\n",
        "plt.show()\n"
      ],
      "metadata": {
        "id": "50vABeJfT_yz",
        "colab": {
          "base_uri": "https://localhost:8080/",
          "height": 265
        },
        "outputId": "f5f08b9e-01d6-449d-a8b7-fd2f2273b594"
      },
      "execution_count": null,
      "outputs": [
        {
          "output_type": "display_data",
          "data": {
            "image/png": "[encoded data removed]",
            "text/plain": [
              "<Figure size 432x288 with 1 Axes>"
            ]
          },
          "metadata": {
            "needs_background": "light"
          }
        }
      ]
    },
    {
      "cell_type": "code",
      "source": [
        "z = np.dot(X0_test, w_n.T)\n",
        "print(z.T)\n",
        "h = sigmoid(z)\n",
        "y_pred=h>0.5\n",
        "y_pred02=y_pred.astype(int)\n",
        "print(y_pred02.T)\n"
      ],
      "metadata": {
        "colab": {
          "base_uri": "https://localhost:8080/"
        },
        "id": "92-DmOKA0Agd",
        "outputId": "09a02f19-24ac-4f39-cf8d-6a16b9f175a6"
      },
      "execution_count": null,
      "outputs": [
        {
          "output_type": "stream",
          "name": "stdout",
          "text": [
            "[-1.03501988 -0.59432522 -1.16585484 -1.05578706 -0.8202109  -1.1080791\n",
            " -0.66225671 -0.95152435 -0.8076464  -0.82259861 -1.17331359 -0.91835808\n",
            " -1.09913504 -0.95543542 -0.87509259 -0.85889337 -0.97014711 -0.80342551\n",
            " -1.18069089 -0.95308444 -0.98905065 -0.7573183  -0.84132272 -0.90853523\n",
            " -0.92437626 -1.16421523 -0.55829489 -0.98023309 -0.90695773 -0.99539635\n",
            " -0.98969422 -1.14837123 -0.79100072 -1.03192895 -0.96212502 -1.13435525\n",
            " -0.78605534 -0.77588693 -0.98825522 -0.9522373  -0.97934325 -0.93234204\n",
            " -1.02348985 -1.07630896 -0.93339626 -0.96467072 -0.93788843 -0.96719024\n",
            " -1.13699944 -1.27754864 -1.2507157  -0.94806574 -1.04577736 -0.9596432\n",
            " -1.18571796 -1.01238983 -1.27329214 -0.8608226  -0.99628881 -1.10035753\n",
            " -1.18813333 -0.8085621  -0.84153192 -0.91869385 -0.78820478 -0.84969776\n",
            " -0.80261938 -0.938617   -0.87319612 -1.08367914 -0.92737704 -1.00875674\n",
            " -1.18388718 -0.94460767 -0.79493406 -1.10411076 -0.94935726 -1.04108968\n",
            " -1.0941996  -0.98970989 -0.84986468 -0.81265806 -1.06534363 -0.6851033\n",
            " -0.9635216  -1.20646619 -0.88126217 -1.04334816 -0.72959039 -1.00764316\n",
            " -0.75712761 -0.97418526 -1.03227134 -1.0078293  -0.91265642 -0.96918581\n",
            " -0.92567642 -0.90200324 -0.91878931 -0.89311733 -0.8705964  -1.09840722\n",
            " -1.17968917 -1.0652337  -0.91963468 -1.23628829 -0.84042588 -0.85917183\n",
            " -0.84446101 -0.86443776 -1.08091347 -1.08394009 -1.09439727 -1.06611232\n",
            " -0.8660507  -1.18001801 -0.84394973 -0.87178236 -0.77853358 -0.96969813\n",
            " -1.05825376 -0.86879882 -0.65879677 -1.13942777 -0.974739   -0.82159259\n",
            " -0.80436454 -1.04980271 -1.01172669 -0.79791931 -1.05849084 -1.13352918\n",
            " -0.98227949 -1.0106966  -0.647795   -0.91981828 -1.00610688 -1.20150255\n",
            " -0.99159645 -1.25071434 -0.76943016 -0.86474332 -1.03312687 -0.89598061\n",
            " -0.94864767 -1.30872185 -1.17190733 -1.19585105 -0.74542851 -1.01841813\n",
            " -1.08048197 -0.93153175 -1.06576307 -0.85769032 -0.84899925 -0.87450526\n",
            " -0.78010614 -1.07132745 -0.70628713 -1.1219629  -1.09384419 -0.73982298\n",
            " -0.9889833  -1.09226551 -0.81683771 -0.79494325 -0.79514434 -1.06885747\n",
            " -1.07059979 -0.86813526 -0.98019466 -0.90791488 -0.90982423 -0.88403781\n",
            " -0.80677149 -0.98346968 -0.94803169 -0.87979752 -0.80770527 -1.02003199\n",
            " -0.98855047 -1.09886185 -1.19090822 -0.79990398 -1.18151608 -0.8002933\n",
            " -0.84012745 -1.01954097 -0.83236602 -1.06920515 -0.85190714 -1.0567797\n",
            " -0.73540721 -0.78684481 -0.92608704 -0.98137142 -1.11733508 -1.02910503\n",
            " -0.87963502 -0.85209359 -0.64825355 -0.79269286 -0.71887608 -1.16914231\n",
            " -0.84213702 -1.11041324 -1.04833894 -0.89953212 -1.23343785 -0.91224369\n",
            " -0.73734315 -0.84771722 -0.86635292 -0.89677413 -0.87620453 -0.99652915\n",
            " -0.91472071 -1.13359241 -0.88661457 -0.76489643 -1.04592919 -1.17008216\n",
            " -0.98729705 -1.22952595 -1.22328176 -0.82139067 -0.93554357 -0.97157184\n",
            " -0.90036456 -0.80215258 -0.87172601 -0.78493552 -1.17769698 -0.74223219\n",
            " -1.09723663 -0.91565796 -0.84630167 -0.82983671 -0.8263576  -0.77202736\n",
            " -0.89983261 -0.91138001 -0.83534406 -0.77261834 -1.04707623 -0.83052265\n",
            " -0.91265642 -0.95977252 -1.014001   -1.00249294 -0.84938508 -0.7542965\n",
            " -1.17698488 -1.12647352 -0.95634997 -0.85963482 -1.02384872 -1.0524106\n",
            " -0.98816185 -1.02202195 -0.89909327 -0.92760758 -0.74915088 -1.06037514\n",
            " -1.01489295 -0.76055972 -1.0123147  -0.88586186 -0.99489747 -0.98673424\n",
            " -1.17024297 -0.87824486 -1.030804   -0.82511493 -0.99683387 -1.09820648\n",
            " -1.19540499 -0.86219125 -0.74662583 -1.10066645 -0.88036522 -0.90853205\n",
            " -0.89803919 -0.87266713 -0.98969422 -1.00295238 -0.99145592 -0.92920848\n",
            " -0.95514219 -1.00640341 -0.95563077 -1.00284268 -0.93664127 -1.23753693\n",
            " -0.64497118 -0.89710295 -1.14843101 -0.95638914 -0.8384363  -0.76673129\n",
            " -0.87858145 -0.46721146 -1.2365531  -0.98846726 -1.29332515 -0.94851817\n",
            " -1.0569609  -0.94085073 -0.96489683 -0.88631328 -0.94973406 -0.9170986\n",
            " -1.30331783 -0.99579788 -1.02812956 -0.8630152  -0.86464896 -0.89259435\n",
            " -0.74800295 -0.97711935 -1.17598943 -0.90784095 -0.84857161 -0.68590221\n",
            " -0.97645835 -0.85607447 -0.66603893 -1.02085773 -1.0399945  -1.07374375\n",
            " -1.05204104 -0.88614602 -0.91930478 -0.93640558 -0.84630106 -0.84157595\n",
            " -0.91364794 -1.02353915 -0.93928376 -0.96613675 -0.9271681  -1.08966121\n",
            " -0.96806596 -0.71593603 -1.01375277 -1.33730905 -0.69349701 -0.82907881\n",
            " -0.88044935 -0.8320237  -1.0221441  -0.98078137 -0.98959664 -0.93802701\n",
            " -0.77288856 -1.01882564 -0.79412867 -0.75271426 -1.21687978 -1.10639676\n",
            " -0.79164896 -0.72970975 -0.68942902 -1.26308547 -0.86777872 -1.02724923\n",
            " -0.79697026 -0.88152798 -0.82859994 -1.00764057 -1.09340252 -1.09038663\n",
            " -0.8796238  -0.7924059  -0.85845251 -1.03497752 -0.94442952 -1.14919511\n",
            " -0.96448768 -1.0881812  -0.75798543 -0.92736598 -0.84826742 -1.19715347\n",
            " -0.89608016 -1.02240983 -0.92112773 -1.01927309 -1.1904818  -0.9089759\n",
            " -0.92190398 -0.7418784  -0.92978498 -0.97237907 -0.86491214 -0.93740484\n",
            " -1.00902457 -1.03714069 -0.86914467 -0.90213482 -0.9122586  -1.0520714\n",
            " -0.91066631 -0.88093257 -0.95006888 -0.97026126 -1.05304036 -0.96111821\n",
            " -1.28492075 -1.05865456 -0.79612058 -0.88466798 -0.94343397 -1.21378234\n",
            " -0.75757701 -0.82898963 -0.8717701  -1.1675981  -0.80375803 -0.67699294\n",
            " -0.69761071 -0.95061348 -1.06068094 -0.94198475 -1.05767181 -0.92792085\n",
            " -1.03940144 -1.36709114 -0.83771074 -0.9535273  -0.9297997  -1.07382408\n",
            " -1.01791562 -1.02794409 -0.93690656 -0.74387804 -0.98043454 -1.01108306\n",
            " -0.72854248 -1.21471356 -0.97486382 -0.85411108 -1.0045913  -1.15604708\n",
            " -0.9581377  -0.85421592 -0.94068399 -0.92905878 -0.80370172 -0.87218425\n",
            " -0.96294922 -0.99694154 -1.03649564 -1.06274239 -0.88603147 -1.13160176\n",
            " -0.88685184 -1.14553781 -0.94708598 -0.89522332 -0.9659752  -1.1336546\n",
            " -0.87839917 -1.03914983 -0.88936941 -1.02400875 -0.93760115 -0.71994654\n",
            " -0.71024713 -1.06399668 -1.027736   -1.16091968 -1.04445664 -0.98977717\n",
            " -1.06364408 -1.0394737  -1.11418985 -0.90519058 -1.06273215 -0.8639209\n",
            " -0.90637611 -0.74047906 -1.32658332 -0.97656434 -0.96587152 -0.86250132\n",
            " -0.87075094 -0.86713924 -0.93833727 -1.2136322  -0.71684203 -0.90637708\n",
            " -1.0073983  -1.00053909 -1.12872908 -0.89784292 -1.0578328  -0.92165283\n",
            " -0.96710505 -0.8616678  -1.03603953 -0.83376516 -0.9337302  -0.99672803\n",
            " -0.96370426 -0.81238681 -1.0282474  -0.99158941 -1.13207204 -1.08288426\n",
            " -0.80701235 -0.99293056 -0.93146266 -1.17681803 -0.89971302 -1.04474968\n",
            " -1.09917297 -1.10974648 -0.9622454  -1.16356005 -0.9549377  -1.08129362\n",
            " -0.91523898 -1.05067874 -0.99821353 -0.87484337 -1.02344894 -0.95399386\n",
            " -1.07563023 -1.08957764 -0.97064579 -1.01272508 -0.98882159 -1.21571704\n",
            " -0.95053844 -0.67500849 -1.01492396 -0.98893715 -0.92821081 -1.03970466\n",
            " -0.72104185 -0.89249264 -0.84062469 -1.16451825 -0.73522334 -0.99929847\n",
            " -0.84909166 -0.97166513 -1.00322215 -0.92081568 -0.69920219 -1.25539234\n",
            " -0.81386131 -1.23711912 -1.1335438  -0.85656128 -0.8639209  -0.79145445\n",
            " -1.19293525 -0.95057924 -0.86504867 -1.14008091 -0.84948209 -0.94840623\n",
            " -1.00826651 -0.78154243 -0.6769505  -0.92972456 -0.97281783 -0.83060085\n",
            " -1.16647521 -0.94609687 -0.83702359 -0.84074265 -0.94495202 -0.85105613\n",
            " -1.05327243 -1.06043478 -1.01482503 -1.01858392 -1.09115809 -0.95571911\n",
            " -1.07193512 -1.23063013 -0.92087543 -0.9391309  -1.02172495 -0.77888158\n",
            " -0.8402143  -1.03077167 -1.05409794 -1.00635871 -0.92863335 -1.05046279\n",
            " -1.037092   -0.76555778 -1.06538127 -1.10607777 -1.0681444  -0.84563015\n",
            " -0.77098581 -0.78345616 -0.93268644 -1.2463969  -1.09176104 -1.11502992\n",
            " -1.35305698 -1.03429129 -1.16671548 -1.06082901 -0.75727017 -0.89718735\n",
            " -1.2501688  -0.89239365 -0.97628508 -0.89334919 -1.09942812 -1.05785394\n",
            " -0.94003423 -1.04959012 -0.9850847  -1.16656299 -0.85444516 -1.03633844\n",
            " -0.96353032 -0.97838694 -0.9821617  -0.70405302 -0.94826621 -1.06163651\n",
            " -1.16596454 -0.94782986 -0.94754432 -0.97764239 -0.90102648 -1.09255038\n",
            " -0.98304217 -1.13996916 -1.0764079  -1.02609536 -1.06404782 -1.05618739\n",
            " -1.17147055 -0.81238968 -1.05183742 -0.7303337  -1.11839502 -0.87868442\n",
            " -0.90395889 -0.92681881 -1.08462821 -0.93190463 -0.86013009 -0.99036498\n",
            " -0.87586224 -0.81927864 -0.87818047 -0.97753947 -0.8909459  -1.10261567\n",
            " -1.26895604 -0.8451806  -0.82146329 -1.12268313 -0.85652986 -0.99529942\n",
            " -0.85721472 -0.93305603 -1.06146373 -1.02598845 -1.11351092 -0.90309438\n",
            " -0.90831265 -1.0431111  -1.01501889 -0.82997324 -1.11698791 -1.16409924\n",
            " -0.90292928 -1.13029696 -0.80390362 -1.02426626 -1.29333003]\n",
            "[0 0 0 0 0 0 0 0 0 0 0 0 0 0 0 0 0 0 0 0 0 0 0 0 0 0 0 0 0 0 0 0 0 0 0 0 0\n",
            " 0 0 0 0 0 0 0 0 0 0 0 0 0 0 0 0 0 0 0 0 0 0 0 0 0 0 0 0 0 0 0 0 0 0 0 0 0\n",
            " 0 0 0 0 0 0 0 0 0 0 0 0 0 0 0 0 0 0 0 0 0 0 0 0 0 0 0 0 0 0 0 0 0 0 0 0 0\n",
            " 0 0 0 0 0 0 0 0 0 0 0 0 0 0 0 0 0 0 0 0 0 0 0 0 0 0 0 0 0 0 0 0 0 0 0 0 0\n",
            " 0 0 0 0 0 0 0 0 0 0 0 0 0 0 0 0 0 0 0 0 0 0 0 0 0 0 0 0 0 0 0 0 0 0 0 0 0\n",
            " 0 0 0 0 0 0 0 0 0 0 0 0 0 0 0 0 0 0 0 0 0 0 0 0 0 0 0 0 0 0 0 0 0 0 0 0 0\n",
            " 0 0 0 0 0 0 0 0 0 0 0 0 0 0 0 0 0 0 0 0 0 0 0 0 0 0 0 0 0 0 0 0 0 0 0 0 0\n",
            " 0 0 0 0 0 0 0 0 0 0 0 0 0 0 0 0 0 0 0 0 0 0 0 0 0 0 0 0 0 0 0 0 0 0 0 0 0\n",
            " 0 0 0 0 0 0 0 0 0 0 0 0 0 0 0 0 0 0 0 0 0 0 0 0 0 0 0 0 0 0 0 0 0 0 0 0 0\n",
            " 0 0 0 0 0 0 0 0 0 0 0 0 0 0 0 0 0 0 0 0 0 0 0 0 0 0 0 0 0 0 0 0 0 0 0 0 0\n",
            " 0 0 0 0 0 0 0 0 0 0 0 0 0 0 0 0 0 0 0 0 0 0 0 0 0 0 0 0 0 0 0 0 0 0 0 0 0\n",
            " 0 0 0 0 0 0 0 0 0 0 0 0 0 0 0 0 0 0 0 0 0 0 0 0 0 0 0 0 0 0 0 0 0 0 0 0 0\n",
            " 0 0 0 0 0 0 0 0 0 0 0 0 0 0 0 0 0 0 0 0 0 0 0 0 0 0 0 0 0 0 0 0 0 0 0 0 0\n",
            " 0 0 0 0 0 0 0 0 0 0 0 0 0 0 0 0 0 0 0 0 0 0 0 0 0 0 0 0 0 0 0 0 0 0 0 0 0\n",
            " 0 0 0 0 0 0 0 0 0 0 0 0 0 0 0 0 0 0 0 0 0 0 0 0 0 0 0 0 0 0 0 0 0 0 0 0 0\n",
            " 0 0 0 0 0 0 0 0 0 0 0 0 0 0 0 0 0 0 0 0 0 0 0 0 0 0 0 0 0 0 0 0 0 0 0 0 0\n",
            " 0 0 0 0 0 0 0 0 0 0 0 0 0 0 0 0 0 0 0 0 0 0 0 0 0 0 0 0 0 0 0 0 0 0 0 0 0\n",
            " 0 0 0 0 0 0 0 0 0 0 0 0 0 0 0 0 0 0 0 0 0 0 0 0 0 0 0 0 0 0 0 0 0 0 0 0 0\n",
            " 0 0 0 0 0 0 0 0 0 0 0 0 0 0 0 0 0]\n"
          ]
        }
      ]
    },
    {
      "cell_type": "code",
      "source": [
        "#Implementing Grid Search for hyperparameter tuning\n",
        "\n",
        "iters = 2000\n",
        "def grid_search02(w,X,y):\n",
        "  alpha_val = [0.01 , 0.05 , 0.1 , 0.15 , 0.2 , 0.5]\n",
        "  lambda_val = [0.05 , 0.1 , 0.15 , 0.2 , 0.5 , 1]\n",
        "  max_w = w\n",
        "  max_accuracy = 0\n",
        "  for alpha in alpha_val:\n",
        "    for Lambda in lambda_val:\n",
        "      w_temp , J_temp = stochastic_gradient_descent(X,y,w, alpha, n_epochs)\n",
        "      m = y.shape[0]\n",
        "      hypothesis = sigmoid(np.dot(X0_val,w_temp.T))\n",
        "      error = hypothesis - y\n",
        "      accuracy = 100 - (np.mean(np.abs(hypothesis - y))*100)\n",
        "      if max_accuracy < accuracy:\n",
        "        max_accuracy = accuracy\n",
        "        max_w = w_temp\n",
        "  return max_w , max_accuracy"
      ],
      "metadata": {
        "id": "FXmUW4ahXYU3"
      },
      "execution_count": null,
      "outputs": []
    },
    {
      "cell_type": "code",
      "source": [
        "final_w , final_accuracy02 = grid_search02(w,X0_val,Y0_val)\n",
        "#print(final_w)\n",
        "print(final_accuracy02)"
      ],
      "metadata": {
        "colab": {
          "base_uri": "https://localhost:8080/"
        },
        "id": "x7nQiQQfXYrJ",
        "outputId": "fb31ed51-5eb9-4885-c49e-23e710949d4d"
      },
      "execution_count": null,
      "outputs": [
        {
          "output_type": "stream",
          "name": "stdout",
          "text": [
            "73.53121767654963\n"
          ]
        }
      ]
    },
    {
      "cell_type": "markdown",
      "source": [
        "For 2nd class"
      ],
      "metadata": {
        "id": "lHcxmqdPaBlx"
      }
    },
    {
      "cell_type": "code",
      "source": [
        "alpha=0.5 ##learning rate\n",
        "iters=2000 ###iterations\n",
        "batch_w,J_his = batch_gradient_descent(X1_train,Y1_train,w,alpha,iters)\n",
        "plt.plot(range(iters),J_his)\n",
        "plt.show()"
      ],
      "metadata": {
        "colab": {
          "base_uri": "https://localhost:8080/",
          "height": 265
        },
        "outputId": "b8b4cc67-4a15-4aec-f483-096c66df2078",
        "id": "y0KwvL24Z_9i"
      },
      "execution_count": null,
      "outputs": [
        {
          "output_type": "display_data",
          "data": {
            "image/png": "[encoded data removed]",
            "text/plain": [
              "<Figure size 432x288 with 1 Axes>"
            ]
          },
          "metadata": {
            "needs_background": "light"
          }
        }
      ]
    },
    {
      "cell_type": "code",
      "source": [
        "z = np.dot(X1_test, batch_w.T)\n",
        "print(z.T)\n",
        "h = sigmoid(z)\n",
        "y_pred=h>0.5\n",
        "y_pred10=y_pred.astype(int)\n",
        "print(y_pred10.T)\n"
      ],
      "metadata": {
        "colab": {
          "base_uri": "https://localhost:8080/"
        },
        "id": "FWvddtHH0Gso",
        "outputId": "0e6fa78a-a76d-40fc-ee49-5f32f343b308"
      },
      "execution_count": null,
      "outputs": [
        {
          "output_type": "stream",
          "name": "stdout",
          "text": [
            "[-0.97105319 -0.56674545 -1.22028454 -0.79904274 -0.91280132 -1.29408098\n",
            " -0.44498686 -1.13016261 -1.32379163 -0.92314524 -1.27572459 -1.00306506\n",
            " -1.65221096 -0.95741856 -1.05704929 -1.08581719 -0.92054227 -0.58948741\n",
            " -1.12496444 -1.09929922 -0.94388326 -0.71246285 -1.34717504 -0.69874081\n",
            " -1.47162796 -1.85518081 -1.12535151 -1.34090593 -1.11075075 -1.50352519\n",
            " -1.16279096 -1.36988967 -1.01442035 -1.36163184 -1.2820262  -1.07649146\n",
            " -0.93835108 -1.00232418 -0.9981199  -1.28564738 -1.19027284 -1.13707238\n",
            " -1.41574517 -1.62313856 -0.9074018  -0.95508583 -1.19932987 -1.31796713\n",
            " -1.34320609 -1.61277665 -1.47925803 -0.88763036 -1.38559746 -1.125286\n",
            " -1.59574299 -1.46490629 -1.33012676 -0.88288548 -1.69397419 -1.4088091\n",
            " -1.4577492  -1.04144962 -1.05421568 -1.13410368 -1.37128268 -0.90138876\n",
            " -0.74808224 -1.16223015 -1.2547576  -1.49089225 -1.52003692 -1.4570548\n",
            " -1.39994487 -1.02435633 -0.47375398 -1.15496155 -1.23420213 -0.67421903\n",
            " -1.59151658 -0.9135219  -1.05609458 -0.8991721  -1.09594567 -0.86770359\n",
            " -1.32714107 -1.08823192 -1.22914841 -1.49769071 -0.52046886 -0.99842509\n",
            " -1.1116278  -1.09547657 -0.79225566 -1.10509602 -1.10926757 -1.24082102\n",
            " -1.13408889 -1.25314591 -1.10247796 -1.0829376  -0.93572857 -1.26305745\n",
            " -1.20309443 -0.91913966 -0.92518737 -1.44741073 -0.68880408 -0.93462965\n",
            " -1.01090652 -0.90872234 -1.48942665 -1.01663786 -1.08908627 -0.93913478\n",
            " -0.72652384 -1.32879912 -1.12600773 -0.9871931  -1.3883675  -1.23888447\n",
            " -0.9695227  -0.94736864 -0.8377861  -1.4340992  -1.68769459 -0.68718858\n",
            " -1.10736924 -1.41767557 -1.17649575 -0.9698115  -1.41622389 -0.95456789\n",
            " -1.22214555 -1.0512391  -0.43778828 -1.25004901 -1.27585916 -1.22746559\n",
            " -1.21250423 -1.38773148 -1.01375843 -0.91645044 -1.17154291 -0.77253502\n",
            " -1.81468049 -1.89349929 -1.37419438 -1.28019978 -0.75340284 -0.90094373\n",
            " -1.20140968 -0.96442692 -1.45186487 -0.60594974 -1.42272176 -0.6555952\n",
            " -0.99143862 -0.88645128 -0.75542848 -0.95510138 -1.34533601 -0.96227178\n",
            " -0.84463068 -1.12644171 -1.1973275  -1.17738544 -1.07054396 -1.51808763\n",
            " -1.51318743 -0.67692536 -1.20469743 -0.91422634 -1.2486698  -0.74474461\n",
            " -1.07859898 -1.1550806  -1.24961428 -1.2046071  -0.76073279 -1.64341578\n",
            " -1.33288857 -1.50921588 -1.66467593 -0.58191876 -1.58747127 -1.08821316\n",
            " -1.04740013 -1.25584727 -0.99237878 -1.13019025 -1.25712471 -1.46925192\n",
            " -0.78745393 -0.80894757 -0.85250022 -0.81553734 -1.20418826 -1.19747613\n",
            " -1.06726557 -1.18448323 -0.67179649 -0.90477903 -0.50215438 -1.4908324\n",
            " -0.66904082 -1.47979128 -1.39666894 -0.97239822 -1.79055355 -1.20627009\n",
            " -0.69713439 -0.89345421 -1.06307305 -1.41665517 -1.11238244 -1.1164502\n",
            " -1.14938759 -1.32473303 -1.00084985 -0.40580206 -1.32228928 -1.47188959\n",
            " -1.27543264 -1.49852967 -1.44385238 -1.0431337  -0.71969182 -0.99978711\n",
            " -0.89279695 -0.55688076 -1.25361491 -0.95181756 -1.77109367 -0.72034402\n",
            " -1.50562662 -0.9466028  -0.41430922 -0.99631173 -1.09561399 -0.69255946\n",
            " -1.26809457 -1.37952488 -0.82269118 -0.69353704 -1.46803977 -0.7716746\n",
            " -1.10926757 -1.20236945 -1.45470649 -1.24059153 -0.90873951 -0.85954305\n",
            " -1.37399571 -1.63241073 -0.92294625 -1.1317446  -1.62816975 -1.12528849\n",
            " -1.19232394 -1.33962502 -1.62159432 -1.02635013 -0.52179367 -1.39637491\n",
            " -1.31693126 -0.51807422 -0.8467908  -0.57567158 -1.22318221 -1.57780714\n",
            " -1.42426477 -1.02699083 -1.68164454 -1.03085395 -1.23380033 -1.51774121\n",
            " -0.96927011 -0.88304113 -0.51794389 -1.41343435 -0.88908254 -1.27785939\n",
            " -1.37565161 -0.68613296 -1.16279096 -0.96150972 -1.11951177 -1.03621375\n",
            " -1.23590907 -1.00496996 -1.35804503 -1.06445271 -1.1030034  -1.31399575\n",
            " -0.75401424 -0.82858071 -1.08129401 -1.40963504 -1.2039115  -0.7053565\n",
            " -1.0801342  -0.28377342 -1.29476005 -1.11668547 -1.64919173 -0.9173797\n",
            " -1.21557815 -1.44253242 -1.00774662 -1.32095387 -1.5878158  -0.92296027\n",
            " -1.69396048 -1.06760349 -0.82607168 -1.13642311 -0.97235159 -1.30791668\n",
            " -0.98449329 -0.94290382 -1.43967595 -1.17765445 -1.01703071 -1.01764614\n",
            " -1.02512377 -0.70689471 -0.15256783 -1.11358352 -1.4703007  -1.35471871\n",
            " -1.03703167 -0.86080129 -1.37000285 -1.01127098 -0.83565307 -0.54648588\n",
            " -0.78324862 -1.5128957  -1.05626237 -1.22624324 -0.98693111 -1.11287042\n",
            " -1.06518765 -0.19279805 -1.01498347 -2.20713585 -1.18534493 -0.86518988\n",
            " -0.68281334 -0.75163569 -1.05892905 -1.23822491 -1.33696506 -0.29126448\n",
            " -0.45600936 -1.33136724 -0.85608961 -1.26375144 -1.10621386 -1.40332759\n",
            " -0.68349533 -0.62821196 -0.25229869 -1.64447793 -1.20453098 -1.38006142\n",
            " -0.66125154 -0.76077912 -1.25335448 -0.98430238 -1.35268376 -0.96148505\n",
            " -1.08458582 -0.64163744 -0.99440349 -1.3360728  -1.03183491 -1.28496736\n",
            " -1.16260097 -1.34018594 -0.88584516 -0.86530575 -0.71577292 -1.792939\n",
            " -0.77977976 -1.21765374 -0.97926185 -1.39112442 -1.56111937 -0.9755219\n",
            " -1.14984684 -0.79262291 -1.22688566 -1.08518328 -0.74703577 -1.39756804\n",
            " -1.43083002 -1.09000856 -1.21328887 -1.50982406 -1.27638875 -1.37206261\n",
            " -1.03592511 -0.67576139 -0.9473077  -1.168251   -0.87064583 -1.14981758\n",
            " -1.11088899 -1.30888208 -0.61359725 -1.11836514 -1.25514335 -1.56239563\n",
            " -0.74157403 -0.87423435 -0.97013367 -1.68401999 -1.12218128 -0.43910669\n",
            " -0.57310292 -0.90071333 -0.96020866 -0.97074268 -1.41835868 -1.39784318\n",
            " -0.99666623 -1.2953665  -0.57749963 -0.75554744 -1.384274   -0.67706578\n",
            " -1.29331693 -1.13981715 -1.05583408 -0.64747903 -1.51056317 -1.00899627\n",
            " -0.65522522 -1.90068665 -1.19149361 -0.87360794 -1.06427754 -1.39685939\n",
            " -1.00517743 -0.80489217 -0.97309897 -1.38166787 -0.58502255 -0.9514587\n",
            " -1.22548084 -1.43594789 -1.51885568 -1.45872011 -1.39878006 -1.40795247\n",
            " -1.09003524 -1.20135748 -1.03428299 -1.33678226 -1.09237443 -1.55593551\n",
            " -0.87520413 -0.87945936 -1.17702221 -1.25805021 -1.23753145 -0.72646667\n",
            " -0.93507934 -1.40489514 -1.09392559 -1.4379338  -1.29152801 -0.95054612\n",
            " -1.21161391 -1.34532122 -0.88151095 -0.80828223 -1.13388887 -0.92470635\n",
            " -1.26096659 -0.83631709 -1.83362235 -1.29486694 -0.64739828 -1.27433101\n",
            " -0.97436144 -1.20708595 -1.00515212 -1.14949171 -0.85558398 -1.20633105\n",
            " -1.47303946 -1.09707117 -0.89694615 -1.30244045 -1.18564453 -0.88722845\n",
            " -0.95086019 -1.00433766 -1.4342555  -0.91459865 -1.40373533 -1.19394748\n",
            " -1.10307476 -1.05867394 -1.18020353 -1.5453362  -1.38493236 -1.57678925\n",
            " -0.90336336 -1.57923316 -1.28693135 -1.81245026 -0.71134144 -1.40782222\n",
            " -1.18856122 -1.30514987 -0.95193874 -1.38865522 -1.19784279 -1.48176662\n",
            " -1.17324259 -1.33018324 -1.24328174 -1.10848453 -0.96766428 -0.84143674\n",
            " -1.43530387 -1.7267105  -0.90956678 -1.25397469 -1.02088153 -1.36503226\n",
            " -1.18504815 -0.85257337 -1.25205154 -0.69077874 -1.36467785 -1.6509565\n",
            " -0.85781662 -0.87758884 -1.24760053 -1.31393183 -0.48397432 -1.04920202\n",
            " -1.05853973 -1.04826619 -1.29542641 -1.24545001 -0.3265233  -1.0679137\n",
            " -0.93081607 -1.39985379 -1.41326954 -0.75726431 -0.92470635 -0.5467615\n",
            " -1.68788301 -1.53584122 -0.94422239 -1.55342703 -0.62880445 -0.75048561\n",
            " -1.24313858 -1.27996168 -0.4558911  -0.90241328 -1.12365153 -1.188443\n",
            " -1.164278   -1.01513902 -0.80071713 -0.62239045 -1.50791483 -0.92757376\n",
            " -0.98400417 -1.2011062  -1.60053036 -1.41660355 -1.45800372 -1.30425974\n",
            " -1.46344745 -2.17472942 -0.61945664 -1.01870625 -1.04301622 -0.9721452\n",
            " -0.92707251 -1.47791904 -1.5881108  -1.14823717 -0.64123882 -1.0084236\n",
            " -1.04492678 -0.80413833 -1.35965234 -1.08309508 -1.19299762 -0.65275513\n",
            " -0.71453543 -0.98889802 -1.02395758 -1.73262158 -1.23350925 -1.56558082\n",
            " -1.64462146 -1.02485195 -1.94694032 -1.08905342 -0.76485628 -0.66604262\n",
            " -1.73471553 -0.99183668 -1.12696469 -1.22377273 -1.68693828 -1.12154404\n",
            " -1.05732075 -1.52952611 -1.17034985 -1.79492142 -0.66401545 -1.55609478\n",
            " -1.45360803 -0.73066484 -1.0955927  -0.93732763 -1.31032216 -1.36518866\n",
            " -1.30763956 -1.08068981 -1.15187473 -1.18598333 -0.77493007 -1.0995912\n",
            " -1.2093927  -1.36130102 -1.20932662 -1.0491705  -1.26894866 -1.19925475\n",
            " -0.86053938 -0.8457149  -1.29856064 -0.86457214 -0.86587415 -1.01733757\n",
            " -1.07390867 -0.90907322 -1.34545189 -1.0870918  -1.38713012 -0.86696075\n",
            " -1.13825498 -0.90855214 -1.18419109 -0.80124398 -1.16358538 -1.28778866\n",
            " -1.89063886 -0.92889168 -0.95675564 -1.70306537 -0.86385221 -1.47137919\n",
            " -0.96503981 -1.33449543 -1.22807915 -1.36868147 -1.22549881 -0.71738663\n",
            " -1.34130141 -1.71176281 -1.28820025 -1.18961063 -1.41255123 -1.12755337\n",
            " -1.32871071 -1.38921476 -1.28659953 -1.4198676  -1.39182954]\n",
            "[0 0 0 0 0 0 0 0 0 0 0 0 0 0 0 0 0 0 0 0 0 0 0 0 0 0 0 0 0 0 0 0 0 0 0 0 0\n",
            " 0 0 0 0 0 0 0 0 0 0 0 0 0 0 0 0 0 0 0 0 0 0 0 0 0 0 0 0 0 0 0 0 0 0 0 0 0\n",
            " 0 0 0 0 0 0 0 0 0 0 0 0 0 0 0 0 0 0 0 0 0 0 0 0 0 0 0 0 0 0 0 0 0 0 0 0 0\n",
            " 0 0 0 0 0 0 0 0 0 0 0 0 0 0 0 0 0 0 0 0 0 0 0 0 0 0 0 0 0 0 0 0 0 0 0 0 0\n",
            " 0 0 0 0 0 0 0 0 0 0 0 0 0 0 0 0 0 0 0 0 0 0 0 0 0 0 0 0 0 0 0 0 0 0 0 0 0\n",
            " 0 0 0 0 0 0 0 0 0 0 0 0 0 0 0 0 0 0 0 0 0 0 0 0 0 0 0 0 0 0 0 0 0 0 0 0 0\n",
            " 0 0 0 0 0 0 0 0 0 0 0 0 0 0 0 0 0 0 0 0 0 0 0 0 0 0 0 0 0 0 0 0 0 0 0 0 0\n",
            " 0 0 0 0 0 0 0 0 0 0 0 0 0 0 0 0 0 0 0 0 0 0 0 0 0 0 0 0 0 0 0 0 0 0 0 0 0\n",
            " 0 0 0 0 0 0 0 0 0 0 0 0 0 0 0 0 0 0 0 0 0 0 0 0 0 0 0 0 0 0 0 0 0 0 0 0 0\n",
            " 0 0 0 0 0 0 0 0 0 0 0 0 0 0 0 0 0 0 0 0 0 0 0 0 0 0 0 0 0 0 0 0 0 0 0 0 0\n",
            " 0 0 0 0 0 0 0 0 0 0 0 0 0 0 0 0 0 0 0 0 0 0 0 0 0 0 0 0 0 0 0 0 0 0 0 0 0\n",
            " 0 0 0 0 0 0 0 0 0 0 0 0 0 0 0 0 0 0 0 0 0 0 0 0 0 0 0 0 0 0 0 0 0 0 0 0 0\n",
            " 0 0 0 0 0 0 0 0 0 0 0 0 0 0 0 0 0 0 0 0 0 0 0 0 0 0 0 0 0 0 0 0 0 0 0 0 0\n",
            " 0 0 0 0 0 0 0 0 0 0 0 0 0 0 0 0 0 0 0 0 0 0 0 0 0 0 0 0 0 0 0 0 0 0 0 0 0\n",
            " 0 0 0 0 0 0 0 0 0 0 0 0 0 0 0 0 0 0 0 0 0 0 0 0 0 0 0 0 0 0 0 0 0 0 0 0 0\n",
            " 0 0 0 0 0 0 0 0 0 0 0 0 0 0 0 0 0 0 0 0 0 0 0 0 0 0 0 0 0 0 0 0 0 0 0 0 0\n",
            " 0 0 0 0 0 0 0 0 0 0 0 0 0 0 0 0 0 0 0 0 0 0 0 0 0 0 0 0 0 0 0 0 0 0 0 0 0\n",
            " 0 0 0 0 0 0 0 0 0 0 0 0 0 0 0 0 0 0 0 0 0 0 0 0 0 0 0 0 0 0 0 0 0 0 0 0 0\n",
            " 0 0 0 0 0 0 0 0 0 0 0 0 0 0 0 0 0]\n"
          ]
        }
      ]
    },
    {
      "cell_type": "code",
      "source": [
        "#Implementing Grid Search for hyperparameter tuning\n",
        "\n",
        "iters = 2000\n",
        "def grid_search10(w,X,y):\n",
        "  alpha_val = [0.01 , 0.05 , 0.1 , 0.15 , 0.2 , 0.5]\n",
        "  lambda_val = [0.05 , 0.1 , 0.15 , 0.2 , 0.5 , 1]\n",
        "  max_w = w\n",
        "  max_accuracy = 0\n",
        "  for alpha in alpha_val:\n",
        "    for Lambda in lambda_val:\n",
        "      w_temp , J_temp = batch_gradient_descent(X,y,w,alpha,iters)\n",
        "      m = y.shape[0]\n",
        "      hypothesis = sigmoid(np.dot(X0_val,w_temp.T))\n",
        "      error = hypothesis - y\n",
        "      accuracy = 100 - (np.mean(np.abs(hypothesis - y))*100)\n",
        "      if max_accuracy < accuracy:\n",
        "        max_accuracy = accuracy\n",
        "        max_w = w_temp\n",
        "  return max_w , max_accuracy\n"
      ],
      "metadata": {
        "id": "Oe6QAyG2Z_9i"
      },
      "execution_count": null,
      "outputs": []
    },
    {
      "cell_type": "code",
      "source": [
        "final_w , final_accuracy10 = grid_search10(w,X1_val,Y1_val)\n",
        "#print(final_w)\n",
        "print(final_accuracy10)"
      ],
      "metadata": {
        "colab": {
          "base_uri": "https://localhost:8080/"
        },
        "outputId": "f71cded5-827e-4786-bff9-6e85100ae04a",
        "id": "gMmJz3TRZ_9i"
      },
      "execution_count": null,
      "outputs": [
        {
          "output_type": "stream",
          "name": "stdout",
          "text": [
            "66.73020050373987\n"
          ]
        }
      ]
    },
    {
      "cell_type": "code",
      "source": [
        "alpha=0.2\n",
        "iters=2000\n",
        "batch_size=5\n",
        "mini_batch_w,J_mini_batch = MB_gradient_descent(X1_train,Y1_train,w,alpha,iters, batch_size)\n",
        "plt.plot(range(iters),J_mini_batch)\n",
        "plt.show()\n"
      ],
      "metadata": {
        "colab": {
          "base_uri": "https://localhost:8080/",
          "height": 265
        },
        "outputId": "06a224b2-9a7a-42f7-d469-fb8f9769f179",
        "id": "ZlNoybrSZ_9i"
      },
      "execution_count": null,
      "outputs": [
        {
          "output_type": "display_data",
          "data": {
            "image/png": "[encoded data removed]",
            "text/plain": [
              "<Figure size 432x288 with 1 Axes>"
            ]
          },
          "metadata": {
            "needs_background": "light"
          }
        }
      ]
    },
    {
      "cell_type": "code",
      "source": [
        "z = np.dot(X1_test, mini_batch_w.T)\n",
        "print(z.T)\n",
        "h = sigmoid(z)\n",
        "y_pred=h>0.5\n",
        "y_pred11=y_pred.astype(int)\n",
        "print(y_pred11.T)\n"
      ],
      "metadata": {
        "colab": {
          "base_uri": "https://localhost:8080/"
        },
        "id": "u5NaXi080MWg",
        "outputId": "fcf70855-5cb5-4de5-caf5-bd424de489e7"
      },
      "execution_count": null,
      "outputs": [
        {
          "output_type": "stream",
          "name": "stdout",
          "text": [
            "[-1.99932397 -1.5040168  -2.15253967 -1.85508533 -1.75227805 -2.06351191\n",
            " -1.5084954  -1.95493545 -2.0257586  -1.84582477 -2.43802375 -2.02040037\n",
            " -2.48119549 -1.86673725 -2.02014583 -1.95300689 -1.99892882 -1.52459728\n",
            " -2.24337551 -2.03924568 -1.83230652 -1.90421034 -1.88421209 -1.65195821\n",
            " -2.38881459 -2.28842982 -1.66171736 -2.13519275 -1.80742571 -2.41096802\n",
            " -2.11086859 -2.18717972 -1.92909712 -2.24533879 -2.2076027  -2.11141655\n",
            " -1.63370077 -2.10531368 -1.85396683 -1.98753753 -2.16524974 -1.87951003\n",
            " -2.07285443 -2.42897979 -1.69930201 -1.73013972 -1.8374958  -2.13027833\n",
            " -2.20911296 -2.45682316 -2.44297326 -1.79304728 -2.30861453 -1.89637572\n",
            " -2.52237543 -2.22713015 -2.39425356 -1.82516496 -2.2977119  -2.3412702\n",
            " -2.27764529 -1.73003691 -1.80491506 -2.11419009 -1.94450842 -1.83514108\n",
            " -1.66870798 -1.95933876 -1.73790299 -2.31179224 -1.98858264 -2.38740359\n",
            " -2.15728396 -2.00571549 -1.64227687 -2.1231119  -2.12630585 -1.77915718\n",
            " -2.20930472 -1.96788631 -1.86995504 -1.62983673 -1.91467101 -1.68289029\n",
            " -1.84359801 -2.12032747 -1.77864327 -2.19776225 -1.43962364 -1.91121995\n",
            " -2.02313781 -1.81246561 -1.72760368 -2.11299866 -1.70968948 -1.91772157\n",
            " -1.87695854 -1.94751546 -1.76595158 -1.90547976 -2.01606469 -2.24938532\n",
            " -2.21675499 -1.78811153 -1.68826822 -2.41000636 -1.70974802 -1.89967618\n",
            " -1.81164366 -1.86192327 -2.33948823 -2.13299194 -2.27336981 -2.03322134\n",
            " -1.60227002 -2.35352012 -1.77311296 -1.63695759 -2.00625622 -1.97706402\n",
            " -2.0344823  -1.81222742 -1.67375834 -2.29154687 -2.31662706 -1.40832896\n",
            " -1.82350838 -2.13657239 -2.03708383 -1.7477951  -2.37636842 -1.82702792\n",
            " -2.2546116  -1.97579427 -1.22499097 -2.02464445 -2.22184175 -2.19826813\n",
            " -2.14753656 -2.42092565 -1.71162654 -1.95575308 -1.92692484 -1.80230505\n",
            " -2.20498793 -2.69027296 -2.24772541 -2.3505129  -1.77479058 -2.03971473\n",
            " -2.25756542 -1.98431379 -2.08566667 -1.68544996 -2.21676296 -1.81089096\n",
            " -1.7710384  -2.06548409 -1.58511338 -1.82230714 -2.37907159 -1.79950492\n",
            " -1.78937929 -2.1874407  -1.98987639 -2.07229621 -2.00023723 -2.25715433\n",
            " -2.29991826 -1.66632186 -2.1067189  -1.72871819 -1.79048283 -1.55733054\n",
            " -1.98980379 -1.84866162 -1.9926928  -1.79747877 -1.72900047 -2.32186567\n",
            " -2.28505246 -2.1121485  -2.63080644 -1.46804301 -2.3853632  -1.71660799\n",
            " -1.89779214 -2.19716626 -2.0493039  -2.2258244  -2.1012306  -2.27366943\n",
            " -1.60220847 -1.62698132 -1.83160319 -2.01628968 -2.12837958 -2.08263096\n",
            " -1.83964204 -1.86588612 -1.48510396 -1.71272379 -1.60977036 -2.47463252\n",
            " -1.82641429 -2.221438   -2.19605326 -1.93156375 -2.56013683 -1.93219243\n",
            " -1.46481981 -1.73812339 -2.00538481 -2.25601211 -1.79644157 -2.22033047\n",
            " -1.88520135 -2.14676713 -1.87820817 -1.37529736 -2.08020567 -2.46259708\n",
            " -2.15526434 -2.30305843 -2.58579057 -1.75308212 -1.78278593 -1.80140246\n",
            " -1.85648958 -1.87316172 -1.97207354 -1.65412599 -2.66066128 -1.80764606\n",
            " -2.39049853 -2.05380716 -1.69094552 -1.76799474 -2.06219329 -1.49330326\n",
            " -2.23473055 -2.32743357 -1.68341883 -1.57914696 -2.41249791 -1.77645692\n",
            " -1.70968948 -2.10619735 -2.07401036 -2.01916854 -2.01530203 -1.79858151\n",
            " -2.32723679 -2.59957786 -2.06223492 -1.96123882 -2.44501298 -1.95292451\n",
            " -2.12539974 -2.19499801 -2.16284643 -1.97483882 -1.56234808 -2.31204541\n",
            " -2.03550923 -1.3793482  -1.93046702 -1.71024883 -2.02057057 -2.37005717\n",
            " -2.18997829 -1.99697026 -2.33497479 -1.90840102 -2.18069434 -2.30051559\n",
            " -2.1207669  -1.96572752 -1.56532515 -2.13631128 -1.80962295 -1.96213121\n",
            " -2.17889445 -1.80507106 -2.11086859 -1.87735477 -2.07200844 -1.95291012\n",
            " -2.02793946 -2.01148    -2.14841898 -1.89525521 -1.79831645 -2.35001966\n",
            " -1.66884342 -1.87582307 -2.01571666 -2.08190757 -1.92254538 -1.6707908\n",
            " -1.90980494 -1.37416524 -2.22144921 -2.07617969 -2.33643085 -1.98858674\n",
            " -2.11042328 -2.14776452 -2.03029592 -1.92766225 -2.25648517 -1.98531478\n",
            " -2.48179439 -1.94383725 -1.98053645 -2.07620581 -1.93074558 -1.95061482\n",
            " -1.67604078 -1.86286748 -2.31815277 -1.98013822 -1.97956998 -1.60762427\n",
            " -1.73047736 -1.82110673 -1.39820102 -1.92823676 -2.19993878 -2.29922636\n",
            " -1.98867876 -1.64582088 -2.07700582 -1.87201382 -1.733328   -1.39372379\n",
            " -1.92886644 -2.07525826 -1.758257   -2.1510906  -2.23637584 -2.11626644\n",
            " -2.06145608 -1.25965235 -1.75384393 -2.55354936 -1.77695488 -1.71639642\n",
            " -1.81900777 -1.76691086 -2.156228   -1.97848788 -1.9445383  -1.29423279\n",
            " -1.42264992 -2.01210297 -1.74689315 -1.89368325 -2.16556653 -2.32678042\n",
            " -1.69689732 -1.58315145 -1.46094176 -2.66487525 -1.80197767 -2.17146444\n",
            " -1.5964285  -1.71038265 -2.0079751  -1.92753897 -2.19750226 -2.19993775\n",
            " -1.97671665 -1.5798022  -1.80719172 -2.09965352 -1.91119755 -1.98263725\n",
            " -2.00408747 -2.23537605 -1.61429676 -1.79745208 -1.62052361 -2.43032217\n",
            " -1.7032363  -2.0400908  -1.81760588 -2.23466895 -2.36577304 -2.05683203\n",
            " -1.96561295 -1.80599573 -1.79189898 -1.93360137 -1.73708033 -1.95980878\n",
            " -2.25195872 -2.15417121 -2.16342699 -2.0722557  -2.17961564 -2.25951824\n",
            " -1.89097226 -1.78283888 -2.00691849 -1.98531758 -2.04942465 -2.13329084\n",
            " -2.23310368 -2.20610245 -1.83612933 -2.0375374  -2.04793089 -2.56448514\n",
            " -1.49884186 -1.79486823 -2.09893736 -2.63631325 -1.85535221 -1.31834375\n",
            " -1.55170706 -1.90896427 -1.93398036 -1.927597   -2.22340293 -2.08973235\n",
            " -1.89965503 -2.46543169 -1.43922559 -1.71176867 -1.96593104 -1.88089431\n",
            " -1.99427524 -1.91735584 -2.05467579 -1.58373477 -2.20194157 -2.07036702\n",
            " -1.63982923 -2.75686737 -2.01081526 -1.83303967 -1.92152347 -2.34268854\n",
            " -1.9783892  -1.62126993 -1.78284633 -1.98256074 -1.52323094 -1.86880329\n",
            " -2.03234288 -2.20398851 -2.2199029  -2.39934776 -2.17879935 -2.3073798\n",
            " -1.85028464 -2.26752906 -1.97629226 -2.17778018 -1.95926602 -2.27855222\n",
            " -1.64690158 -2.007702   -2.03533892 -2.13785995 -2.06334221 -1.58044714\n",
            " -1.8385013  -2.30115488 -2.05170874 -2.24767586 -2.12397799 -1.91533129\n",
            " -2.2321407  -2.06162319 -2.11387736 -1.65455261 -2.08945783 -1.96859021\n",
            " -2.19038725 -1.71969908 -2.80346302 -2.15125734 -2.082321   -1.99612078\n",
            " -1.83102732 -2.00967113 -2.13846816 -2.03707349 -1.71965393 -2.00348924\n",
            " -2.0304223  -2.24738695 -1.76312735 -1.90671116 -2.14743558 -1.77903748\n",
            " -2.07690023 -1.94314603 -2.25013544 -1.56585661 -1.92682712 -2.20546644\n",
            " -2.0433508  -1.84874722 -1.89845237 -2.433088   -2.37335705 -2.57416133\n",
            " -1.83269732 -2.48508935 -1.99860718 -2.72009977 -1.78792834 -2.27506799\n",
            " -2.18644247 -2.31923573 -1.72976203 -2.42204106 -2.07207113 -2.33131373\n",
            " -2.00644875 -2.32475611 -1.98787931 -1.84175895 -2.05360887 -2.05479886\n",
            " -2.23239293 -2.55114778 -2.05475284 -1.9245279  -1.95096443 -2.14525206\n",
            " -2.08835554 -1.82646259 -2.00248909 -1.81827744 -1.97370201 -2.20687798\n",
            " -1.81032299 -1.85060546 -1.90686001 -2.26335612 -1.45865273 -1.79995385\n",
            " -1.95672502 -1.93485806 -2.10801098 -2.04525802 -1.52455585 -2.28811009\n",
            " -1.95964624 -2.40949401 -2.28642737 -1.67129693 -1.96859021 -1.55062905\n",
            " -2.48500292 -2.1195095  -1.61490502 -2.49687324 -1.71866044 -1.66105961\n",
            " -1.88977305 -1.87018246 -1.59778958 -1.69402764 -2.03003536 -1.89417525\n",
            " -2.13913333 -1.8624421  -1.67712531 -1.71132945 -2.19857469 -1.70517963\n",
            " -1.94056114 -2.35998026 -2.32403989 -2.37285973 -2.1019579  -1.98639238\n",
            " -2.1679549  -2.89025418 -1.44647114 -1.81861115 -1.95788472 -1.77428616\n",
            " -1.83883749 -2.15272422 -2.4574827  -2.32311139 -1.45204893 -2.01199612\n",
            " -1.97855769 -1.77547633 -2.06154091 -2.07745509 -2.05109312 -1.48351883\n",
            " -2.04044074 -1.91388554 -1.95485349 -2.5208131  -1.97240915 -2.2225502\n",
            " -2.51663395 -1.80700829 -2.2341992  -2.18647519 -1.63511141 -1.68403979\n",
            " -2.55994552 -1.87391663 -1.9090274  -1.92439843 -2.455669   -2.11985604\n",
            " -1.85505813 -2.25749942 -1.8965996  -2.45635383 -1.58373643 -2.43114185\n",
            " -2.20148334 -1.80403602 -2.0488872  -1.61793919 -2.07973399 -2.44362038\n",
            " -2.23842387 -2.14327963 -1.89037163 -2.01438064 -1.63068518 -2.25042589\n",
            " -2.01385217 -2.2492519  -2.26758398 -1.98605732 -2.41979986 -2.01008169\n",
            " -2.23756436 -1.53501899 -2.05811923 -1.79916906 -1.92687259 -1.64511655\n",
            " -2.15722782 -1.73231086 -2.24512368 -1.91703036 -1.99109864 -1.93063937\n",
            " -1.86463746 -1.70928632 -1.97715055 -1.79011463 -2.00931911 -2.1910285\n",
            " -2.60196706 -1.87175372 -1.67262731 -2.26105792 -1.79964794 -2.20410078\n",
            " -1.69495952 -1.95046929 -2.03150201 -2.18446878 -2.1062159  -1.7901631\n",
            " -2.18587671 -2.64078237 -2.00637326 -1.96714381 -2.32950146 -2.01028888\n",
            " -2.14901212 -2.24710353 -2.11741325 -2.08630064 -2.35158646]\n",
            "[0 0 0 0 0 0 0 0 0 0 0 0 0 0 0 0 0 0 0 0 0 0 0 0 0 0 0 0 0 0 0 0 0 0 0 0 0\n",
            " 0 0 0 0 0 0 0 0 0 0 0 0 0 0 0 0 0 0 0 0 0 0 0 0 0 0 0 0 0 0 0 0 0 0 0 0 0\n",
            " 0 0 0 0 0 0 0 0 0 0 0 0 0 0 0 0 0 0 0 0 0 0 0 0 0 0 0 0 0 0 0 0 0 0 0 0 0\n",
            " 0 0 0 0 0 0 0 0 0 0 0 0 0 0 0 0 0 0 0 0 0 0 0 0 0 0 0 0 0 0 0 0 0 0 0 0 0\n",
            " 0 0 0 0 0 0 0 0 0 0 0 0 0 0 0 0 0 0 0 0 0 0 0 0 0 0 0 0 0 0 0 0 0 0 0 0 0\n",
            " 0 0 0 0 0 0 0 0 0 0 0 0 0 0 0 0 0 0 0 0 0 0 0 0 0 0 0 0 0 0 0 0 0 0 0 0 0\n",
            " 0 0 0 0 0 0 0 0 0 0 0 0 0 0 0 0 0 0 0 0 0 0 0 0 0 0 0 0 0 0 0 0 0 0 0 0 0\n",
            " 0 0 0 0 0 0 0 0 0 0 0 0 0 0 0 0 0 0 0 0 0 0 0 0 0 0 0 0 0 0 0 0 0 0 0 0 0\n",
            " 0 0 0 0 0 0 0 0 0 0 0 0 0 0 0 0 0 0 0 0 0 0 0 0 0 0 0 0 0 0 0 0 0 0 0 0 0\n",
            " 0 0 0 0 0 0 0 0 0 0 0 0 0 0 0 0 0 0 0 0 0 0 0 0 0 0 0 0 0 0 0 0 0 0 0 0 0\n",
            " 0 0 0 0 0 0 0 0 0 0 0 0 0 0 0 0 0 0 0 0 0 0 0 0 0 0 0 0 0 0 0 0 0 0 0 0 0\n",
            " 0 0 0 0 0 0 0 0 0 0 0 0 0 0 0 0 0 0 0 0 0 0 0 0 0 0 0 0 0 0 0 0 0 0 0 0 0\n",
            " 0 0 0 0 0 0 0 0 0 0 0 0 0 0 0 0 0 0 0 0 0 0 0 0 0 0 0 0 0 0 0 0 0 0 0 0 0\n",
            " 0 0 0 0 0 0 0 0 0 0 0 0 0 0 0 0 0 0 0 0 0 0 0 0 0 0 0 0 0 0 0 0 0 0 0 0 0\n",
            " 0 0 0 0 0 0 0 0 0 0 0 0 0 0 0 0 0 0 0 0 0 0 0 0 0 0 0 0 0 0 0 0 0 0 0 0 0\n",
            " 0 0 0 0 0 0 0 0 0 0 0 0 0 0 0 0 0 0 0 0 0 0 0 0 0 0 0 0 0 0 0 0 0 0 0 0 0\n",
            " 0 0 0 0 0 0 0 0 0 0 0 0 0 0 0 0 0 0 0 0 0 0 0 0 0 0 0 0 0 0 0 0 0 0 0 0 0\n",
            " 0 0 0 0 0 0 0 0 0 0 0 0 0 0 0 0 0 0 0 0 0 0 0 0 0 0 0 0 0 0 0 0 0 0 0 0 0\n",
            " 0 0 0 0 0 0 0 0 0 0 0 0 0 0 0 0 0]\n"
          ]
        }
      ]
    },
    {
      "cell_type": "code",
      "source": [
        "#Implementing Grid Search for hyperparameter tuning\n",
        "\n",
        "iters = 2000\n",
        "def grid_search11(w,X,y):\n",
        "  alpha_val = [0.01 , 0.05 , 0.1 , 0.15 , 0.2 , 0.5]\n",
        "  lambda_val = [0.05 , 0.1 , 0.15 , 0.2 , 0.5 , 1]\n",
        "  max_w = w\n",
        "  max_accuracy = 0\n",
        "  for alpha in alpha_val:\n",
        "    for Lambda in lambda_val:\n",
        "      w_temp , J_temp = MB_gradient_descent(X,y,w,alpha,iters, batch_size)\n",
        "      m = y.shape[0]\n",
        "      hypothesis = sigmoid(np.dot(X0_val,w_temp.T))\n",
        "      error = hypothesis - y\n",
        "      accuracy = 100 - (np.mean(np.abs(hypothesis - y))*100)\n",
        "      if max_accuracy < accuracy:\n",
        "        max_accuracy = accuracy\n",
        "        max_w = w_temp\n",
        "  return max_w , max_accuracy"
      ],
      "metadata": {
        "id": "Lb2qwudZZ_9i"
      },
      "execution_count": null,
      "outputs": []
    },
    {
      "cell_type": "code",
      "source": [
        "final_w , final_accuracy11 = grid_search02(w,X1_val,Y1_val)\n",
        "#print(final_w)\n",
        "print(final_accuracy11)"
      ],
      "metadata": {
        "colab": {
          "base_uri": "https://localhost:8080/"
        },
        "outputId": "e46b365a-1e4a-4a7b-a958-4fb3d90f81ff",
        "id": "ddc05trRZ_9j"
      },
      "execution_count": null,
      "outputs": [
        {
          "output_type": "stream",
          "name": "stdout",
          "text": [
            "74.38680462213033\n"
          ]
        }
      ]
    },
    {
      "cell_type": "code",
      "source": [
        "n_epochs=2000\n",
        "alpha=0.02\n",
        "w_n,J_sgd = stochastic_gradient_descent(X1_train,Y1_train,w, alpha, n_epochs)\n",
        "plt.plot(range(n_epochs),J_sgd)\n",
        "plt.show()\n"
      ],
      "metadata": {
        "colab": {
          "base_uri": "https://localhost:8080/",
          "height": 267
        },
        "outputId": "22244b93-2047-497f-9315-2866ba6abbbe",
        "id": "UNrHkRAcZ_9j"
      },
      "execution_count": null,
      "outputs": [
        {
          "output_type": "display_data",
          "data": {
            "image/png": "[encoded data removed]",
            "text/plain": [
              "<Figure size 432x288 with 1 Axes>"
            ]
          },
          "metadata": {
            "needs_background": "light"
          }
        }
      ]
    },
    {
      "cell_type": "code",
      "source": [
        "z = np.dot(X1_test, w_n.T)\n",
        "print(z.T)\n",
        "h = sigmoid(z)\n",
        "y_pred=h>0.5\n",
        "y_pred12=y_pred.astype(int)\n",
        "print(y_pred12.T)\n"
      ],
      "metadata": {
        "colab": {
          "base_uri": "https://localhost:8080/"
        },
        "id": "ChIrJU_H0VrR",
        "outputId": "e110a637-407b-4947-d501-9c99c7893fc6"
      },
      "execution_count": null,
      "outputs": [
        {
          "output_type": "stream",
          "name": "stdout",
          "text": [
            "[-1.03501988 -0.59432522 -1.16585484 -1.05578706 -0.8202109  -1.1080791\n",
            " -0.66225671 -0.95152435 -0.8076464  -0.82259861 -1.17331359 -0.91835808\n",
            " -1.09913504 -0.95543542 -0.87509259 -0.85889337 -0.97014711 -0.80342551\n",
            " -1.18069089 -0.95308444 -0.98905065 -0.7573183  -0.84132272 -0.90853523\n",
            " -0.92437626 -1.16421523 -0.55829489 -0.98023309 -0.90695773 -0.99539635\n",
            " -0.98969422 -1.14837123 -0.79100072 -1.03192895 -0.96212502 -1.13435525\n",
            " -0.78605534 -0.77588693 -0.98825522 -0.9522373  -0.97934325 -0.93234204\n",
            " -1.02348985 -1.07630896 -0.93339626 -0.96467072 -0.93788843 -0.96719024\n",
            " -1.13699944 -1.27754864 -1.2507157  -0.94806574 -1.04577736 -0.9596432\n",
            " -1.18571796 -1.01238983 -1.27329214 -0.8608226  -0.99628881 -1.10035753\n",
            " -1.18813333 -0.8085621  -0.84153192 -0.91869385 -0.78820478 -0.84969776\n",
            " -0.80261938 -0.938617   -0.87319612 -1.08367914 -0.92737704 -1.00875674\n",
            " -1.18388718 -0.94460767 -0.79493406 -1.10411076 -0.94935726 -1.04108968\n",
            " -1.0941996  -0.98970989 -0.84986468 -0.81265806 -1.06534363 -0.6851033\n",
            " -0.9635216  -1.20646619 -0.88126217 -1.04334816 -0.72959039 -1.00764316\n",
            " -0.75712761 -0.97418526 -1.03227134 -1.0078293  -0.91265642 -0.96918581\n",
            " -0.92567642 -0.90200324 -0.91878931 -0.89311733 -0.8705964  -1.09840722\n",
            " -1.17968917 -1.0652337  -0.91963468 -1.23628829 -0.84042588 -0.85917183\n",
            " -0.84446101 -0.86443776 -1.08091347 -1.08394009 -1.09439727 -1.06611232\n",
            " -0.8660507  -1.18001801 -0.84394973 -0.87178236 -0.77853358 -0.96969813\n",
            " -1.05825376 -0.86879882 -0.65879677 -1.13942777 -0.974739   -0.82159259\n",
            " -0.80436454 -1.04980271 -1.01172669 -0.79791931 -1.05849084 -1.13352918\n",
            " -0.98227949 -1.0106966  -0.647795   -0.91981828 -1.00610688 -1.20150255\n",
            " -0.99159645 -1.25071434 -0.76943016 -0.86474332 -1.03312687 -0.89598061\n",
            " -0.94864767 -1.30872185 -1.17190733 -1.19585105 -0.74542851 -1.01841813\n",
            " -1.08048197 -0.93153175 -1.06576307 -0.85769032 -0.84899925 -0.87450526\n",
            " -0.78010614 -1.07132745 -0.70628713 -1.1219629  -1.09384419 -0.73982298\n",
            " -0.9889833  -1.09226551 -0.81683771 -0.79494325 -0.79514434 -1.06885747\n",
            " -1.07059979 -0.86813526 -0.98019466 -0.90791488 -0.90982423 -0.88403781\n",
            " -0.80677149 -0.98346968 -0.94803169 -0.87979752 -0.80770527 -1.02003199\n",
            " -0.98855047 -1.09886185 -1.19090822 -0.79990398 -1.18151608 -0.8002933\n",
            " -0.84012745 -1.01954097 -0.83236602 -1.06920515 -0.85190714 -1.0567797\n",
            " -0.73540721 -0.78684481 -0.92608704 -0.98137142 -1.11733508 -1.02910503\n",
            " -0.87963502 -0.85209359 -0.64825355 -0.79269286 -0.71887608 -1.16914231\n",
            " -0.84213702 -1.11041324 -1.04833894 -0.89953212 -1.23343785 -0.91224369\n",
            " -0.73734315 -0.84771722 -0.86635292 -0.89677413 -0.87620453 -0.99652915\n",
            " -0.91472071 -1.13359241 -0.88661457 -0.76489643 -1.04592919 -1.17008216\n",
            " -0.98729705 -1.22952595 -1.22328176 -0.82139067 -0.93554357 -0.97157184\n",
            " -0.90036456 -0.80215258 -0.87172601 -0.78493552 -1.17769698 -0.74223219\n",
            " -1.09723663 -0.91565796 -0.84630167 -0.82983671 -0.8263576  -0.77202736\n",
            " -0.89983261 -0.91138001 -0.83534406 -0.77261834 -1.04707623 -0.83052265\n",
            " -0.91265642 -0.95977252 -1.014001   -1.00249294 -0.84938508 -0.7542965\n",
            " -1.17698488 -1.12647352 -0.95634997 -0.85963482 -1.02384872 -1.0524106\n",
            " -0.98816185 -1.02202195 -0.89909327 -0.92760758 -0.74915088 -1.06037514\n",
            " -1.01489295 -0.76055972 -1.0123147  -0.88586186 -0.99489747 -0.98673424\n",
            " -1.17024297 -0.87824486 -1.030804   -0.82511493 -0.99683387 -1.09820648\n",
            " -1.19540499 -0.86219125 -0.74662583 -1.10066645 -0.88036522 -0.90853205\n",
            " -0.89803919 -0.87266713 -0.98969422 -1.00295238 -0.99145592 -0.92920848\n",
            " -0.95514219 -1.00640341 -0.95563077 -1.00284268 -0.93664127 -1.23753693\n",
            " -0.64497118 -0.89710295 -1.14843101 -0.95638914 -0.8384363  -0.76673129\n",
            " -0.87858145 -0.46721146 -1.2365531  -0.98846726 -1.29332515 -0.94851817\n",
            " -1.0569609  -0.94085073 -0.96489683 -0.88631328 -0.94973406 -0.9170986\n",
            " -1.30331783 -0.99579788 -1.02812956 -0.8630152  -0.86464896 -0.89259435\n",
            " -0.74800295 -0.97711935 -1.17598943 -0.90784095 -0.84857161 -0.68590221\n",
            " -0.97645835 -0.85607447 -0.66603893 -1.02085773 -1.0399945  -1.07374375\n",
            " -1.05204104 -0.88614602 -0.91930478 -0.93640558 -0.84630106 -0.84157595\n",
            " -0.91364794 -1.02353915 -0.93928376 -0.96613675 -0.9271681  -1.08966121\n",
            " -0.96806596 -0.71593603 -1.01375277 -1.33730905 -0.69349701 -0.82907881\n",
            " -0.88044935 -0.8320237  -1.0221441  -0.98078137 -0.98959664 -0.93802701\n",
            " -0.77288856 -1.01882564 -0.79412867 -0.75271426 -1.21687978 -1.10639676\n",
            " -0.79164896 -0.72970975 -0.68942902 -1.26308547 -0.86777872 -1.02724923\n",
            " -0.79697026 -0.88152798 -0.82859994 -1.00764057 -1.09340252 -1.09038663\n",
            " -0.8796238  -0.7924059  -0.85845251 -1.03497752 -0.94442952 -1.14919511\n",
            " -0.96448768 -1.0881812  -0.75798543 -0.92736598 -0.84826742 -1.19715347\n",
            " -0.89608016 -1.02240983 -0.92112773 -1.01927309 -1.1904818  -0.9089759\n",
            " -0.92190398 -0.7418784  -0.92978498 -0.97237907 -0.86491214 -0.93740484\n",
            " -1.00902457 -1.03714069 -0.86914467 -0.90213482 -0.9122586  -1.0520714\n",
            " -0.91066631 -0.88093257 -0.95006888 -0.97026126 -1.05304036 -0.96111821\n",
            " -1.28492075 -1.05865456 -0.79612058 -0.88466798 -0.94343397 -1.21378234\n",
            " -0.75757701 -0.82898963 -0.8717701  -1.1675981  -0.80375803 -0.67699294\n",
            " -0.69761071 -0.95061348 -1.06068094 -0.94198475 -1.05767181 -0.92792085\n",
            " -1.03940144 -1.36709114 -0.83771074 -0.9535273  -0.9297997  -1.07382408\n",
            " -1.01791562 -1.02794409 -0.93690656 -0.74387804 -0.98043454 -1.01108306\n",
            " -0.72854248 -1.21471356 -0.97486382 -0.85411108 -1.0045913  -1.15604708\n",
            " -0.9581377  -0.85421592 -0.94068399 -0.92905878 -0.80370172 -0.87218425\n",
            " -0.96294922 -0.99694154 -1.03649564 -1.06274239 -0.88603147 -1.13160176\n",
            " -0.88685184 -1.14553781 -0.94708598 -0.89522332 -0.9659752  -1.1336546\n",
            " -0.87839917 -1.03914983 -0.88936941 -1.02400875 -0.93760115 -0.71994654\n",
            " -0.71024713 -1.06399668 -1.027736   -1.16091968 -1.04445664 -0.98977717\n",
            " -1.06364408 -1.0394737  -1.11418985 -0.90519058 -1.06273215 -0.8639209\n",
            " -0.90637611 -0.74047906 -1.32658332 -0.97656434 -0.96587152 -0.86250132\n",
            " -0.87075094 -0.86713924 -0.93833727 -1.2136322  -0.71684203 -0.90637708\n",
            " -1.0073983  -1.00053909 -1.12872908 -0.89784292 -1.0578328  -0.92165283\n",
            " -0.96710505 -0.8616678  -1.03603953 -0.83376516 -0.9337302  -0.99672803\n",
            " -0.96370426 -0.81238681 -1.0282474  -0.99158941 -1.13207204 -1.08288426\n",
            " -0.80701235 -0.99293056 -0.93146266 -1.17681803 -0.89971302 -1.04474968\n",
            " -1.09917297 -1.10974648 -0.9622454  -1.16356005 -0.9549377  -1.08129362\n",
            " -0.91523898 -1.05067874 -0.99821353 -0.87484337 -1.02344894 -0.95399386\n",
            " -1.07563023 -1.08957764 -0.97064579 -1.01272508 -0.98882159 -1.21571704\n",
            " -0.95053844 -0.67500849 -1.01492396 -0.98893715 -0.92821081 -1.03970466\n",
            " -0.72104185 -0.89249264 -0.84062469 -1.16451825 -0.73522334 -0.99929847\n",
            " -0.84909166 -0.97166513 -1.00322215 -0.92081568 -0.69920219 -1.25539234\n",
            " -0.81386131 -1.23711912 -1.1335438  -0.85656128 -0.8639209  -0.79145445\n",
            " -1.19293525 -0.95057924 -0.86504867 -1.14008091 -0.84948209 -0.94840623\n",
            " -1.00826651 -0.78154243 -0.6769505  -0.92972456 -0.97281783 -0.83060085\n",
            " -1.16647521 -0.94609687 -0.83702359 -0.84074265 -0.94495202 -0.85105613\n",
            " -1.05327243 -1.06043478 -1.01482503 -1.01858392 -1.09115809 -0.95571911\n",
            " -1.07193512 -1.23063013 -0.92087543 -0.9391309  -1.02172495 -0.77888158\n",
            " -0.8402143  -1.03077167 -1.05409794 -1.00635871 -0.92863335 -1.05046279\n",
            " -1.037092   -0.76555778 -1.06538127 -1.10607777 -1.0681444  -0.84563015\n",
            " -0.77098581 -0.78345616 -0.93268644 -1.2463969  -1.09176104 -1.11502992\n",
            " -1.35305698 -1.03429129 -1.16671548 -1.06082901 -0.75727017 -0.89718735\n",
            " -1.2501688  -0.89239365 -0.97628508 -0.89334919 -1.09942812 -1.05785394\n",
            " -0.94003423 -1.04959012 -0.9850847  -1.16656299 -0.85444516 -1.03633844\n",
            " -0.96353032 -0.97838694 -0.9821617  -0.70405302 -0.94826621 -1.06163651\n",
            " -1.16596454 -0.94782986 -0.94754432 -0.97764239 -0.90102648 -1.09255038\n",
            " -0.98304217 -1.13996916 -1.0764079  -1.02609536 -1.06404782 -1.05618739\n",
            " -1.17147055 -0.81238968 -1.05183742 -0.7303337  -1.11839502 -0.87868442\n",
            " -0.90395889 -0.92681881 -1.08462821 -0.93190463 -0.86013009 -0.99036498\n",
            " -0.87586224 -0.81927864 -0.87818047 -0.97753947 -0.8909459  -1.10261567\n",
            " -1.26895604 -0.8451806  -0.82146329 -1.12268313 -0.85652986 -0.99529942\n",
            " -0.85721472 -0.93305603 -1.06146373 -1.02598845 -1.11351092 -0.90309438\n",
            " -0.90831265 -1.0431111  -1.01501889 -0.82997324 -1.11698791 -1.16409924\n",
            " -0.90292928 -1.13029696 -0.80390362 -1.02426626 -1.29333003]\n",
            "[0 0 0 0 0 0 0 0 0 0 0 0 0 0 0 0 0 0 0 0 0 0 0 0 0 0 0 0 0 0 0 0 0 0 0 0 0\n",
            " 0 0 0 0 0 0 0 0 0 0 0 0 0 0 0 0 0 0 0 0 0 0 0 0 0 0 0 0 0 0 0 0 0 0 0 0 0\n",
            " 0 0 0 0 0 0 0 0 0 0 0 0 0 0 0 0 0 0 0 0 0 0 0 0 0 0 0 0 0 0 0 0 0 0 0 0 0\n",
            " 0 0 0 0 0 0 0 0 0 0 0 0 0 0 0 0 0 0 0 0 0 0 0 0 0 0 0 0 0 0 0 0 0 0 0 0 0\n",
            " 0 0 0 0 0 0 0 0 0 0 0 0 0 0 0 0 0 0 0 0 0 0 0 0 0 0 0 0 0 0 0 0 0 0 0 0 0\n",
            " 0 0 0 0 0 0 0 0 0 0 0 0 0 0 0 0 0 0 0 0 0 0 0 0 0 0 0 0 0 0 0 0 0 0 0 0 0\n",
            " 0 0 0 0 0 0 0 0 0 0 0 0 0 0 0 0 0 0 0 0 0 0 0 0 0 0 0 0 0 0 0 0 0 0 0 0 0\n",
            " 0 0 0 0 0 0 0 0 0 0 0 0 0 0 0 0 0 0 0 0 0 0 0 0 0 0 0 0 0 0 0 0 0 0 0 0 0\n",
            " 0 0 0 0 0 0 0 0 0 0 0 0 0 0 0 0 0 0 0 0 0 0 0 0 0 0 0 0 0 0 0 0 0 0 0 0 0\n",
            " 0 0 0 0 0 0 0 0 0 0 0 0 0 0 0 0 0 0 0 0 0 0 0 0 0 0 0 0 0 0 0 0 0 0 0 0 0\n",
            " 0 0 0 0 0 0 0 0 0 0 0 0 0 0 0 0 0 0 0 0 0 0 0 0 0 0 0 0 0 0 0 0 0 0 0 0 0\n",
            " 0 0 0 0 0 0 0 0 0 0 0 0 0 0 0 0 0 0 0 0 0 0 0 0 0 0 0 0 0 0 0 0 0 0 0 0 0\n",
            " 0 0 0 0 0 0 0 0 0 0 0 0 0 0 0 0 0 0 0 0 0 0 0 0 0 0 0 0 0 0 0 0 0 0 0 0 0\n",
            " 0 0 0 0 0 0 0 0 0 0 0 0 0 0 0 0 0 0 0 0 0 0 0 0 0 0 0 0 0 0 0 0 0 0 0 0 0\n",
            " 0 0 0 0 0 0 0 0 0 0 0 0 0 0 0 0 0 0 0 0 0 0 0 0 0 0 0 0 0 0 0 0 0 0 0 0 0\n",
            " 0 0 0 0 0 0 0 0 0 0 0 0 0 0 0 0 0 0 0 0 0 0 0 0 0 0 0 0 0 0 0 0 0 0 0 0 0\n",
            " 0 0 0 0 0 0 0 0 0 0 0 0 0 0 0 0 0 0 0 0 0 0 0 0 0 0 0 0 0 0 0 0 0 0 0 0 0\n",
            " 0 0 0 0 0 0 0 0 0 0 0 0 0 0 0 0 0 0 0 0 0 0 0 0 0 0 0 0 0 0 0 0 0 0 0 0 0\n",
            " 0 0 0 0 0 0 0 0 0 0 0 0 0 0 0 0 0]\n"
          ]
        }
      ]
    },
    {
      "cell_type": "code",
      "source": [
        "#Implementing Grid Search for hyperparameter tuning\n",
        "\n",
        "iters = 2000\n",
        "def grid_search12(w,X,y):\n",
        "  alpha_val = [0.01 , 0.05 , 0.1 , 0.15 , 0.2 , 0.5]\n",
        "  lambda_val = [0.05 , 0.1 , 0.15 , 0.2 , 0.5 , 1]\n",
        "  max_w = w\n",
        "  max_accuracy = 0\n",
        "  for alpha in alpha_val:\n",
        "    for Lambda in lambda_val:\n",
        "      w_temp , J_temp = stochastic_gradient_descent(X, y,w, alpha, n_epochs)\n",
        "      m = y.shape[0]\n",
        "      hypothesis = sigmoid(np.dot(X0_val,w_temp.T))\n",
        "      error = hypothesis - y\n",
        "      accuracy = 100 - (np.mean(np.abs(hypothesis - y))*100)\n",
        "      if max_accuracy < accuracy:\n",
        "        max_accuracy = accuracy\n",
        "        max_w = w_temp\n",
        "  return max_w , max_accuracy"
      ],
      "metadata": {
        "id": "In3Q5Cj6Z_9j"
      },
      "execution_count": null,
      "outputs": []
    },
    {
      "cell_type": "code",
      "source": [
        "final_w , final_accuracy12 = grid_search12(w,X1_val,Y1_val)\n",
        "#print(final_w)\n",
        "print(final_accuracy12)"
      ],
      "metadata": {
        "colab": {
          "base_uri": "https://localhost:8080/"
        },
        "outputId": "82aeaf21-45ee-481d-8549-f0db7e947a34",
        "id": "dnVcsMkWZ_9j"
      },
      "execution_count": null,
      "outputs": [
        {
          "output_type": "stream",
          "name": "stdout",
          "text": [
            "74.50605969173921\n"
          ]
        }
      ]
    },
    {
      "cell_type": "markdown",
      "source": [
        "For 3rd class"
      ],
      "metadata": {
        "id": "yORsp6lsbUet"
      }
    },
    {
      "cell_type": "code",
      "source": [
        "alpha=0.5 ##learning rate\n",
        "iters=2000 ###iterations\n",
        "batch_w,J_his = batch_gradient_descent(X2_train,Y2_train,w,alpha,iters)\n",
        "plt.plot(range(iters),J_his)\n",
        "plt.show()"
      ],
      "metadata": {
        "colab": {
          "base_uri": "https://localhost:8080/",
          "height": 265
        },
        "outputId": "b69aaf74-04ea-4b9f-87ac-6719c10ae484",
        "id": "d3QGwEjbbXF9"
      },
      "execution_count": null,
      "outputs": [
        {
          "output_type": "display_data",
          "data": {
            "image/png": "[encoded data removed]",
            "text/plain": [
              "<Figure size 432x288 with 1 Axes>"
            ]
          },
          "metadata": {
            "needs_background": "light"
          }
        }
      ]
    },
    {
      "cell_type": "code",
      "source": [
        "z = np.dot(X2_test, batch_w.T)\n",
        "print(z.T)\n",
        "h = sigmoid(z)\n",
        "y_pred=h>0.5\n",
        "y_pred20=y_pred.astype(int)\n",
        "print(y_pred20.T)\n"
      ],
      "metadata": {
        "colab": {
          "base_uri": "https://localhost:8080/"
        },
        "id": "GtwWCOE10iSY",
        "outputId": "8f1133e3-580e-4537-be05-beedffc324b9"
      },
      "execution_count": null,
      "outputs": [
        {
          "output_type": "stream",
          "name": "stdout",
          "text": [
            "[-0.97105319 -0.56674545 -1.22028454 -0.79904274 -0.91280132 -1.29408098\n",
            " -0.44498686 -1.13016261 -1.32379163 -0.92314524 -1.27572459 -1.00306506\n",
            " -1.65221096 -0.95741856 -1.05704929 -1.08581719 -0.92054227 -0.58948741\n",
            " -1.12496444 -1.09929922 -0.94388326 -0.71246285 -1.34717504 -0.69874081\n",
            " -1.47162796 -1.85518081 -1.12535151 -1.34090593 -1.11075075 -1.50352519\n",
            " -1.16279096 -1.36988967 -1.01442035 -1.36163184 -1.2820262  -1.07649146\n",
            " -0.93835108 -1.00232418 -0.9981199  -1.28564738 -1.19027284 -1.13707238\n",
            " -1.41574517 -1.62313856 -0.9074018  -0.95508583 -1.19932987 -1.31796713\n",
            " -1.34320609 -1.61277665 -1.47925803 -0.88763036 -1.38559746 -1.125286\n",
            " -1.59574299 -1.46490629 -1.33012676 -0.88288548 -1.69397419 -1.4088091\n",
            " -1.4577492  -1.04144962 -1.05421568 -1.13410368 -1.37128268 -0.90138876\n",
            " -0.74808224 -1.16223015 -1.2547576  -1.49089225 -1.52003692 -1.4570548\n",
            " -1.39994487 -1.02435633 -0.47375398 -1.15496155 -1.23420213 -0.67421903\n",
            " -1.59151658 -0.9135219  -1.05609458 -0.8991721  -1.09594567 -0.86770359\n",
            " -1.32714107 -1.08823192 -1.22914841 -1.49769071 -0.52046886 -0.99842509\n",
            " -1.1116278  -1.09547657 -0.79225566 -1.10509602 -1.10926757 -1.24082102\n",
            " -1.13408889 -1.25314591 -1.10247796 -1.0829376  -0.93572857 -1.26305745\n",
            " -1.20309443 -0.91913966 -0.92518737 -1.44741073 -0.68880408 -0.93462965\n",
            " -1.01090652 -0.90872234 -1.48942665 -1.01663786 -1.08908627 -0.93913478\n",
            " -0.72652384 -1.32879912 -1.12600773 -0.9871931  -1.3883675  -1.23888447\n",
            " -0.9695227  -0.94736864 -0.8377861  -1.4340992  -1.68769459 -0.68718858\n",
            " -1.10736924 -1.41767557 -1.17649575 -0.9698115  -1.41622389 -0.95456789\n",
            " -1.22214555 -1.0512391  -0.43778828 -1.25004901 -1.27585916 -1.22746559\n",
            " -1.21250423 -1.38773148 -1.01375843 -0.91645044 -1.17154291 -0.77253502\n",
            " -1.81468049 -1.89349929 -1.37419438 -1.28019978 -0.75340284 -0.90094373\n",
            " -1.20140968 -0.96442692 -1.45186487 -0.60594974 -1.42272176 -0.6555952\n",
            " -0.99143862 -0.88645128 -0.75542848 -0.95510138 -1.34533601 -0.96227178\n",
            " -0.84463068 -1.12644171 -1.1973275  -1.17738544 -1.07054396 -1.51808763\n",
            " -1.51318743 -0.67692536 -1.20469743 -0.91422634 -1.2486698  -0.74474461\n",
            " -1.07859898 -1.1550806  -1.24961428 -1.2046071  -0.76073279 -1.64341578\n",
            " -1.33288857 -1.50921588 -1.66467593 -0.58191876 -1.58747127 -1.08821316\n",
            " -1.04740013 -1.25584727 -0.99237878 -1.13019025 -1.25712471 -1.46925192\n",
            " -0.78745393 -0.80894757 -0.85250022 -0.81553734 -1.20418826 -1.19747613\n",
            " -1.06726557 -1.18448323 -0.67179649 -0.90477903 -0.50215438 -1.4908324\n",
            " -0.66904082 -1.47979128 -1.39666894 -0.97239822 -1.79055355 -1.20627009\n",
            " -0.69713439 -0.89345421 -1.06307305 -1.41665517 -1.11238244 -1.1164502\n",
            " -1.14938759 -1.32473303 -1.00084985 -0.40580206 -1.32228928 -1.47188959\n",
            " -1.27543264 -1.49852967 -1.44385238 -1.0431337  -0.71969182 -0.99978711\n",
            " -0.89279695 -0.55688076 -1.25361491 -0.95181756 -1.77109367 -0.72034402\n",
            " -1.50562662 -0.9466028  -0.41430922 -0.99631173 -1.09561399 -0.69255946\n",
            " -1.26809457 -1.37952488 -0.82269118 -0.69353704 -1.46803977 -0.7716746\n",
            " -1.10926757 -1.20236945 -1.45470649 -1.24059153 -0.90873951 -0.85954305\n",
            " -1.37399571 -1.63241073 -0.92294625 -1.1317446  -1.62816975 -1.12528849\n",
            " -1.19232394 -1.33962502 -1.62159432 -1.02635013 -0.52179367 -1.39637491\n",
            " -1.31693126 -0.51807422 -0.8467908  -0.57567158 -1.22318221 -1.57780714\n",
            " -1.42426477 -1.02699083 -1.68164454 -1.03085395 -1.23380033 -1.51774121\n",
            " -0.96927011 -0.88304113 -0.51794389 -1.41343435 -0.88908254 -1.27785939\n",
            " -1.37565161 -0.68613296 -1.16279096 -0.96150972 -1.11951177 -1.03621375\n",
            " -1.23590907 -1.00496996 -1.35804503 -1.06445271 -1.1030034  -1.31399575\n",
            " -0.75401424 -0.82858071 -1.08129401 -1.40963504 -1.2039115  -0.7053565\n",
            " -1.0801342  -0.28377342 -1.29476005 -1.11668547 -1.64919173 -0.9173797\n",
            " -1.21557815 -1.44253242 -1.00774662 -1.32095387 -1.5878158  -0.92296027\n",
            " -1.69396048 -1.06760349 -0.82607168 -1.13642311 -0.97235159 -1.30791668\n",
            " -0.98449329 -0.94290382 -1.43967595 -1.17765445 -1.01703071 -1.01764614\n",
            " -1.02512377 -0.70689471 -0.15256783 -1.11358352 -1.4703007  -1.35471871\n",
            " -1.03703167 -0.86080129 -1.37000285 -1.01127098 -0.83565307 -0.54648588\n",
            " -0.78324862 -1.5128957  -1.05626237 -1.22624324 -0.98693111 -1.11287042\n",
            " -1.06518765 -0.19279805 -1.01498347 -2.20713585 -1.18534493 -0.86518988\n",
            " -0.68281334 -0.75163569 -1.05892905 -1.23822491 -1.33696506 -0.29126448\n",
            " -0.45600936 -1.33136724 -0.85608961 -1.26375144 -1.10621386 -1.40332759\n",
            " -0.68349533 -0.62821196 -0.25229869 -1.64447793 -1.20453098 -1.38006142\n",
            " -0.66125154 -0.76077912 -1.25335448 -0.98430238 -1.35268376 -0.96148505\n",
            " -1.08458582 -0.64163744 -0.99440349 -1.3360728  -1.03183491 -1.28496736\n",
            " -1.16260097 -1.34018594 -0.88584516 -0.86530575 -0.71577292 -1.792939\n",
            " -0.77977976 -1.21765374 -0.97926185 -1.39112442 -1.56111937 -0.9755219\n",
            " -1.14984684 -0.79262291 -1.22688566 -1.08518328 -0.74703577 -1.39756804\n",
            " -1.43083002 -1.09000856 -1.21328887 -1.50982406 -1.27638875 -1.37206261\n",
            " -1.03592511 -0.67576139 -0.9473077  -1.168251   -0.87064583 -1.14981758\n",
            " -1.11088899 -1.30888208 -0.61359725 -1.11836514 -1.25514335 -1.56239563\n",
            " -0.74157403 -0.87423435 -0.97013367 -1.68401999 -1.12218128 -0.43910669\n",
            " -0.57310292 -0.90071333 -0.96020866 -0.97074268 -1.41835868 -1.39784318\n",
            " -0.99666623 -1.2953665  -0.57749963 -0.75554744 -1.384274   -0.67706578\n",
            " -1.29331693 -1.13981715 -1.05583408 -0.64747903 -1.51056317 -1.00899627\n",
            " -0.65522522 -1.90068665 -1.19149361 -0.87360794 -1.06427754 -1.39685939\n",
            " -1.00517743 -0.80489217 -0.97309897 -1.38166787 -0.58502255 -0.9514587\n",
            " -1.22548084 -1.43594789 -1.51885568 -1.45872011 -1.39878006 -1.40795247\n",
            " -1.09003524 -1.20135748 -1.03428299 -1.33678226 -1.09237443 -1.55593551\n",
            " -0.87520413 -0.87945936 -1.17702221 -1.25805021 -1.23753145 -0.72646667\n",
            " -0.93507934 -1.40489514 -1.09392559 -1.4379338  -1.29152801 -0.95054612\n",
            " -1.21161391 -1.34532122 -0.88151095 -0.80828223 -1.13388887 -0.92470635\n",
            " -1.26096659 -0.83631709 -1.83362235 -1.29486694 -0.64739828 -1.27433101\n",
            " -0.97436144 -1.20708595 -1.00515212 -1.14949171 -0.85558398 -1.20633105\n",
            " -1.47303946 -1.09707117 -0.89694615 -1.30244045 -1.18564453 -0.88722845\n",
            " -0.95086019 -1.00433766 -1.4342555  -0.91459865 -1.40373533 -1.19394748\n",
            " -1.10307476 -1.05867394 -1.18020353 -1.5453362  -1.38493236 -1.57678925\n",
            " -0.90336336 -1.57923316 -1.28693135 -1.81245026 -0.71134144 -1.40782222\n",
            " -1.18856122 -1.30514987 -0.95193874 -1.38865522 -1.19784279 -1.48176662\n",
            " -1.17324259 -1.33018324 -1.24328174 -1.10848453 -0.96766428 -0.84143674\n",
            " -1.43530387 -1.7267105  -0.90956678 -1.25397469 -1.02088153 -1.36503226\n",
            " -1.18504815 -0.85257337 -1.25205154 -0.69077874 -1.36467785 -1.6509565\n",
            " -0.85781662 -0.87758884 -1.24760053 -1.31393183 -0.48397432 -1.04920202\n",
            " -1.05853973 -1.04826619 -1.29542641 -1.24545001 -0.3265233  -1.0679137\n",
            " -0.93081607 -1.39985379 -1.41326954 -0.75726431 -0.92470635 -0.5467615\n",
            " -1.68788301 -1.53584122 -0.94422239 -1.55342703 -0.62880445 -0.75048561\n",
            " -1.24313858 -1.27996168 -0.4558911  -0.90241328 -1.12365153 -1.188443\n",
            " -1.164278   -1.01513902 -0.80071713 -0.62239045 -1.50791483 -0.92757376\n",
            " -0.98400417 -1.2011062  -1.60053036 -1.41660355 -1.45800372 -1.30425974\n",
            " -1.46344745 -2.17472942 -0.61945664 -1.01870625 -1.04301622 -0.9721452\n",
            " -0.92707251 -1.47791904 -1.5881108  -1.14823717 -0.64123882 -1.0084236\n",
            " -1.04492678 -0.80413833 -1.35965234 -1.08309508 -1.19299762 -0.65275513\n",
            " -0.71453543 -0.98889802 -1.02395758 -1.73262158 -1.23350925 -1.56558082\n",
            " -1.64462146 -1.02485195 -1.94694032 -1.08905342 -0.76485628 -0.66604262\n",
            " -1.73471553 -0.99183668 -1.12696469 -1.22377273 -1.68693828 -1.12154404\n",
            " -1.05732075 -1.52952611 -1.17034985 -1.79492142 -0.66401545 -1.55609478\n",
            " -1.45360803 -0.73066484 -1.0955927  -0.93732763 -1.31032216 -1.36518866\n",
            " -1.30763956 -1.08068981 -1.15187473 -1.18598333 -0.77493007 -1.0995912\n",
            " -1.2093927  -1.36130102 -1.20932662 -1.0491705  -1.26894866 -1.19925475\n",
            " -0.86053938 -0.8457149  -1.29856064 -0.86457214 -0.86587415 -1.01733757\n",
            " -1.07390867 -0.90907322 -1.34545189 -1.0870918  -1.38713012 -0.86696075\n",
            " -1.13825498 -0.90855214 -1.18419109 -0.80124398 -1.16358538 -1.28778866\n",
            " -1.89063886 -0.92889168 -0.95675564 -1.70306537 -0.86385221 -1.47137919\n",
            " -0.96503981 -1.33449543 -1.22807915 -1.36868147 -1.22549881 -0.71738663\n",
            " -1.34130141 -1.71176281 -1.28820025 -1.18961063 -1.41255123 -1.12755337\n",
            " -1.32871071 -1.38921476 -1.28659953 -1.4198676  -1.39182954]\n",
            "[0 0 0 0 0 0 0 0 0 0 0 0 0 0 0 0 0 0 0 0 0 0 0 0 0 0 0 0 0 0 0 0 0 0 0 0 0\n",
            " 0 0 0 0 0 0 0 0 0 0 0 0 0 0 0 0 0 0 0 0 0 0 0 0 0 0 0 0 0 0 0 0 0 0 0 0 0\n",
            " 0 0 0 0 0 0 0 0 0 0 0 0 0 0 0 0 0 0 0 0 0 0 0 0 0 0 0 0 0 0 0 0 0 0 0 0 0\n",
            " 0 0 0 0 0 0 0 0 0 0 0 0 0 0 0 0 0 0 0 0 0 0 0 0 0 0 0 0 0 0 0 0 0 0 0 0 0\n",
            " 0 0 0 0 0 0 0 0 0 0 0 0 0 0 0 0 0 0 0 0 0 0 0 0 0 0 0 0 0 0 0 0 0 0 0 0 0\n",
            " 0 0 0 0 0 0 0 0 0 0 0 0 0 0 0 0 0 0 0 0 0 0 0 0 0 0 0 0 0 0 0 0 0 0 0 0 0\n",
            " 0 0 0 0 0 0 0 0 0 0 0 0 0 0 0 0 0 0 0 0 0 0 0 0 0 0 0 0 0 0 0 0 0 0 0 0 0\n",
            " 0 0 0 0 0 0 0 0 0 0 0 0 0 0 0 0 0 0 0 0 0 0 0 0 0 0 0 0 0 0 0 0 0 0 0 0 0\n",
            " 0 0 0 0 0 0 0 0 0 0 0 0 0 0 0 0 0 0 0 0 0 0 0 0 0 0 0 0 0 0 0 0 0 0 0 0 0\n",
            " 0 0 0 0 0 0 0 0 0 0 0 0 0 0 0 0 0 0 0 0 0 0 0 0 0 0 0 0 0 0 0 0 0 0 0 0 0\n",
            " 0 0 0 0 0 0 0 0 0 0 0 0 0 0 0 0 0 0 0 0 0 0 0 0 0 0 0 0 0 0 0 0 0 0 0 0 0\n",
            " 0 0 0 0 0 0 0 0 0 0 0 0 0 0 0 0 0 0 0 0 0 0 0 0 0 0 0 0 0 0 0 0 0 0 0 0 0\n",
            " 0 0 0 0 0 0 0 0 0 0 0 0 0 0 0 0 0 0 0 0 0 0 0 0 0 0 0 0 0 0 0 0 0 0 0 0 0\n",
            " 0 0 0 0 0 0 0 0 0 0 0 0 0 0 0 0 0 0 0 0 0 0 0 0 0 0 0 0 0 0 0 0 0 0 0 0 0\n",
            " 0 0 0 0 0 0 0 0 0 0 0 0 0 0 0 0 0 0 0 0 0 0 0 0 0 0 0 0 0 0 0 0 0 0 0 0 0\n",
            " 0 0 0 0 0 0 0 0 0 0 0 0 0 0 0 0 0 0 0 0 0 0 0 0 0 0 0 0 0 0 0 0 0 0 0 0 0\n",
            " 0 0 0 0 0 0 0 0 0 0 0 0 0 0 0 0 0 0 0 0 0 0 0 0 0 0 0 0 0 0 0 0 0 0 0 0 0\n",
            " 0 0 0 0 0 0 0 0 0 0 0 0 0 0 0 0 0 0 0 0 0 0 0 0 0 0 0 0 0 0 0 0 0 0 0 0 0\n",
            " 0 0 0 0 0 0 0 0 0 0 0 0 0 0 0 0 0]\n"
          ]
        }
      ]
    },
    {
      "cell_type": "code",
      "source": [
        "#Implementing Grid Search for hyperparameter tuning\n",
        "\n",
        "iters = 2000\n",
        "def grid_search20(w,X,y):\n",
        "  alpha_val = [0.01 , 0.05 , 0.1 , 0.15 , 0.2 , 0.5]\n",
        "  lambda_val = [0.05 , 0.1 , 0.15 , 0.2 , 0.5 , 1]\n",
        "  max_w = w\n",
        "  max_accuracy = 0\n",
        "  for alpha in alpha_val:\n",
        "    for Lambda in lambda_val:\n",
        "      w_temp , J_temp = batch_gradient_descent(X,y,w,alpha,iters)\n",
        "      m = y.shape[0]\n",
        "      hypothesis = sigmoid(np.dot(X0_val,w_temp.T))\n",
        "      error = hypothesis - y\n",
        "      accuracy = 100 - (np.mean(np.abs(hypothesis - y))*100)\n",
        "      if max_accuracy < accuracy:\n",
        "        max_accuracy = accuracy\n",
        "        max_w = w_temp\n",
        "  return max_w , max_accuracy\n"
      ],
      "metadata": {
        "id": "G_-qRdHZbXF9"
      },
      "execution_count": null,
      "outputs": []
    },
    {
      "cell_type": "code",
      "source": [
        "final_w , final_accuracy20 = grid_search20(w,X2_val,Y2_val)\n",
        "#print(final_w)\n",
        "print(final_accuracy20)"
      ],
      "metadata": {
        "colab": {
          "base_uri": "https://localhost:8080/"
        },
        "outputId": "7027d610-fe09-469f-b5e6-9fec298159c9",
        "id": "PDXVynT7bXF9"
      },
      "execution_count": null,
      "outputs": [
        {
          "output_type": "stream",
          "name": "stdout",
          "text": [
            "67.27823228023107\n"
          ]
        }
      ]
    },
    {
      "cell_type": "code",
      "source": [
        "alpha=0.2\n",
        "iters=2000\n",
        "batch_size=5\n",
        "mini_batch_w,J_mini_batch = MB_gradient_descent(X2_train,Y2_train,w,alpha,iters, batch_size)\n",
        "plt.plot(range(iters),J_mini_batch)\n",
        "plt.show()\n"
      ],
      "metadata": {
        "colab": {
          "base_uri": "https://localhost:8080/",
          "height": 265
        },
        "outputId": "41c94af6-c981-423e-fe6f-2d55521e2574",
        "id": "ic7_3Eg1bXF9"
      },
      "execution_count": null,
      "outputs": [
        {
          "output_type": "display_data",
          "data": {
            "image/png": "[encoded data removed]",
            "text/plain": [
              "<Figure size 432x288 with 1 Axes>"
            ]
          },
          "metadata": {
            "needs_background": "light"
          }
        }
      ]
    },
    {
      "cell_type": "code",
      "source": [
        "z = np.dot(X2_test, mini_batch_w.T)\n",
        "print(z.T)\n",
        "h = sigmoid(z)\n",
        "y_pred=h>0.5\n",
        "y_pred21=y_pred.astype(int)\n",
        "print(y_pred21.T)\n"
      ],
      "metadata": {
        "colab": {
          "base_uri": "https://localhost:8080/"
        },
        "id": "huM_0ghy0l0E",
        "outputId": "e500f8b8-b4a9-4aeb-c798-1f84e22e5a67"
      },
      "execution_count": null,
      "outputs": [
        {
          "output_type": "stream",
          "name": "stdout",
          "text": [
            "[-1.99932397 -1.5040168  -2.15253967 -1.85508533 -1.75227805 -2.06351191\n",
            " -1.5084954  -1.95493545 -2.0257586  -1.84582477 -2.43802375 -2.02040037\n",
            " -2.48119549 -1.86673725 -2.02014583 -1.95300689 -1.99892882 -1.52459728\n",
            " -2.24337551 -2.03924568 -1.83230652 -1.90421034 -1.88421209 -1.65195821\n",
            " -2.38881459 -2.28842982 -1.66171736 -2.13519275 -1.80742571 -2.41096802\n",
            " -2.11086859 -2.18717972 -1.92909712 -2.24533879 -2.2076027  -2.11141655\n",
            " -1.63370077 -2.10531368 -1.85396683 -1.98753753 -2.16524974 -1.87951003\n",
            " -2.07285443 -2.42897979 -1.69930201 -1.73013972 -1.8374958  -2.13027833\n",
            " -2.20911296 -2.45682316 -2.44297326 -1.79304728 -2.30861453 -1.89637572\n",
            " -2.52237543 -2.22713015 -2.39425356 -1.82516496 -2.2977119  -2.3412702\n",
            " -2.27764529 -1.73003691 -1.80491506 -2.11419009 -1.94450842 -1.83514108\n",
            " -1.66870798 -1.95933876 -1.73790299 -2.31179224 -1.98858264 -2.38740359\n",
            " -2.15728396 -2.00571549 -1.64227687 -2.1231119  -2.12630585 -1.77915718\n",
            " -2.20930472 -1.96788631 -1.86995504 -1.62983673 -1.91467101 -1.68289029\n",
            " -1.84359801 -2.12032747 -1.77864327 -2.19776225 -1.43962364 -1.91121995\n",
            " -2.02313781 -1.81246561 -1.72760368 -2.11299866 -1.70968948 -1.91772157\n",
            " -1.87695854 -1.94751546 -1.76595158 -1.90547976 -2.01606469 -2.24938532\n",
            " -2.21675499 -1.78811153 -1.68826822 -2.41000636 -1.70974802 -1.89967618\n",
            " -1.81164366 -1.86192327 -2.33948823 -2.13299194 -2.27336981 -2.03322134\n",
            " -1.60227002 -2.35352012 -1.77311296 -1.63695759 -2.00625622 -1.97706402\n",
            " -2.0344823  -1.81222742 -1.67375834 -2.29154687 -2.31662706 -1.40832896\n",
            " -1.82350838 -2.13657239 -2.03708383 -1.7477951  -2.37636842 -1.82702792\n",
            " -2.2546116  -1.97579427 -1.22499097 -2.02464445 -2.22184175 -2.19826813\n",
            " -2.14753656 -2.42092565 -1.71162654 -1.95575308 -1.92692484 -1.80230505\n",
            " -2.20498793 -2.69027296 -2.24772541 -2.3505129  -1.77479058 -2.03971473\n",
            " -2.25756542 -1.98431379 -2.08566667 -1.68544996 -2.21676296 -1.81089096\n",
            " -1.7710384  -2.06548409 -1.58511338 -1.82230714 -2.37907159 -1.79950492\n",
            " -1.78937929 -2.1874407  -1.98987639 -2.07229621 -2.00023723 -2.25715433\n",
            " -2.29991826 -1.66632186 -2.1067189  -1.72871819 -1.79048283 -1.55733054\n",
            " -1.98980379 -1.84866162 -1.9926928  -1.79747877 -1.72900047 -2.32186567\n",
            " -2.28505246 -2.1121485  -2.63080644 -1.46804301 -2.3853632  -1.71660799\n",
            " -1.89779214 -2.19716626 -2.0493039  -2.2258244  -2.1012306  -2.27366943\n",
            " -1.60220847 -1.62698132 -1.83160319 -2.01628968 -2.12837958 -2.08263096\n",
            " -1.83964204 -1.86588612 -1.48510396 -1.71272379 -1.60977036 -2.47463252\n",
            " -1.82641429 -2.221438   -2.19605326 -1.93156375 -2.56013683 -1.93219243\n",
            " -1.46481981 -1.73812339 -2.00538481 -2.25601211 -1.79644157 -2.22033047\n",
            " -1.88520135 -2.14676713 -1.87820817 -1.37529736 -2.08020567 -2.46259708\n",
            " -2.15526434 -2.30305843 -2.58579057 -1.75308212 -1.78278593 -1.80140246\n",
            " -1.85648958 -1.87316172 -1.97207354 -1.65412599 -2.66066128 -1.80764606\n",
            " -2.39049853 -2.05380716 -1.69094552 -1.76799474 -2.06219329 -1.49330326\n",
            " -2.23473055 -2.32743357 -1.68341883 -1.57914696 -2.41249791 -1.77645692\n",
            " -1.70968948 -2.10619735 -2.07401036 -2.01916854 -2.01530203 -1.79858151\n",
            " -2.32723679 -2.59957786 -2.06223492 -1.96123882 -2.44501298 -1.95292451\n",
            " -2.12539974 -2.19499801 -2.16284643 -1.97483882 -1.56234808 -2.31204541\n",
            " -2.03550923 -1.3793482  -1.93046702 -1.71024883 -2.02057057 -2.37005717\n",
            " -2.18997829 -1.99697026 -2.33497479 -1.90840102 -2.18069434 -2.30051559\n",
            " -2.1207669  -1.96572752 -1.56532515 -2.13631128 -1.80962295 -1.96213121\n",
            " -2.17889445 -1.80507106 -2.11086859 -1.87735477 -2.07200844 -1.95291012\n",
            " -2.02793946 -2.01148    -2.14841898 -1.89525521 -1.79831645 -2.35001966\n",
            " -1.66884342 -1.87582307 -2.01571666 -2.08190757 -1.92254538 -1.6707908\n",
            " -1.90980494 -1.37416524 -2.22144921 -2.07617969 -2.33643085 -1.98858674\n",
            " -2.11042328 -2.14776452 -2.03029592 -1.92766225 -2.25648517 -1.98531478\n",
            " -2.48179439 -1.94383725 -1.98053645 -2.07620581 -1.93074558 -1.95061482\n",
            " -1.67604078 -1.86286748 -2.31815277 -1.98013822 -1.97956998 -1.60762427\n",
            " -1.73047736 -1.82110673 -1.39820102 -1.92823676 -2.19993878 -2.29922636\n",
            " -1.98867876 -1.64582088 -2.07700582 -1.87201382 -1.733328   -1.39372379\n",
            " -1.92886644 -2.07525826 -1.758257   -2.1510906  -2.23637584 -2.11626644\n",
            " -2.06145608 -1.25965235 -1.75384393 -2.55354936 -1.77695488 -1.71639642\n",
            " -1.81900777 -1.76691086 -2.156228   -1.97848788 -1.9445383  -1.29423279\n",
            " -1.42264992 -2.01210297 -1.74689315 -1.89368325 -2.16556653 -2.32678042\n",
            " -1.69689732 -1.58315145 -1.46094176 -2.66487525 -1.80197767 -2.17146444\n",
            " -1.5964285  -1.71038265 -2.0079751  -1.92753897 -2.19750226 -2.19993775\n",
            " -1.97671665 -1.5798022  -1.80719172 -2.09965352 -1.91119755 -1.98263725\n",
            " -2.00408747 -2.23537605 -1.61429676 -1.79745208 -1.62052361 -2.43032217\n",
            " -1.7032363  -2.0400908  -1.81760588 -2.23466895 -2.36577304 -2.05683203\n",
            " -1.96561295 -1.80599573 -1.79189898 -1.93360137 -1.73708033 -1.95980878\n",
            " -2.25195872 -2.15417121 -2.16342699 -2.0722557  -2.17961564 -2.25951824\n",
            " -1.89097226 -1.78283888 -2.00691849 -1.98531758 -2.04942465 -2.13329084\n",
            " -2.23310368 -2.20610245 -1.83612933 -2.0375374  -2.04793089 -2.56448514\n",
            " -1.49884186 -1.79486823 -2.09893736 -2.63631325 -1.85535221 -1.31834375\n",
            " -1.55170706 -1.90896427 -1.93398036 -1.927597   -2.22340293 -2.08973235\n",
            " -1.89965503 -2.46543169 -1.43922559 -1.71176867 -1.96593104 -1.88089431\n",
            " -1.99427524 -1.91735584 -2.05467579 -1.58373477 -2.20194157 -2.07036702\n",
            " -1.63982923 -2.75686737 -2.01081526 -1.83303967 -1.92152347 -2.34268854\n",
            " -1.9783892  -1.62126993 -1.78284633 -1.98256074 -1.52323094 -1.86880329\n",
            " -2.03234288 -2.20398851 -2.2199029  -2.39934776 -2.17879935 -2.3073798\n",
            " -1.85028464 -2.26752906 -1.97629226 -2.17778018 -1.95926602 -2.27855222\n",
            " -1.64690158 -2.007702   -2.03533892 -2.13785995 -2.06334221 -1.58044714\n",
            " -1.8385013  -2.30115488 -2.05170874 -2.24767586 -2.12397799 -1.91533129\n",
            " -2.2321407  -2.06162319 -2.11387736 -1.65455261 -2.08945783 -1.96859021\n",
            " -2.19038725 -1.71969908 -2.80346302 -2.15125734 -2.082321   -1.99612078\n",
            " -1.83102732 -2.00967113 -2.13846816 -2.03707349 -1.71965393 -2.00348924\n",
            " -2.0304223  -2.24738695 -1.76312735 -1.90671116 -2.14743558 -1.77903748\n",
            " -2.07690023 -1.94314603 -2.25013544 -1.56585661 -1.92682712 -2.20546644\n",
            " -2.0433508  -1.84874722 -1.89845237 -2.433088   -2.37335705 -2.57416133\n",
            " -1.83269732 -2.48508935 -1.99860718 -2.72009977 -1.78792834 -2.27506799\n",
            " -2.18644247 -2.31923573 -1.72976203 -2.42204106 -2.07207113 -2.33131373\n",
            " -2.00644875 -2.32475611 -1.98787931 -1.84175895 -2.05360887 -2.05479886\n",
            " -2.23239293 -2.55114778 -2.05475284 -1.9245279  -1.95096443 -2.14525206\n",
            " -2.08835554 -1.82646259 -2.00248909 -1.81827744 -1.97370201 -2.20687798\n",
            " -1.81032299 -1.85060546 -1.90686001 -2.26335612 -1.45865273 -1.79995385\n",
            " -1.95672502 -1.93485806 -2.10801098 -2.04525802 -1.52455585 -2.28811009\n",
            " -1.95964624 -2.40949401 -2.28642737 -1.67129693 -1.96859021 -1.55062905\n",
            " -2.48500292 -2.1195095  -1.61490502 -2.49687324 -1.71866044 -1.66105961\n",
            " -1.88977305 -1.87018246 -1.59778958 -1.69402764 -2.03003536 -1.89417525\n",
            " -2.13913333 -1.8624421  -1.67712531 -1.71132945 -2.19857469 -1.70517963\n",
            " -1.94056114 -2.35998026 -2.32403989 -2.37285973 -2.1019579  -1.98639238\n",
            " -2.1679549  -2.89025418 -1.44647114 -1.81861115 -1.95788472 -1.77428616\n",
            " -1.83883749 -2.15272422 -2.4574827  -2.32311139 -1.45204893 -2.01199612\n",
            " -1.97855769 -1.77547633 -2.06154091 -2.07745509 -2.05109312 -1.48351883\n",
            " -2.04044074 -1.91388554 -1.95485349 -2.5208131  -1.97240915 -2.2225502\n",
            " -2.51663395 -1.80700829 -2.2341992  -2.18647519 -1.63511141 -1.68403979\n",
            " -2.55994552 -1.87391663 -1.9090274  -1.92439843 -2.455669   -2.11985604\n",
            " -1.85505813 -2.25749942 -1.8965996  -2.45635383 -1.58373643 -2.43114185\n",
            " -2.20148334 -1.80403602 -2.0488872  -1.61793919 -2.07973399 -2.44362038\n",
            " -2.23842387 -2.14327963 -1.89037163 -2.01438064 -1.63068518 -2.25042589\n",
            " -2.01385217 -2.2492519  -2.26758398 -1.98605732 -2.41979986 -2.01008169\n",
            " -2.23756436 -1.53501899 -2.05811923 -1.79916906 -1.92687259 -1.64511655\n",
            " -2.15722782 -1.73231086 -2.24512368 -1.91703036 -1.99109864 -1.93063937\n",
            " -1.86463746 -1.70928632 -1.97715055 -1.79011463 -2.00931911 -2.1910285\n",
            " -2.60196706 -1.87175372 -1.67262731 -2.26105792 -1.79964794 -2.20410078\n",
            " -1.69495952 -1.95046929 -2.03150201 -2.18446878 -2.1062159  -1.7901631\n",
            " -2.18587671 -2.64078237 -2.00637326 -1.96714381 -2.32950146 -2.01028888\n",
            " -2.14901212 -2.24710353 -2.11741325 -2.08630064 -2.35158646]\n",
            "[0 0 0 0 0 0 0 0 0 0 0 0 0 0 0 0 0 0 0 0 0 0 0 0 0 0 0 0 0 0 0 0 0 0 0 0 0\n",
            " 0 0 0 0 0 0 0 0 0 0 0 0 0 0 0 0 0 0 0 0 0 0 0 0 0 0 0 0 0 0 0 0 0 0 0 0 0\n",
            " 0 0 0 0 0 0 0 0 0 0 0 0 0 0 0 0 0 0 0 0 0 0 0 0 0 0 0 0 0 0 0 0 0 0 0 0 0\n",
            " 0 0 0 0 0 0 0 0 0 0 0 0 0 0 0 0 0 0 0 0 0 0 0 0 0 0 0 0 0 0 0 0 0 0 0 0 0\n",
            " 0 0 0 0 0 0 0 0 0 0 0 0 0 0 0 0 0 0 0 0 0 0 0 0 0 0 0 0 0 0 0 0 0 0 0 0 0\n",
            " 0 0 0 0 0 0 0 0 0 0 0 0 0 0 0 0 0 0 0 0 0 0 0 0 0 0 0 0 0 0 0 0 0 0 0 0 0\n",
            " 0 0 0 0 0 0 0 0 0 0 0 0 0 0 0 0 0 0 0 0 0 0 0 0 0 0 0 0 0 0 0 0 0 0 0 0 0\n",
            " 0 0 0 0 0 0 0 0 0 0 0 0 0 0 0 0 0 0 0 0 0 0 0 0 0 0 0 0 0 0 0 0 0 0 0 0 0\n",
            " 0 0 0 0 0 0 0 0 0 0 0 0 0 0 0 0 0 0 0 0 0 0 0 0 0 0 0 0 0 0 0 0 0 0 0 0 0\n",
            " 0 0 0 0 0 0 0 0 0 0 0 0 0 0 0 0 0 0 0 0 0 0 0 0 0 0 0 0 0 0 0 0 0 0 0 0 0\n",
            " 0 0 0 0 0 0 0 0 0 0 0 0 0 0 0 0 0 0 0 0 0 0 0 0 0 0 0 0 0 0 0 0 0 0 0 0 0\n",
            " 0 0 0 0 0 0 0 0 0 0 0 0 0 0 0 0 0 0 0 0 0 0 0 0 0 0 0 0 0 0 0 0 0 0 0 0 0\n",
            " 0 0 0 0 0 0 0 0 0 0 0 0 0 0 0 0 0 0 0 0 0 0 0 0 0 0 0 0 0 0 0 0 0 0 0 0 0\n",
            " 0 0 0 0 0 0 0 0 0 0 0 0 0 0 0 0 0 0 0 0 0 0 0 0 0 0 0 0 0 0 0 0 0 0 0 0 0\n",
            " 0 0 0 0 0 0 0 0 0 0 0 0 0 0 0 0 0 0 0 0 0 0 0 0 0 0 0 0 0 0 0 0 0 0 0 0 0\n",
            " 0 0 0 0 0 0 0 0 0 0 0 0 0 0 0 0 0 0 0 0 0 0 0 0 0 0 0 0 0 0 0 0 0 0 0 0 0\n",
            " 0 0 0 0 0 0 0 0 0 0 0 0 0 0 0 0 0 0 0 0 0 0 0 0 0 0 0 0 0 0 0 0 0 0 0 0 0\n",
            " 0 0 0 0 0 0 0 0 0 0 0 0 0 0 0 0 0 0 0 0 0 0 0 0 0 0 0 0 0 0 0 0 0 0 0 0 0\n",
            " 0 0 0 0 0 0 0 0 0 0 0 0 0 0 0 0 0]\n"
          ]
        }
      ]
    },
    {
      "cell_type": "code",
      "source": [
        "#Implementing Grid Search for hyperparameter tuning\n",
        "\n",
        "iters = 2000\n",
        "def grid_search21(w,X,y):\n",
        "  alpha_val = [0.01 , 0.05 , 0.1 , 0.15 , 0.2 , 0.5]\n",
        "  lambda_val = [0.05 , 0.1 , 0.15 , 0.2 , 0.5 , 1]\n",
        "  max_w = w\n",
        "  max_accuracy = 0\n",
        "  for alpha in alpha_val:\n",
        "    for Lambda in lambda_val:\n",
        "      w_temp , J_temp = MB_gradient_descent(X,y,w,alpha,iters, batch_size)\n",
        "      m = y.shape[0]\n",
        "      hypothesis = sigmoid(np.dot(X0_val,w_temp.T))\n",
        "      error = hypothesis - y\n",
        "      accuracy = 100 - (np.mean(np.abs(hypothesis - y))*100)\n",
        "      if max_accuracy < accuracy:\n",
        "        max_accuracy = accuracy\n",
        "        max_w = w_temp\n",
        "  return max_w , max_accuracy"
      ],
      "metadata": {
        "id": "NyGEB24vbXF9"
      },
      "execution_count": null,
      "outputs": []
    },
    {
      "cell_type": "code",
      "source": [
        "final_w , final_accuracy21 = grid_search21(w,X2_val,Y2_val)\n",
        "#print(final_w)\n",
        "print(final_accuracy21)"
      ],
      "metadata": {
        "colab": {
          "base_uri": "https://localhost:8080/"
        },
        "outputId": "0f778f2e-1e94-4dd4-874d-50301db2cd3f",
        "id": "IyNBWTCLbXF-"
      },
      "execution_count": null,
      "outputs": [
        {
          "output_type": "stream",
          "name": "stdout",
          "text": [
            "75.73760428321924\n"
          ]
        }
      ]
    },
    {
      "cell_type": "code",
      "source": [
        "n_epochs=2000\n",
        "alpha=0.02\n",
        "w_n,J_sgd = stochastic_gradient_descent(X2_train,Y2_train,w, alpha, n_epochs)\n",
        "plt.plot(range(n_epochs),J_sgd)\n",
        "plt.show()\n"
      ],
      "metadata": {
        "colab": {
          "base_uri": "https://localhost:8080/",
          "height": 265
        },
        "outputId": "b630e178-01c1-4a20-a725-0b6c4a58c24b",
        "id": "SWpRhxXwbXF-"
      },
      "execution_count": null,
      "outputs": [
        {
          "output_type": "display_data",
          "data": {
            "image/png": "[encoded data removed]",
            "text/plain": [
              "<Figure size 432x288 with 1 Axes>"
            ]
          },
          "metadata": {
            "needs_background": "light"
          }
        }
      ]
    },
    {
      "cell_type": "code",
      "source": [
        "z = np.dot(X2_test, w_n.T)\n",
        "print(z.T)\n",
        "h = sigmoid(z)\n",
        "y_pred=h>0.5\n",
        "y_pred22=y_pred.astype(int)\n",
        "print(y_pred22.T)\n"
      ],
      "metadata": {
        "colab": {
          "base_uri": "https://localhost:8080/"
        },
        "id": "r9qJAKcE0pTt",
        "outputId": "17dbdfa6-f114-4eb0-e5ae-c535551e721b"
      },
      "execution_count": null,
      "outputs": [
        {
          "output_type": "stream",
          "name": "stdout",
          "text": [
            "[-1.03501988 -0.59432522 -1.16585484 -1.05578706 -0.8202109  -1.1080791\n",
            " -0.66225671 -0.95152435 -0.8076464  -0.82259861 -1.17331359 -0.91835808\n",
            " -1.09913504 -0.95543542 -0.87509259 -0.85889337 -0.97014711 -0.80342551\n",
            " -1.18069089 -0.95308444 -0.98905065 -0.7573183  -0.84132272 -0.90853523\n",
            " -0.92437626 -1.16421523 -0.55829489 -0.98023309 -0.90695773 -0.99539635\n",
            " -0.98969422 -1.14837123 -0.79100072 -1.03192895 -0.96212502 -1.13435525\n",
            " -0.78605534 -0.77588693 -0.98825522 -0.9522373  -0.97934325 -0.93234204\n",
            " -1.02348985 -1.07630896 -0.93339626 -0.96467072 -0.93788843 -0.96719024\n",
            " -1.13699944 -1.27754864 -1.2507157  -0.94806574 -1.04577736 -0.9596432\n",
            " -1.18571796 -1.01238983 -1.27329214 -0.8608226  -0.99628881 -1.10035753\n",
            " -1.18813333 -0.8085621  -0.84153192 -0.91869385 -0.78820478 -0.84969776\n",
            " -0.80261938 -0.938617   -0.87319612 -1.08367914 -0.92737704 -1.00875674\n",
            " -1.18388718 -0.94460767 -0.79493406 -1.10411076 -0.94935726 -1.04108968\n",
            " -1.0941996  -0.98970989 -0.84986468 -0.81265806 -1.06534363 -0.6851033\n",
            " -0.9635216  -1.20646619 -0.88126217 -1.04334816 -0.72959039 -1.00764316\n",
            " -0.75712761 -0.97418526 -1.03227134 -1.0078293  -0.91265642 -0.96918581\n",
            " -0.92567642 -0.90200324 -0.91878931 -0.89311733 -0.8705964  -1.09840722\n",
            " -1.17968917 -1.0652337  -0.91963468 -1.23628829 -0.84042588 -0.85917183\n",
            " -0.84446101 -0.86443776 -1.08091347 -1.08394009 -1.09439727 -1.06611232\n",
            " -0.8660507  -1.18001801 -0.84394973 -0.87178236 -0.77853358 -0.96969813\n",
            " -1.05825376 -0.86879882 -0.65879677 -1.13942777 -0.974739   -0.82159259\n",
            " -0.80436454 -1.04980271 -1.01172669 -0.79791931 -1.05849084 -1.13352918\n",
            " -0.98227949 -1.0106966  -0.647795   -0.91981828 -1.00610688 -1.20150255\n",
            " -0.99159645 -1.25071434 -0.76943016 -0.86474332 -1.03312687 -0.89598061\n",
            " -0.94864767 -1.30872185 -1.17190733 -1.19585105 -0.74542851 -1.01841813\n",
            " -1.08048197 -0.93153175 -1.06576307 -0.85769032 -0.84899925 -0.87450526\n",
            " -0.78010614 -1.07132745 -0.70628713 -1.1219629  -1.09384419 -0.73982298\n",
            " -0.9889833  -1.09226551 -0.81683771 -0.79494325 -0.79514434 -1.06885747\n",
            " -1.07059979 -0.86813526 -0.98019466 -0.90791488 -0.90982423 -0.88403781\n",
            " -0.80677149 -0.98346968 -0.94803169 -0.87979752 -0.80770527 -1.02003199\n",
            " -0.98855047 -1.09886185 -1.19090822 -0.79990398 -1.18151608 -0.8002933\n",
            " -0.84012745 -1.01954097 -0.83236602 -1.06920515 -0.85190714 -1.0567797\n",
            " -0.73540721 -0.78684481 -0.92608704 -0.98137142 -1.11733508 -1.02910503\n",
            " -0.87963502 -0.85209359 -0.64825355 -0.79269286 -0.71887608 -1.16914231\n",
            " -0.84213702 -1.11041324 -1.04833894 -0.89953212 -1.23343785 -0.91224369\n",
            " -0.73734315 -0.84771722 -0.86635292 -0.89677413 -0.87620453 -0.99652915\n",
            " -0.91472071 -1.13359241 -0.88661457 -0.76489643 -1.04592919 -1.17008216\n",
            " -0.98729705 -1.22952595 -1.22328176 -0.82139067 -0.93554357 -0.97157184\n",
            " -0.90036456 -0.80215258 -0.87172601 -0.78493552 -1.17769698 -0.74223219\n",
            " -1.09723663 -0.91565796 -0.84630167 -0.82983671 -0.8263576  -0.77202736\n",
            " -0.89983261 -0.91138001 -0.83534406 -0.77261834 -1.04707623 -0.83052265\n",
            " -0.91265642 -0.95977252 -1.014001   -1.00249294 -0.84938508 -0.7542965\n",
            " -1.17698488 -1.12647352 -0.95634997 -0.85963482 -1.02384872 -1.0524106\n",
            " -0.98816185 -1.02202195 -0.89909327 -0.92760758 -0.74915088 -1.06037514\n",
            " -1.01489295 -0.76055972 -1.0123147  -0.88586186 -0.99489747 -0.98673424\n",
            " -1.17024297 -0.87824486 -1.030804   -0.82511493 -0.99683387 -1.09820648\n",
            " -1.19540499 -0.86219125 -0.74662583 -1.10066645 -0.88036522 -0.90853205\n",
            " -0.89803919 -0.87266713 -0.98969422 -1.00295238 -0.99145592 -0.92920848\n",
            " -0.95514219 -1.00640341 -0.95563077 -1.00284268 -0.93664127 -1.23753693\n",
            " -0.64497118 -0.89710295 -1.14843101 -0.95638914 -0.8384363  -0.76673129\n",
            " -0.87858145 -0.46721146 -1.2365531  -0.98846726 -1.29332515 -0.94851817\n",
            " -1.0569609  -0.94085073 -0.96489683 -0.88631328 -0.94973406 -0.9170986\n",
            " -1.30331783 -0.99579788 -1.02812956 -0.8630152  -0.86464896 -0.89259435\n",
            " -0.74800295 -0.97711935 -1.17598943 -0.90784095 -0.84857161 -0.68590221\n",
            " -0.97645835 -0.85607447 -0.66603893 -1.02085773 -1.0399945  -1.07374375\n",
            " -1.05204104 -0.88614602 -0.91930478 -0.93640558 -0.84630106 -0.84157595\n",
            " -0.91364794 -1.02353915 -0.93928376 -0.96613675 -0.9271681  -1.08966121\n",
            " -0.96806596 -0.71593603 -1.01375277 -1.33730905 -0.69349701 -0.82907881\n",
            " -0.88044935 -0.8320237  -1.0221441  -0.98078137 -0.98959664 -0.93802701\n",
            " -0.77288856 -1.01882564 -0.79412867 -0.75271426 -1.21687978 -1.10639676\n",
            " -0.79164896 -0.72970975 -0.68942902 -1.26308547 -0.86777872 -1.02724923\n",
            " -0.79697026 -0.88152798 -0.82859994 -1.00764057 -1.09340252 -1.09038663\n",
            " -0.8796238  -0.7924059  -0.85845251 -1.03497752 -0.94442952 -1.14919511\n",
            " -0.96448768 -1.0881812  -0.75798543 -0.92736598 -0.84826742 -1.19715347\n",
            " -0.89608016 -1.02240983 -0.92112773 -1.01927309 -1.1904818  -0.9089759\n",
            " -0.92190398 -0.7418784  -0.92978498 -0.97237907 -0.86491214 -0.93740484\n",
            " -1.00902457 -1.03714069 -0.86914467 -0.90213482 -0.9122586  -1.0520714\n",
            " -0.91066631 -0.88093257 -0.95006888 -0.97026126 -1.05304036 -0.96111821\n",
            " -1.28492075 -1.05865456 -0.79612058 -0.88466798 -0.94343397 -1.21378234\n",
            " -0.75757701 -0.82898963 -0.8717701  -1.1675981  -0.80375803 -0.67699294\n",
            " -0.69761071 -0.95061348 -1.06068094 -0.94198475 -1.05767181 -0.92792085\n",
            " -1.03940144 -1.36709114 -0.83771074 -0.9535273  -0.9297997  -1.07382408\n",
            " -1.01791562 -1.02794409 -0.93690656 -0.74387804 -0.98043454 -1.01108306\n",
            " -0.72854248 -1.21471356 -0.97486382 -0.85411108 -1.0045913  -1.15604708\n",
            " -0.9581377  -0.85421592 -0.94068399 -0.92905878 -0.80370172 -0.87218425\n",
            " -0.96294922 -0.99694154 -1.03649564 -1.06274239 -0.88603147 -1.13160176\n",
            " -0.88685184 -1.14553781 -0.94708598 -0.89522332 -0.9659752  -1.1336546\n",
            " -0.87839917 -1.03914983 -0.88936941 -1.02400875 -0.93760115 -0.71994654\n",
            " -0.71024713 -1.06399668 -1.027736   -1.16091968 -1.04445664 -0.98977717\n",
            " -1.06364408 -1.0394737  -1.11418985 -0.90519058 -1.06273215 -0.8639209\n",
            " -0.90637611 -0.74047906 -1.32658332 -0.97656434 -0.96587152 -0.86250132\n",
            " -0.87075094 -0.86713924 -0.93833727 -1.2136322  -0.71684203 -0.90637708\n",
            " -1.0073983  -1.00053909 -1.12872908 -0.89784292 -1.0578328  -0.92165283\n",
            " -0.96710505 -0.8616678  -1.03603953 -0.83376516 -0.9337302  -0.99672803\n",
            " -0.96370426 -0.81238681 -1.0282474  -0.99158941 -1.13207204 -1.08288426\n",
            " -0.80701235 -0.99293056 -0.93146266 -1.17681803 -0.89971302 -1.04474968\n",
            " -1.09917297 -1.10974648 -0.9622454  -1.16356005 -0.9549377  -1.08129362\n",
            " -0.91523898 -1.05067874 -0.99821353 -0.87484337 -1.02344894 -0.95399386\n",
            " -1.07563023 -1.08957764 -0.97064579 -1.01272508 -0.98882159 -1.21571704\n",
            " -0.95053844 -0.67500849 -1.01492396 -0.98893715 -0.92821081 -1.03970466\n",
            " -0.72104185 -0.89249264 -0.84062469 -1.16451825 -0.73522334 -0.99929847\n",
            " -0.84909166 -0.97166513 -1.00322215 -0.92081568 -0.69920219 -1.25539234\n",
            " -0.81386131 -1.23711912 -1.1335438  -0.85656128 -0.8639209  -0.79145445\n",
            " -1.19293525 -0.95057924 -0.86504867 -1.14008091 -0.84948209 -0.94840623\n",
            " -1.00826651 -0.78154243 -0.6769505  -0.92972456 -0.97281783 -0.83060085\n",
            " -1.16647521 -0.94609687 -0.83702359 -0.84074265 -0.94495202 -0.85105613\n",
            " -1.05327243 -1.06043478 -1.01482503 -1.01858392 -1.09115809 -0.95571911\n",
            " -1.07193512 -1.23063013 -0.92087543 -0.9391309  -1.02172495 -0.77888158\n",
            " -0.8402143  -1.03077167 -1.05409794 -1.00635871 -0.92863335 -1.05046279\n",
            " -1.037092   -0.76555778 -1.06538127 -1.10607777 -1.0681444  -0.84563015\n",
            " -0.77098581 -0.78345616 -0.93268644 -1.2463969  -1.09176104 -1.11502992\n",
            " -1.35305698 -1.03429129 -1.16671548 -1.06082901 -0.75727017 -0.89718735\n",
            " -1.2501688  -0.89239365 -0.97628508 -0.89334919 -1.09942812 -1.05785394\n",
            " -0.94003423 -1.04959012 -0.9850847  -1.16656299 -0.85444516 -1.03633844\n",
            " -0.96353032 -0.97838694 -0.9821617  -0.70405302 -0.94826621 -1.06163651\n",
            " -1.16596454 -0.94782986 -0.94754432 -0.97764239 -0.90102648 -1.09255038\n",
            " -0.98304217 -1.13996916 -1.0764079  -1.02609536 -1.06404782 -1.05618739\n",
            " -1.17147055 -0.81238968 -1.05183742 -0.7303337  -1.11839502 -0.87868442\n",
            " -0.90395889 -0.92681881 -1.08462821 -0.93190463 -0.86013009 -0.99036498\n",
            " -0.87586224 -0.81927864 -0.87818047 -0.97753947 -0.8909459  -1.10261567\n",
            " -1.26895604 -0.8451806  -0.82146329 -1.12268313 -0.85652986 -0.99529942\n",
            " -0.85721472 -0.93305603 -1.06146373 -1.02598845 -1.11351092 -0.90309438\n",
            " -0.90831265 -1.0431111  -1.01501889 -0.82997324 -1.11698791 -1.16409924\n",
            " -0.90292928 -1.13029696 -0.80390362 -1.02426626 -1.29333003]\n",
            "[0 0 0 0 0 0 0 0 0 0 0 0 0 0 0 0 0 0 0 0 0 0 0 0 0 0 0 0 0 0 0 0 0 0 0 0 0\n",
            " 0 0 0 0 0 0 0 0 0 0 0 0 0 0 0 0 0 0 0 0 0 0 0 0 0 0 0 0 0 0 0 0 0 0 0 0 0\n",
            " 0 0 0 0 0 0 0 0 0 0 0 0 0 0 0 0 0 0 0 0 0 0 0 0 0 0 0 0 0 0 0 0 0 0 0 0 0\n",
            " 0 0 0 0 0 0 0 0 0 0 0 0 0 0 0 0 0 0 0 0 0 0 0 0 0 0 0 0 0 0 0 0 0 0 0 0 0\n",
            " 0 0 0 0 0 0 0 0 0 0 0 0 0 0 0 0 0 0 0 0 0 0 0 0 0 0 0 0 0 0 0 0 0 0 0 0 0\n",
            " 0 0 0 0 0 0 0 0 0 0 0 0 0 0 0 0 0 0 0 0 0 0 0 0 0 0 0 0 0 0 0 0 0 0 0 0 0\n",
            " 0 0 0 0 0 0 0 0 0 0 0 0 0 0 0 0 0 0 0 0 0 0 0 0 0 0 0 0 0 0 0 0 0 0 0 0 0\n",
            " 0 0 0 0 0 0 0 0 0 0 0 0 0 0 0 0 0 0 0 0 0 0 0 0 0 0 0 0 0 0 0 0 0 0 0 0 0\n",
            " 0 0 0 0 0 0 0 0 0 0 0 0 0 0 0 0 0 0 0 0 0 0 0 0 0 0 0 0 0 0 0 0 0 0 0 0 0\n",
            " 0 0 0 0 0 0 0 0 0 0 0 0 0 0 0 0 0 0 0 0 0 0 0 0 0 0 0 0 0 0 0 0 0 0 0 0 0\n",
            " 0 0 0 0 0 0 0 0 0 0 0 0 0 0 0 0 0 0 0 0 0 0 0 0 0 0 0 0 0 0 0 0 0 0 0 0 0\n",
            " 0 0 0 0 0 0 0 0 0 0 0 0 0 0 0 0 0 0 0 0 0 0 0 0 0 0 0 0 0 0 0 0 0 0 0 0 0\n",
            " 0 0 0 0 0 0 0 0 0 0 0 0 0 0 0 0 0 0 0 0 0 0 0 0 0 0 0 0 0 0 0 0 0 0 0 0 0\n",
            " 0 0 0 0 0 0 0 0 0 0 0 0 0 0 0 0 0 0 0 0 0 0 0 0 0 0 0 0 0 0 0 0 0 0 0 0 0\n",
            " 0 0 0 0 0 0 0 0 0 0 0 0 0 0 0 0 0 0 0 0 0 0 0 0 0 0 0 0 0 0 0 0 0 0 0 0 0\n",
            " 0 0 0 0 0 0 0 0 0 0 0 0 0 0 0 0 0 0 0 0 0 0 0 0 0 0 0 0 0 0 0 0 0 0 0 0 0\n",
            " 0 0 0 0 0 0 0 0 0 0 0 0 0 0 0 0 0 0 0 0 0 0 0 0 0 0 0 0 0 0 0 0 0 0 0 0 0\n",
            " 0 0 0 0 0 0 0 0 0 0 0 0 0 0 0 0 0 0 0 0 0 0 0 0 0 0 0 0 0 0 0 0 0 0 0 0 0\n",
            " 0 0 0 0 0 0 0 0 0 0 0 0 0 0 0 0 0]\n"
          ]
        }
      ]
    },
    {
      "cell_type": "code",
      "source": [
        "#Implementing Grid Search for hyperparameter tuning\n",
        "\n",
        "iters = 2000\n",
        "def grid_search22(w,X,y):\n",
        "  alpha_val = [0.01 , 0.05 , 0.1 , 0.15 , 0.2 , 0.5]\n",
        "  lambda_val = [0.05 , 0.1 , 0.15 , 0.2 , 0.5 , 1]\n",
        "  max_w = w\n",
        "  max_accuracy = 0\n",
        "  for alpha in alpha_val:\n",
        "    for Lambda in lambda_val:\n",
        "      w_temp , J_temp = stochastic_gradient_descent(X0_train,Y0_train,w, alpha, n_epochs)\n",
        "      m = y.shape[0]\n",
        "      hypothesis = sigmoid(np.dot(X0_val,w_temp.T))\n",
        "      error = hypothesis - y\n",
        "      accuracy = 100 - (np.mean(np.abs(hypothesis - y))*100)\n",
        "      if max_accuracy < accuracy:\n",
        "        max_accuracy = accuracy\n",
        "        max_w = w_temp\n",
        "  return max_w , max_accuracy"
      ],
      "metadata": {
        "id": "a1XR9ODWbXF-"
      },
      "execution_count": null,
      "outputs": []
    },
    {
      "cell_type": "code",
      "source": [
        "final_w , final_accuracy22 = grid_search22(w,X2_val,Y2_val)\n",
        "#print(final_w)\n",
        "print(final_accuracy22)"
      ],
      "metadata": {
        "colab": {
          "base_uri": "https://localhost:8080/"
        },
        "outputId": "b26fd0e7-2997-47d9-b26c-31ef9ed4c194",
        "id": "K6LYj7NVbXF-"
      },
      "execution_count": null,
      "outputs": [
        {
          "output_type": "stream",
          "name": "stdout",
          "text": [
            "76.25204978393003\n"
          ]
        }
      ]
    },
    {
      "cell_type": "markdown",
      "source": [
        "4th class"
      ],
      "metadata": {
        "id": "tP_XgmYkcrkB"
      }
    },
    {
      "cell_type": "code",
      "source": [
        "alpha=0.5 ##learning rate\n",
        "iters=2000 ###iterations\n",
        "batch_w,J_his = batch_gradient_descent(X3_train,Y3_train,w,alpha,iters)\n",
        "plt.plot(range(iters),J_his)\n",
        "plt.show()"
      ],
      "metadata": {
        "colab": {
          "base_uri": "https://localhost:8080/",
          "height": 265
        },
        "outputId": "e19d5f5e-e06c-4d81-99af-c1786e5670cf",
        "id": "zdX9eGprcuGZ"
      },
      "execution_count": null,
      "outputs": [
        {
          "output_type": "display_data",
          "data": {
            "image/png": "[encoded data removed]",
            "text/plain": [
              "<Figure size 432x288 with 1 Axes>"
            ]
          },
          "metadata": {
            "needs_background": "light"
          }
        }
      ]
    },
    {
      "cell_type": "code",
      "source": [
        "z = np.dot(X3_test, batch_w.T)\n",
        "print(z.T)\n",
        "h = sigmoid(z)\n",
        "y_pred=h>0.5\n",
        "y_pred30=y_pred.astype(int)\n",
        "print(y_pred30.T)\n"
      ],
      "metadata": {
        "colab": {
          "base_uri": "https://localhost:8080/"
        },
        "id": "RxAJRM7K0t6V",
        "outputId": "bfacdc82-e3f4-4470-e6b1-51692d92d849"
      },
      "execution_count": null,
      "outputs": [
        {
          "output_type": "stream",
          "name": "stdout",
          "text": [
            "[-0.97105319 -0.56674545 -1.22028454 -0.79904274 -0.91280132 -1.29408098\n",
            " -0.44498686 -1.13016261 -1.32379163 -0.92314524 -1.27572459 -1.00306506\n",
            " -1.65221096 -0.95741856 -1.05704929 -1.08581719 -0.92054227 -0.58948741\n",
            " -1.12496444 -1.09929922 -0.94388326 -0.71246285 -1.34717504 -0.69874081\n",
            " -1.47162796 -1.85518081 -1.12535151 -1.34090593 -1.11075075 -1.50352519\n",
            " -1.16279096 -1.36988967 -1.01442035 -1.36163184 -1.2820262  -1.07649146\n",
            " -0.93835108 -1.00232418 -0.9981199  -1.28564738 -1.19027284 -1.13707238\n",
            " -1.41574517 -1.62313856 -0.9074018  -0.95508583 -1.19932987 -1.31796713\n",
            " -1.34320609 -1.61277665 -1.47925803 -0.88763036 -1.38559746 -1.125286\n",
            " -1.59574299 -1.46490629 -1.33012676 -0.88288548 -1.69397419 -1.4088091\n",
            " -1.4577492  -1.04144962 -1.05421568 -1.13410368 -1.37128268 -0.90138876\n",
            " -0.74808224 -1.16223015 -1.2547576  -1.49089225 -1.52003692 -1.4570548\n",
            " -1.39994487 -1.02435633 -0.47375398 -1.15496155 -1.23420213 -0.67421903\n",
            " -1.59151658 -0.9135219  -1.05609458 -0.8991721  -1.09594567 -0.86770359\n",
            " -1.32714107 -1.08823192 -1.22914841 -1.49769071 -0.52046886 -0.99842509\n",
            " -1.1116278  -1.09547657 -0.79225566 -1.10509602 -1.10926757 -1.24082102\n",
            " -1.13408889 -1.25314591 -1.10247796 -1.0829376  -0.93572857 -1.26305745\n",
            " -1.20309443 -0.91913966 -0.92518737 -1.44741073 -0.68880408 -0.93462965\n",
            " -1.01090652 -0.90872234 -1.48942665 -1.01663786 -1.08908627 -0.93913478\n",
            " -0.72652384 -1.32879912 -1.12600773 -0.9871931  -1.3883675  -1.23888447\n",
            " -0.9695227  -0.94736864 -0.8377861  -1.4340992  -1.68769459 -0.68718858\n",
            " -1.10736924 -1.41767557 -1.17649575 -0.9698115  -1.41622389 -0.95456789\n",
            " -1.22214555 -1.0512391  -0.43778828 -1.25004901 -1.27585916 -1.22746559\n",
            " -1.21250423 -1.38773148 -1.01375843 -0.91645044 -1.17154291 -0.77253502\n",
            " -1.81468049 -1.89349929 -1.37419438 -1.28019978 -0.75340284 -0.90094373\n",
            " -1.20140968 -0.96442692 -1.45186487 -0.60594974 -1.42272176 -0.6555952\n",
            " -0.99143862 -0.88645128 -0.75542848 -0.95510138 -1.34533601 -0.96227178\n",
            " -0.84463068 -1.12644171 -1.1973275  -1.17738544 -1.07054396 -1.51808763\n",
            " -1.51318743 -0.67692536 -1.20469743 -0.91422634 -1.2486698  -0.74474461\n",
            " -1.07859898 -1.1550806  -1.24961428 -1.2046071  -0.76073279 -1.64341578\n",
            " -1.33288857 -1.50921588 -1.66467593 -0.58191876 -1.58747127 -1.08821316\n",
            " -1.04740013 -1.25584727 -0.99237878 -1.13019025 -1.25712471 -1.46925192\n",
            " -0.78745393 -0.80894757 -0.85250022 -0.81553734 -1.20418826 -1.19747613\n",
            " -1.06726557 -1.18448323 -0.67179649 -0.90477903 -0.50215438 -1.4908324\n",
            " -0.66904082 -1.47979128 -1.39666894 -0.97239822 -1.79055355 -1.20627009\n",
            " -0.69713439 -0.89345421 -1.06307305 -1.41665517 -1.11238244 -1.1164502\n",
            " -1.14938759 -1.32473303 -1.00084985 -0.40580206 -1.32228928 -1.47188959\n",
            " -1.27543264 -1.49852967 -1.44385238 -1.0431337  -0.71969182 -0.99978711\n",
            " -0.89279695 -0.55688076 -1.25361491 -0.95181756 -1.77109367 -0.72034402\n",
            " -1.50562662 -0.9466028  -0.41430922 -0.99631173 -1.09561399 -0.69255946\n",
            " -1.26809457 -1.37952488 -0.82269118 -0.69353704 -1.46803977 -0.7716746\n",
            " -1.10926757 -1.20236945 -1.45470649 -1.24059153 -0.90873951 -0.85954305\n",
            " -1.37399571 -1.63241073 -0.92294625 -1.1317446  -1.62816975 -1.12528849\n",
            " -1.19232394 -1.33962502 -1.62159432 -1.02635013 -0.52179367 -1.39637491\n",
            " -1.31693126 -0.51807422 -0.8467908  -0.57567158 -1.22318221 -1.57780714\n",
            " -1.42426477 -1.02699083 -1.68164454 -1.03085395 -1.23380033 -1.51774121\n",
            " -0.96927011 -0.88304113 -0.51794389 -1.41343435 -0.88908254 -1.27785939\n",
            " -1.37565161 -0.68613296 -1.16279096 -0.96150972 -1.11951177 -1.03621375\n",
            " -1.23590907 -1.00496996 -1.35804503 -1.06445271 -1.1030034  -1.31399575\n",
            " -0.75401424 -0.82858071 -1.08129401 -1.40963504 -1.2039115  -0.7053565\n",
            " -1.0801342  -0.28377342 -1.29476005 -1.11668547 -1.64919173 -0.9173797\n",
            " -1.21557815 -1.44253242 -1.00774662 -1.32095387 -1.5878158  -0.92296027\n",
            " -1.69396048 -1.06760349 -0.82607168 -1.13642311 -0.97235159 -1.30791668\n",
            " -0.98449329 -0.94290382 -1.43967595 -1.17765445 -1.01703071 -1.01764614\n",
            " -1.02512377 -0.70689471 -0.15256783 -1.11358352 -1.4703007  -1.35471871\n",
            " -1.03703167 -0.86080129 -1.37000285 -1.01127098 -0.83565307 -0.54648588\n",
            " -0.78324862 -1.5128957  -1.05626237 -1.22624324 -0.98693111 -1.11287042\n",
            " -1.06518765 -0.19279805 -1.01498347 -2.20713585 -1.18534493 -0.86518988\n",
            " -0.68281334 -0.75163569 -1.05892905 -1.23822491 -1.33696506 -0.29126448\n",
            " -0.45600936 -1.33136724 -0.85608961 -1.26375144 -1.10621386 -1.40332759\n",
            " -0.68349533 -0.62821196 -0.25229869 -1.64447793 -1.20453098 -1.38006142\n",
            " -0.66125154 -0.76077912 -1.25335448 -0.98430238 -1.35268376 -0.96148505\n",
            " -1.08458582 -0.64163744 -0.99440349 -1.3360728  -1.03183491 -1.28496736\n",
            " -1.16260097 -1.34018594 -0.88584516 -0.86530575 -0.71577292 -1.792939\n",
            " -0.77977976 -1.21765374 -0.97926185 -1.39112442 -1.56111937 -0.9755219\n",
            " -1.14984684 -0.79262291 -1.22688566 -1.08518328 -0.74703577 -1.39756804\n",
            " -1.43083002 -1.09000856 -1.21328887 -1.50982406 -1.27638875 -1.37206261\n",
            " -1.03592511 -0.67576139 -0.9473077  -1.168251   -0.87064583 -1.14981758\n",
            " -1.11088899 -1.30888208 -0.61359725 -1.11836514 -1.25514335 -1.56239563\n",
            " -0.74157403 -0.87423435 -0.97013367 -1.68401999 -1.12218128 -0.43910669\n",
            " -0.57310292 -0.90071333 -0.96020866 -0.97074268 -1.41835868 -1.39784318\n",
            " -0.99666623 -1.2953665  -0.57749963 -0.75554744 -1.384274   -0.67706578\n",
            " -1.29331693 -1.13981715 -1.05583408 -0.64747903 -1.51056317 -1.00899627\n",
            " -0.65522522 -1.90068665 -1.19149361 -0.87360794 -1.06427754 -1.39685939\n",
            " -1.00517743 -0.80489217 -0.97309897 -1.38166787 -0.58502255 -0.9514587\n",
            " -1.22548084 -1.43594789 -1.51885568 -1.45872011 -1.39878006 -1.40795247\n",
            " -1.09003524 -1.20135748 -1.03428299 -1.33678226 -1.09237443 -1.55593551\n",
            " -0.87520413 -0.87945936 -1.17702221 -1.25805021 -1.23753145 -0.72646667\n",
            " -0.93507934 -1.40489514 -1.09392559 -1.4379338  -1.29152801 -0.95054612\n",
            " -1.21161391 -1.34532122 -0.88151095 -0.80828223 -1.13388887 -0.92470635\n",
            " -1.26096659 -0.83631709 -1.83362235 -1.29486694 -0.64739828 -1.27433101\n",
            " -0.97436144 -1.20708595 -1.00515212 -1.14949171 -0.85558398 -1.20633105\n",
            " -1.47303946 -1.09707117 -0.89694615 -1.30244045 -1.18564453 -0.88722845\n",
            " -0.95086019 -1.00433766 -1.4342555  -0.91459865 -1.40373533 -1.19394748\n",
            " -1.10307476 -1.05867394 -1.18020353 -1.5453362  -1.38493236 -1.57678925\n",
            " -0.90336336 -1.57923316 -1.28693135 -1.81245026 -0.71134144 -1.40782222\n",
            " -1.18856122 -1.30514987 -0.95193874 -1.38865522 -1.19784279 -1.48176662\n",
            " -1.17324259 -1.33018324 -1.24328174 -1.10848453 -0.96766428 -0.84143674\n",
            " -1.43530387 -1.7267105  -0.90956678 -1.25397469 -1.02088153 -1.36503226\n",
            " -1.18504815 -0.85257337 -1.25205154 -0.69077874 -1.36467785 -1.6509565\n",
            " -0.85781662 -0.87758884 -1.24760053 -1.31393183 -0.48397432 -1.04920202\n",
            " -1.05853973 -1.04826619 -1.29542641 -1.24545001 -0.3265233  -1.0679137\n",
            " -0.93081607 -1.39985379 -1.41326954 -0.75726431 -0.92470635 -0.5467615\n",
            " -1.68788301 -1.53584122 -0.94422239 -1.55342703 -0.62880445 -0.75048561\n",
            " -1.24313858 -1.27996168 -0.4558911  -0.90241328 -1.12365153 -1.188443\n",
            " -1.164278   -1.01513902 -0.80071713 -0.62239045 -1.50791483 -0.92757376\n",
            " -0.98400417 -1.2011062  -1.60053036 -1.41660355 -1.45800372 -1.30425974\n",
            " -1.46344745 -2.17472942 -0.61945664 -1.01870625 -1.04301622 -0.9721452\n",
            " -0.92707251 -1.47791904 -1.5881108  -1.14823717 -0.64123882 -1.0084236\n",
            " -1.04492678 -0.80413833 -1.35965234 -1.08309508 -1.19299762 -0.65275513\n",
            " -0.71453543 -0.98889802 -1.02395758 -1.73262158 -1.23350925 -1.56558082\n",
            " -1.64462146 -1.02485195 -1.94694032 -1.08905342 -0.76485628 -0.66604262\n",
            " -1.73471553 -0.99183668 -1.12696469 -1.22377273 -1.68693828 -1.12154404\n",
            " -1.05732075 -1.52952611 -1.17034985 -1.79492142 -0.66401545 -1.55609478\n",
            " -1.45360803 -0.73066484 -1.0955927  -0.93732763 -1.31032216 -1.36518866\n",
            " -1.30763956 -1.08068981 -1.15187473 -1.18598333 -0.77493007 -1.0995912\n",
            " -1.2093927  -1.36130102 -1.20932662 -1.0491705  -1.26894866 -1.19925475\n",
            " -0.86053938 -0.8457149  -1.29856064 -0.86457214 -0.86587415 -1.01733757\n",
            " -1.07390867 -0.90907322 -1.34545189 -1.0870918  -1.38713012 -0.86696075\n",
            " -1.13825498 -0.90855214 -1.18419109 -0.80124398 -1.16358538 -1.28778866\n",
            " -1.89063886 -0.92889168 -0.95675564 -1.70306537 -0.86385221 -1.47137919\n",
            " -0.96503981 -1.33449543 -1.22807915 -1.36868147 -1.22549881 -0.71738663\n",
            " -1.34130141 -1.71176281 -1.28820025 -1.18961063 -1.41255123 -1.12755337\n",
            " -1.32871071 -1.38921476 -1.28659953 -1.4198676  -1.39182954]\n",
            "[0 0 0 0 0 0 0 0 0 0 0 0 0 0 0 0 0 0 0 0 0 0 0 0 0 0 0 0 0 0 0 0 0 0 0 0 0\n",
            " 0 0 0 0 0 0 0 0 0 0 0 0 0 0 0 0 0 0 0 0 0 0 0 0 0 0 0 0 0 0 0 0 0 0 0 0 0\n",
            " 0 0 0 0 0 0 0 0 0 0 0 0 0 0 0 0 0 0 0 0 0 0 0 0 0 0 0 0 0 0 0 0 0 0 0 0 0\n",
            " 0 0 0 0 0 0 0 0 0 0 0 0 0 0 0 0 0 0 0 0 0 0 0 0 0 0 0 0 0 0 0 0 0 0 0 0 0\n",
            " 0 0 0 0 0 0 0 0 0 0 0 0 0 0 0 0 0 0 0 0 0 0 0 0 0 0 0 0 0 0 0 0 0 0 0 0 0\n",
            " 0 0 0 0 0 0 0 0 0 0 0 0 0 0 0 0 0 0 0 0 0 0 0 0 0 0 0 0 0 0 0 0 0 0 0 0 0\n",
            " 0 0 0 0 0 0 0 0 0 0 0 0 0 0 0 0 0 0 0 0 0 0 0 0 0 0 0 0 0 0 0 0 0 0 0 0 0\n",
            " 0 0 0 0 0 0 0 0 0 0 0 0 0 0 0 0 0 0 0 0 0 0 0 0 0 0 0 0 0 0 0 0 0 0 0 0 0\n",
            " 0 0 0 0 0 0 0 0 0 0 0 0 0 0 0 0 0 0 0 0 0 0 0 0 0 0 0 0 0 0 0 0 0 0 0 0 0\n",
            " 0 0 0 0 0 0 0 0 0 0 0 0 0 0 0 0 0 0 0 0 0 0 0 0 0 0 0 0 0 0 0 0 0 0 0 0 0\n",
            " 0 0 0 0 0 0 0 0 0 0 0 0 0 0 0 0 0 0 0 0 0 0 0 0 0 0 0 0 0 0 0 0 0 0 0 0 0\n",
            " 0 0 0 0 0 0 0 0 0 0 0 0 0 0 0 0 0 0 0 0 0 0 0 0 0 0 0 0 0 0 0 0 0 0 0 0 0\n",
            " 0 0 0 0 0 0 0 0 0 0 0 0 0 0 0 0 0 0 0 0 0 0 0 0 0 0 0 0 0 0 0 0 0 0 0 0 0\n",
            " 0 0 0 0 0 0 0 0 0 0 0 0 0 0 0 0 0 0 0 0 0 0 0 0 0 0 0 0 0 0 0 0 0 0 0 0 0\n",
            " 0 0 0 0 0 0 0 0 0 0 0 0 0 0 0 0 0 0 0 0 0 0 0 0 0 0 0 0 0 0 0 0 0 0 0 0 0\n",
            " 0 0 0 0 0 0 0 0 0 0 0 0 0 0 0 0 0 0 0 0 0 0 0 0 0 0 0 0 0 0 0 0 0 0 0 0 0\n",
            " 0 0 0 0 0 0 0 0 0 0 0 0 0 0 0 0 0 0 0 0 0 0 0 0 0 0 0 0 0 0 0 0 0 0 0 0 0\n",
            " 0 0 0 0 0 0 0 0 0 0 0 0 0 0 0 0 0 0 0 0 0 0 0 0 0 0 0 0 0 0 0 0 0 0 0 0 0\n",
            " 0 0 0 0 0 0 0 0 0 0 0 0 0 0 0 0 0]\n"
          ]
        }
      ]
    },
    {
      "cell_type": "code",
      "source": [
        "#Implementing Grid Search for hyperparameter tuning\n",
        "\n",
        "iters = 2000\n",
        "def grid_search30(w,X,y):\n",
        "  alpha_val = [0.01 , 0.05 , 0.1 , 0.15 , 0.2 , 0.5]\n",
        "  lambda_val = [0.05 , 0.1 , 0.15 , 0.2 , 0.5 , 1]\n",
        "  max_w = w\n",
        "  max_accuracy = 0\n",
        "  for alpha in alpha_val:\n",
        "    for Lambda in lambda_val:\n",
        "      w_temp , J_temp = batch_gradient_descent(X,y,w,alpha,iters)\n",
        "      m = y.shape[0]\n",
        "      hypothesis = sigmoid(np.dot(X0_val,w_temp.T))\n",
        "      error = hypothesis - y\n",
        "      accuracy = 100 - (np.mean(np.abs(hypothesis - y))*100)\n",
        "      if max_accuracy < accuracy:\n",
        "        max_accuracy = accuracy\n",
        "        max_w = w_temp\n",
        "  return max_w , max_accuracy\n"
      ],
      "metadata": {
        "id": "0J_X43iicuGZ"
      },
      "execution_count": null,
      "outputs": []
    },
    {
      "cell_type": "code",
      "source": [
        "final_w , final_accuracy30 = grid_search30(w,X3_val,Y3_val)\n",
        "#print(final_w)\n",
        "print(final_accuracy30)"
      ],
      "metadata": {
        "colab": {
          "base_uri": "https://localhost:8080/"
        },
        "outputId": "0736ffc8-342a-4109-bb44-e7d2be5e440f",
        "id": "8nQtpbZHcuGZ"
      },
      "execution_count": null,
      "outputs": [
        {
          "output_type": "stream",
          "name": "stdout",
          "text": [
            "67.56499157287459\n"
          ]
        }
      ]
    },
    {
      "cell_type": "code",
      "source": [
        "alpha=0.2\n",
        "iters=2000\n",
        "batch_size=5\n",
        "mini_batch_w,J_mini_batch = MB_gradient_descent(X3_train,Y3_train,w,alpha,iters, batch_size)\n",
        "plt.plot(range(iters),J_mini_batch)\n",
        "plt.show()\n"
      ],
      "metadata": {
        "colab": {
          "base_uri": "https://localhost:8080/",
          "height": 265
        },
        "outputId": "3cc3f24f-8be5-4029-e28f-abeca028e3b8",
        "id": "q0PSdUx5cuGa"
      },
      "execution_count": null,
      "outputs": [
        {
          "output_type": "display_data",
          "data": {
            "image/png": "[encoded data removed]",
            "text/plain": [
              "<Figure size 432x288 with 1 Axes>"
            ]
          },
          "metadata": {
            "needs_background": "light"
          }
        }
      ]
    },
    {
      "cell_type": "code",
      "source": [
        "z = np.dot(X3_test, mini_batch_w.T)\n",
        "print(z.T)\n",
        "h = sigmoid(z)\n",
        "y_pred=h>0.5\n",
        "y_pred31=y_pred.astype(int)\n",
        "print(y_pred31.T)\n"
      ],
      "metadata": {
        "colab": {
          "base_uri": "https://localhost:8080/"
        },
        "id": "v2tg13LQ0xuU",
        "outputId": "e3e99af8-acc7-4988-f178-59806a2169a7"
      },
      "execution_count": null,
      "outputs": [
        {
          "output_type": "stream",
          "name": "stdout",
          "text": [
            "[-1.99932397 -1.5040168  -2.15253967 -1.85508533 -1.75227805 -2.06351191\n",
            " -1.5084954  -1.95493545 -2.0257586  -1.84582477 -2.43802375 -2.02040037\n",
            " -2.48119549 -1.86673725 -2.02014583 -1.95300689 -1.99892882 -1.52459728\n",
            " -2.24337551 -2.03924568 -1.83230652 -1.90421034 -1.88421209 -1.65195821\n",
            " -2.38881459 -2.28842982 -1.66171736 -2.13519275 -1.80742571 -2.41096802\n",
            " -2.11086859 -2.18717972 -1.92909712 -2.24533879 -2.2076027  -2.11141655\n",
            " -1.63370077 -2.10531368 -1.85396683 -1.98753753 -2.16524974 -1.87951003\n",
            " -2.07285443 -2.42897979 -1.69930201 -1.73013972 -1.8374958  -2.13027833\n",
            " -2.20911296 -2.45682316 -2.44297326 -1.79304728 -2.30861453 -1.89637572\n",
            " -2.52237543 -2.22713015 -2.39425356 -1.82516496 -2.2977119  -2.3412702\n",
            " -2.27764529 -1.73003691 -1.80491506 -2.11419009 -1.94450842 -1.83514108\n",
            " -1.66870798 -1.95933876 -1.73790299 -2.31179224 -1.98858264 -2.38740359\n",
            " -2.15728396 -2.00571549 -1.64227687 -2.1231119  -2.12630585 -1.77915718\n",
            " -2.20930472 -1.96788631 -1.86995504 -1.62983673 -1.91467101 -1.68289029\n",
            " -1.84359801 -2.12032747 -1.77864327 -2.19776225 -1.43962364 -1.91121995\n",
            " -2.02313781 -1.81246561 -1.72760368 -2.11299866 -1.70968948 -1.91772157\n",
            " -1.87695854 -1.94751546 -1.76595158 -1.90547976 -2.01606469 -2.24938532\n",
            " -2.21675499 -1.78811153 -1.68826822 -2.41000636 -1.70974802 -1.89967618\n",
            " -1.81164366 -1.86192327 -2.33948823 -2.13299194 -2.27336981 -2.03322134\n",
            " -1.60227002 -2.35352012 -1.77311296 -1.63695759 -2.00625622 -1.97706402\n",
            " -2.0344823  -1.81222742 -1.67375834 -2.29154687 -2.31662706 -1.40832896\n",
            " -1.82350838 -2.13657239 -2.03708383 -1.7477951  -2.37636842 -1.82702792\n",
            " -2.2546116  -1.97579427 -1.22499097 -2.02464445 -2.22184175 -2.19826813\n",
            " -2.14753656 -2.42092565 -1.71162654 -1.95575308 -1.92692484 -1.80230505\n",
            " -2.20498793 -2.69027296 -2.24772541 -2.3505129  -1.77479058 -2.03971473\n",
            " -2.25756542 -1.98431379 -2.08566667 -1.68544996 -2.21676296 -1.81089096\n",
            " -1.7710384  -2.06548409 -1.58511338 -1.82230714 -2.37907159 -1.79950492\n",
            " -1.78937929 -2.1874407  -1.98987639 -2.07229621 -2.00023723 -2.25715433\n",
            " -2.29991826 -1.66632186 -2.1067189  -1.72871819 -1.79048283 -1.55733054\n",
            " -1.98980379 -1.84866162 -1.9926928  -1.79747877 -1.72900047 -2.32186567\n",
            " -2.28505246 -2.1121485  -2.63080644 -1.46804301 -2.3853632  -1.71660799\n",
            " -1.89779214 -2.19716626 -2.0493039  -2.2258244  -2.1012306  -2.27366943\n",
            " -1.60220847 -1.62698132 -1.83160319 -2.01628968 -2.12837958 -2.08263096\n",
            " -1.83964204 -1.86588612 -1.48510396 -1.71272379 -1.60977036 -2.47463252\n",
            " -1.82641429 -2.221438   -2.19605326 -1.93156375 -2.56013683 -1.93219243\n",
            " -1.46481981 -1.73812339 -2.00538481 -2.25601211 -1.79644157 -2.22033047\n",
            " -1.88520135 -2.14676713 -1.87820817 -1.37529736 -2.08020567 -2.46259708\n",
            " -2.15526434 -2.30305843 -2.58579057 -1.75308212 -1.78278593 -1.80140246\n",
            " -1.85648958 -1.87316172 -1.97207354 -1.65412599 -2.66066128 -1.80764606\n",
            " -2.39049853 -2.05380716 -1.69094552 -1.76799474 -2.06219329 -1.49330326\n",
            " -2.23473055 -2.32743357 -1.68341883 -1.57914696 -2.41249791 -1.77645692\n",
            " -1.70968948 -2.10619735 -2.07401036 -2.01916854 -2.01530203 -1.79858151\n",
            " -2.32723679 -2.59957786 -2.06223492 -1.96123882 -2.44501298 -1.95292451\n",
            " -2.12539974 -2.19499801 -2.16284643 -1.97483882 -1.56234808 -2.31204541\n",
            " -2.03550923 -1.3793482  -1.93046702 -1.71024883 -2.02057057 -2.37005717\n",
            " -2.18997829 -1.99697026 -2.33497479 -1.90840102 -2.18069434 -2.30051559\n",
            " -2.1207669  -1.96572752 -1.56532515 -2.13631128 -1.80962295 -1.96213121\n",
            " -2.17889445 -1.80507106 -2.11086859 -1.87735477 -2.07200844 -1.95291012\n",
            " -2.02793946 -2.01148    -2.14841898 -1.89525521 -1.79831645 -2.35001966\n",
            " -1.66884342 -1.87582307 -2.01571666 -2.08190757 -1.92254538 -1.6707908\n",
            " -1.90980494 -1.37416524 -2.22144921 -2.07617969 -2.33643085 -1.98858674\n",
            " -2.11042328 -2.14776452 -2.03029592 -1.92766225 -2.25648517 -1.98531478\n",
            " -2.48179439 -1.94383725 -1.98053645 -2.07620581 -1.93074558 -1.95061482\n",
            " -1.67604078 -1.86286748 -2.31815277 -1.98013822 -1.97956998 -1.60762427\n",
            " -1.73047736 -1.82110673 -1.39820102 -1.92823676 -2.19993878 -2.29922636\n",
            " -1.98867876 -1.64582088 -2.07700582 -1.87201382 -1.733328   -1.39372379\n",
            " -1.92886644 -2.07525826 -1.758257   -2.1510906  -2.23637584 -2.11626644\n",
            " -2.06145608 -1.25965235 -1.75384393 -2.55354936 -1.77695488 -1.71639642\n",
            " -1.81900777 -1.76691086 -2.156228   -1.97848788 -1.9445383  -1.29423279\n",
            " -1.42264992 -2.01210297 -1.74689315 -1.89368325 -2.16556653 -2.32678042\n",
            " -1.69689732 -1.58315145 -1.46094176 -2.66487525 -1.80197767 -2.17146444\n",
            " -1.5964285  -1.71038265 -2.0079751  -1.92753897 -2.19750226 -2.19993775\n",
            " -1.97671665 -1.5798022  -1.80719172 -2.09965352 -1.91119755 -1.98263725\n",
            " -2.00408747 -2.23537605 -1.61429676 -1.79745208 -1.62052361 -2.43032217\n",
            " -1.7032363  -2.0400908  -1.81760588 -2.23466895 -2.36577304 -2.05683203\n",
            " -1.96561295 -1.80599573 -1.79189898 -1.93360137 -1.73708033 -1.95980878\n",
            " -2.25195872 -2.15417121 -2.16342699 -2.0722557  -2.17961564 -2.25951824\n",
            " -1.89097226 -1.78283888 -2.00691849 -1.98531758 -2.04942465 -2.13329084\n",
            " -2.23310368 -2.20610245 -1.83612933 -2.0375374  -2.04793089 -2.56448514\n",
            " -1.49884186 -1.79486823 -2.09893736 -2.63631325 -1.85535221 -1.31834375\n",
            " -1.55170706 -1.90896427 -1.93398036 -1.927597   -2.22340293 -2.08973235\n",
            " -1.89965503 -2.46543169 -1.43922559 -1.71176867 -1.96593104 -1.88089431\n",
            " -1.99427524 -1.91735584 -2.05467579 -1.58373477 -2.20194157 -2.07036702\n",
            " -1.63982923 -2.75686737 -2.01081526 -1.83303967 -1.92152347 -2.34268854\n",
            " -1.9783892  -1.62126993 -1.78284633 -1.98256074 -1.52323094 -1.86880329\n",
            " -2.03234288 -2.20398851 -2.2199029  -2.39934776 -2.17879935 -2.3073798\n",
            " -1.85028464 -2.26752906 -1.97629226 -2.17778018 -1.95926602 -2.27855222\n",
            " -1.64690158 -2.007702   -2.03533892 -2.13785995 -2.06334221 -1.58044714\n",
            " -1.8385013  -2.30115488 -2.05170874 -2.24767586 -2.12397799 -1.91533129\n",
            " -2.2321407  -2.06162319 -2.11387736 -1.65455261 -2.08945783 -1.96859021\n",
            " -2.19038725 -1.71969908 -2.80346302 -2.15125734 -2.082321   -1.99612078\n",
            " -1.83102732 -2.00967113 -2.13846816 -2.03707349 -1.71965393 -2.00348924\n",
            " -2.0304223  -2.24738695 -1.76312735 -1.90671116 -2.14743558 -1.77903748\n",
            " -2.07690023 -1.94314603 -2.25013544 -1.56585661 -1.92682712 -2.20546644\n",
            " -2.0433508  -1.84874722 -1.89845237 -2.433088   -2.37335705 -2.57416133\n",
            " -1.83269732 -2.48508935 -1.99860718 -2.72009977 -1.78792834 -2.27506799\n",
            " -2.18644247 -2.31923573 -1.72976203 -2.42204106 -2.07207113 -2.33131373\n",
            " -2.00644875 -2.32475611 -1.98787931 -1.84175895 -2.05360887 -2.05479886\n",
            " -2.23239293 -2.55114778 -2.05475284 -1.9245279  -1.95096443 -2.14525206\n",
            " -2.08835554 -1.82646259 -2.00248909 -1.81827744 -1.97370201 -2.20687798\n",
            " -1.81032299 -1.85060546 -1.90686001 -2.26335612 -1.45865273 -1.79995385\n",
            " -1.95672502 -1.93485806 -2.10801098 -2.04525802 -1.52455585 -2.28811009\n",
            " -1.95964624 -2.40949401 -2.28642737 -1.67129693 -1.96859021 -1.55062905\n",
            " -2.48500292 -2.1195095  -1.61490502 -2.49687324 -1.71866044 -1.66105961\n",
            " -1.88977305 -1.87018246 -1.59778958 -1.69402764 -2.03003536 -1.89417525\n",
            " -2.13913333 -1.8624421  -1.67712531 -1.71132945 -2.19857469 -1.70517963\n",
            " -1.94056114 -2.35998026 -2.32403989 -2.37285973 -2.1019579  -1.98639238\n",
            " -2.1679549  -2.89025418 -1.44647114 -1.81861115 -1.95788472 -1.77428616\n",
            " -1.83883749 -2.15272422 -2.4574827  -2.32311139 -1.45204893 -2.01199612\n",
            " -1.97855769 -1.77547633 -2.06154091 -2.07745509 -2.05109312 -1.48351883\n",
            " -2.04044074 -1.91388554 -1.95485349 -2.5208131  -1.97240915 -2.2225502\n",
            " -2.51663395 -1.80700829 -2.2341992  -2.18647519 -1.63511141 -1.68403979\n",
            " -2.55994552 -1.87391663 -1.9090274  -1.92439843 -2.455669   -2.11985604\n",
            " -1.85505813 -2.25749942 -1.8965996  -2.45635383 -1.58373643 -2.43114185\n",
            " -2.20148334 -1.80403602 -2.0488872  -1.61793919 -2.07973399 -2.44362038\n",
            " -2.23842387 -2.14327963 -1.89037163 -2.01438064 -1.63068518 -2.25042589\n",
            " -2.01385217 -2.2492519  -2.26758398 -1.98605732 -2.41979986 -2.01008169\n",
            " -2.23756436 -1.53501899 -2.05811923 -1.79916906 -1.92687259 -1.64511655\n",
            " -2.15722782 -1.73231086 -2.24512368 -1.91703036 -1.99109864 -1.93063937\n",
            " -1.86463746 -1.70928632 -1.97715055 -1.79011463 -2.00931911 -2.1910285\n",
            " -2.60196706 -1.87175372 -1.67262731 -2.26105792 -1.79964794 -2.20410078\n",
            " -1.69495952 -1.95046929 -2.03150201 -2.18446878 -2.1062159  -1.7901631\n",
            " -2.18587671 -2.64078237 -2.00637326 -1.96714381 -2.32950146 -2.01028888\n",
            " -2.14901212 -2.24710353 -2.11741325 -2.08630064 -2.35158646]\n",
            "[0 0 0 0 0 0 0 0 0 0 0 0 0 0 0 0 0 0 0 0 0 0 0 0 0 0 0 0 0 0 0 0 0 0 0 0 0\n",
            " 0 0 0 0 0 0 0 0 0 0 0 0 0 0 0 0 0 0 0 0 0 0 0 0 0 0 0 0 0 0 0 0 0 0 0 0 0\n",
            " 0 0 0 0 0 0 0 0 0 0 0 0 0 0 0 0 0 0 0 0 0 0 0 0 0 0 0 0 0 0 0 0 0 0 0 0 0\n",
            " 0 0 0 0 0 0 0 0 0 0 0 0 0 0 0 0 0 0 0 0 0 0 0 0 0 0 0 0 0 0 0 0 0 0 0 0 0\n",
            " 0 0 0 0 0 0 0 0 0 0 0 0 0 0 0 0 0 0 0 0 0 0 0 0 0 0 0 0 0 0 0 0 0 0 0 0 0\n",
            " 0 0 0 0 0 0 0 0 0 0 0 0 0 0 0 0 0 0 0 0 0 0 0 0 0 0 0 0 0 0 0 0 0 0 0 0 0\n",
            " 0 0 0 0 0 0 0 0 0 0 0 0 0 0 0 0 0 0 0 0 0 0 0 0 0 0 0 0 0 0 0 0 0 0 0 0 0\n",
            " 0 0 0 0 0 0 0 0 0 0 0 0 0 0 0 0 0 0 0 0 0 0 0 0 0 0 0 0 0 0 0 0 0 0 0 0 0\n",
            " 0 0 0 0 0 0 0 0 0 0 0 0 0 0 0 0 0 0 0 0 0 0 0 0 0 0 0 0 0 0 0 0 0 0 0 0 0\n",
            " 0 0 0 0 0 0 0 0 0 0 0 0 0 0 0 0 0 0 0 0 0 0 0 0 0 0 0 0 0 0 0 0 0 0 0 0 0\n",
            " 0 0 0 0 0 0 0 0 0 0 0 0 0 0 0 0 0 0 0 0 0 0 0 0 0 0 0 0 0 0 0 0 0 0 0 0 0\n",
            " 0 0 0 0 0 0 0 0 0 0 0 0 0 0 0 0 0 0 0 0 0 0 0 0 0 0 0 0 0 0 0 0 0 0 0 0 0\n",
            " 0 0 0 0 0 0 0 0 0 0 0 0 0 0 0 0 0 0 0 0 0 0 0 0 0 0 0 0 0 0 0 0 0 0 0 0 0\n",
            " 0 0 0 0 0 0 0 0 0 0 0 0 0 0 0 0 0 0 0 0 0 0 0 0 0 0 0 0 0 0 0 0 0 0 0 0 0\n",
            " 0 0 0 0 0 0 0 0 0 0 0 0 0 0 0 0 0 0 0 0 0 0 0 0 0 0 0 0 0 0 0 0 0 0 0 0 0\n",
            " 0 0 0 0 0 0 0 0 0 0 0 0 0 0 0 0 0 0 0 0 0 0 0 0 0 0 0 0 0 0 0 0 0 0 0 0 0\n",
            " 0 0 0 0 0 0 0 0 0 0 0 0 0 0 0 0 0 0 0 0 0 0 0 0 0 0 0 0 0 0 0 0 0 0 0 0 0\n",
            " 0 0 0 0 0 0 0 0 0 0 0 0 0 0 0 0 0 0 0 0 0 0 0 0 0 0 0 0 0 0 0 0 0 0 0 0 0\n",
            " 0 0 0 0 0 0 0 0 0 0 0 0 0 0 0 0 0]\n"
          ]
        }
      ]
    },
    {
      "cell_type": "code",
      "source": [
        "#Implementing Grid Search for hyperparameter tuning\n",
        "\n",
        "iters = 2000\n",
        "def grid_search31(w,X,y):\n",
        "  alpha_val = [0.01 , 0.05 , 0.1 , 0.15 , 0.2 , 0.5]\n",
        "  lambda_val = [0.05 , 0.1 , 0.15 , 0.2 , 0.5 , 1]\n",
        "  max_w = w\n",
        "  max_accuracy = 0\n",
        "  for alpha in alpha_val:\n",
        "    for Lambda in lambda_val:\n",
        "      w_temp , J_temp = MB_gradient_descent(X,y,w,alpha,iters, batch_size)\n",
        "      m = y.shape[0]\n",
        "      hypothesis = sigmoid(np.dot(X0_val,w_temp.T))\n",
        "      error = hypothesis - y\n",
        "      accuracy = 100 - (np.mean(np.abs(hypothesis - y))*100)\n",
        "      if max_accuracy < accuracy:\n",
        "        max_accuracy = accuracy\n",
        "        max_w = w_temp\n",
        "  return max_w , max_accuracy"
      ],
      "metadata": {
        "id": "ntMkZ_V-cuGa"
      },
      "execution_count": null,
      "outputs": []
    },
    {
      "cell_type": "code",
      "source": [
        "final_w , final_accuracy31 = grid_search31(w,X3_val,Y3_val)\n",
        "#print(final_w)\n",
        "print(final_accuracy31)"
      ],
      "metadata": {
        "colab": {
          "base_uri": "https://localhost:8080/"
        },
        "outputId": "a94821eb-ee9d-4b67-8045-b67722fdee84",
        "id": "Hm4KpOkScuGa"
      },
      "execution_count": null,
      "outputs": [
        {
          "output_type": "stream",
          "name": "stdout",
          "text": [
            "76.08902258621174\n"
          ]
        }
      ]
    },
    {
      "cell_type": "code",
      "source": [
        "n_epochs=2000\n",
        "alpha=0.02\n",
        "w_n,J_sgd = stochastic_gradient_descent(X3_train,Y3_train,w, alpha, n_epochs)\n",
        "plt.plot(range(n_epochs),J_sgd)\n",
        "plt.show()\n"
      ],
      "metadata": {
        "colab": {
          "base_uri": "https://localhost:8080/",
          "height": 265
        },
        "outputId": "1facc331-171e-4436-fd96-967fc27c1a77",
        "id": "cVPC41JxcuGa"
      },
      "execution_count": null,
      "outputs": [
        {
          "output_type": "display_data",
          "data": {
            "image/png": "[encoded data removed]",
            "text/plain": [
              "<Figure size 432x288 with 1 Axes>"
            ]
          },
          "metadata": {
            "needs_background": "light"
          }
        }
      ]
    },
    {
      "cell_type": "code",
      "source": [
        "z = np.dot(X3_test, w_n.T)\n",
        "print(z.T)\n",
        "h = sigmoid(z)\n",
        "y_pred=h>0.5\n",
        "y_pred32=y_pred.astype(int)\n",
        "print(y_pred32.T)\n"
      ],
      "metadata": {
        "colab": {
          "base_uri": "https://localhost:8080/"
        },
        "id": "CEstjYyv017l",
        "outputId": "ca9e36d5-2be4-4264-dcb1-b3fb87d08487"
      },
      "execution_count": null,
      "outputs": [
        {
          "output_type": "stream",
          "name": "stdout",
          "text": [
            "[-1.03501988 -0.59432522 -1.16585484 -1.05578706 -0.8202109  -1.1080791\n",
            " -0.66225671 -0.95152435 -0.8076464  -0.82259861 -1.17331359 -0.91835808\n",
            " -1.09913504 -0.95543542 -0.87509259 -0.85889337 -0.97014711 -0.80342551\n",
            " -1.18069089 -0.95308444 -0.98905065 -0.7573183  -0.84132272 -0.90853523\n",
            " -0.92437626 -1.16421523 -0.55829489 -0.98023309 -0.90695773 -0.99539635\n",
            " -0.98969422 -1.14837123 -0.79100072 -1.03192895 -0.96212502 -1.13435525\n",
            " -0.78605534 -0.77588693 -0.98825522 -0.9522373  -0.97934325 -0.93234204\n",
            " -1.02348985 -1.07630896 -0.93339626 -0.96467072 -0.93788843 -0.96719024\n",
            " -1.13699944 -1.27754864 -1.2507157  -0.94806574 -1.04577736 -0.9596432\n",
            " -1.18571796 -1.01238983 -1.27329214 -0.8608226  -0.99628881 -1.10035753\n",
            " -1.18813333 -0.8085621  -0.84153192 -0.91869385 -0.78820478 -0.84969776\n",
            " -0.80261938 -0.938617   -0.87319612 -1.08367914 -0.92737704 -1.00875674\n",
            " -1.18388718 -0.94460767 -0.79493406 -1.10411076 -0.94935726 -1.04108968\n",
            " -1.0941996  -0.98970989 -0.84986468 -0.81265806 -1.06534363 -0.6851033\n",
            " -0.9635216  -1.20646619 -0.88126217 -1.04334816 -0.72959039 -1.00764316\n",
            " -0.75712761 -0.97418526 -1.03227134 -1.0078293  -0.91265642 -0.96918581\n",
            " -0.92567642 -0.90200324 -0.91878931 -0.89311733 -0.8705964  -1.09840722\n",
            " -1.17968917 -1.0652337  -0.91963468 -1.23628829 -0.84042588 -0.85917183\n",
            " -0.84446101 -0.86443776 -1.08091347 -1.08394009 -1.09439727 -1.06611232\n",
            " -0.8660507  -1.18001801 -0.84394973 -0.87178236 -0.77853358 -0.96969813\n",
            " -1.05825376 -0.86879882 -0.65879677 -1.13942777 -0.974739   -0.82159259\n",
            " -0.80436454 -1.04980271 -1.01172669 -0.79791931 -1.05849084 -1.13352918\n",
            " -0.98227949 -1.0106966  -0.647795   -0.91981828 -1.00610688 -1.20150255\n",
            " -0.99159645 -1.25071434 -0.76943016 -0.86474332 -1.03312687 -0.89598061\n",
            " -0.94864767 -1.30872185 -1.17190733 -1.19585105 -0.74542851 -1.01841813\n",
            " -1.08048197 -0.93153175 -1.06576307 -0.85769032 -0.84899925 -0.87450526\n",
            " -0.78010614 -1.07132745 -0.70628713 -1.1219629  -1.09384419 -0.73982298\n",
            " -0.9889833  -1.09226551 -0.81683771 -0.79494325 -0.79514434 -1.06885747\n",
            " -1.07059979 -0.86813526 -0.98019466 -0.90791488 -0.90982423 -0.88403781\n",
            " -0.80677149 -0.98346968 -0.94803169 -0.87979752 -0.80770527 -1.02003199\n",
            " -0.98855047 -1.09886185 -1.19090822 -0.79990398 -1.18151608 -0.8002933\n",
            " -0.84012745 -1.01954097 -0.83236602 -1.06920515 -0.85190714 -1.0567797\n",
            " -0.73540721 -0.78684481 -0.92608704 -0.98137142 -1.11733508 -1.02910503\n",
            " -0.87963502 -0.85209359 -0.64825355 -0.79269286 -0.71887608 -1.16914231\n",
            " -0.84213702 -1.11041324 -1.04833894 -0.89953212 -1.23343785 -0.91224369\n",
            " -0.73734315 -0.84771722 -0.86635292 -0.89677413 -0.87620453 -0.99652915\n",
            " -0.91472071 -1.13359241 -0.88661457 -0.76489643 -1.04592919 -1.17008216\n",
            " -0.98729705 -1.22952595 -1.22328176 -0.82139067 -0.93554357 -0.97157184\n",
            " -0.90036456 -0.80215258 -0.87172601 -0.78493552 -1.17769698 -0.74223219\n",
            " -1.09723663 -0.91565796 -0.84630167 -0.82983671 -0.8263576  -0.77202736\n",
            " -0.89983261 -0.91138001 -0.83534406 -0.77261834 -1.04707623 -0.83052265\n",
            " -0.91265642 -0.95977252 -1.014001   -1.00249294 -0.84938508 -0.7542965\n",
            " -1.17698488 -1.12647352 -0.95634997 -0.85963482 -1.02384872 -1.0524106\n",
            " -0.98816185 -1.02202195 -0.89909327 -0.92760758 -0.74915088 -1.06037514\n",
            " -1.01489295 -0.76055972 -1.0123147  -0.88586186 -0.99489747 -0.98673424\n",
            " -1.17024297 -0.87824486 -1.030804   -0.82511493 -0.99683387 -1.09820648\n",
            " -1.19540499 -0.86219125 -0.74662583 -1.10066645 -0.88036522 -0.90853205\n",
            " -0.89803919 -0.87266713 -0.98969422 -1.00295238 -0.99145592 -0.92920848\n",
            " -0.95514219 -1.00640341 -0.95563077 -1.00284268 -0.93664127 -1.23753693\n",
            " -0.64497118 -0.89710295 -1.14843101 -0.95638914 -0.8384363  -0.76673129\n",
            " -0.87858145 -0.46721146 -1.2365531  -0.98846726 -1.29332515 -0.94851817\n",
            " -1.0569609  -0.94085073 -0.96489683 -0.88631328 -0.94973406 -0.9170986\n",
            " -1.30331783 -0.99579788 -1.02812956 -0.8630152  -0.86464896 -0.89259435\n",
            " -0.74800295 -0.97711935 -1.17598943 -0.90784095 -0.84857161 -0.68590221\n",
            " -0.97645835 -0.85607447 -0.66603893 -1.02085773 -1.0399945  -1.07374375\n",
            " -1.05204104 -0.88614602 -0.91930478 -0.93640558 -0.84630106 -0.84157595\n",
            " -0.91364794 -1.02353915 -0.93928376 -0.96613675 -0.9271681  -1.08966121\n",
            " -0.96806596 -0.71593603 -1.01375277 -1.33730905 -0.69349701 -0.82907881\n",
            " -0.88044935 -0.8320237  -1.0221441  -0.98078137 -0.98959664 -0.93802701\n",
            " -0.77288856 -1.01882564 -0.79412867 -0.75271426 -1.21687978 -1.10639676\n",
            " -0.79164896 -0.72970975 -0.68942902 -1.26308547 -0.86777872 -1.02724923\n",
            " -0.79697026 -0.88152798 -0.82859994 -1.00764057 -1.09340252 -1.09038663\n",
            " -0.8796238  -0.7924059  -0.85845251 -1.03497752 -0.94442952 -1.14919511\n",
            " -0.96448768 -1.0881812  -0.75798543 -0.92736598 -0.84826742 -1.19715347\n",
            " -0.89608016 -1.02240983 -0.92112773 -1.01927309 -1.1904818  -0.9089759\n",
            " -0.92190398 -0.7418784  -0.92978498 -0.97237907 -0.86491214 -0.93740484\n",
            " -1.00902457 -1.03714069 -0.86914467 -0.90213482 -0.9122586  -1.0520714\n",
            " -0.91066631 -0.88093257 -0.95006888 -0.97026126 -1.05304036 -0.96111821\n",
            " -1.28492075 -1.05865456 -0.79612058 -0.88466798 -0.94343397 -1.21378234\n",
            " -0.75757701 -0.82898963 -0.8717701  -1.1675981  -0.80375803 -0.67699294\n",
            " -0.69761071 -0.95061348 -1.06068094 -0.94198475 -1.05767181 -0.92792085\n",
            " -1.03940144 -1.36709114 -0.83771074 -0.9535273  -0.9297997  -1.07382408\n",
            " -1.01791562 -1.02794409 -0.93690656 -0.74387804 -0.98043454 -1.01108306\n",
            " -0.72854248 -1.21471356 -0.97486382 -0.85411108 -1.0045913  -1.15604708\n",
            " -0.9581377  -0.85421592 -0.94068399 -0.92905878 -0.80370172 -0.87218425\n",
            " -0.96294922 -0.99694154 -1.03649564 -1.06274239 -0.88603147 -1.13160176\n",
            " -0.88685184 -1.14553781 -0.94708598 -0.89522332 -0.9659752  -1.1336546\n",
            " -0.87839917 -1.03914983 -0.88936941 -1.02400875 -0.93760115 -0.71994654\n",
            " -0.71024713 -1.06399668 -1.027736   -1.16091968 -1.04445664 -0.98977717\n",
            " -1.06364408 -1.0394737  -1.11418985 -0.90519058 -1.06273215 -0.8639209\n",
            " -0.90637611 -0.74047906 -1.32658332 -0.97656434 -0.96587152 -0.86250132\n",
            " -0.87075094 -0.86713924 -0.93833727 -1.2136322  -0.71684203 -0.90637708\n",
            " -1.0073983  -1.00053909 -1.12872908 -0.89784292 -1.0578328  -0.92165283\n",
            " -0.96710505 -0.8616678  -1.03603953 -0.83376516 -0.9337302  -0.99672803\n",
            " -0.96370426 -0.81238681 -1.0282474  -0.99158941 -1.13207204 -1.08288426\n",
            " -0.80701235 -0.99293056 -0.93146266 -1.17681803 -0.89971302 -1.04474968\n",
            " -1.09917297 -1.10974648 -0.9622454  -1.16356005 -0.9549377  -1.08129362\n",
            " -0.91523898 -1.05067874 -0.99821353 -0.87484337 -1.02344894 -0.95399386\n",
            " -1.07563023 -1.08957764 -0.97064579 -1.01272508 -0.98882159 -1.21571704\n",
            " -0.95053844 -0.67500849 -1.01492396 -0.98893715 -0.92821081 -1.03970466\n",
            " -0.72104185 -0.89249264 -0.84062469 -1.16451825 -0.73522334 -0.99929847\n",
            " -0.84909166 -0.97166513 -1.00322215 -0.92081568 -0.69920219 -1.25539234\n",
            " -0.81386131 -1.23711912 -1.1335438  -0.85656128 -0.8639209  -0.79145445\n",
            " -1.19293525 -0.95057924 -0.86504867 -1.14008091 -0.84948209 -0.94840623\n",
            " -1.00826651 -0.78154243 -0.6769505  -0.92972456 -0.97281783 -0.83060085\n",
            " -1.16647521 -0.94609687 -0.83702359 -0.84074265 -0.94495202 -0.85105613\n",
            " -1.05327243 -1.06043478 -1.01482503 -1.01858392 -1.09115809 -0.95571911\n",
            " -1.07193512 -1.23063013 -0.92087543 -0.9391309  -1.02172495 -0.77888158\n",
            " -0.8402143  -1.03077167 -1.05409794 -1.00635871 -0.92863335 -1.05046279\n",
            " -1.037092   -0.76555778 -1.06538127 -1.10607777 -1.0681444  -0.84563015\n",
            " -0.77098581 -0.78345616 -0.93268644 -1.2463969  -1.09176104 -1.11502992\n",
            " -1.35305698 -1.03429129 -1.16671548 -1.06082901 -0.75727017 -0.89718735\n",
            " -1.2501688  -0.89239365 -0.97628508 -0.89334919 -1.09942812 -1.05785394\n",
            " -0.94003423 -1.04959012 -0.9850847  -1.16656299 -0.85444516 -1.03633844\n",
            " -0.96353032 -0.97838694 -0.9821617  -0.70405302 -0.94826621 -1.06163651\n",
            " -1.16596454 -0.94782986 -0.94754432 -0.97764239 -0.90102648 -1.09255038\n",
            " -0.98304217 -1.13996916 -1.0764079  -1.02609536 -1.06404782 -1.05618739\n",
            " -1.17147055 -0.81238968 -1.05183742 -0.7303337  -1.11839502 -0.87868442\n",
            " -0.90395889 -0.92681881 -1.08462821 -0.93190463 -0.86013009 -0.99036498\n",
            " -0.87586224 -0.81927864 -0.87818047 -0.97753947 -0.8909459  -1.10261567\n",
            " -1.26895604 -0.8451806  -0.82146329 -1.12268313 -0.85652986 -0.99529942\n",
            " -0.85721472 -0.93305603 -1.06146373 -1.02598845 -1.11351092 -0.90309438\n",
            " -0.90831265 -1.0431111  -1.01501889 -0.82997324 -1.11698791 -1.16409924\n",
            " -0.90292928 -1.13029696 -0.80390362 -1.02426626 -1.29333003]\n",
            "[0 0 0 0 0 0 0 0 0 0 0 0 0 0 0 0 0 0 0 0 0 0 0 0 0 0 0 0 0 0 0 0 0 0 0 0 0\n",
            " 0 0 0 0 0 0 0 0 0 0 0 0 0 0 0 0 0 0 0 0 0 0 0 0 0 0 0 0 0 0 0 0 0 0 0 0 0\n",
            " 0 0 0 0 0 0 0 0 0 0 0 0 0 0 0 0 0 0 0 0 0 0 0 0 0 0 0 0 0 0 0 0 0 0 0 0 0\n",
            " 0 0 0 0 0 0 0 0 0 0 0 0 0 0 0 0 0 0 0 0 0 0 0 0 0 0 0 0 0 0 0 0 0 0 0 0 0\n",
            " 0 0 0 0 0 0 0 0 0 0 0 0 0 0 0 0 0 0 0 0 0 0 0 0 0 0 0 0 0 0 0 0 0 0 0 0 0\n",
            " 0 0 0 0 0 0 0 0 0 0 0 0 0 0 0 0 0 0 0 0 0 0 0 0 0 0 0 0 0 0 0 0 0 0 0 0 0\n",
            " 0 0 0 0 0 0 0 0 0 0 0 0 0 0 0 0 0 0 0 0 0 0 0 0 0 0 0 0 0 0 0 0 0 0 0 0 0\n",
            " 0 0 0 0 0 0 0 0 0 0 0 0 0 0 0 0 0 0 0 0 0 0 0 0 0 0 0 0 0 0 0 0 0 0 0 0 0\n",
            " 0 0 0 0 0 0 0 0 0 0 0 0 0 0 0 0 0 0 0 0 0 0 0 0 0 0 0 0 0 0 0 0 0 0 0 0 0\n",
            " 0 0 0 0 0 0 0 0 0 0 0 0 0 0 0 0 0 0 0 0 0 0 0 0 0 0 0 0 0 0 0 0 0 0 0 0 0\n",
            " 0 0 0 0 0 0 0 0 0 0 0 0 0 0 0 0 0 0 0 0 0 0 0 0 0 0 0 0 0 0 0 0 0 0 0 0 0\n",
            " 0 0 0 0 0 0 0 0 0 0 0 0 0 0 0 0 0 0 0 0 0 0 0 0 0 0 0 0 0 0 0 0 0 0 0 0 0\n",
            " 0 0 0 0 0 0 0 0 0 0 0 0 0 0 0 0 0 0 0 0 0 0 0 0 0 0 0 0 0 0 0 0 0 0 0 0 0\n",
            " 0 0 0 0 0 0 0 0 0 0 0 0 0 0 0 0 0 0 0 0 0 0 0 0 0 0 0 0 0 0 0 0 0 0 0 0 0\n",
            " 0 0 0 0 0 0 0 0 0 0 0 0 0 0 0 0 0 0 0 0 0 0 0 0 0 0 0 0 0 0 0 0 0 0 0 0 0\n",
            " 0 0 0 0 0 0 0 0 0 0 0 0 0 0 0 0 0 0 0 0 0 0 0 0 0 0 0 0 0 0 0 0 0 0 0 0 0\n",
            " 0 0 0 0 0 0 0 0 0 0 0 0 0 0 0 0 0 0 0 0 0 0 0 0 0 0 0 0 0 0 0 0 0 0 0 0 0\n",
            " 0 0 0 0 0 0 0 0 0 0 0 0 0 0 0 0 0 0 0 0 0 0 0 0 0 0 0 0 0 0 0 0 0 0 0 0 0\n",
            " 0 0 0 0 0 0 0 0 0 0 0 0 0 0 0 0 0]\n"
          ]
        }
      ]
    },
    {
      "cell_type": "code",
      "source": [
        "#Implementing Grid Search for hyperparameter tuning\n",
        "\n",
        "iters = 2000\n",
        "def grid_search32(w,X,y):\n",
        "  alpha_val = [0.01 , 0.05 , 0.1 , 0.15 , 0.2 , 0.5]\n",
        "  lambda_val = [0.05 , 0.1 , 0.15 , 0.2 , 0.5 , 1]\n",
        "  max_w = w\n",
        "  max_accuracy = 0\n",
        "  for alpha in alpha_val:\n",
        "    for Lambda in lambda_val:\n",
        "      w_temp , J_temp = stochastic_gradient_descent(X0_train,Y0_train,w, alpha, n_epochs)\n",
        "      m = y.shape[0]\n",
        "      hypothesis = sigmoid(np.dot(X0_val,w_temp.T))\n",
        "      error = hypothesis - y\n",
        "      accuracy = 100 - (np.mean(np.abs(hypothesis - y))*100)\n",
        "      if max_accuracy < accuracy:\n",
        "        max_accuracy = accuracy\n",
        "        max_w = w_temp\n",
        "  return max_w , max_accuracy"
      ],
      "metadata": {
        "id": "fm4eR3hhcuGa"
      },
      "execution_count": null,
      "outputs": []
    },
    {
      "cell_type": "code",
      "source": [
        "final_w , final_accuracy32 = grid_search32(w,X3_val,Y3_val)\n",
        "#print(final_w)\n",
        "print(final_accuracy32)"
      ],
      "metadata": {
        "colab": {
          "base_uri": "https://localhost:8080/"
        },
        "outputId": "366c5568-878a-4b9f-f233-fe8bba99c99a",
        "id": "hDTuWauqcuGa"
      },
      "execution_count": null,
      "outputs": [
        {
          "output_type": "stream",
          "name": "stdout",
          "text": [
            "76.24406603216175\n"
          ]
        }
      ]
    },
    {
      "cell_type": "markdown",
      "source": [
        "For batch gradient descent\n"
      ],
      "metadata": {
        "id": "FrJudfb2es-V"
      }
    },
    {
      "cell_type": "code",
      "source": [
        "overall_acc = (final_accuracy00 + final_accuracy10 + final_accuracy20 + final_accuracy30)/4\n",
        "print(overall_acc)"
      ],
      "metadata": {
        "colab": {
          "base_uri": "https://localhost:8080/"
        },
        "id": "zmq2iy9aeVfL",
        "outputId": "0eb19d90-6a11-48c3-cfaf-a8171fcc9479"
      },
      "execution_count": null,
      "outputs": [
        {
          "output_type": "stream",
          "name": "stdout",
          "text": [
            "66.67237594943953\n"
          ]
        }
      ]
    },
    {
      "cell_type": "markdown",
      "source": [
        "For MBGD\n"
      ],
      "metadata": {
        "id": "Nfm2JJMqe0uV"
      }
    },
    {
      "cell_type": "code",
      "source": [
        "overall_acc = (final_accuracy01 + final_accuracy11 + final_accuracy21 + final_accuracy31)/4\n",
        "print(overall_acc)"
      ],
      "metadata": {
        "colab": {
          "base_uri": "https://localhost:8080/"
        },
        "id": "5fWP66sNe0-P",
        "outputId": "31a0e552-bc9e-41a3-bc4b-87f44e9d2621"
      },
      "execution_count": null,
      "outputs": [
        {
          "output_type": "stream",
          "name": "stdout",
          "text": [
            "74.64413927853383\n"
          ]
        }
      ]
    },
    {
      "cell_type": "markdown",
      "source": [
        "For SGD"
      ],
      "metadata": {
        "id": "_MdbESpDe1JO"
      }
    },
    {
      "cell_type": "code",
      "source": [
        "overall_acc = (final_accuracy02 + final_accuracy12 + final_accuracy22 + final_accuracy32)/4\n",
        "print(overall_acc)"
      ],
      "metadata": {
        "colab": {
          "base_uri": "https://localhost:8080/"
        },
        "id": "yCRhMvYTe1S9",
        "outputId": "ebad69d5-ec7e-4f21-e01e-dae002c38cf0"
      },
      "execution_count": null,
      "outputs": [
        {
          "output_type": "stream",
          "name": "stdout",
          "text": [
            "75.13334829609516\n"
          ]
        }
      ]
    }
  ]
}