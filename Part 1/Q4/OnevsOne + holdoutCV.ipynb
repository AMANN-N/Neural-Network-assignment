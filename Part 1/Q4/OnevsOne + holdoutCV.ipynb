{
  "nbformat": 4,
  "nbformat_minor": 0,
  "metadata": {
    "colab": {
      "name": "Untitled4.ipynb",
      "provenance": []
    },
    "kernelspec": {
      "name": "python3",
      "display_name": "Python 3"
    },
    "language_info": {
      "name": "python"
    }
  },
  "cells": [
    {
      "cell_type": "code",
      "execution_count": 1,
      "metadata": {
        "id": "fars9kYiB5YK"
      },
      "outputs": [],
      "source": [
        "import sklearn\n",
        "import numpy as np\n",
        "import pandas as pd\n",
        "import matplotlib.pyplot as plt\n",
        "from scipy.io import loadmat\n",
        "import scipy\n",
        "import pandas as pd\n",
        "from sklearn.model_selection import train_test_split"
      ]
    },
    {
      "cell_type": "code",
      "source": [
        "from google.colab import drive\n",
        "drive.mount('/content/drive/')"
      ],
      "metadata": {
        "colab": {
          "base_uri": "https://localhost:8080/",
          "height": 0
        },
        "id": "R1fgYz9MCAgJ",
        "outputId": "db02bbbf-9be9-4eca-f2f8-f0c925788883"
      },
      "execution_count": 2,
      "outputs": [
        {
          "output_type": "stream",
          "name": "stdout",
          "text": [
            "Mounted at /content/drive/\n"
          ]
        }
      ]
    },
    {
      "cell_type": "markdown",
      "source": [
        "ONE VS ONE METHOD"
      ],
      "metadata": {
        "id": "eaDd-NabrPnA"
      }
    },
    {
      "cell_type": "code",
      "source": [
        "data = pd.read_excel('/content/drive/MyDrive/NNFL Assignment/data.xlsx');\n"
      ],
      "metadata": {
        "id": "z0vukRtSF17p"
      },
      "execution_count": 3,
      "outputs": []
    },
    {
      "cell_type": "code",
      "source": [
        "print(data)"
      ],
      "metadata": {
        "id": "gJuvtJvoJCAf",
        "colab": {
          "base_uri": "https://localhost:8080/",
          "height": 0
        },
        "outputId": "e42eb4b6-6a6e-49f1-a7b0-ece4d826dfcf"
      },
      "execution_count": 4,
      "outputs": [
        {
          "output_type": "stream",
          "name": "stdout",
          "text": [
            "      242.751526  281.801298  250.032405  132.099709  61.166502   247.837695  \\\n",
            "0     216.585951  297.057883  300.938478  131.358295  105.976730  273.299350   \n",
            "1     265.735536  339.271134  269.817305  102.304781   83.869539  281.962656   \n",
            "2     207.631953  255.284282  254.563071  229.883639   87.492384  303.314846   \n",
            "3     205.016124  333.265999  536.342842  106.237587  155.700409  272.692251   \n",
            "4     195.777116  284.978457  351.491093  122.601679  144.396132  269.319181   \n",
            "...          ...         ...         ...         ...         ...         ...   \n",
            "3406  723.913528  343.529660  360.468834  233.711682  177.309124  717.744261   \n",
            "3407  466.593370  215.858228  235.940729  309.475340  126.789443  333.123293   \n",
            "3408  446.227198  219.936910  181.605753  160.483773  106.179660  416.263221   \n",
            "3409  511.406437  215.379710  170.598957   89.543149   73.107090  457.783309   \n",
            "3410  757.967516  268.431243  189.755280  156.957408  126.298293  835.417941   \n",
            "\n",
            "      306.999281  271.560155  126.038604  74.050379   ...  1.891884    \\\n",
            "0     380.251154  335.864007  109.527577  113.088266  ...    1.779043   \n",
            "1     386.806725  347.201912  105.945737  104.016513  ...    1.524681   \n",
            "2     310.329644  276.926943  207.445146  108.620999  ...    1.907888   \n",
            "3     367.533485  537.061350  110.167703  133.100524  ...    1.818213   \n",
            "4     389.646903  418.709969  139.948425  154.349112  ...    1.714442   \n",
            "...          ...         ...         ...         ...  ...         ...   \n",
            "3406  448.791348  379.113979  248.029948  170.735388  ...    1.928222   \n",
            "3407  200.966375  173.674275  301.590225  110.481002  ...    1.841637   \n",
            "3408  251.314023  196.936825  247.802048  114.649466  ...    1.953375   \n",
            "3409  230.770136  178.846709  123.660090   78.208996  ...    1.897879   \n",
            "3410  337.510327  247.097266  257.882395  180.132129  ...    1.906428   \n",
            "\n",
            "      1.612099    1.396853    1.437446    1.880098    1.872789    1.603211    \\\n",
            "0       1.592470    1.749967    1.430117    1.935712    1.739076    1.572927   \n",
            "1       1.763061    1.935089    1.642102    1.929802    1.522725    1.849940   \n",
            "2       1.638839    1.604410    1.683284    1.845578    1.978957    1.682881   \n",
            "3       1.860656    1.789285    1.606024    1.758654    1.834728    1.740251   \n",
            "4       1.703087    1.874525    1.647358    1.845774    1.701117    1.643778   \n",
            "...          ...         ...         ...         ...         ...         ...   \n",
            "3406    1.659960    1.658291    1.640978    1.888330    1.933384    1.661284   \n",
            "3407    1.836036    1.556465    1.898255    1.960397    1.973080    1.740866   \n",
            "3408    1.831422    1.673341    1.889050    1.862514    2.004401    1.861006   \n",
            "3409    1.903539    1.836154    1.841137    1.789531    1.837314    1.957492   \n",
            "3410    1.674688    1.805059    1.529764    1.835415    2.056879    1.732298   \n",
            "\n",
            "      1.281972    1.844860    1.000000    \n",
            "0       1.598582    1.625395           1  \n",
            "1       1.848160    1.706134           1  \n",
            "2       1.710404    1.664391           1  \n",
            "3       1.703264    1.535684           1  \n",
            "4       1.834746    1.731494           1  \n",
            "...          ...         ...         ...  \n",
            "3406    1.948758    1.758541           4  \n",
            "3407    1.568558    1.494537           4  \n",
            "3408    1.418510    1.772295           4  \n",
            "3409    1.609298    1.664890           4  \n",
            "3410    1.790039    1.560633           4  \n",
            "\n",
            "[3411 rows x 61 columns]\n"
          ]
        }
      ]
    },
    {
      "cell_type": "code",
      "source": [
        "dt1 = []\n",
        "dt2 = []\n",
        "dt3 = []\n",
        "dt4 = []\n",
        "dt1 = data.iloc[0:850 , :]\n",
        "#print(dt1)\n",
        "dt2 = data.iloc[851:1705 , :]\n",
        "#print(dt2)\n",
        "dt3 = data.iloc[1706:2560 , :]\n",
        "#print(dt3)\n",
        "dt4 = data.iloc[2561:3412 , :]\n",
        "#print(dt4)\n",
        "\n"
      ],
      "metadata": {
        "id": "4unAVWVZMwfX"
      },
      "execution_count": 5,
      "outputs": []
    },
    {
      "cell_type": "code",
      "source": [
        "d0 = []\n",
        "d1 = []\n",
        "d2 = []\n",
        "d3 = []\n",
        "d4 = []\n",
        "d5 = []\n",
        "\n",
        "d0 = pd.concat([dt1, dt2])\n",
        "d1 = pd.concat([dt1, dt3])\n",
        "d2 = pd.concat([dt1, dt4])\n",
        "d3 = pd.concat([dt2, dt3])\n",
        "d4 = pd.concat([dt2, dt4])\n",
        "d5 = pd.concat([dt3, dt4])\n",
        "\n",
        "d0 = d0.to_numpy();\n",
        "d1 = d1.to_numpy();\n",
        "d2 = d2.to_numpy();\n",
        "d3 = d3.to_numpy();\n",
        "d4 = d4.to_numpy();\n",
        "d5 = d5.to_numpy();\n",
        "\n",
        "for j in range(1704):\n",
        "    if (d0[j,60] == 1):\n",
        "      d0[j,60] = 1\n",
        "    else:\n",
        "      d0[j,60] = 0\n",
        "\n",
        "for j in range(1704):\n",
        "    if (d1[j,60] == 1):\n",
        "      d1[j,60] = 1\n",
        "    else:\n",
        "      d1[j,60] = 0\n",
        "\n",
        "for j in range(1700):\n",
        "    if (d2[j,60] == 1):\n",
        "      d2[j,60] = 1\n",
        "    else:\n",
        "      d2[j,60] = 0\n",
        "\n",
        "for j in range(1708):\n",
        "    if (d3[j,60] == 1):\n",
        "      d3[j,60] = 1\n",
        "    else:\n",
        "      d3[j,60] = 0\n",
        "\n",
        "for j in range(1704):\n",
        "    if (d4[j,60] == 1):\n",
        "      d4[j,60] = 1\n",
        "    else:\n",
        "      d4[j,60] = 0\n",
        "\n",
        "for j in range(1704):\n",
        "    if (d5[j,60] == 1):\n",
        "      d5[j,60] = 1\n",
        "    else:\n",
        "      d5[j,60] = 0"
      ],
      "metadata": {
        "id": "i_i_LHTYQDqM"
      },
      "execution_count": 6,
      "outputs": []
    },
    {
      "cell_type": "code",
      "source": [
        "m=d0.shape[0]\n",
        "y0=d0[:, 60] # class label\n",
        "x0=d0[:, 0:60] # feature matrix\n",
        "\n",
        "m=d1.shape[0]\n",
        "\n",
        "y1=d1[:, 60] # class label\n",
        "x1=d1[:, 0:60] # feature matrix\n",
        "\n",
        "m=d2.shape[0]\n",
        "\n",
        "y2=d2[:, 60] # class label\n",
        "x2=d2[:, 0:60] # feature matrix\n",
        "\n",
        "m=d3.shape[0]\n",
        "\n",
        "y3=d3[:, 60] # class label\n",
        "x3=d3[:, 0:60] # feature matrix\n",
        "\n",
        "m=d4.shape[0]\n",
        "\n",
        "y4=d4[:, 60] # class label\n",
        "x4=d4[:, 0:60] # feature matrix\n",
        "\n",
        "\n",
        "m=d5.shape[0]\n",
        "\n",
        "y5=d5[:, 60] # class label\n",
        "x5=d5[:, 0:60] # feature matrix\n"
      ],
      "metadata": {
        "id": "CPwJDBZtiMq1"
      },
      "execution_count": 7,
      "outputs": []
    },
    {
      "cell_type": "code",
      "source": [
        "print(x0.shape)\n",
        "print(y0.shape)\n",
        "\n",
        "print(x1.shape)\n",
        "print(y1.shape)\n",
        "\n",
        "print(x2.shape)\n",
        "print(y2.shape)\n",
        "\n",
        "print(x3.shape)\n",
        "print(y3.shape)\n",
        "\n",
        "print(x4.shape)\n",
        "print(y4.shape)\n",
        "\n",
        "print(x5.shape)\n",
        "print(y5.shape)"
      ],
      "metadata": {
        "id": "hBbYJlGpp_uD",
        "colab": {
          "base_uri": "https://localhost:8080/",
          "height": 0
        },
        "outputId": "b77f60c0-3f6d-47a7-fcca-e2c3debf0300"
      },
      "execution_count": 8,
      "outputs": [
        {
          "output_type": "stream",
          "name": "stdout",
          "text": [
            "(1704, 60)\n",
            "(1704,)\n",
            "(1704, 60)\n",
            "(1704,)\n",
            "(1700, 60)\n",
            "(1700,)\n",
            "(1708, 60)\n",
            "(1708,)\n",
            "(1704, 60)\n",
            "(1704,)\n",
            "(1704, 60)\n",
            "(1704,)\n"
          ]
        }
      ]
    },
    {
      "cell_type": "code",
      "source": [
        "xmin = np.min(x0, axis = 0)\n",
        "xmax = np.max(x0, axis = 0)\n",
        "x0 = (x0- xmin)/(xmax-xmin)\n",
        "xmin = np.min(y0, axis = 0)\n",
        "xmax = np.max(y0, axis = 0)\n",
        "y0 = (y0- xmin)/(xmax-xmin) \n",
        "\n",
        "xmin = np.min(x1, axis = 0)\n",
        "xmax = np.max(x1, axis = 0)\n",
        "x1 = (x1- xmin)/(xmax-xmin)\n",
        "xmin = np.min(y1, axis = 0)\n",
        "xmax = np.max(y1, axis = 0)\n",
        "y1 = (y1- xmin)/(xmax-xmin) \n",
        "\n",
        "xmin = np.min(x2, axis = 0)\n",
        "xmax = np.max(x2, axis = 0)\n",
        "x2 = (x2- xmin)/(xmax-xmin)\n",
        "xmin = np.min(y2, axis = 0)\n",
        "xmax = np.max(y2, axis = 0)\n",
        "y2 = (y2- xmin)/(xmax-xmin) \n",
        "\n",
        "xmin = np.min(x3, axis = 0)\n",
        "xmax = np.max(x3, axis = 0)\n",
        "x3 = (x3- xmin)/(xmax-xmin)\n",
        "xmin = np.min(y3, axis = 0)\n",
        "xmax = np.max(y3, axis = 0)\n",
        "y3 = (y3- xmin)/(xmax-xmin) \n",
        "\n",
        "xmin = np.min(x4, axis = 0)\n",
        "xmax = np.max(x4, axis = 0)\n",
        "x4 = (x4- xmin)/(xmax-xmin)\n",
        "xmin = np.min(y4, axis = 0)\n",
        "xmax = np.max(y4, axis = 0)\n",
        "y4 = (y4- xmin)/(xmax-xmin)\n",
        "\n",
        "xmin = np.min(x5, axis = 0)\n",
        "xmax = np.max(x5, axis = 0)\n",
        "x5 = (x5- xmin)/(xmax-xmin)\n",
        "xmin = np.min(y5, axis = 0)\n",
        "xmax = np.max(y5, axis = 0)\n",
        "y5 = (y5- xmin)/(xmax-xmin)"
      ],
      "metadata": {
        "id": "Iz55WQHmJS7X",
        "colab": {
          "base_uri": "https://localhost:8080/",
          "height": 0
        },
        "outputId": "aefdce2b-523f-4156-d1f2-df0ff02d9679"
      },
      "execution_count": 9,
      "outputs": [
        {
          "output_type": "stream",
          "name": "stderr",
          "text": [
            "/usr/local/lib/python3.7/dist-packages/ipykernel_launcher.py:27: RuntimeWarning: invalid value encountered in true_divide\n",
            "/usr/local/lib/python3.7/dist-packages/ipykernel_launcher.py:34: RuntimeWarning: invalid value encountered in true_divide\n",
            "/usr/local/lib/python3.7/dist-packages/ipykernel_launcher.py:41: RuntimeWarning: invalid value encountered in true_divide\n"
          ]
        }
      ]
    },
    {
      "cell_type": "code",
      "source": [
        "print(x0.shape)\n",
        "print(y0.shape)\n",
        "\n",
        "print(x1.shape)\n",
        "print(y1.shape)\n",
        "\n",
        "print(x2.shape)\n",
        "print(y2.shape)\n",
        "\n",
        "print(x3.shape)\n",
        "print(y3.shape)\n",
        "\n",
        "print(x4.shape)\n",
        "print(y4.shape)\n",
        "\n",
        "print(x5.shape)\n",
        "print(y5.shape)"
      ],
      "metadata": {
        "id": "5PIelGTjpxlJ",
        "colab": {
          "base_uri": "https://localhost:8080/",
          "height": 0
        },
        "outputId": "f40d513a-514e-4445-f2b5-f465e1addc6d"
      },
      "execution_count": 10,
      "outputs": [
        {
          "output_type": "stream",
          "name": "stdout",
          "text": [
            "(1704, 60)\n",
            "(1704,)\n",
            "(1704, 60)\n",
            "(1704,)\n",
            "(1700, 60)\n",
            "(1700,)\n",
            "(1708, 60)\n",
            "(1708,)\n",
            "(1704, 60)\n",
            "(1704,)\n",
            "(1704, 60)\n",
            "(1704,)\n"
          ]
        }
      ]
    },
    {
      "cell_type": "markdown",
      "source": [
        "HOLDOUT VALIDATION METHOD"
      ],
      "metadata": {
        "id": "QXgAkc_scgzw"
      }
    },
    {
      "cell_type": "code",
      "source": [
        "# set aside 20% of train and test data for evaluation\n",
        "X0_train, X0_test, Y0_train, Y0_test = train_test_split(x0,y0,test_size=0.2, shuffle = True, random_state = 8)\n",
        "\n",
        "# Use the same function above for the validation set\n",
        "X0_train, X0_val, Y0_train, Y0_val = train_test_split(X0_train, Y0_train, \n",
        "    test_size=0.125, random_state= 8) # 0.25 x 0.8 = 0.2\n",
        "\n",
        "\n",
        "print((X0_train.shape))\n",
        "print((X0_test.shape))\n",
        "print((Y0_train.shape))\n",
        "print((Y0_test.shape))\n",
        "print((X0_val.shape))\n",
        "print((Y0_val.shape))\n",
        "\n",
        "# set aside 20% of train and test data for evaluation\n",
        "X1_train, X1_test, Y1_train, Y1_test = train_test_split(x1,y1,test_size=0.2, shuffle = True, random_state = 8)\n",
        "\n",
        "# Use the same function above for the validation set\n",
        "X1_train, X1_val, Y1_train, Y1_val = train_test_split(X1_train, Y1_train, \n",
        "    test_size=0.125, random_state= 8) # 0.25 x 0.8 = 0.2\n",
        "\n",
        "\n",
        "print((X1_train.shape))\n",
        "print((X1_test.shape))\n",
        "print((Y1_train.shape))\n",
        "print((Y1_test.shape))\n",
        "print((X1_val.shape))\n",
        "print((Y1_val.shape))\n",
        "\n",
        "# set aside 20% of train and test data for evaluation\n",
        "X2_train, X2_test, Y2_train, Y2_test = train_test_split(x2,y2,test_size=0.2, shuffle = True, random_state = 8)\n",
        "\n",
        "# Use the same function above for the validation set\n",
        "X2_train, X2_val, Y2_train, Y2_val = train_test_split(X2_train, Y2_train, \n",
        "    test_size=0.125, random_state= 8) # 0.25 x 0.8 = 0.2\n",
        "\n",
        "\n",
        "print((X2_train.shape))\n",
        "print((X2_test.shape))\n",
        "print((Y2_train.shape))\n",
        "print((Y2_test.shape))\n",
        "print((X2_val.shape))\n",
        "print((Y2_val.shape))\n",
        "\n",
        "# set aside 20% of train and test data for evaluation\n",
        "X3_train, X3_test, Y3_train, Y3_test = train_test_split(x3,y3,test_size=0.2, shuffle = True, random_state = 8)\n",
        "\n",
        "# Use the same function above for the validation set\n",
        "X3_train, X3_val, Y3_train, Y3_val = train_test_split(X3_train, Y3_train, \n",
        "    test_size=0.125, random_state= 8) # 0.25 x 0.8 = 0.2\n",
        "\n",
        "\n",
        "print((X3_train.shape))\n",
        "print((X3_test.shape))\n",
        "print((Y3_train.shape))\n",
        "print((Y3_test.shape))\n",
        "print((X3_val.shape))\n",
        "print((Y3_val.shape))\n",
        "\n",
        "# set aside 20% of train and test data for evaluation\n",
        "X4_train, X4_test, Y4_train, Y4_test = train_test_split(x4,y4,test_size=0.2, shuffle = True, random_state = 8)\n",
        "\n",
        "# Use the same function above for the validation set\n",
        "X4_train, X4_val, Y4_train, Y4_val = train_test_split(X4_train, Y4_train, \n",
        "    test_size=0.125, random_state= 8) # 0.25 x 0.8 = 0.2\n",
        "\n",
        "\n",
        "print((X4_train.shape))\n",
        "print((X4_test.shape))\n",
        "print((Y4_train.shape))\n",
        "print((Y4_test.shape))\n",
        "print((X4_val.shape))\n",
        "print((Y4_val.shape))\n",
        "\n",
        "# set aside 20% of train and test data for evaluation\n",
        "X5_train, X5_test, Y5_train, Y5_test = train_test_split(x5,y5,test_size=0.2, shuffle = True, random_state = 8)\n",
        "\n",
        "# Use the same function above for the validation set\n",
        "X5_train, X5_val, Y5_train, Y5_val = train_test_split(X5_train, Y5_train, \n",
        "    test_size=0.125, random_state= 8) # 0.25 x 0.8 = 0.2\n",
        "\n",
        "\n",
        "print((X5_train.shape))\n",
        "print((X5_test.shape))\n",
        "print((Y5_train.shape))\n",
        "print((Y5_test.shape))\n",
        "print((X5_val.shape))\n",
        "print((Y5_val.shape))"
      ],
      "metadata": {
        "colab": {
          "base_uri": "https://localhost:8080/",
          "height": 0
        },
        "id": "Oro_l-6fcgER",
        "outputId": "926fcd3e-0380-4910-e0e7-28af9f657341"
      },
      "execution_count": 11,
      "outputs": [
        {
          "output_type": "stream",
          "name": "stdout",
          "text": [
            "(1192, 60)\n",
            "(341, 60)\n",
            "(1192,)\n",
            "(341,)\n",
            "(171, 60)\n",
            "(171,)\n",
            "(1192, 60)\n",
            "(341, 60)\n",
            "(1192,)\n",
            "(341,)\n",
            "(171, 60)\n",
            "(171,)\n",
            "(1190, 60)\n",
            "(340, 60)\n",
            "(1190,)\n",
            "(340,)\n",
            "(170, 60)\n",
            "(170,)\n",
            "(1195, 60)\n",
            "(342, 60)\n",
            "(1195,)\n",
            "(342,)\n",
            "(171, 60)\n",
            "(171,)\n",
            "(1192, 60)\n",
            "(341, 60)\n",
            "(1192,)\n",
            "(341,)\n",
            "(171, 60)\n",
            "(171,)\n",
            "(1192, 60)\n",
            "(341, 60)\n",
            "(1192,)\n",
            "(341,)\n",
            "(171, 60)\n",
            "(171,)\n"
          ]
        }
      ]
    },
    {
      "cell_type": "code",
      "source": [
        "m=len(X0_train)\n",
        "pp = np.ones([m, 1]) \n",
        "X0_train = np.append(pp,X0_train, axis=1)\n",
        "m=len(X0_test)\n",
        "pp = np.ones([m, 1]) \n",
        "X0_test = np.append(pp,X0_test, axis=1)\n",
        "m=len(X0_val)\n",
        "pp = np.ones([m, 1]) \n",
        "X0_val = np.append(pp,X0_val, axis=1)\n",
        "\n",
        "m=len(X1_train)\n",
        "pp = np.ones([m, 1]) \n",
        "X1_train = np.append(pp,X1_train, axis=1)\n",
        "m=len(X1_test)\n",
        "pp = np.ones([m, 1]) \n",
        "X1_test = np.append(pp,X1_test, axis=1)\n",
        "m=len(X1_val)\n",
        "pp = np.ones([m, 1]) \n",
        "X1_val = np.append(pp,X1_val, axis=1)\n",
        "\n",
        "m=len(X2_train)\n",
        "pp = np.ones([m, 1]) \n",
        "X2_train = np.append(pp,X2_train, axis=1)\n",
        "m=len(X2_test)\n",
        "pp = np.ones([m, 1]) \n",
        "X2_test = np.append(pp,X2_test, axis=1)\n",
        "m=len(X2_val)\n",
        "pp = np.ones([m, 1]) \n",
        "X2_val = np.append(pp,X2_val, axis=1)\n",
        "\n",
        "m=len(X3_train)\n",
        "pp = np.ones([m, 1]) \n",
        "X3_train = np.append(pp,X3_train, axis=1)\n",
        "m=len(X3_test)\n",
        "pp = np.ones([m, 1]) \n",
        "X3_test = np.append(pp,X3_test, axis=1)\n",
        "m=len(X3_val)\n",
        "pp = np.ones([m, 1]) \n",
        "X3_val = np.append(pp,X3_val, axis=1)\n",
        "\n",
        "m=len(X4_train)\n",
        "pp = np.ones([m, 1]) \n",
        "X4_train = np.append(pp,X4_train, axis=1)\n",
        "m=len(X4_test)\n",
        "pp = np.ones([m, 1]) \n",
        "X4_test = np.append(pp,X4_test, axis=1)\n",
        "m=len(X4_val)\n",
        "pp = np.ones([m, 1]) \n",
        "X4_val = np.append(pp,X4_val, axis=1)\n",
        "\n",
        "m=len(X5_train)\n",
        "pp = np.ones([m, 1]) \n",
        "X5_train = np.append(pp,X5_train, axis=1)\n",
        "m=len(X5_test)\n",
        "pp = np.ones([m, 1]) \n",
        "X5_test = np.append(pp,X5_test, axis=1)\n",
        "m=len(X5_val)\n",
        "pp = np.ones([m, 1]) \n",
        "X5_val = np.append(pp,X5_val, axis=1)\n"
      ],
      "metadata": {
        "id": "GGk6uzLxRz8b"
      },
      "execution_count": 12,
      "outputs": []
    },
    {
      "cell_type": "code",
      "source": [
        "print(X0_train.shape)\n",
        "print(X0_test.shape)\n",
        "print(Y0_train.shape)\n",
        "print(Y0_test.shape)\n",
        "print(X0_val.shape)\n",
        "print(Y0_val.shape)\n",
        "\n",
        "print(X1_train.shape)\n",
        "print(X1_test.shape)\n",
        "print(Y1_train.shape)\n",
        "print(Y1_test.shape)\n",
        "print(X1_val.shape)\n",
        "print(Y1_val.shape)\n",
        "\n",
        "print(X2_train.shape)\n",
        "print(X2_test.shape)\n",
        "print(Y2_train.shape)\n",
        "print(Y2_test.shape)\n",
        "print(X2_val.shape)\n",
        "print(Y2_val.shape)\n",
        "\n",
        "print(X3_train.shape)\n",
        "print(X3_test.shape)\n",
        "print(Y3_train.shape)\n",
        "print(Y3_test.shape)\n",
        "print(X3_val.shape)\n",
        "print(Y3_val.shape)"
      ],
      "metadata": {
        "colab": {
          "base_uri": "https://localhost:8080/",
          "height": 0
        },
        "id": "PdBWaU9fSidd",
        "outputId": "cbfc6106-23c8-4eb9-fca6-ead8d30efec7"
      },
      "execution_count": 13,
      "outputs": [
        {
          "output_type": "stream",
          "name": "stdout",
          "text": [
            "(1192, 61)\n",
            "(341, 61)\n",
            "(1192,)\n",
            "(341,)\n",
            "(171, 61)\n",
            "(171,)\n",
            "(1192, 61)\n",
            "(341, 61)\n",
            "(1192,)\n",
            "(341,)\n",
            "(171, 61)\n",
            "(171,)\n",
            "(1190, 61)\n",
            "(340, 61)\n",
            "(1190,)\n",
            "(340,)\n",
            "(170, 61)\n",
            "(170,)\n",
            "(1195, 61)\n",
            "(342, 61)\n",
            "(1195,)\n",
            "(342,)\n",
            "(171, 61)\n",
            "(171,)\n"
          ]
        }
      ]
    },
    {
      "cell_type": "code",
      "source": [
        "def sigmoid(z):\n",
        "  return 1.0/(1 + np.exp(-z))"
      ],
      "metadata": {
        "id": "K7D1VrRDSqcO"
      },
      "execution_count": 14,
      "outputs": []
    },
    {
      "cell_type": "code",
      "source": [
        "def cost_function(X,y,w):\n",
        "  hypothesis = sigmoid(np.dot(X,w.T)) \n",
        "  J =-(1/m)*(np.sum(y*(np.log(hypothesis)) + (1-y)*np.log(1-hypothesis)))\n",
        "  return J\n"
      ],
      "metadata": {
        "id": "8GkXlcOrTKyp"
      },
      "execution_count": 15,
      "outputs": []
    },
    {
      "cell_type": "code",
      "source": [
        "def batch_gradient_descent(X,y,w,alpha,iters):\n",
        "  cost_history = np.zeros(iters) \n",
        "\n",
        "  for i in range(iters):\n",
        "    hypothesis = sigmoid(np.dot(X,w.T))\n",
        "    #w = w - (alpha/len(y)) * (np.dot((X.T) , (hypothesis - y))).T\n",
        "    w = w - (alpha/len(y))*np.dot((hypothesis - y), X)\n",
        "    cost_history[i] = cost_function(X,y,w)\n",
        "  return w,cost_history"
      ],
      "metadata": {
        "id": "pnEf76yhTTwp"
      },
      "execution_count": 16,
      "outputs": []
    },
    {
      "cell_type": "code",
      "source": [
        "def MB_gradient_descent(X,y,w,alpha, iters, batch_size):\n",
        "  cost_history = np.zeros(iters)\n",
        "  for i in range(iters):\n",
        "    rand_index = np.random.randint(len(y)-batch_size)\n",
        "    ind_x = X[rand_index:rand_index+batch_size]\n",
        "    ind_y = y[rand_index:rand_index+batch_size]\n",
        "    w = w - (alpha/batch_size)*(ind_x.T.dot(sigmoid(ind_x.dot(w)) - ind_y))\n",
        "\n",
        "    #w = w - (alpha/batch_size) * (ind_x.T.dot(sigmoid(ind_x.dot(w.T)) - ind_y)).T\n",
        "    cost_history[i] = cost_function(ind_x,ind_y,w)\n",
        "  return w, cost_history"
      ],
      "metadata": {
        "id": "zup7lsSOTTxk"
      },
      "execution_count": 17,
      "outputs": []
    },
    {
      "cell_type": "code",
      "source": [
        "def stochastic_gradient_descent(X,y,w,alpha, iters):\n",
        "  cost_history = np.zeros(iters)\n",
        "  for i in range(iters):\n",
        "    rand_index = np.random.randint(len(y)-1)\n",
        "    ind_x = X[rand_index:rand_index+1]\n",
        "    ind_y = y[rand_index:rand_index+1]\n",
        "    w = w - alpha*(ind_x.T.dot(sigmoid(ind_x.dot(w)) - ind_y))\n",
        "\n",
        "    #w = w - alpha * (ind_x.T.dot(sigmoid(ind_x.dot(w.T)) - ind_y)).T\n",
        "    cost_history[i] = cost_function(ind_x,ind_y,w)\n",
        "  return w, cost_history"
      ],
      "metadata": {
        "id": "MUVwkm1HTa_w"
      },
      "execution_count": 18,
      "outputs": []
    },
    {
      "cell_type": "code",
      "source": [
        "w= np.zeros((X0_train.shape[1])) \n",
        "#w = np.random.randn(1 , X_train.shape[1]).ravel()\n",
        "print(w.shape)\n"
      ],
      "metadata": {
        "colab": {
          "base_uri": "https://localhost:8080/",
          "height": 0
        },
        "id": "BwiTTyIJT3S9",
        "outputId": "25a8d70d-044a-42a6-e738-5841d98dd502"
      },
      "execution_count": 19,
      "outputs": [
        {
          "output_type": "stream",
          "name": "stdout",
          "text": [
            "(61,)\n"
          ]
        }
      ]
    },
    {
      "cell_type": "markdown",
      "source": [
        "FOR 1ST CLASS\n"
      ],
      "metadata": {
        "id": "WJ8jDE-lZ084"
      }
    },
    {
      "cell_type": "code",
      "source": [
        "alpha=0.5 ##learning rate\n",
        "iters=2000 ###iterations\n",
        "batch_w,J_his = batch_gradient_descent(X0_train,Y0_train,w,alpha,iters)\n",
        "plt.plot(range(iters),J_his)\n",
        "plt.show()"
      ],
      "metadata": {
        "colab": {
          "base_uri": "https://localhost:8080/",
          "height": 269
        },
        "id": "eJQaItBLT5-s",
        "outputId": "6780d94c-0bfa-48a7-f5d1-1dffd155095d"
      },
      "execution_count": 20,
      "outputs": [
        {
          "output_type": "display_data",
          "data": {
            "image/png": "[encoded data removed]",
            "text/plain": [
              "<Figure size 432x288 with 1 Axes>"
            ]
          },
          "metadata": {
            "needs_background": "light"
          }
        }
      ]
    },
    {
      "cell_type": "code",
      "source": [
        "z = np.dot(X0_test, batch_w.T)\n",
        "print(z.T)\n",
        "h = sigmoid(z)\n",
        "y_pred=h>0.5\n",
        "y_pred00=y_pred.astype(int)\n",
        "print(y_pred00.T)\n"
      ],
      "metadata": {
        "colab": {
          "base_uri": "https://localhost:8080/",
          "height": 0
        },
        "id": "e5DoW_1Ty6yY",
        "outputId": "cd10504e-defe-4615-9476-5fd399d6f94b"
      },
      "execution_count": 21,
      "outputs": [
        {
          "output_type": "stream",
          "name": "stdout",
          "text": [
            "[ 0.60523046 -0.5827384  -0.38504174 -0.52363551  0.11115987 -0.1583156\n",
            " -0.18023385  0.46985019 -0.39795366 -0.72364849  0.34651454  0.28983602\n",
            " -0.58199863 -0.53017778  0.03943928  0.10207558  0.18278337 -0.12781948\n",
            " -0.08626594 -1.25009147  0.09304403 -0.05363652  0.09667808 -0.2172249\n",
            " -0.72520347 -0.16507315 -0.51128348 -0.32534283  0.45838243  0.22850177\n",
            "  0.13580857  0.14029954 -0.10126846  0.10643189 -0.23310402  0.16338235\n",
            " -0.26825151 -0.34659639 -0.07200631  0.27168606 -0.12819707  0.76496063\n",
            " -0.22136403  0.14610172  0.10639124 -0.11427757  0.00475525 -0.61448891\n",
            " -0.81235964 -0.44261708  0.40132154  0.52087779  0.71344517  0.03849862\n",
            " -1.37906373  0.53657437  0.76496063 -0.24710184 -0.31748737  0.12441235\n",
            "  0.56677261 -0.86227765  0.35270564  0.42651424  0.59057244  0.30519262\n",
            "  0.76228519 -0.03026313 -0.58328503  0.4060624  -0.05630179  0.03816394\n",
            "  0.52287418  0.41859    -0.25338566 -0.38396338  0.31895833  0.56308259\n",
            "  0.8968476  -0.19213456 -0.17084441 -0.11058904 -0.20189275 -0.2461308\n",
            "  0.28611557 -0.21422636 -0.23571289  0.68572411 -0.06752653  0.05682749\n",
            " -0.33707223 -0.08405486  0.29590856  0.35350375  0.47359136 -1.01063208\n",
            " -0.2014164   0.36401177  0.8278498  -1.07894257  0.40730142 -0.77865689\n",
            " -0.03699439 -0.08845854 -0.80500426 -0.45069091 -0.6246757  -0.12391126\n",
            " -0.60857039  0.67832721 -0.09196451  0.25090257  0.00192076  0.39700163\n",
            "  0.32537654 -0.42056762 -0.18861095 -0.7966101  -0.13133453  0.17591805\n",
            "  0.79055479  0.24904219 -0.55268403  0.06683031 -0.42331008 -0.40411832\n",
            " -0.2780202  -0.36925945 -0.59524778  0.27968009  0.16276139  0.32815598\n",
            "  0.53741907 -0.42457458 -0.69677936  0.34972188  0.34031682 -1.04420564\n",
            " -0.15955607  0.20582794 -0.16171937  0.2347822  -0.09423092  0.2298036\n",
            " -0.44783871 -0.03228912  0.9476725  -0.24896966 -0.14659308 -0.5185726\n",
            " -0.39274888 -0.71348711  0.24342468 -0.45266816  0.64545419  0.08786614\n",
            " -0.4203629  -0.34484083 -0.04378761 -0.7250681   0.20652667 -0.76276513\n",
            "  0.2278557   0.47054928 -0.09152181  0.69513559 -0.55946857  0.24373023\n",
            " -0.40993929 -0.34721475 -0.76572384  1.46204083  0.2475854  -1.15265433\n",
            " -0.43839382  0.67169324  0.54829839 -0.21694092 -0.13537581 -0.35327835\n",
            " -0.67459367  0.91335008  0.85482456 -0.23058957  0.24735005 -0.78101113\n",
            " -0.16107287 -0.72013209  0.39328288 -0.49799233  0.06532361  0.78852359\n",
            "  0.04742128  0.59413158  0.65818271  0.45963934  0.03610001 -0.06089775\n",
            "  0.62061911  0.08975705  0.19821503 -0.75321293  0.05547451  0.09028656\n",
            " -0.2138323  -0.56382828  0.10363793  0.2087797   1.66904226  0.47429167\n",
            "  0.22655212  0.54006916 -0.32929519 -0.3248341  -0.1743496  -0.57598032\n",
            " -0.07845035 -0.14185702  0.38411918  0.61399735 -0.35287396 -0.57009845\n",
            "  0.5642787   1.24385189  0.25174997 -0.60907712 -0.70485018 -0.22225476\n",
            "  1.02881516 -0.09036836  0.27692385  0.99500877  1.06709059 -0.72959708\n",
            "  0.59302741 -0.28313906 -0.74200915  0.03527505 -0.02969911 -0.19230756\n",
            " -0.19336732 -0.16277921 -0.0969698   0.43809201  0.36295906 -0.69439279\n",
            "  0.11356018 -0.43556891 -0.17887153 -0.26126241 -0.21785206  0.54563414\n",
            " -0.56493258 -0.58367177 -0.13310679 -0.09638928  0.31721786  0.10525226\n",
            "  0.64459621  0.7402122   0.4646848   0.77197229 -0.37163242  0.81043606\n",
            " -0.0625583  -0.68740361  0.44693948 -0.36139711  0.19414128  0.92466928\n",
            "  1.0837762  -0.60789801 -0.30166272  0.34957844 -1.20962318 -0.53682972\n",
            " -0.07417154 -0.99610347 -0.79308521  0.10707387 -0.21316084  0.45291104\n",
            "  0.06635106  0.63222854  0.02490846  0.25174997  0.67052762 -0.52000083\n",
            " -0.02746105 -0.50518294  0.10293176 -0.53123608 -0.00511765  0.10363793\n",
            " -0.03604159 -0.05152951  0.17443962  0.0561391  -0.00287493  0.33398257\n",
            "  0.67266022  0.31031697 -0.22294385  0.15454608 -0.13844791  0.65281765\n",
            "  0.02711219  0.36964401 -0.00864373 -0.16032772  0.20513012 -0.55914923\n",
            " -0.09728972 -0.23590907  0.4829928  -0.02038147  0.2246516   0.40054571\n",
            " -0.16507315  0.17222864  0.50402236  0.54982949 -0.16437701  0.69411648\n",
            " -0.14716012 -0.0152922   0.27271331  0.82777554  0.02786057  0.1978041\n",
            " -0.56409731  0.35321894  0.0591145   0.82909278 -0.00894806 -0.47550827\n",
            " -0.13844791 -1.0824133  -0.85536618 -0.08490134 -0.01856734]\n",
            "[1 0 0 0 1 0 0 1 0 0 1 1 0 0 1 1 1 0 0 0 1 0 1 0 0 0 0 0 1 1 1 1 0 1 0 1 0\n",
            " 0 0 1 0 1 0 1 1 0 1 0 0 0 1 1 1 1 0 1 1 0 0 1 1 0 1 1 1 1 1 0 0 1 0 1 1 1\n",
            " 0 0 1 1 1 0 0 0 0 0 1 0 0 1 0 1 0 0 1 1 1 0 0 1 1 0 1 0 0 0 0 0 0 0 0 1 0\n",
            " 1 1 1 1 0 0 0 0 1 1 1 0 1 0 0 0 0 0 1 1 1 1 0 0 1 1 0 0 1 0 1 0 1 0 0 1 0\n",
            " 0 0 0 0 1 0 1 1 0 0 0 0 1 0 1 1 0 1 0 1 0 0 0 1 1 0 0 1 1 0 0 0 0 1 1 0 1\n",
            " 0 0 0 1 0 1 1 1 1 1 1 1 0 1 1 1 0 1 1 0 0 1 1 1 1 1 1 0 0 0 0 0 0 1 1 0 0\n",
            " 1 1 1 0 0 0 1 0 1 1 1 0 1 0 0 1 0 0 0 0 0 1 1 0 1 0 0 0 0 1 0 0 0 0 1 1 1\n",
            " 1 1 1 0 1 0 0 1 0 1 1 1 0 0 1 0 0 0 0 0 1 0 1 1 1 1 1 1 0 0 0 1 0 0 1 0 0\n",
            " 1 1 0 1 1 1 0 1 0 1 1 1 0 0 1 0 0 0 1 0 1 1 0 1 1 1 0 1 0 0 1 1 1 1 0 1 1\n",
            " 1 0 0 0 0 0 0 0]\n"
          ]
        }
      ]
    },
    {
      "cell_type": "code",
      "source": [
        "#Implementing Grid Search for hyperparameter tuning\n",
        "\n",
        "iters = 2000\n",
        "def grid_search00(w,X,y):\n",
        "  alpha_val = [0.01 , 0.05 , 0.1 , 0.15 , 0.2 , 0.5]\n",
        "  lambda_val = [0.05 , 0.1 , 0.15 , 0.2 , 0.5 , 1]\n",
        "  max_w = w\n",
        "  max_accuracy = 0\n",
        "  for alpha in alpha_val:\n",
        "    for Lambda in lambda_val:\n",
        "      w_temp , J_temp = batch_gradient_descent(X,y,w,alpha,iters)\n",
        "      m = y.shape[0]\n",
        "      hypothesis = sigmoid(np.dot(X0_val,w_temp.T))\n",
        "      error = hypothesis - y\n",
        "      accuracy = 100 - (np.mean(np.abs(hypothesis - y))*100)\n",
        "      if max_accuracy < accuracy:\n",
        "        max_accuracy = accuracy\n",
        "        max_w = w_temp\n",
        "  return max_w , max_accuracy\n"
      ],
      "metadata": {
        "id": "7hM75LIXFvw_"
      },
      "execution_count": 22,
      "outputs": []
    },
    {
      "cell_type": "code",
      "source": [
        "final_w , final_accuracy00 = grid_search00(w,X0_val,Y0_val)\n",
        "#print(final_w)\n",
        "print(final_accuracy00)"
      ],
      "metadata": {
        "id": "lAVKRbZSHX7o",
        "colab": {
          "base_uri": "https://localhost:8080/",
          "height": 0
        },
        "outputId": "f46a8ed6-8df0-4892-88f2-202e0729a2d1"
      },
      "execution_count": 23,
      "outputs": [
        {
          "output_type": "stream",
          "name": "stdout",
          "text": [
            "61.989218713660236\n"
          ]
        }
      ]
    },
    {
      "cell_type": "code",
      "source": [
        "alpha=0.2\n",
        "iters=2000\n",
        "batch_size=5\n",
        "mini_batch_w,J_mini_batch = MB_gradient_descent(X0_train,Y0_train,w,alpha,iters, batch_size)\n",
        "plt.plot(range(iters),J_mini_batch)\n",
        "plt.show()\n"
      ],
      "metadata": {
        "colab": {
          "base_uri": "https://localhost:8080/",
          "height": 265
        },
        "id": "-oag_d3qT8W1",
        "outputId": "0da37693-be26-46fe-e607-c36fe3eff5a2"
      },
      "execution_count": 25,
      "outputs": [
        {
          "output_type": "display_data",
          "data": {
            "image/png": "[encoded data removed]",
            "text/plain": [
              "<Figure size 432x288 with 1 Axes>"
            ]
          },
          "metadata": {
            "needs_background": "light"
          }
        }
      ]
    },
    {
      "cell_type": "code",
      "source": [
        "z = np.dot(X0_test, mini_batch_w.T)\n",
        "print(z.T)\n",
        "h = sigmoid(z)\n",
        "y_pred=h>0.5\n",
        "y_pred01=y_pred.astype(int)\n",
        "print(y_pred01.T)\n"
      ],
      "metadata": {
        "colab": {
          "base_uri": "https://localhost:8080/",
          "height": 0
        },
        "id": "DFkR6Gzhzl5c",
        "outputId": "1d336826-7fa1-447f-ba47-eb00d1000042"
      },
      "execution_count": 26,
      "outputs": [
        {
          "output_type": "stream",
          "name": "stdout",
          "text": [
            "[ 1.53644579e+00  8.95378529e-02  2.07371280e-01  2.77422600e-01\n",
            "  5.17506603e-01  1.71668975e-01  6.67157595e-02  9.41600697e-01\n",
            "  1.59043896e-01 -3.58755591e-01  9.22226279e-01  7.81523861e-01\n",
            "  3.01032130e-02  1.01516062e-01  6.28087004e-01  3.34588315e-01\n",
            "  7.19557322e-01  3.31226654e-01  3.68267658e-01 -6.32769839e-01\n",
            "  5.24284917e-01  4.81222806e-01  4.22395298e-01  7.56419317e-01\n",
            " -8.91244611e-02  4.94084127e-01 -2.15532988e-02  1.14726737e-01\n",
            "  1.00971815e+00  6.38748141e-01  5.19674587e-01  5.86694938e-01\n",
            "  1.47565973e-01  6.61192831e-01  1.71617498e-01  5.85680650e-01\n",
            "  2.07912525e-01  1.58308022e-01  6.32576320e-01  3.03671715e-01\n",
            "  2.41687653e-01  1.32021203e+00  4.11631405e-01  7.65284235e-01\n",
            "  3.16245425e-01  3.76540439e-01  4.77123026e-01 -6.45482079e-02\n",
            " -1.39019125e-01  1.66587837e-01  9.82996741e-01  9.94890421e-01\n",
            "  1.15771955e+00  2.74160111e-01 -9.22701741e-01  8.93902085e-01\n",
            "  1.32021203e+00  3.05510308e-01  2.34046465e-01  6.00038851e-01\n",
            "  7.45375195e-01 -5.15416129e-01  7.77809109e-01  1.03886760e+00\n",
            "  1.25804002e+00  5.66846019e-01  1.21904523e+00  7.30297328e-01\n",
            "  1.35407029e-01  1.01579024e+00  4.62695633e-01  3.63693517e-01\n",
            "  9.96728737e-01  6.26621942e-01  3.39040994e-01 -5.09495078e-03\n",
            "  8.16476980e-01  8.28485983e-01  1.21616509e+00  1.77686799e-01\n",
            "  3.55025131e-01  6.93429155e-01  4.43227815e-01  4.83570255e-02\n",
            "  7.71454659e-01  9.63966071e-02  5.42551192e-01  1.15288519e+00\n",
            "  5.67863749e-01  3.31314258e-01  3.65795692e-01  2.17736655e-01\n",
            "  6.25688562e-01  8.94153621e-01  9.96090039e-01 -2.07977139e-01\n",
            "  6.13298986e-01  1.24415487e+00  1.64920017e+00 -7.80959082e-01\n",
            "  9.29654433e-01 -1.51123972e-01  4.13263964e-01  3.84153872e-01\n",
            " -1.24860046e-01  3.39620945e-01 -1.83554468e-02  3.48443937e-01\n",
            " -2.00640604e-01  1.33785679e+00  3.35638175e-01  8.08514371e-01\n",
            "  9.13167754e-01  8.24441107e-01  8.85726689e-01  3.55390772e-01\n",
            "  3.11429786e-01 -7.89298910e-02  6.44887715e-04  8.11340652e-01\n",
            "  1.57303911e+00  6.84549144e-01  3.18265793e-01  5.74040262e-01\n",
            "  2.82450202e-01 -1.32132715e-03  2.88838113e-01  1.58612698e-01\n",
            " -1.99695722e-01  1.02625638e+00  8.21339325e-01  1.03403531e+00\n",
            "  9.62077308e-01  2.61787858e-01 -2.56638588e-01  8.26224290e-01\n",
            "  7.08895518e-01 -3.88206620e-01  6.41169281e-01  6.08848745e-01\n",
            "  5.06803369e-01  8.88354522e-01  7.00016151e-01  5.27762322e-01\n",
            "  2.04298402e-01  4.77017400e-01  1.55924706e+00  3.01551959e-01\n",
            "  5.28319800e-01 -8.33173574e-02  2.22617358e-01 -1.15131516e-01\n",
            "  3.35151003e-01 -6.50839107e-02  9.91936520e-01  6.15583177e-01\n",
            " -8.44174131e-02  4.68009979e-01  4.32738798e-01 -1.55535113e-01\n",
            "  7.53232817e-01 -1.51957736e-01  5.08278023e-01  1.19974165e+00\n",
            "  3.98109892e-01  1.35618700e+00  4.11435599e-02  8.01254860e-01\n",
            "  3.68255196e-01  2.06660530e-01 -2.92352229e-01  1.80437020e+00\n",
            "  5.10901147e-01 -3.34865727e-01 -3.93534518e-03  1.17540391e+00\n",
            "  1.00582192e+00  5.54724169e-01  8.68053256e-01  3.85854470e-01\n",
            " -9.34536671e-02  1.37609176e+00  1.32595198e+00  2.46436509e-01\n",
            "  7.72616067e-01 -3.15870420e-01  3.59100379e-01 -1.76906817e-02\n",
            "  1.17810000e+00  2.74760883e-01  4.65112604e-01  1.28959058e+00\n",
            "  4.93653085e-01  8.88890115e-01  1.07224891e+00  7.92064823e-01\n",
            "  2.38996178e-01  4.35921656e-01  7.69150165e-01  4.81849377e-01\n",
            "  8.99946620e-01 -3.97935714e-02  6.19977925e-01  5.12049979e-01\n",
            "  4.38844323e-01  2.46983625e-03  8.01897511e-01  7.54865816e-01\n",
            "  1.86098766e+00  7.04945979e-01  8.48583055e-01  1.25913020e+00\n",
            "  3.74960253e-01  4.78738701e-01  7.38745632e-01  1.60697430e-01\n",
            "  2.35173381e-01  4.94151360e-01  9.50015220e-01  1.02854925e+00\n",
            "  1.22515407e-01  1.00789245e-01  9.39135434e-01  1.92981061e+00\n",
            "  9.38284911e-01  1.06639089e-01 -4.13683043e-01  9.01826854e-01\n",
            "  1.47416534e+00  2.90784606e-01  7.36417712e-01  1.37441433e+00\n",
            "  1.32532528e+00 -3.41010722e-02  9.35630746e-01  2.41669448e-01\n",
            " -2.33089997e-01  5.21869556e-01  3.84140721e-01  3.12875703e-01\n",
            "  2.52363924e-01  4.29784221e-01  3.46630039e-01  9.70133797e-01\n",
            "  6.26653553e-01  7.90722711e-02  6.12836199e-01  2.56984582e-01\n",
            "  4.26529234e-01  7.40671114e-01  1.15966070e-01  1.20365123e+00\n",
            "  2.67066010e-01 -6.05354347e-03  4.87872303e-01  4.11793070e-01\n",
            "  7.57077467e-01  6.64759100e-01  1.04423750e+00  1.40593068e+00\n",
            "  1.29845966e+00  1.04761013e+00  4.82801187e-01  1.31091739e+00\n",
            "  2.90196448e-01 -2.56663193e-01  7.61564951e-01  2.26467021e-01\n",
            "  6.89333694e-01  1.22640058e+00  1.72126734e+00  2.44985050e-01\n",
            "  5.21963355e-01  8.66289071e-01 -4.20416919e-01  2.94296450e-01\n",
            "  7.09504613e-01 -5.57540129e-01 -2.51017658e-01  8.89975125e-01\n",
            "  4.88255569e-01  1.02817465e+00  5.78221354e-01  6.99388318e-01\n",
            "  7.65561950e-01  9.38284911e-01  1.24748882e+00 -9.78059591e-02\n",
            "  6.37394105e-01  3.64754101e-02  6.60153221e-01  9.94759849e-02\n",
            "  6.52987379e-01  8.01897511e-01  3.30392477e-01  3.63774976e-01\n",
            "  6.94051671e-01  5.86866729e-01  4.83711203e-01  7.99680800e-01\n",
            "  1.24475265e+00  8.36087781e-01  4.41753342e-01  9.90879245e-01\n",
            "  4.77607595e-01  1.26956459e+00  8.38704988e-01  1.11443864e+00\n",
            "  2.71455665e-01  1.94517729e-01  6.23352967e-01 -2.23765627e-02\n",
            "  7.11288370e-02  4.44348415e-01  1.04956474e+00  3.03030132e-01\n",
            "  7.83230697e-01  1.05186395e+00  4.94084127e-01  9.45419314e-01\n",
            "  1.00924136e+00  1.10761391e+00  1.39636788e-01  1.53241298e+00\n",
            "  9.83757403e-02  6.28435178e-01  8.76709792e-01  1.43599869e+00\n",
            "  6.33906705e-01  8.28838458e-01  2.37198422e-02  8.48988918e-01\n",
            "  2.74168655e-01  1.48101143e+00  5.50963469e-01  2.30854487e-01\n",
            "  4.77607595e-01 -5.62382759e-01 -1.31088500e-02  4.16533299e-01\n",
            "  3.58705601e-01]\n",
            "[1 1 1 1 1 1 1 1 1 0 1 1 1 1 1 1 1 1 1 0 1 1 1 1 0 1 0 1 1 1 1 1 1 1 1 1 1\n",
            " 1 1 1 1 1 1 1 1 1 1 0 0 1 1 1 1 1 0 1 1 1 1 1 1 0 1 1 1 1 1 1 1 1 1 1 1 1\n",
            " 1 0 1 1 1 1 1 1 1 1 1 1 1 1 1 1 1 1 1 1 1 0 1 1 1 0 1 0 1 1 0 1 0 1 0 1 1\n",
            " 1 1 1 1 1 1 0 1 1 1 1 1 1 1 0 1 1 0 1 1 1 1 1 0 1 1 0 1 1 1 1 1 1 1 1 1 1\n",
            " 1 0 1 0 1 0 1 1 0 1 1 0 1 0 1 1 1 1 1 1 1 1 0 1 1 0 0 1 1 1 1 1 0 1 1 1 1\n",
            " 0 1 0 1 1 1 1 1 1 1 1 1 1 1 1 1 0 1 1 1 1 1 1 1 1 1 1 1 1 1 1 1 1 1 1 1 1\n",
            " 1 1 1 1 0 1 1 1 1 1 1 0 1 1 0 1 1 1 1 1 1 1 1 1 1 1 1 1 1 1 1 0 1 1 1 1 1\n",
            " 1 1 1 1 1 1 0 1 1 1 1 1 1 1 1 0 1 1 0 0 1 1 1 1 1 1 1 1 0 1 1 1 1 1 1 1 1\n",
            " 1 1 1 1 1 1 1 1 1 1 1 1 1 1 1 0 1 1 1 1 1 1 1 1 1 1 1 1 1 1 1 1 1 1 1 1 1\n",
            " 1 1 1 1 0 0 1 1]\n"
          ]
        }
      ]
    },
    {
      "cell_type": "code",
      "source": [
        "#Implementing Grid Search for hyperparameter tuning\n",
        "\n",
        "iters = 2000\n",
        "def grid_search01(w,X,y):\n",
        "  alpha_val = [0.01 , 0.05 , 0.1 , 0.15 , 0.2 , 0.5]\n",
        "  lambda_val = [0.05 , 0.1 , 0.15 , 0.2 , 0.5 , 1]\n",
        "  max_w = w\n",
        "  max_accuracy = 0\n",
        "  for alpha in alpha_val:\n",
        "    for Lambda in lambda_val:\n",
        "      w_temp , J_temp = MB_gradient_descent(X,y,w,alpha,iters, batch_size)\n",
        "      m = y.shape[0]\n",
        "      hypothesis = sigmoid(np.dot(X0_val,w_temp.T))\n",
        "      error = hypothesis - y\n",
        "      accuracy = 100 - (np.mean(np.abs(hypothesis - y))*100)\n",
        "      if max_accuracy < accuracy:\n",
        "        max_accuracy = accuracy\n",
        "        max_w = w_temp\n",
        "  return max_w , max_accuracy"
      ],
      "metadata": {
        "id": "u5isjah2XS7o"
      },
      "execution_count": 27,
      "outputs": []
    },
    {
      "cell_type": "code",
      "source": [
        "final_w , final_accuracy01 = grid_search01(w,X0_val,Y0_val)\n",
        "#print(final_w)\n",
        "print(final_accuracy01)"
      ],
      "metadata": {
        "colab": {
          "base_uri": "https://localhost:8080/",
          "height": 0
        },
        "id": "7NsjkDyjXU7D",
        "outputId": "a9f987cd-109f-4570-99bd-781dbe570860"
      },
      "execution_count": 28,
      "outputs": [
        {
          "output_type": "stream",
          "name": "stdout",
          "text": [
            "63.82771315006708\n"
          ]
        }
      ]
    },
    {
      "cell_type": "code",
      "source": [
        "n_epochs=2000\n",
        "alpha=0.02\n",
        "w_n,J_sgd = stochastic_gradient_descent(X0_train,Y0_train,w, alpha, n_epochs)\n",
        "plt.plot(range(n_epochs),J_sgd)\n",
        "plt.show()\n"
      ],
      "metadata": {
        "id": "50vABeJfT_yz",
        "colab": {
          "base_uri": "https://localhost:8080/",
          "height": 265
        },
        "outputId": "4b38bbb3-94cc-4f67-f28d-b7d3751046b2"
      },
      "execution_count": 29,
      "outputs": [
        {
          "output_type": "display_data",
          "data": {
            "image/png": "[encoded data removed]",
            "text/plain": [
              "<Figure size 432x288 with 1 Axes>"
            ]
          },
          "metadata": {
            "needs_background": "light"
          }
        }
      ]
    },
    {
      "cell_type": "code",
      "source": [
        "z = np.dot(X0_test, w_n.T)\n",
        "print(z.T)\n",
        "h = sigmoid(z)\n",
        "y_pred=h>0.5\n",
        "y_pred02=y_pred.astype(int)\n",
        "print(y_pred02.T)\n"
      ],
      "metadata": {
        "colab": {
          "base_uri": "https://localhost:8080/",
          "height": 0
        },
        "id": "92-DmOKA0Agd",
        "outputId": "051ba824-88d7-4196-ee9d-cea07d56c28f"
      },
      "execution_count": 30,
      "outputs": [
        {
          "output_type": "stream",
          "name": "stdout",
          "text": [
            "[ 9.10474258e-01  3.65961824e-01 -1.00351930e-01  9.11102365e-02\n",
            "  3.71595114e-01  7.46017082e-02  2.71358533e-02  2.78830814e-01\n",
            "  1.25662419e-01 -2.16734250e-01  2.91698517e-01  3.63857186e-01\n",
            "  3.03789869e-01  3.85395594e-01  3.47633461e-01  2.15704992e-01\n",
            "  7.79828325e-02  2.65014304e-01  2.52860743e-01 -1.52582620e-01\n",
            "  9.37106304e-02  3.38068120e-01  2.85254259e-01  2.48847211e-01\n",
            "  7.00037769e-02  4.30148004e-01  2.36904976e-02  3.63675290e-02\n",
            "  4.22531075e-01  3.72299423e-01  4.31062949e-01  3.20824841e-01\n",
            " -1.17145375e-01  3.41845654e-01  2.75533073e-02  5.50375110e-01\n",
            "  2.44188217e-01  2.40407282e-01  2.06695928e-01  2.26891494e-02\n",
            " -1.14171191e-04  5.49292481e-01  1.80532717e-01  1.94330220e-01\n",
            " -6.94189592e-03  4.88082809e-01  4.37261741e-01  2.32442821e-01\n",
            " -2.43081559e-02  1.16987143e-02  7.29334223e-01  3.09476409e-01\n",
            "  3.74174029e-01 -2.06641900e-01 -3.79995558e-01  4.27879831e-01\n",
            "  5.49292481e-01 -7.82508953e-02  1.52236132e-01  2.78085705e-01\n",
            "  3.81707690e-01  3.36106075e-02  4.19654822e-01  1.18742318e-01\n",
            "  5.77539484e-01 -1.88191818e-02  2.62714986e-01  3.78831068e-01\n",
            "  5.69858310e-02  5.74575678e-01  3.74667905e-01  3.22606711e-01\n",
            "  7.85958131e-01  7.17549879e-02  1.79674624e-01 -3.95048242e-02\n",
            "  2.52671652e-01  3.47674235e-02  4.50651881e-01  1.29344968e-01\n",
            "  2.12793953e-01  5.76515953e-01  1.75096332e-01  4.52074941e-01\n",
            "  2.02385128e-01  3.14754915e-01  1.36843200e-01  4.08546560e-01\n",
            "  1.02306389e-01 -1.23528347e-01  1.51430713e-01 -5.23629337e-02\n",
            "  1.44881487e-02  3.20906699e-01  3.19855381e-01 -3.49570349e-03\n",
            "  5.75740029e-01  6.30328717e-01  7.30262837e-01 -2.17592072e-01\n",
            "  3.52121668e-01  4.12233371e-01  2.47879303e-02  3.46274770e-01\n",
            "  2.49030692e-03  1.54516428e-01 -1.53903136e-01  4.33369278e-01\n",
            " -4.05863390e-01  8.79790558e-01  4.08260819e-01  2.47540504e-01\n",
            "  6.45988883e-01 -9.56369684e-03  2.13364790e-01  2.73858231e-01\n",
            " -2.19122766e-01  9.83636267e-02 -2.15315865e-01  4.37953702e-01\n",
            "  7.87269106e-01  3.59254500e-01  2.19982242e-01  2.35691398e-01\n",
            "  9.70520982e-02  1.97513042e-01 -8.45140724e-02  7.79524295e-02\n",
            " -2.33184974e-01  4.58903851e-01  1.62224291e-01  3.85658469e-01\n",
            "  6.14272885e-01  1.00443816e-01 -2.52001178e-01  4.45518353e-01\n",
            "  2.70410919e-01 -1.23345062e-01  1.86342509e-01  2.14353190e-01\n",
            "  4.82390651e-01  6.32520982e-01  5.72525373e-01  1.59006325e-02\n",
            " -1.90359115e-01  2.25037335e-01  3.92400770e-01  4.96116012e-02\n",
            "  3.73669638e-01 -2.24969216e-01  1.89701342e-01  3.69855325e-01\n",
            " -1.06502028e-01  3.81278507e-01  2.21259051e-01  4.56282639e-01\n",
            "  1.48506630e-01  2.12355865e-01  1.94146891e-01 -2.13271113e-01\n",
            "  7.26832766e-01  1.07747129e-02  4.18793680e-01  8.47812177e-01\n",
            "  5.22056465e-03  6.63323136e-01  2.18599084e-02  3.11171734e-01\n",
            "  3.10163761e-01 -8.41455540e-02 -2.46149940e-01  7.16237967e-01\n",
            "  1.08185573e-01 -2.53124443e-02  2.70730355e-01  8.32561690e-01\n",
            "  3.51319471e-01  1.33621511e-01  6.44213002e-01  3.70914482e-01\n",
            " -9.15256402e-02  7.07042985e-01  4.92790257e-01  2.50357288e-02\n",
            "  5.21952362e-01 -1.43837230e-01  2.36632258e-01  1.84183338e-03\n",
            "  7.44879656e-01  1.71096984e-01  3.95262108e-01  7.28564348e-01\n",
            "  1.41945516e-01  3.91509075e-01  7.15153237e-03  4.59383723e-01\n",
            "  4.25486913e-01  4.63353457e-01  1.51583934e-03  3.98612494e-01\n",
            "  3.51395027e-01  2.27303804e-01  5.30302704e-01  1.24704072e-01\n",
            "  3.30663291e-01  2.36571734e-02  4.57334197e-01  3.34980108e-01\n",
            "  6.37817239e-01  3.61152522e-01  4.37630125e-01  4.23846754e-01\n",
            "  3.65334074e-01  3.00602317e-01  1.84804594e-01  9.02012617e-02\n",
            "  1.89366712e-01  4.12509652e-01  4.86365094e-01  5.29720782e-01\n",
            " -1.55052513e-01  1.49714759e-01  5.63327419e-01  8.21631221e-01\n",
            "  7.01808759e-01  8.19097336e-02  8.85165034e-02  4.59027434e-01\n",
            "  6.37167064e-01  3.41102216e-02  5.52977455e-01  8.65108360e-01\n",
            "  4.59548325e-01  3.09494319e-01  6.57935027e-01  1.43733340e-01\n",
            " -1.21515724e-01  4.64030979e-02  2.76441056e-01  9.54139299e-02\n",
            "  1.91540746e-01  4.81244823e-01  1.93610123e-01  5.26669333e-01\n",
            "  1.10685111e-01  9.48495721e-02  4.39244127e-01  5.10630266e-02\n",
            "  2.82532141e-01  5.76936677e-01  1.73162060e-01  1.69725066e-01\n",
            "  4.51209911e-01 -1.24346657e-01  3.33472278e-02  5.58008150e-02\n",
            "  1.36956715e-01  3.84446560e-01  3.46941999e-01  5.94364526e-01\n",
            "  6.00375317e-01  5.12335371e-01  3.32768136e-01  3.91719958e-01\n",
            "  2.10722663e-01 -2.53633406e-01  4.01346924e-01  1.83975707e-01\n",
            "  3.30865499e-01  6.43259686e-01  7.65339111e-01  2.24310020e-01\n",
            "  3.80668917e-01  3.58258917e-01  3.71488609e-01  2.48151292e-01\n",
            "  3.64251262e-01 -1.68727159e-01  2.04108304e-01  5.94617842e-01\n",
            "  1.00743630e-01  5.42454795e-01  3.08601200e-01  1.58481663e-01\n",
            "  5.38151282e-01  7.01808759e-01  3.18968941e-01  1.87544692e-01\n",
            "  4.36481920e-01 -1.60353282e-01  1.77713112e-01  4.08339773e-01\n",
            "  2.88732719e-01  4.57334197e-01  2.90349901e-01  2.25858634e-01\n",
            "  3.19857699e-01  3.83306017e-01  3.47093588e-01  6.36956109e-01\n",
            "  5.79808391e-01  5.12164654e-01  2.04134713e-01  6.37313717e-01\n",
            "  2.11675607e-01  8.79791329e-01  5.04351814e-01  5.04849684e-01\n",
            " -6.81152227e-02 -1.25766551e-01  3.90504200e-01  1.63584505e-01\n",
            " -1.49222546e-01  7.57002942e-02  3.17052434e-01  7.26434232e-02\n",
            "  3.62252236e-01  4.63297676e-01  4.30148004e-01  4.06522329e-01\n",
            "  3.72902183e-01  4.54362937e-01  2.63478359e-01  5.82423470e-01\n",
            " -3.97856372e-02  6.47782035e-01  1.09721903e-01  7.37138599e-01\n",
            "  5.52670725e-01  3.98970198e-01 -5.51641208e-02  3.16740220e-01\n",
            " -3.59677970e-02  5.60136458e-01  3.35360288e-01  2.68565560e-01\n",
            "  2.11675607e-01 -9.09901569e-03 -7.87971930e-03  4.37982152e-01\n",
            "  1.72433199e-01]\n",
            "[1 1 0 1 1 1 1 1 1 0 1 1 1 1 1 1 1 1 1 0 1 1 1 1 1 1 1 1 1 1 1 1 0 1 1 1 1\n",
            " 1 1 1 0 1 1 1 0 1 1 1 0 1 1 1 1 0 0 1 1 0 1 1 1 1 1 1 1 0 1 1 1 1 1 1 1 1\n",
            " 1 0 1 1 1 1 1 1 1 1 1 1 1 1 1 0 1 0 1 1 1 0 1 1 1 0 1 1 1 1 1 1 0 1 0 1 1\n",
            " 1 1 0 1 1 0 1 0 1 1 1 1 1 1 1 0 1 0 1 1 1 1 1 0 1 1 0 1 1 1 1 1 1 0 1 1 1\n",
            " 1 0 1 1 0 1 1 1 1 1 1 0 1 1 1 1 1 1 1 1 1 0 0 1 1 0 1 1 1 1 1 1 0 1 1 1 1\n",
            " 0 1 1 1 1 1 1 1 1 1 1 1 1 1 1 1 1 1 1 1 1 1 1 1 1 1 1 1 1 1 1 1 1 1 1 0 1\n",
            " 1 1 1 1 1 1 1 1 1 1 1 1 1 1 0 1 1 1 1 1 1 1 1 1 1 1 1 1 1 1 1 0 1 1 1 1 1\n",
            " 1 1 1 1 1 1 0 1 1 1 1 1 1 1 1 1 1 1 0 1 1 1 1 1 1 1 1 1 1 1 0 1 1 1 1 1 1\n",
            " 1 1 1 1 1 1 1 1 1 1 1 1 0 0 1 1 0 1 1 1 1 1 1 1 1 1 1 1 0 1 1 1 1 1 0 1 0\n",
            " 1 1 1 1 0 0 1 1]\n"
          ]
        }
      ]
    },
    {
      "cell_type": "code",
      "source": [
        "#Implementing Grid Search for hyperparameter tuning\n",
        "\n",
        "iters = 2000\n",
        "def grid_search02(w,X,y):\n",
        "  alpha_val = [0.01 , 0.05 , 0.1 , 0.15 , 0.2 , 0.5]\n",
        "  lambda_val = [0.05 , 0.1 , 0.15 , 0.2 , 0.5 , 1]\n",
        "  max_w = w\n",
        "  max_accuracy = 0\n",
        "  for alpha in alpha_val:\n",
        "    for Lambda in lambda_val:\n",
        "      w_temp , J_temp = stochastic_gradient_descent(X,y,w, alpha, n_epochs)\n",
        "      m = y.shape[0]\n",
        "      hypothesis = sigmoid(np.dot(X0_val,w_temp.T))\n",
        "      error = hypothesis - y\n",
        "      accuracy = 100 - (np.mean(np.abs(hypothesis - y))*100)\n",
        "      if max_accuracy < accuracy:\n",
        "        max_accuracy = accuracy\n",
        "        max_w = w_temp\n",
        "  return max_w , max_accuracy"
      ],
      "metadata": {
        "id": "FXmUW4ahXYU3"
      },
      "execution_count": 31,
      "outputs": []
    },
    {
      "cell_type": "code",
      "source": [
        "final_w , final_accuracy02 = grid_search02(w,X0_val,Y0_val)\n",
        "#print(final_w)\n",
        "print(final_accuracy02)"
      ],
      "metadata": {
        "colab": {
          "base_uri": "https://localhost:8080/",
          "height": 0
        },
        "id": "x7nQiQQfXYrJ",
        "outputId": "899c97db-af26-401d-cbc2-e510b24da262"
      },
      "execution_count": 32,
      "outputs": [
        {
          "output_type": "stream",
          "name": "stdout",
          "text": [
            "64.90045789477708\n"
          ]
        }
      ]
    },
    {
      "cell_type": "markdown",
      "source": [
        "For 2nd class"
      ],
      "metadata": {
        "id": "lHcxmqdPaBlx"
      }
    },
    {
      "cell_type": "code",
      "source": [
        "alpha=0.5 ##learning rate\n",
        "iters=2000 ###iterations\n",
        "batch_w,J_his = batch_gradient_descent(X1_train,Y1_train,w,alpha,iters)\n",
        "plt.plot(range(iters),J_his)\n",
        "plt.show()"
      ],
      "metadata": {
        "colab": {
          "base_uri": "https://localhost:8080/",
          "height": 265
        },
        "outputId": "006edcf5-8f71-49b5-a7a0-17ed4bcc6562",
        "id": "y0KwvL24Z_9i"
      },
      "execution_count": 33,
      "outputs": [
        {
          "output_type": "display_data",
          "data": {
            "image/png": "[encoded data removed]",
            "text/plain": [
              "<Figure size 432x288 with 1 Axes>"
            ]
          },
          "metadata": {
            "needs_background": "light"
          }
        }
      ]
    },
    {
      "cell_type": "code",
      "source": [
        "z = np.dot(X1_test, batch_w.T)\n",
        "print(z.T)\n",
        "h = sigmoid(z)\n",
        "y_pred=h>0.5\n",
        "y_pred10=y_pred.astype(int)\n",
        "print(y_pred10.T)\n"
      ],
      "metadata": {
        "colab": {
          "base_uri": "https://localhost:8080/",
          "height": 0
        },
        "id": "FWvddtHH0Gso",
        "outputId": "4b2b3d50-a0cb-4c33-f05b-5c874e789f82"
      },
      "execution_count": 34,
      "outputs": [
        {
          "output_type": "stream",
          "name": "stdout",
          "text": [
            "[ 0.20605428  0.2836073  -0.32759662  0.45973832 -1.03678688  0.01401123\n",
            " -0.46559736  0.18100968 -0.52005657 -0.0923928  -0.1578865   0.45844802\n",
            " -0.0231075  -0.27572919 -0.02320431  0.20429646  0.73773658 -0.59013995\n",
            "  0.15930308 -0.83652801  0.22177429 -0.29772814 -0.52512051  0.54039364\n",
            " -0.50569967 -0.10149029 -0.15321353  0.54214764  0.71163504  0.40976053\n",
            " -0.67632075  0.60529675 -0.79116015  0.17916213  0.04356    -0.01595991\n",
            " -0.24822852  0.58740321  0.09904848  0.08368694 -0.15121684  0.17770536\n",
            " -1.48674064 -0.2938668  -0.45120682  0.47402248 -1.00505322 -0.45241443\n",
            " -0.37036267 -0.40978659  0.15876593  0.45271993  0.71321237  0.36770213\n",
            " -0.9378427  -0.24500129  0.17770536 -0.75236652 -0.69045376  0.32198659\n",
            "  0.42480773 -0.80847192  0.02491534 -1.26547982 -0.55527827 -0.24794112\n",
            "  0.4847859  -0.21339646 -2.13250043 -0.01747765 -1.04877571  0.14571269\n",
            "  0.19003591  0.19947823  0.08325302  0.76191582 -0.09993405 -0.23357022\n",
            " -0.12441611  0.07623105 -0.05353142 -0.02011198  0.98875534  0.13161147\n",
            " -0.15517775 -0.14891221 -0.33648486 -0.0134407   0.38577991 -0.15210884\n",
            " -0.27630556  0.09810342  0.15141467 -0.18760365  0.51357825 -0.00976959\n",
            " -0.37177888  0.14600061 -0.29178335 -0.1599215   0.56162696  0.44838458\n",
            " -0.28328888 -0.15168119 -0.11524243 -0.55223936 -0.03618364 -0.20810264\n",
            " -0.10803164 -0.44625408 -0.22631061  0.58892403 -0.28119144 -0.16190191\n",
            "  0.2063806  -0.03842112 -1.11549854 -0.92418828 -0.41188894 -0.17320926\n",
            "  0.41435794 -0.69309884 -0.75683013  0.72423586  0.16620075 -0.21553912\n",
            "  0.22920002 -0.7591299  -0.07610519 -0.0483803  -0.06715346 -0.09069931\n",
            "  0.45327544 -0.16149866 -0.13349794 -0.17183138 -0.24812498 -0.48553091\n",
            " -1.22044854  0.17080719 -0.07876862  0.07238781  0.14746069 -0.29494344\n",
            " -0.18624005 -0.03009235  0.82227763 -0.13876834 -0.26641168  0.27102248\n",
            " -0.10308586 -0.4075898  -0.22433177 -0.86945897 -0.0082013   0.19530748\n",
            " -0.89140013 -0.63482422  0.13823133 -0.43625285 -0.13342113 -0.38120642\n",
            "  0.39318937 -0.07393127  0.6055064   0.96512782 -0.45742145  0.73217004\n",
            " -0.60417877  0.04278718  0.32667814  0.35612549  0.21682432 -0.6804379\n",
            " -0.314019   -0.52787858 -0.7281104   0.36056365  1.09405244  0.476417\n",
            "  0.16870149  0.39901225  0.35015086  0.03534213  0.39594891 -0.98967097\n",
            "  0.10324689  0.52825556  0.98638305 -0.34613725  0.39375999  0.17597593\n",
            " -0.1131031  -0.23898939 -1.23064059  0.6726201   0.3491736  -0.05356992\n",
            "  0.67061748 -0.30532601  0.12779889  0.02268544  0.04128935 -0.8072978\n",
            "  0.13187148  0.14335183  0.18342558  0.91038574  0.42920176  0.2333832\n",
            " -0.45169489 -0.20662485 -1.05139275 -0.32798124  0.1381542   0.01926832\n",
            " -0.23504659 -0.11106224  0.55422835 -1.06657185  0.11033156 -0.76073058\n",
            " -0.34376902  1.4518179   0.13518193 -0.54666438 -0.49719363  0.47532725\n",
            " -0.09328105  0.19806022  0.15485821  1.10132655  0.37749731 -0.06517402\n",
            " -0.63343368 -0.51454715  0.65342462 -0.31615044 -0.61527357  0.02383906\n",
            " -0.22049131  0.42584571 -0.23755746 -0.67851083 -0.77776937 -0.6845884\n",
            " -0.50305726 -0.46639092 -0.50475325  0.28678833  0.13939736  0.69227305\n",
            " -0.31070395 -0.00807141  0.29836941 -0.29539144 -1.11644488 -0.23515161\n",
            "  0.07482828  0.5987879   0.45180765  0.25372036 -0.48652155  0.23611475\n",
            " -0.09368765  0.4249425   0.44205687 -0.06202011  0.15783524 -0.3072158\n",
            "  1.28989519 -0.04149076  0.6694386   0.54471041  0.31950542  0.66720118\n",
            "  0.02558511 -0.56414433 -0.339351   -0.24596408  0.16126679  0.29191\n",
            " -0.0469421   0.52501579  0.72473656  0.13518193  0.05557822 -0.23009665\n",
            "  0.68417403  0.26366814  0.15588173  0.18490099  0.22407615  0.18342558\n",
            "  0.09447566  0.07271645  0.10506309  0.19474647 -0.25703177 -0.69882444\n",
            "  0.1264389   0.46746921  0.14538828 -0.26273004  0.49892725  0.41276024\n",
            " -0.24441748 -0.06327144 -0.68041616  0.99112684 -0.18698782 -0.48930002\n",
            " -0.56374975  0.58925753 -0.31194824 -0.58904495  0.1150238   0.96828247\n",
            " -0.10149029  0.31270656 -0.13513408 -0.4100368  -0.07132264  0.62773299\n",
            "  0.36501677  0.7008734   0.42951824 -0.10080666 -0.22559873  0.74247222\n",
            "  0.48034327  0.56523129 -0.23475003 -0.2355809   0.10527872 -0.08847903\n",
            "  0.49892725 -0.22747085 -0.25559168  0.17000515 -0.00420924]\n",
            "[1 1 0 1 0 1 0 1 0 0 0 1 0 0 0 1 1 0 1 0 1 0 0 1 0 0 0 1 1 1 0 1 0 1 1 0 0\n",
            " 1 1 1 0 1 0 0 0 1 0 0 0 0 1 1 1 1 0 0 1 0 0 1 1 0 1 0 0 0 1 0 0 0 0 1 1 1\n",
            " 1 1 0 0 0 1 0 0 1 1 0 0 0 0 1 0 0 1 1 0 1 0 0 1 0 0 1 1 0 0 0 0 0 0 0 0 0\n",
            " 1 0 0 1 0 0 0 0 0 1 0 0 1 1 0 1 0 0 0 0 0 1 0 0 0 0 0 0 1 0 1 1 0 0 0 1 0\n",
            " 0 1 0 0 0 0 0 1 0 0 1 0 0 0 1 0 1 1 0 1 0 1 1 1 1 0 0 0 0 1 1 1 1 1 1 1 1\n",
            " 0 1 1 1 0 1 1 0 0 0 1 1 0 1 0 1 1 1 0 1 1 1 1 1 1 0 0 0 0 1 1 0 0 1 0 1 0\n",
            " 0 1 1 0 0 1 0 1 1 1 1 0 0 0 1 0 0 1 0 1 0 0 0 0 0 0 0 1 1 1 0 0 1 0 0 0 1\n",
            " 1 1 1 0 1 0 1 1 0 1 0 1 0 1 1 1 1 1 0 0 0 1 1 0 1 1 1 1 0 1 1 1 1 1 1 1 1\n",
            " 1 1 0 0 1 1 1 0 1 1 0 0 0 1 0 0 0 1 0 0 1 1 0 1 0 0 0 1 1 1 1 0 0 1 1 1 0\n",
            " 0 1 0 1 0 0 1 0]\n"
          ]
        }
      ]
    },
    {
      "cell_type": "code",
      "source": [
        "#Implementing Grid Search for hyperparameter tuning\n",
        "\n",
        "iters = 2000\n",
        "def grid_search10(w,X,y):\n",
        "  alpha_val = [0.01 , 0.05 , 0.1 , 0.15 , 0.2 , 0.5]\n",
        "  lambda_val = [0.05 , 0.1 , 0.15 , 0.2 , 0.5 , 1]\n",
        "  max_w = w\n",
        "  max_accuracy = 0\n",
        "  for alpha in alpha_val:\n",
        "    for Lambda in lambda_val:\n",
        "      w_temp , J_temp = batch_gradient_descent(X,y,w,alpha,iters)\n",
        "      m = y.shape[0]\n",
        "      hypothesis = sigmoid(np.dot(X0_val,w_temp.T))\n",
        "      error = hypothesis - y\n",
        "      accuracy = 100 - (np.mean(np.abs(hypothesis - y))*100)\n",
        "      if max_accuracy < accuracy:\n",
        "        max_accuracy = accuracy\n",
        "        max_w = w_temp\n",
        "  return max_w , max_accuracy\n"
      ],
      "metadata": {
        "id": "Oe6QAyG2Z_9i"
      },
      "execution_count": 35,
      "outputs": []
    },
    {
      "cell_type": "code",
      "source": [
        "final_w , final_accuracy10 = grid_search10(w,X1_val,Y1_val)\n",
        "#print(final_w)\n",
        "print(final_accuracy10)"
      ],
      "metadata": {
        "colab": {
          "base_uri": "https://localhost:8080/",
          "height": 0
        },
        "outputId": "dbad7665-b8d1-4006-e24c-59d43e8b8e5e",
        "id": "gMmJz3TRZ_9i"
      },
      "execution_count": 36,
      "outputs": [
        {
          "output_type": "stream",
          "name": "stdout",
          "text": [
            "55.70365881841955\n"
          ]
        }
      ]
    },
    {
      "cell_type": "code",
      "source": [
        "alpha=0.2\n",
        "iters=2000\n",
        "batch_size=5\n",
        "mini_batch_w,J_mini_batch = MB_gradient_descent(X1_train,Y1_train,w,alpha,iters, batch_size)\n",
        "plt.plot(range(iters),J_mini_batch)\n",
        "plt.show()\n"
      ],
      "metadata": {
        "colab": {
          "base_uri": "https://localhost:8080/",
          "height": 265
        },
        "outputId": "a23824ec-9dfb-484c-942b-80ab9d143376",
        "id": "ZlNoybrSZ_9i"
      },
      "execution_count": 38,
      "outputs": [
        {
          "output_type": "display_data",
          "data": {
            "image/png": "[encoded data removed]",
            "text/plain": [
              "<Figure size 432x288 with 1 Axes>"
            ]
          },
          "metadata": {
            "needs_background": "light"
          }
        }
      ]
    },
    {
      "cell_type": "code",
      "source": [
        "z = np.dot(X1_test, mini_batch_w.T)\n",
        "print(z.T)\n",
        "h = sigmoid(z)\n",
        "y_pred=h>0.5\n",
        "y_pred11=y_pred.astype(int)\n",
        "print(y_pred11.T)\n"
      ],
      "metadata": {
        "colab": {
          "base_uri": "https://localhost:8080/",
          "height": 0
        },
        "id": "u5NaXi080MWg",
        "outputId": "3410c064-4db0-461a-f810-07ac7e33a283"
      },
      "execution_count": 39,
      "outputs": [
        {
          "output_type": "stream",
          "name": "stdout",
          "text": [
            "[-0.00341446  0.10199999 -0.37491336  0.4148656  -0.87599057  0.30989729\n",
            "  0.00419517  0.46096132 -0.03825048  0.60807693 -0.24953945  0.50520808\n",
            " -0.0511969  -0.06736482  0.37633327  0.38827342  0.67842902 -0.29973482\n",
            "  0.67761947 -0.60458833  0.42383606 -0.13166206 -0.03381025  0.74808694\n",
            " -0.25152908  0.05378927  0.02533835  1.11325404  0.4963162   0.61494391\n",
            " -0.88285138  0.60722188 -0.23018152  0.23649877  0.04464256  0.01373638\n",
            "  0.27167539  1.09459637  0.10660106  0.34876275  0.38664255  0.1662739\n",
            " -1.28940262 -0.32876214  0.25959598  0.81156827 -0.88122391 -0.10061509\n",
            " -0.35853298 -0.40271262  0.28053267  0.42833198  0.68486258  0.31614691\n",
            " -0.33165312 -0.12045549  0.1662739  -0.5908284  -0.4884599   0.37813203\n",
            "  0.53106391 -0.28953421 -0.20286293 -0.78962051 -0.46850415  0.43220578\n",
            "  0.34784188 -0.03305444 -0.99173632  0.04411064 -0.37013107  0.2354581\n",
            "  0.61356305  0.52606904  0.23099185  0.72918468 -0.0543225  -0.05815127\n",
            "  0.03324395  0.63435848  0.16755063  0.05401948  1.05340204  0.68599672\n",
            "  0.17692342  0.27695566 -0.0126266   0.01610217  0.29859644  0.19900173\n",
            " -0.51786461  0.27169141  0.32121    -0.1944859   0.70820918  0.29603748\n",
            " -0.25755014 -0.30114163 -0.34173749  0.08670532  0.63061254  0.52293583\n",
            " -0.04072932  0.17662376  0.24252343 -0.15496894  0.13852769  0.11106603\n",
            "  0.04956785 -0.26304729  0.25993644  0.99149379  0.2969356  -0.15324586\n",
            "  0.29384844  0.09658134 -0.89475834 -0.84118052  0.00253815  0.17069756\n",
            "  0.15767543 -0.0903002  -0.60624784  0.57245879  0.26034094  0.41806542\n",
            "  0.07440499 -0.43471927  0.62005039  0.17653325  0.22333427  0.20707096\n",
            "  0.30081182  0.12140727 -0.03315111  0.01585772 -0.28924134  0.31883832\n",
            " -1.43360073  0.34649884  0.04836025  0.29980095  0.06806909 -0.06536375\n",
            "  0.12437233  0.10407209  0.67557595 -0.06554557  0.10239624  0.76294406\n",
            "  0.33962811  0.03430917 -0.13699957 -0.5828728   0.00987074  0.34765668\n",
            " -0.65027997 -0.28044184  0.71640259 -0.09327803 -0.16599657  0.04513976\n",
            "  0.27816844 -0.08386125  0.99540816  1.03290915 -0.38456364  0.66817481\n",
            " -0.5165624  -0.0962205   0.63595588  0.50985566  0.18346301 -0.2487976\n",
            " -0.21452662 -0.45429948 -0.32608508  0.48984947  1.31567205  1.02326476\n",
            "  0.2563076   0.36061001  0.48091355  0.08535187  0.36511896 -0.81043823\n",
            "  0.40687128  0.51968396  1.0265327   0.02647482  0.58299349  0.18630016\n",
            "  0.29498306  0.19815681 -0.45571241  0.9601413   0.54566876 -0.05384161\n",
            "  0.85906586  0.17446215 -0.09996732  0.03832712  0.03157511 -0.60939705\n",
            "  0.18484803  0.56409177  0.07809907  1.24820921  0.68667442  0.26300805\n",
            "  0.07655558  0.27716754 -0.962709   -0.38225026  0.27228464  0.07684641\n",
            " -0.06250921  0.01889289  0.74098585 -0.42126692  0.34342936 -0.69397215\n",
            " -0.24066556  1.35202471 -0.04621032 -0.25511704 -0.36923482  0.28219994\n",
            "  0.33496188  0.47035957  0.21112935  1.16855353  0.76136538  0.01021848\n",
            " -0.36747727 -0.28003277  0.72962079 -0.00431144 -0.3071858   0.60054702\n",
            " -0.12453541  0.49307371 -0.06342409 -0.22621854 -0.31779985 -0.54250779\n",
            " -0.33816948 -0.22031152 -0.32460678  0.37308709  0.34799178  0.51185973\n",
            " -0.09432165 -0.0102083   0.28005253  0.09467744 -0.72164263 -0.04798123\n",
            "  0.156983    0.75335517  0.61236165  0.63129913 -0.32701343  0.54637203\n",
            "  0.15882606  0.84268349  0.60093031  0.33524734  0.41611166 -0.06764893\n",
            "  1.45352503  0.008493    0.5330758   0.67182638  0.44999314  1.14242501\n",
            "  0.64761016 -0.17746028 -0.01066242 -0.07087007  0.31733819  0.35236593\n",
            "  0.01026031  0.82514258  0.81358006 -0.04621032  0.46063897  0.09665027\n",
            "  0.51017634  0.4248355   0.39578899  0.20491925  0.43412223  0.07809907\n",
            "  0.03244359  0.31341339  0.16142182  0.12491665  0.03289254 -0.3676058\n",
            "  0.26000508  0.63648335  0.10285827 -0.32856606  0.2903839   0.35221125\n",
            " -0.04836558 -0.17067513 -0.42155444  1.22763326 -0.15298101  0.00438252\n",
            " -0.24486741  0.23759926 -0.13269675 -0.0694803   0.48536087  1.00471652\n",
            "  0.05378927  0.52977897 -0.03364675 -0.00397657  0.4195832   0.68207555\n",
            "  0.79569576  0.65605821  0.57243204 -0.07019763 -0.16601683  0.67962914\n",
            "  0.64189876  0.6164017   0.06309036  0.32697774 -0.01299329  0.00880366\n",
            "  0.2903839  -0.0578419   0.03027998  0.39092071  0.20883879]\n",
            "[0 1 0 1 0 1 1 1 0 1 0 1 0 0 1 1 1 0 1 0 1 0 0 1 0 1 1 1 1 1 0 1 0 1 1 1 1\n",
            " 1 1 1 1 1 0 0 1 1 0 0 0 0 1 1 1 1 0 0 1 0 0 1 1 0 0 0 0 1 1 0 0 1 0 1 1 1\n",
            " 1 1 0 0 1 1 1 1 1 1 1 1 0 1 1 1 0 1 1 0 1 1 0 0 0 1 1 1 0 1 1 0 1 1 1 0 1\n",
            " 1 1 0 1 1 0 0 1 1 1 0 0 1 1 1 1 0 1 1 1 1 1 1 0 1 0 1 0 1 1 1 1 0 1 1 1 0\n",
            " 1 1 1 1 0 0 1 1 0 0 1 0 0 1 1 0 1 1 0 1 0 0 1 1 1 0 0 0 0 1 1 1 1 1 1 1 1\n",
            " 0 1 1 1 1 1 1 1 1 0 1 1 0 1 1 0 1 1 0 1 1 1 1 1 1 1 1 0 0 1 1 0 1 1 0 1 0\n",
            " 0 1 0 0 0 1 1 1 1 1 1 1 0 0 1 0 0 1 0 1 0 0 0 0 0 0 0 1 1 1 0 0 1 1 0 0 1\n",
            " 1 1 1 0 1 1 1 1 1 1 0 1 1 1 1 1 1 1 0 0 0 1 1 1 1 1 0 1 1 1 1 1 1 1 1 1 1\n",
            " 1 1 1 0 1 1 1 0 1 1 0 0 0 1 0 1 0 1 0 0 1 1 1 1 0 0 1 1 1 1 1 0 0 1 1 1 1\n",
            " 1 0 1 1 0 1 1 1]\n"
          ]
        }
      ]
    },
    {
      "cell_type": "code",
      "source": [
        "#Implementing Grid Search for hyperparameter tuning\n",
        "\n",
        "iters = 2000\n",
        "def grid_search11(w,X,y):\n",
        "  alpha_val = [0.01 , 0.05 , 0.1 , 0.15 , 0.2 , 0.5]\n",
        "  lambda_val = [0.05 , 0.1 , 0.15 , 0.2 , 0.5 , 1]\n",
        "  max_w = w\n",
        "  max_accuracy = 0\n",
        "  for alpha in alpha_val:\n",
        "    for Lambda in lambda_val:\n",
        "      w_temp , J_temp = MB_gradient_descent(X,y,w,alpha,iters, batch_size)\n",
        "      m = y.shape[0]\n",
        "      hypothesis = sigmoid(np.dot(X0_val,w_temp.T))\n",
        "      error = hypothesis - y\n",
        "      accuracy = 100 - (np.mean(np.abs(hypothesis - y))*100)\n",
        "      if max_accuracy < accuracy:\n",
        "        max_accuracy = accuracy\n",
        "        max_w = w_temp\n",
        "  return max_w , max_accuracy"
      ],
      "metadata": {
        "id": "Lb2qwudZZ_9i"
      },
      "execution_count": 40,
      "outputs": []
    },
    {
      "cell_type": "code",
      "source": [
        "final_w , final_accuracy11 = grid_search02(w,X1_val,Y1_val)\n",
        "#print(final_w)\n",
        "print(final_accuracy11)"
      ],
      "metadata": {
        "colab": {
          "base_uri": "https://localhost:8080/",
          "height": 0
        },
        "outputId": "b94efa28-df16-4a9b-d335-851140c0ed2b",
        "id": "ddc05trRZ_9j"
      },
      "execution_count": 41,
      "outputs": [
        {
          "output_type": "stream",
          "name": "stdout",
          "text": [
            "59.56363065879727\n"
          ]
        }
      ]
    },
    {
      "cell_type": "code",
      "source": [
        "n_epochs=2000\n",
        "alpha=0.02\n",
        "w_n,J_sgd = stochastic_gradient_descent(X1_train,Y1_train,w, alpha, n_epochs)\n",
        "plt.plot(range(n_epochs),J_sgd)\n",
        "plt.show()\n"
      ],
      "metadata": {
        "colab": {
          "base_uri": "https://localhost:8080/",
          "height": 268
        },
        "outputId": "b1416814-9c41-4d33-a165-88b0dc8abf9b",
        "id": "UNrHkRAcZ_9j"
      },
      "execution_count": 42,
      "outputs": [
        {
          "output_type": "display_data",
          "data": {
            "image/png": "[encoded data removed]",
            "text/plain": [
              "<Figure size 432x288 with 1 Axes>"
            ]
          },
          "metadata": {
            "needs_background": "light"
          }
        }
      ]
    },
    {
      "cell_type": "code",
      "source": [
        "z = np.dot(X1_test, w_n.T)\n",
        "print(z.T)\n",
        "h = sigmoid(z)\n",
        "y_pred=h>0.5\n",
        "y_pred12=y_pred.astype(int)\n",
        "print(y_pred12.T)\n"
      ],
      "metadata": {
        "colab": {
          "base_uri": "https://localhost:8080/",
          "height": 0
        },
        "id": "ChIrJU_H0VrR",
        "outputId": "95886a24-522f-43ad-a599-7e5d565b50a8"
      },
      "execution_count": 43,
      "outputs": [
        {
          "output_type": "stream",
          "name": "stdout",
          "text": [
            "[-0.06071628  0.29039843 -0.13345838 -0.10813892 -0.27683103 -0.01378348\n",
            " -0.25671363 -0.20259672  0.09520474 -0.04302216 -0.38663208  0.01692447\n",
            " -0.11439305  0.01846571  0.14671267  0.03901501 -0.12543841 -0.25174054\n",
            " -0.29685716 -0.26624767 -0.2286897  -0.22222116 -0.25140379  0.08095896\n",
            " -0.32927848 -0.19597215 -0.07227167  0.08799184 -0.01131129  0.15354863\n",
            " -0.22061969 -0.05593865 -0.2796826  -0.19005761  0.16817831 -0.15155631\n",
            " -0.09948279 -0.14136849 -0.10660033 -0.03935717 -0.18612944 -0.05824675\n",
            " -0.07244342 -0.23237784 -0.32024206  0.29560463 -0.09157634 -0.13686411\n",
            " -0.3391946  -0.2600913   0.19557602 -0.16753924  0.28691291 -0.15363184\n",
            " -0.59508613 -0.07258996 -0.05824675 -0.21819797 -0.23146133 -0.33229906\n",
            "  0.1412445  -0.40741095 -0.25857873 -0.41397246 -0.43041111 -0.25829611\n",
            " -0.27660162 -0.28718789 -0.58971756  0.17828616 -0.59627746  0.03570052\n",
            " -0.15214883  0.00066666 -0.07707919 -0.07002081  0.09711351 -0.30719093\n",
            " -0.16011176 -0.03110892 -0.1081599  -0.17189064 -0.16115604  0.18430393\n",
            "  0.03755317  0.06110967 -0.29524743 -0.35242417 -0.06593518 -0.26015441\n",
            " -0.36537563 -0.32535255 -0.14642095 -0.23430131  0.16740248 -0.34640827\n",
            "  0.04660349 -0.28298959 -0.35765331 -0.21065355  0.17947082  0.15236494\n",
            " -0.13181912 -0.06809581 -0.24583046 -0.22148297 -0.06416181 -0.1239146\n",
            " -0.10415855 -0.3069859   0.06605476  0.07305766 -0.30076198 -0.01746246\n",
            " -0.1386814   0.21885348 -0.48831359 -0.31656486 -0.18426613 -0.4584301\n",
            " -0.07225936 -0.27598365 -0.28280295 -0.11759452 -0.12423332 -0.42858825\n",
            " -0.3177075  -0.43636097 -0.07811155 -0.03195517 -0.07257983 -0.01832345\n",
            "  0.35281882 -0.30274624 -0.12647817  0.13908319 -0.2526925  -0.03855356\n",
            " -0.45664735  0.053887    0.0391844   0.06891349 -0.16900374 -0.27635208\n",
            " -0.29962662 -0.25017706 -0.09643405 -0.24170231 -0.23764903 -0.08493189\n",
            "  0.07796358 -0.1860434  -0.17335621 -0.12095072 -0.20997855 -0.2891628\n",
            " -0.60525782 -0.29292564 -0.05659114 -0.26257211 -0.2345046  -0.22199501\n",
            "  0.26867644 -0.07914945  0.21132593  0.27378146 -0.31556923  0.09103508\n",
            " -0.35253694 -0.20702937  0.21385274  0.24842767  0.27095096 -0.22322746\n",
            "  0.1639485  -0.45157949 -0.29113884 -0.13940788  0.18306431 -0.04441488\n",
            " -0.04384403 -0.14674177 -0.05680041 -0.10690831 -0.13388781 -0.46221382\n",
            " -0.26817615  0.13371921  0.3591668  -0.18053921 -0.10548429  0.1336229\n",
            " -0.07401679 -0.17987175 -0.40082108  0.02070066 -0.10982494 -0.23390362\n",
            " -0.10612615 -0.11220403 -0.36413085 -0.06286885 -0.0963975  -0.41781999\n",
            " -0.13067736 -0.05425213  0.0831218  -0.03912088  0.18756744 -0.0989971\n",
            " -0.09168357 -0.1129452  -0.17446856 -0.20360812 -0.32827743 -0.20657736\n",
            " -0.21166518 -0.29061073  0.00831732 -0.56807437 -0.19535522  0.11370679\n",
            " -0.42230851  0.43284336  0.01906059 -0.16317318 -0.11108686 -0.19891125\n",
            " -0.18432415  0.1334623   0.17323311  0.35991891  0.11634344 -0.2822665\n",
            " -0.27678214 -0.26726303  0.27061699 -0.26070057 -0.36261453 -0.21420424\n",
            " -0.18844074  0.22467141 -0.22460852 -0.00939629 -0.19599788 -0.38102981\n",
            " -0.06522786 -0.21374918 -0.393285    0.11097984 -0.03145642 -0.10851364\n",
            " -0.15288694 -0.17514375 -0.17932768 -0.0823144  -0.57002    -0.34255363\n",
            " -0.02272333 -0.13390593  0.0543307   0.1333437  -0.05231257  0.13541948\n",
            "  0.10142387 -0.09287298 -0.14128083  0.1305926  -0.09637092 -0.12514546\n",
            "  0.23751292 -0.23250522 -0.08206594 -0.10919585  0.06036513  0.1174851\n",
            " -0.14582572 -0.2657343  -0.15335228 -0.25307415 -0.26998124 -0.15500264\n",
            " -0.01932224 -0.19771511  0.14837256  0.01906059  0.07249273 -0.17595357\n",
            " -0.01643859 -0.08504276 -0.06896169  0.26644148  0.1024296   0.0831218\n",
            " -0.32421539 -0.10787167  0.08164473 -0.29705171 -0.3653348  -0.24699976\n",
            " -0.13109558  0.11595417 -0.13132878 -0.23443306 -0.13603     0.12123045\n",
            "  0.15902124 -0.22120106 -0.3099068   0.40976956 -0.38840637 -0.47868065\n",
            " -0.34603338 -0.11315345 -0.30319834 -0.37781821 -0.19073052  0.09073152\n",
            " -0.19597215 -0.3146317  -0.1139616  -0.3681413  -0.06843202 -0.01101768\n",
            " -0.29192137  0.2919835   0.11348022 -0.17692265 -0.2420327   0.04855133\n",
            "  0.17031391 -0.23768456 -0.04756487 -0.37740162 -0.12290569 -0.28085916\n",
            " -0.13603    -0.29158559 -0.04020261 -0.0466608  -0.11556651]\n",
            "[0 1 0 0 0 0 0 0 1 0 0 1 0 1 1 1 0 0 0 0 0 0 0 1 0 0 0 1 0 1 0 0 0 0 1 0 0\n",
            " 0 0 0 0 0 0 0 0 1 0 0 0 0 1 0 1 0 0 0 0 0 0 0 1 0 0 0 0 0 0 0 0 1 0 1 0 1\n",
            " 0 0 1 0 0 0 0 0 0 1 1 1 0 0 0 0 0 0 0 0 1 0 1 0 0 0 1 1 0 0 0 0 0 0 0 0 1\n",
            " 1 0 0 0 1 0 0 0 0 0 0 0 0 0 0 0 0 0 0 0 0 1 0 0 1 0 0 0 1 1 1 0 0 0 0 0 0\n",
            " 0 0 1 0 0 0 0 0 0 0 0 0 0 0 1 0 1 1 0 1 0 0 1 1 1 0 1 0 0 0 1 0 0 0 0 0 0\n",
            " 0 0 1 1 0 0 1 0 0 0 1 0 0 0 0 0 0 0 0 0 0 1 0 1 0 0 0 0 0 0 0 0 0 1 0 0 1\n",
            " 0 1 1 0 0 0 0 1 1 1 1 0 0 0 1 0 0 0 0 1 0 0 0 0 0 0 0 1 0 0 0 0 0 0 0 0 0\n",
            " 0 1 1 0 1 1 0 0 1 0 0 1 0 0 0 1 1 0 0 0 0 0 0 0 0 1 1 1 0 0 0 0 1 1 1 0 0\n",
            " 1 0 0 0 0 1 0 0 0 1 1 0 0 1 0 0 0 0 0 0 0 1 0 0 0 0 0 0 0 1 1 0 0 1 1 0 0\n",
            " 0 0 0 0 0 0 0 0]\n"
          ]
        }
      ]
    },
    {
      "cell_type": "code",
      "source": [
        "#Implementing Grid Search for hyperparameter tuning\n",
        "\n",
        "iters = 2000\n",
        "def grid_search12(w,X,y):\n",
        "  alpha_val = [0.01 , 0.05 , 0.1 , 0.15 , 0.2 , 0.5]\n",
        "  lambda_val = [0.05 , 0.1 , 0.15 , 0.2 , 0.5 , 1]\n",
        "  max_w = w\n",
        "  max_accuracy = 0\n",
        "  for alpha in alpha_val:\n",
        "    for Lambda in lambda_val:\n",
        "      w_temp , J_temp = stochastic_gradient_descent(X, y,w, alpha, n_epochs)\n",
        "      m = y.shape[0]\n",
        "      hypothesis = sigmoid(np.dot(X0_val,w_temp.T))\n",
        "      error = hypothesis - y\n",
        "      accuracy = 100 - (np.mean(np.abs(hypothesis - y))*100)\n",
        "      if max_accuracy < accuracy:\n",
        "        max_accuracy = accuracy\n",
        "        max_w = w_temp\n",
        "  return max_w , max_accuracy"
      ],
      "metadata": {
        "id": "In3Q5Cj6Z_9j"
      },
      "execution_count": 44,
      "outputs": []
    },
    {
      "cell_type": "code",
      "source": [
        "final_w , final_accuracy12 = grid_search12(w,X1_val,Y1_val)\n",
        "#print(final_w)\n",
        "print(final_accuracy12)"
      ],
      "metadata": {
        "colab": {
          "base_uri": "https://localhost:8080/",
          "height": 0
        },
        "outputId": "6e4a6d3e-6e8d-4147-f513-1ca001027681",
        "id": "dnVcsMkWZ_9j"
      },
      "execution_count": 45,
      "outputs": [
        {
          "output_type": "stream",
          "name": "stdout",
          "text": [
            "58.33094566808987\n"
          ]
        }
      ]
    },
    {
      "cell_type": "markdown",
      "source": [
        "For 3rd class"
      ],
      "metadata": {
        "id": "yORsp6lsbUet"
      }
    },
    {
      "cell_type": "code",
      "source": [
        "alpha=0.5 ##learning rate\n",
        "iters=2000 ###iterations\n",
        "batch_w,J_his = batch_gradient_descent(X2_train,Y2_train,w,alpha,iters)\n",
        "plt.plot(range(iters),J_his)\n",
        "plt.show()"
      ],
      "metadata": {
        "colab": {
          "base_uri": "https://localhost:8080/",
          "height": 265
        },
        "outputId": "60cc9aa1-84b8-4938-d553-501f403b2904",
        "id": "d3QGwEjbbXF9"
      },
      "execution_count": 46,
      "outputs": [
        {
          "output_type": "display_data",
          "data": {
            "image/png": "[encoded data removed]",
            "text/plain": [
              "<Figure size 432x288 with 1 Axes>"
            ]
          },
          "metadata": {
            "needs_background": "light"
          }
        }
      ]
    },
    {
      "cell_type": "code",
      "source": [
        "z = np.dot(X2_test, batch_w.T)\n",
        "print(z.T)\n",
        "h = sigmoid(z)\n",
        "y_pred=h>0.5\n",
        "y_pred20=y_pred.astype(int)\n",
        "print(y_pred20.T)\n"
      ],
      "metadata": {
        "colab": {
          "base_uri": "https://localhost:8080/",
          "height": 0
        },
        "id": "GtwWCOE10iSY",
        "outputId": "b28a6966-6ad6-4ba9-d901-e1e15184aba1"
      },
      "execution_count": 47,
      "outputs": [
        {
          "output_type": "stream",
          "name": "stdout",
          "text": [
            "[-5.32391257e-01  2.33443957e-03 -9.11626362e-01 -1.38024123e-01\n",
            "  7.43729446e-02  3.02335534e-01 -2.18488761e-01  1.01810241e-01\n",
            " -6.56107577e-01 -6.79993752e-01  3.81774527e-01  3.26265636e-01\n",
            " -3.92279137e-01 -3.79312186e-01 -2.90323502e-01 -5.30598652e-01\n",
            "  2.41858462e-01 -1.14646759e-01  1.92461674e-01 -3.85026179e-01\n",
            " -2.15243314e-01 -1.90488584e-01  2.25841755e-01 -2.88832921e-01\n",
            " -7.55192462e-01  2.03101381e-01  4.24495016e-02 -1.29136296e-01\n",
            " -1.18736667e-01 -1.31001720e-01  2.25578570e-01 -2.09743425e-01\n",
            " -3.13300077e-01 -1.76340402e-01 -4.29337894e-01 -5.28819912e-01\n",
            " -4.90006054e-01 -7.65738153e-01  5.76997490e-01 -5.25667738e-01\n",
            "  1.90446270e-01  3.30940849e-01 -9.38107727e-01 -1.83616727e-01\n",
            "  6.77579260e-01  2.23453987e-01 -3.64993582e-01  5.44267569e-01\n",
            "  1.85742049e-01 -8.53077322e-01  1.98733907e-01  2.38280535e-01\n",
            "  2.02056981e-01 -4.90935000e-01 -4.19845710e-01 -7.72821189e-02\n",
            " -8.86398795e-01  2.97325980e-02 -2.26187325e-01  6.96239947e-02\n",
            " -2.94532510e-01 -1.79688395e-01  1.33342396e-01 -3.68166218e-01\n",
            " -5.14638664e-01  4.06971408e-01  5.93611148e-01 -5.96030593e-01\n",
            " -1.41372428e+00  5.90550545e-01 -5.30579709e-01  1.65380889e-01\n",
            " -6.07984149e-01  6.43455457e-01 -8.15595068e-01 -7.61157787e-03\n",
            "  1.04838289e-01 -5.50555770e-01 -3.35012534e-01 -5.48176224e-01\n",
            " -2.16503379e-01 -3.54023380e-02  1.62625071e-01  3.97519577e-01\n",
            " -1.21593450e-01  3.90385862e-01 -9.93490108e-01 -2.36089244e-01\n",
            " -4.87768450e-01  7.77866576e-01 -5.28550281e-01  1.15695662e-01\n",
            " -3.65144717e-01 -3.17466226e-02  6.82171731e-02  4.56460574e-01\n",
            "  5.35032675e-01 -1.39995712e-01  6.64031082e-01  4.51062023e-01\n",
            " -2.67052517e-01 -3.70751425e-03 -8.45178421e-02 -1.22164899e-01\n",
            "  6.43415269e-01  3.40835736e-01 -6.78907684e-01  3.70298579e-01\n",
            " -3.40696220e-01 -3.53693692e-01 -2.84749213e-02 -2.49445325e-01\n",
            " -6.01888786e-01  6.71380740e-01 -3.49264227e-02 -6.90795073e-01\n",
            "  4.83286883e-01  1.46572659e-01 -3.00495223e-01  1.62148423e-01\n",
            " -7.61157787e-03 -6.23973369e-01 -3.64797672e-01 -5.67621642e-01\n",
            "  3.56797528e-01  6.53659212e-03  5.20802941e-03 -5.57085670e-01\n",
            "  1.05575534e-02 -9.25771527e-01 -5.02433076e-01  4.60798166e-01\n",
            " -2.27895529e-02 -7.19523317e-02  3.99411310e-01 -4.92191710e-01\n",
            " -2.29341870e-01 -8.98986906e-01 -4.00037776e-01  1.23607116e-01\n",
            " -4.78297349e-02 -2.54676953e-01 -5.46839134e-01  1.55978727e-01\n",
            " -5.61289050e-01 -2.38834589e-01  2.94182536e-01  5.74810862e-01\n",
            "  5.37261838e-02 -6.82174292e-01 -3.07565277e-02  2.47749419e-01\n",
            " -1.47710307e-01  3.76934166e-01  4.31475220e-02  4.91741284e-01\n",
            " -1.89653083e-01  9.32724955e-02 -1.35803195e-01 -4.05844533e-01\n",
            "  4.41353512e-02  3.26524422e-03  2.06043853e-01 -7.92415635e-02\n",
            "  3.63118142e-02 -2.66931425e-01  3.16454939e-01 -4.26751532e-01\n",
            " -7.77397016e-02  5.18558745e-02 -5.76936340e-01  2.76374149e-01\n",
            " -2.60205895e-04  4.16477282e-01 -4.05158861e-01  2.58493017e-01\n",
            " -3.75190730e-01  8.84697375e-01 -9.84473804e-01  3.41985353e-01\n",
            "  1.71701736e-01 -4.20128576e-02  3.74718074e-01 -1.89372639e-01\n",
            "  2.38577679e-01 -8.41192996e-01  3.71070240e-01  1.30590114e-01\n",
            "  2.10241390e-01 -6.07804407e-01 -1.49790011e-01  3.06362628e-01\n",
            " -5.92296015e-01  3.45161119e-01  2.60108823e-01 -1.01760032e-01\n",
            " -7.64791280e-01  3.44824789e-01 -7.41727059e-03 -1.04320921e+00\n",
            " -2.45968294e-01 -1.14084459e+00  1.79574027e-01  2.77136807e-02\n",
            " -3.07607217e-02 -7.26852368e-01  1.83756395e-01 -2.38786673e-01\n",
            "  3.75374268e-02  1.61990770e-01  1.85598973e-01  2.37364494e-02\n",
            " -4.00020261e-01 -8.13800931e-01 -1.13103814e-01  5.94088391e-01\n",
            " -1.17180144e-01  6.68865630e-01  6.04435154e-01 -3.86419776e-01\n",
            "  1.45175104e-02 -7.30828793e-01 -1.55825572e-01  8.94557392e-01\n",
            "  5.32438792e-01 -2.51410238e-01 -1.03944396e-01 -3.38122401e-01\n",
            " -5.82696419e-02 -2.42550705e-01  2.91141397e-01  1.76763454e-01\n",
            "  6.67350176e-02 -5.22354340e-01 -6.63430688e-02 -1.50405293e-01\n",
            " -1.33226939e-01  5.30712453e-02 -6.23619645e-02 -4.69772813e-02\n",
            " -2.84178686e-01  6.24441162e-01 -2.86507179e-02  4.75817216e-02\n",
            "  1.13375117e-01 -5.87924349e-01 -1.72844589e-01 -4.74498980e-01\n",
            "  5.13247991e-02 -3.80525626e-01 -1.34817211e-01 -7.26101131e-02\n",
            " -2.72907150e-01  2.94101722e-01 -2.53947010e-01  2.84578705e-01\n",
            " -3.76760623e-01 -2.78026433e-01 -6.28550940e-01  4.31753490e-01\n",
            " -2.65119319e-01 -4.28181772e-01 -4.33893618e-01  4.59645988e-01\n",
            "  2.00644719e-01 -4.73172643e-01 -4.44746578e-01 -4.11606714e-01\n",
            "  2.30105084e-01 -2.34723862e-01 -3.69768276e-01  1.15617249e-01\n",
            " -4.33855997e-01  1.54796778e-01 -2.92372704e-01  3.16113967e-01\n",
            "  5.47544832e-01 -7.29234963e-01 -3.08478251e-01  2.85140623e-01\n",
            " -2.64125150e-01 -2.44786944e-01 -7.85978858e-01  3.81459142e-01\n",
            "  1.28322717e+00 -1.00717687e-01 -4.57827879e-01 -1.06391442e+00\n",
            " -7.64326143e-01 -3.03008690e-01  2.74162986e-01 -7.42819208e-01\n",
            "  8.39803456e-01  3.15515587e-01 -2.92111717e-01 -3.27402662e-02\n",
            "  8.52640860e-02 -2.24821991e-01  5.51456553e-01 -8.92243989e-01\n",
            "  2.66486214e-01 -6.50124568e-02  2.04653379e-01  7.51436502e-01\n",
            "  1.01254979e-01  3.88248353e-02 -7.82267371e-01 -2.63450174e-01\n",
            " -4.19215532e-02 -1.81343759e-01 -3.83267009e-01  4.65201240e-01\n",
            " -7.05763046e-02  2.85402394e-02  2.54170552e-01  6.71257986e-01\n",
            " -3.95415637e-02 -2.59831146e-01 -3.10422484e-01  2.90275273e-01\n",
            "  4.64995735e-02 -8.99651332e-01  7.40608239e-02  5.90039088e-01\n",
            "  5.57331162e-01 -4.73519083e-01 -1.06192222e-02  2.82401270e-01\n",
            " -1.05083261e-01  2.10617327e-01  1.73159581e-01  4.92454455e-01\n",
            " -2.11597364e-01  3.29351850e-01 -4.48963809e-01 -3.50683380e-01\n",
            "  9.27368153e-01 -5.17377120e-01 -5.05703035e-02 -2.02154002e-01]\n",
            "[0 1 0 0 1 1 0 1 0 0 1 1 0 0 0 0 1 0 1 0 0 0 1 0 0 1 1 0 0 0 1 0 0 0 0 0 0\n",
            " 0 1 0 1 1 0 0 1 1 0 1 1 0 1 1 1 0 0 0 0 1 0 1 0 0 1 0 0 1 1 0 0 1 0 1 0 1\n",
            " 0 0 1 0 0 0 0 0 1 1 0 1 0 0 0 1 0 1 0 0 1 1 1 0 1 1 0 0 0 0 1 1 0 1 0 0 0\n",
            " 0 0 1 0 0 1 1 0 1 0 0 0 0 1 1 1 0 1 0 0 1 0 0 1 0 0 0 0 1 0 0 0 1 0 0 1 1\n",
            " 1 0 0 1 0 1 1 1 0 1 0 0 1 1 1 0 1 0 1 0 0 1 0 1 0 1 0 1 0 1 0 1 1 0 1 0 1\n",
            " 0 1 1 1 0 0 1 0 1 1 0 0 1 0 0 0 0 1 1 0 0 1 0 1 1 1 1 0 0 0 1 0 1 1 0 1 0\n",
            " 0 1 1 0 0 0 0 0 1 1 1 0 0 0 0 1 0 0 0 1 0 1 1 0 0 0 1 0 0 0 0 1 0 1 0 0 0\n",
            " 1 0 0 0 1 1 0 0 0 1 0 0 1 0 1 0 1 1 0 0 1 0 0 0 1 1 0 0 0 0 0 1 0 1 1 0 0\n",
            " 1 0 1 0 1 0 1 1 1 1 0 0 0 0 0 1 0 1 1 1 0 0 0 1 1 0 1 1 1 0 0 1 0 1 1 1 0\n",
            " 1 0 0 1 0 0 0]\n"
          ]
        }
      ]
    },
    {
      "cell_type": "code",
      "source": [
        "#Implementing Grid Search for hyperparameter tuning\n",
        "\n",
        "iters = 2000\n",
        "def grid_search20(w,X,y):\n",
        "  alpha_val = [0.01 , 0.05 , 0.1 , 0.15 , 0.2 , 0.5]\n",
        "  lambda_val = [0.05 , 0.1 , 0.15 , 0.2 , 0.5 , 1]\n",
        "  max_w = w\n",
        "  max_accuracy = 0\n",
        "  for alpha in alpha_val:\n",
        "    for Lambda in lambda_val:\n",
        "      w_temp , J_temp = batch_gradient_descent(X,y,w,alpha,iters)\n",
        "      m = y.shape[0]\n",
        "      hypothesis = sigmoid(np.dot(X0_val,w_temp.T))\n",
        "      error = hypothesis - y\n",
        "      accuracy = 100 - (np.mean(np.abs(hypothesis - y))*100)\n",
        "      if max_accuracy < accuracy:\n",
        "        max_accuracy = accuracy\n",
        "        max_w = w_temp\n",
        "  return max_w , max_accuracy\n"
      ],
      "metadata": {
        "id": "G_-qRdHZbXF9"
      },
      "execution_count": 48,
      "outputs": []
    },
    {
      "cell_type": "code",
      "source": [
        "final_w , final_accuracy20 = grid_search20(w,X2_val,Y2_val)\n",
        "#print(final_w)\n",
        "print(final_accuracy20)"
      ],
      "metadata": {
        "id": "PDXVynT7bXF9"
      },
      "execution_count": null,
      "outputs": []
    },
    {
      "cell_type": "code",
      "source": [
        "alpha=0.2\n",
        "iters=2000\n",
        "batch_size=5\n",
        "mini_batch_w,J_mini_batch = MB_gradient_descent(X2_train,Y2_train,w,alpha,iters, batch_size)\n",
        "plt.plot(range(iters),J_mini_batch)\n",
        "plt.show()\n"
      ],
      "metadata": {
        "id": "ic7_3Eg1bXF9"
      },
      "execution_count": null,
      "outputs": []
    },
    {
      "cell_type": "code",
      "source": [
        "z = np.dot(X2_test, mini_batch_w.T)\n",
        "print(z.T)\n",
        "h = sigmoid(z)\n",
        "y_pred=h>0.5\n",
        "y_pred21=y_pred.astype(int)\n",
        "print(y_pred21.T)\n"
      ],
      "metadata": {
        "id": "huM_0ghy0l0E"
      },
      "execution_count": null,
      "outputs": []
    },
    {
      "cell_type": "code",
      "source": [
        "#Implementing Grid Search for hyperparameter tuning\n",
        "\n",
        "iters = 2000\n",
        "def grid_search21(w,X,y):\n",
        "  alpha_val = [0.01 , 0.05 , 0.1 , 0.15 , 0.2 , 0.5]\n",
        "  lambda_val = [0.05 , 0.1 , 0.15 , 0.2 , 0.5 , 1]\n",
        "  max_w = w\n",
        "  max_accuracy = 0\n",
        "  for alpha in alpha_val:\n",
        "    for Lambda in lambda_val:\n",
        "      w_temp , J_temp = MB_gradient_descent(X,y,w,alpha,iters, batch_size)\n",
        "      m = y.shape[0]\n",
        "      hypothesis = sigmoid(np.dot(X0_val,w_temp.T))\n",
        "      error = hypothesis - y\n",
        "      accuracy = 100 - (np.mean(np.abs(hypothesis - y))*100)\n",
        "      if max_accuracy < accuracy:\n",
        "        max_accuracy = accuracy\n",
        "        max_w = w_temp\n",
        "  return max_w , max_accuracy"
      ],
      "metadata": {
        "id": "NyGEB24vbXF9"
      },
      "execution_count": null,
      "outputs": []
    },
    {
      "cell_type": "code",
      "source": [
        "final_w , final_accuracy21 = grid_search21(w,X2_val,Y2_val)\n",
        "#print(final_w)\n",
        "print(final_accuracy21)"
      ],
      "metadata": {
        "id": "IyNBWTCLbXF-"
      },
      "execution_count": null,
      "outputs": []
    },
    {
      "cell_type": "code",
      "source": [
        "n_epochs=2000\n",
        "alpha=0.02\n",
        "w_n,J_sgd = stochastic_gradient_descent(X2_train,Y2_train,w, alpha, n_epochs)\n",
        "plt.plot(range(n_epochs),J_sgd)\n",
        "plt.show()\n"
      ],
      "metadata": {
        "id": "SWpRhxXwbXF-"
      },
      "execution_count": null,
      "outputs": []
    },
    {
      "cell_type": "code",
      "source": [
        "z = np.dot(X2_test, w_n.T)\n",
        "print(z.T)\n",
        "h = sigmoid(z)\n",
        "y_pred=h>0.5\n",
        "y_pred22=y_pred.astype(int)\n",
        "print(y_pred22.T)\n"
      ],
      "metadata": {
        "id": "r9qJAKcE0pTt"
      },
      "execution_count": null,
      "outputs": []
    },
    {
      "cell_type": "code",
      "source": [
        "#Implementing Grid Search for hyperparameter tuning\n",
        "\n",
        "iters = 2000\n",
        "def grid_search22(w,X,y):\n",
        "  alpha_val = [0.01 , 0.05 , 0.1 , 0.15 , 0.2 , 0.5]\n",
        "  lambda_val = [0.05 , 0.1 , 0.15 , 0.2 , 0.5 , 1]\n",
        "  max_w = w\n",
        "  max_accuracy = 0\n",
        "  for alpha in alpha_val:\n",
        "    for Lambda in lambda_val:\n",
        "      w_temp , J_temp = stochastic_gradient_descent(X0_train,Y0_train,w, alpha, n_epochs)\n",
        "      m = y.shape[0]\n",
        "      hypothesis = sigmoid(np.dot(X0_val,w_temp.T))\n",
        "      error = hypothesis - y\n",
        "      accuracy = 100 - (np.mean(np.abs(hypothesis - y))*100)\n",
        "      if max_accuracy < accuracy:\n",
        "        max_accuracy = accuracy\n",
        "        max_w = w_temp\n",
        "  return max_w , max_accuracy"
      ],
      "metadata": {
        "id": "a1XR9ODWbXF-"
      },
      "execution_count": null,
      "outputs": []
    },
    {
      "cell_type": "code",
      "source": [
        "final_w , final_accuracy22 = grid_search22(w,X2_val,Y2_val)\n",
        "#print(final_w)\n",
        "print(final_accuracy22)"
      ],
      "metadata": {
        "id": "K6LYj7NVbXF-"
      },
      "execution_count": null,
      "outputs": []
    },
    {
      "cell_type": "markdown",
      "source": [
        "4th class"
      ],
      "metadata": {
        "id": "tP_XgmYkcrkB"
      }
    },
    {
      "cell_type": "code",
      "source": [
        "alpha=0.5 ##learning rate\n",
        "iters=2000 ###iterations\n",
        "batch_w,J_his = batch_gradient_descent(X3_train,Y3_train,w,alpha,iters)\n",
        "plt.plot(range(iters),J_his)\n",
        "plt.show()"
      ],
      "metadata": {
        "id": "zdX9eGprcuGZ"
      },
      "execution_count": null,
      "outputs": []
    },
    {
      "cell_type": "code",
      "source": [
        "z = np.dot(X3_test, batch_w.T)\n",
        "print(z.T)\n",
        "h = sigmoid(z)\n",
        "y_pred=h>0.5\n",
        "y_pred30=y_pred.astype(int)\n",
        "print(y_pred30.T)\n"
      ],
      "metadata": {
        "id": "RxAJRM7K0t6V"
      },
      "execution_count": null,
      "outputs": []
    },
    {
      "cell_type": "code",
      "source": [
        "#Implementing Grid Search for hyperparameter tuning\n",
        "\n",
        "iters = 2000\n",
        "def grid_search30(w,X,y):\n",
        "  alpha_val = [0.01 , 0.05 , 0.1 , 0.15 , 0.2 , 0.5]\n",
        "  lambda_val = [0.05 , 0.1 , 0.15 , 0.2 , 0.5 , 1]\n",
        "  max_w = w\n",
        "  max_accuracy = 0\n",
        "  for alpha in alpha_val:\n",
        "    for Lambda in lambda_val:\n",
        "      w_temp , J_temp = batch_gradient_descent(X,y,w,alpha,iters)\n",
        "      m = y.shape[0]\n",
        "      hypothesis = sigmoid(np.dot(X0_val,w_temp.T))\n",
        "      error = hypothesis - y\n",
        "      accuracy = 100 - (np.mean(np.abs(hypothesis - y))*100)\n",
        "      if max_accuracy < accuracy:\n",
        "        max_accuracy = accuracy\n",
        "        max_w = w_temp\n",
        "  return max_w , max_accuracy\n"
      ],
      "metadata": {
        "id": "0J_X43iicuGZ"
      },
      "execution_count": null,
      "outputs": []
    },
    {
      "cell_type": "code",
      "source": [
        "final_w , final_accuracy30 = grid_search30(w,X3_val,Y3_val)\n",
        "#print(final_w)\n",
        "print(final_accuracy30)"
      ],
      "metadata": {
        "id": "8nQtpbZHcuGZ"
      },
      "execution_count": null,
      "outputs": []
    },
    {
      "cell_type": "code",
      "source": [
        "alpha=0.2\n",
        "iters=2000\n",
        "batch_size=5\n",
        "mini_batch_w,J_mini_batch = MB_gradient_descent(X3_train,Y3_train,w,alpha,iters, batch_size)\n",
        "plt.plot(range(iters),J_mini_batch)\n",
        "plt.show()\n"
      ],
      "metadata": {
        "id": "q0PSdUx5cuGa"
      },
      "execution_count": null,
      "outputs": []
    },
    {
      "cell_type": "code",
      "source": [
        "z = np.dot(X3_test, mini_batch_w.T)\n",
        "print(z.T)\n",
        "h = sigmoid(z)\n",
        "y_pred=h>0.5\n",
        "y_pred31=y_pred.astype(int)\n",
        "print(y_pred31.T)\n"
      ],
      "metadata": {
        "id": "v2tg13LQ0xuU"
      },
      "execution_count": null,
      "outputs": []
    },
    {
      "cell_type": "code",
      "source": [
        "#Implementing Grid Search for hyperparameter tuning\n",
        "\n",
        "iters = 2000\n",
        "def grid_search31(w,X,y):\n",
        "  alpha_val = [0.01 , 0.05 , 0.1 , 0.15 , 0.2 , 0.5]\n",
        "  lambda_val = [0.05 , 0.1 , 0.15 , 0.2 , 0.5 , 1]\n",
        "  max_w = w\n",
        "  max_accuracy = 0\n",
        "  for alpha in alpha_val:\n",
        "    for Lambda in lambda_val:\n",
        "      w_temp , J_temp = MB_gradient_descent(X,y,w,alpha,iters, batch_size)\n",
        "      m = y.shape[0]\n",
        "      hypothesis = sigmoid(np.dot(X0_val,w_temp.T))\n",
        "      error = hypothesis - y\n",
        "      accuracy = 100 - (np.mean(np.abs(hypothesis - y))*100)\n",
        "      if max_accuracy < accuracy:\n",
        "        max_accuracy = accuracy\n",
        "        max_w = w_temp\n",
        "  return max_w , max_accuracy"
      ],
      "metadata": {
        "id": "ntMkZ_V-cuGa"
      },
      "execution_count": null,
      "outputs": []
    },
    {
      "cell_type": "code",
      "source": [
        "final_w , final_accuracy31 = grid_search31(w,X3_val,Y3_val)\n",
        "#print(final_w)\n",
        "print(final_accuracy31)"
      ],
      "metadata": {
        "id": "Hm4KpOkScuGa"
      },
      "execution_count": null,
      "outputs": []
    },
    {
      "cell_type": "code",
      "source": [
        "n_epochs=2000\n",
        "alpha=0.02\n",
        "w_n,J_sgd = stochastic_gradient_descent(X3_train,Y3_train,w, alpha, n_epochs)\n",
        "plt.plot(range(n_epochs),J_sgd)\n",
        "plt.show()\n"
      ],
      "metadata": {
        "id": "cVPC41JxcuGa"
      },
      "execution_count": null,
      "outputs": []
    },
    {
      "cell_type": "code",
      "source": [
        "z = np.dot(X3_test, w_n.T)\n",
        "print(z.T)\n",
        "h = sigmoid(z)\n",
        "y_pred=h>0.5\n",
        "y_pred32=y_pred.astype(int)\n",
        "print(y_pred32.T)\n"
      ],
      "metadata": {
        "id": "CEstjYyv017l"
      },
      "execution_count": null,
      "outputs": []
    },
    {
      "cell_type": "code",
      "source": [
        "#Implementing Grid Search for hyperparameter tuning\n",
        "\n",
        "iters = 2000\n",
        "def grid_search32(w,X,y):\n",
        "  alpha_val = [0.01 , 0.05 , 0.1 , 0.15 , 0.2 , 0.5]\n",
        "  lambda_val = [0.05 , 0.1 , 0.15 , 0.2 , 0.5 , 1]\n",
        "  max_w = w\n",
        "  max_accuracy = 0\n",
        "  for alpha in alpha_val:\n",
        "    for Lambda in lambda_val:\n",
        "      w_temp , J_temp = stochastic_gradient_descent(X0_train,Y0_train,w, alpha, n_epochs)\n",
        "      m = y.shape[0]\n",
        "      hypothesis = sigmoid(np.dot(X0_val,w_temp.T))\n",
        "      error = hypothesis - y\n",
        "      accuracy = 100 - (np.mean(np.abs(hypothesis - y))*100)\n",
        "      if max_accuracy < accuracy:\n",
        "        max_accuracy = accuracy\n",
        "        max_w = w_temp\n",
        "  return max_w , max_accuracy"
      ],
      "metadata": {
        "id": "fm4eR3hhcuGa"
      },
      "execution_count": null,
      "outputs": []
    },
    {
      "cell_type": "code",
      "source": [
        "final_w , final_accuracy32 = grid_search32(w,X3_val,Y3_val)\n",
        "#print(final_w)\n",
        "print(final_accuracy32)"
      ],
      "metadata": {
        "id": "hDTuWauqcuGa"
      },
      "execution_count": null,
      "outputs": []
    },
    {
      "cell_type": "code",
      "source": [
        ""
      ],
      "metadata": {
        "id": "L7F6RTlTPSz7"
      },
      "execution_count": null,
      "outputs": []
    },
    {
      "cell_type": "markdown",
      "source": [
        "For 5th class"
      ],
      "metadata": {
        "id": "Ut0_ca60Prbk"
      }
    },
    {
      "cell_type": "code",
      "source": [
        "alpha=0.5 ##learning rate\n",
        "iters=2000 ###iterations\n",
        "batch_w,J_his = batch_gradient_descent(X4_train,Y4_train,w,alpha,iters)\n",
        "plt.plot(range(iters),J_his)\n",
        "plt.show()"
      ],
      "metadata": {
        "colab": {
          "base_uri": "https://localhost:8080/",
          "height": 265
        },
        "outputId": "e19d5f5e-e06c-4d81-99af-c1786e5670cf",
        "id": "iZOpx894PTGi"
      },
      "execution_count": null,
      "outputs": [
        {
          "output_type": "display_data",
          "data": {
            "image/png": "[encoded data removed]",
            "text/plain": [
              "<Figure size 432x288 with 1 Axes>"
            ]
          },
          "metadata": {
            "needs_background": "light"
          }
        }
      ]
    },
    {
      "cell_type": "code",
      "source": [
        "z = np.dot(X4_test, batch_w.T)\n",
        "print(z.T)\n",
        "h = sigmoid(z)\n",
        "y_pred=h>0.5\n",
        "y_pred30=y_pred.astype(int)\n",
        "print(y_pred30.T)\n"
      ],
      "metadata": {
        "colab": {
          "base_uri": "https://localhost:8080/"
        },
        "outputId": "bfacdc82-e3f4-4470-e6b1-51692d92d849",
        "id": "pq7tnhwqPTGi"
      },
      "execution_count": null,
      "outputs": [
        {
          "output_type": "stream",
          "name": "stdout",
          "text": [
            "[-0.97105319 -0.56674545 -1.22028454 -0.79904274 -0.91280132 -1.29408098\n",
            " -0.44498686 -1.13016261 -1.32379163 -0.92314524 -1.27572459 -1.00306506\n",
            " -1.65221096 -0.95741856 -1.05704929 -1.08581719 -0.92054227 -0.58948741\n",
            " -1.12496444 -1.09929922 -0.94388326 -0.71246285 -1.34717504 -0.69874081\n",
            " -1.47162796 -1.85518081 -1.12535151 -1.34090593 -1.11075075 -1.50352519\n",
            " -1.16279096 -1.36988967 -1.01442035 -1.36163184 -1.2820262  -1.07649146\n",
            " -0.93835108 -1.00232418 -0.9981199  -1.28564738 -1.19027284 -1.13707238\n",
            " -1.41574517 -1.62313856 -0.9074018  -0.95508583 -1.19932987 -1.31796713\n",
            " -1.34320609 -1.61277665 -1.47925803 -0.88763036 -1.38559746 -1.125286\n",
            " -1.59574299 -1.46490629 -1.33012676 -0.88288548 -1.69397419 -1.4088091\n",
            " -1.4577492  -1.04144962 -1.05421568 -1.13410368 -1.37128268 -0.90138876\n",
            " -0.74808224 -1.16223015 -1.2547576  -1.49089225 -1.52003692 -1.4570548\n",
            " -1.39994487 -1.02435633 -0.47375398 -1.15496155 -1.23420213 -0.67421903\n",
            " -1.59151658 -0.9135219  -1.05609458 -0.8991721  -1.09594567 -0.86770359\n",
            " -1.32714107 -1.08823192 -1.22914841 -1.49769071 -0.52046886 -0.99842509\n",
            " -1.1116278  -1.09547657 -0.79225566 -1.10509602 -1.10926757 -1.24082102\n",
            " -1.13408889 -1.25314591 -1.10247796 -1.0829376  -0.93572857 -1.26305745\n",
            " -1.20309443 -0.91913966 -0.92518737 -1.44741073 -0.68880408 -0.93462965\n",
            " -1.01090652 -0.90872234 -1.48942665 -1.01663786 -1.08908627 -0.93913478\n",
            " -0.72652384 -1.32879912 -1.12600773 -0.9871931  -1.3883675  -1.23888447\n",
            " -0.9695227  -0.94736864 -0.8377861  -1.4340992  -1.68769459 -0.68718858\n",
            " -1.10736924 -1.41767557 -1.17649575 -0.9698115  -1.41622389 -0.95456789\n",
            " -1.22214555 -1.0512391  -0.43778828 -1.25004901 -1.27585916 -1.22746559\n",
            " -1.21250423 -1.38773148 -1.01375843 -0.91645044 -1.17154291 -0.77253502\n",
            " -1.81468049 -1.89349929 -1.37419438 -1.28019978 -0.75340284 -0.90094373\n",
            " -1.20140968 -0.96442692 -1.45186487 -0.60594974 -1.42272176 -0.6555952\n",
            " -0.99143862 -0.88645128 -0.75542848 -0.95510138 -1.34533601 -0.96227178\n",
            " -0.84463068 -1.12644171 -1.1973275  -1.17738544 -1.07054396 -1.51808763\n",
            " -1.51318743 -0.67692536 -1.20469743 -0.91422634 -1.2486698  -0.74474461\n",
            " -1.07859898 -1.1550806  -1.24961428 -1.2046071  -0.76073279 -1.64341578\n",
            " -1.33288857 -1.50921588 -1.66467593 -0.58191876 -1.58747127 -1.08821316\n",
            " -1.04740013 -1.25584727 -0.99237878 -1.13019025 -1.25712471 -1.46925192\n",
            " -0.78745393 -0.80894757 -0.85250022 -0.81553734 -1.20418826 -1.19747613\n",
            " -1.06726557 -1.18448323 -0.67179649 -0.90477903 -0.50215438 -1.4908324\n",
            " -0.66904082 -1.47979128 -1.39666894 -0.97239822 -1.79055355 -1.20627009\n",
            " -0.69713439 -0.89345421 -1.06307305 -1.41665517 -1.11238244 -1.1164502\n",
            " -1.14938759 -1.32473303 -1.00084985 -0.40580206 -1.32228928 -1.47188959\n",
            " -1.27543264 -1.49852967 -1.44385238 -1.0431337  -0.71969182 -0.99978711\n",
            " -0.89279695 -0.55688076 -1.25361491 -0.95181756 -1.77109367 -0.72034402\n",
            " -1.50562662 -0.9466028  -0.41430922 -0.99631173 -1.09561399 -0.69255946\n",
            " -1.26809457 -1.37952488 -0.82269118 -0.69353704 -1.46803977 -0.7716746\n",
            " -1.10926757 -1.20236945 -1.45470649 -1.24059153 -0.90873951 -0.85954305\n",
            " -1.37399571 -1.63241073 -0.92294625 -1.1317446  -1.62816975 -1.12528849\n",
            " -1.19232394 -1.33962502 -1.62159432 -1.02635013 -0.52179367 -1.39637491\n",
            " -1.31693126 -0.51807422 -0.8467908  -0.57567158 -1.22318221 -1.57780714\n",
            " -1.42426477 -1.02699083 -1.68164454 -1.03085395 -1.23380033 -1.51774121\n",
            " -0.96927011 -0.88304113 -0.51794389 -1.41343435 -0.88908254 -1.27785939\n",
            " -1.37565161 -0.68613296 -1.16279096 -0.96150972 -1.11951177 -1.03621375\n",
            " -1.23590907 -1.00496996 -1.35804503 -1.06445271 -1.1030034  -1.31399575\n",
            " -0.75401424 -0.82858071 -1.08129401 -1.40963504 -1.2039115  -0.7053565\n",
            " -1.0801342  -0.28377342 -1.29476005 -1.11668547 -1.64919173 -0.9173797\n",
            " -1.21557815 -1.44253242 -1.00774662 -1.32095387 -1.5878158  -0.92296027\n",
            " -1.69396048 -1.06760349 -0.82607168 -1.13642311 -0.97235159 -1.30791668\n",
            " -0.98449329 -0.94290382 -1.43967595 -1.17765445 -1.01703071 -1.01764614\n",
            " -1.02512377 -0.70689471 -0.15256783 -1.11358352 -1.4703007  -1.35471871\n",
            " -1.03703167 -0.86080129 -1.37000285 -1.01127098 -0.83565307 -0.54648588\n",
            " -0.78324862 -1.5128957  -1.05626237 -1.22624324 -0.98693111 -1.11287042\n",
            " -1.06518765 -0.19279805 -1.01498347 -2.20713585 -1.18534493 -0.86518988\n",
            " -0.68281334 -0.75163569 -1.05892905 -1.23822491 -1.33696506 -0.29126448\n",
            " -0.45600936 -1.33136724 -0.85608961 -1.26375144 -1.10621386 -1.40332759\n",
            " -0.68349533 -0.62821196 -0.25229869 -1.64447793 -1.20453098 -1.38006142\n",
            " -0.66125154 -0.76077912 -1.25335448 -0.98430238 -1.35268376 -0.96148505\n",
            " -1.08458582 -0.64163744 -0.99440349 -1.3360728  -1.03183491 -1.28496736\n",
            " -1.16260097 -1.34018594 -0.88584516 -0.86530575 -0.71577292 -1.792939\n",
            " -0.77977976 -1.21765374 -0.97926185 -1.39112442 -1.56111937 -0.9755219\n",
            " -1.14984684 -0.79262291 -1.22688566 -1.08518328 -0.74703577 -1.39756804\n",
            " -1.43083002 -1.09000856 -1.21328887 -1.50982406 -1.27638875 -1.37206261\n",
            " -1.03592511 -0.67576139 -0.9473077  -1.168251   -0.87064583 -1.14981758\n",
            " -1.11088899 -1.30888208 -0.61359725 -1.11836514 -1.25514335 -1.56239563\n",
            " -0.74157403 -0.87423435 -0.97013367 -1.68401999 -1.12218128 -0.43910669\n",
            " -0.57310292 -0.90071333 -0.96020866 -0.97074268 -1.41835868 -1.39784318\n",
            " -0.99666623 -1.2953665  -0.57749963 -0.75554744 -1.384274   -0.67706578\n",
            " -1.29331693 -1.13981715 -1.05583408 -0.64747903 -1.51056317 -1.00899627\n",
            " -0.65522522 -1.90068665 -1.19149361 -0.87360794 -1.06427754 -1.39685939\n",
            " -1.00517743 -0.80489217 -0.97309897 -1.38166787 -0.58502255 -0.9514587\n",
            " -1.22548084 -1.43594789 -1.51885568 -1.45872011 -1.39878006 -1.40795247\n",
            " -1.09003524 -1.20135748 -1.03428299 -1.33678226 -1.09237443 -1.55593551\n",
            " -0.87520413 -0.87945936 -1.17702221 -1.25805021 -1.23753145 -0.72646667\n",
            " -0.93507934 -1.40489514 -1.09392559 -1.4379338  -1.29152801 -0.95054612\n",
            " -1.21161391 -1.34532122 -0.88151095 -0.80828223 -1.13388887 -0.92470635\n",
            " -1.26096659 -0.83631709 -1.83362235 -1.29486694 -0.64739828 -1.27433101\n",
            " -0.97436144 -1.20708595 -1.00515212 -1.14949171 -0.85558398 -1.20633105\n",
            " -1.47303946 -1.09707117 -0.89694615 -1.30244045 -1.18564453 -0.88722845\n",
            " -0.95086019 -1.00433766 -1.4342555  -0.91459865 -1.40373533 -1.19394748\n",
            " -1.10307476 -1.05867394 -1.18020353 -1.5453362  -1.38493236 -1.57678925\n",
            " -0.90336336 -1.57923316 -1.28693135 -1.81245026 -0.71134144 -1.40782222\n",
            " -1.18856122 -1.30514987 -0.95193874 -1.38865522 -1.19784279 -1.48176662\n",
            " -1.17324259 -1.33018324 -1.24328174 -1.10848453 -0.96766428 -0.84143674\n",
            " -1.43530387 -1.7267105  -0.90956678 -1.25397469 -1.02088153 -1.36503226\n",
            " -1.18504815 -0.85257337 -1.25205154 -0.69077874 -1.36467785 -1.6509565\n",
            " -0.85781662 -0.87758884 -1.24760053 -1.31393183 -0.48397432 -1.04920202\n",
            " -1.05853973 -1.04826619 -1.29542641 -1.24545001 -0.3265233  -1.0679137\n",
            " -0.93081607 -1.39985379 -1.41326954 -0.75726431 -0.92470635 -0.5467615\n",
            " -1.68788301 -1.53584122 -0.94422239 -1.55342703 -0.62880445 -0.75048561\n",
            " -1.24313858 -1.27996168 -0.4558911  -0.90241328 -1.12365153 -1.188443\n",
            " -1.164278   -1.01513902 -0.80071713 -0.62239045 -1.50791483 -0.92757376\n",
            " -0.98400417 -1.2011062  -1.60053036 -1.41660355 -1.45800372 -1.30425974\n",
            " -1.46344745 -2.17472942 -0.61945664 -1.01870625 -1.04301622 -0.9721452\n",
            " -0.92707251 -1.47791904 -1.5881108  -1.14823717 -0.64123882 -1.0084236\n",
            " -1.04492678 -0.80413833 -1.35965234 -1.08309508 -1.19299762 -0.65275513\n",
            " -0.71453543 -0.98889802 -1.02395758 -1.73262158 -1.23350925 -1.56558082\n",
            " -1.64462146 -1.02485195 -1.94694032 -1.08905342 -0.76485628 -0.66604262\n",
            " -1.73471553 -0.99183668 -1.12696469 -1.22377273 -1.68693828 -1.12154404\n",
            " -1.05732075 -1.52952611 -1.17034985 -1.79492142 -0.66401545 -1.55609478\n",
            " -1.45360803 -0.73066484 -1.0955927  -0.93732763 -1.31032216 -1.36518866\n",
            " -1.30763956 -1.08068981 -1.15187473 -1.18598333 -0.77493007 -1.0995912\n",
            " -1.2093927  -1.36130102 -1.20932662 -1.0491705  -1.26894866 -1.19925475\n",
            " -0.86053938 -0.8457149  -1.29856064 -0.86457214 -0.86587415 -1.01733757\n",
            " -1.07390867 -0.90907322 -1.34545189 -1.0870918  -1.38713012 -0.86696075\n",
            " -1.13825498 -0.90855214 -1.18419109 -0.80124398 -1.16358538 -1.28778866\n",
            " -1.89063886 -0.92889168 -0.95675564 -1.70306537 -0.86385221 -1.47137919\n",
            " -0.96503981 -1.33449543 -1.22807915 -1.36868147 -1.22549881 -0.71738663\n",
            " -1.34130141 -1.71176281 -1.28820025 -1.18961063 -1.41255123 -1.12755337\n",
            " -1.32871071 -1.38921476 -1.28659953 -1.4198676  -1.39182954]\n",
            "[0 0 0 0 0 0 0 0 0 0 0 0 0 0 0 0 0 0 0 0 0 0 0 0 0 0 0 0 0 0 0 0 0 0 0 0 0\n",
            " 0 0 0 0 0 0 0 0 0 0 0 0 0 0 0 0 0 0 0 0 0 0 0 0 0 0 0 0 0 0 0 0 0 0 0 0 0\n",
            " 0 0 0 0 0 0 0 0 0 0 0 0 0 0 0 0 0 0 0 0 0 0 0 0 0 0 0 0 0 0 0 0 0 0 0 0 0\n",
            " 0 0 0 0 0 0 0 0 0 0 0 0 0 0 0 0 0 0 0 0 0 0 0 0 0 0 0 0 0 0 0 0 0 0 0 0 0\n",
            " 0 0 0 0 0 0 0 0 0 0 0 0 0 0 0 0 0 0 0 0 0 0 0 0 0 0 0 0 0 0 0 0 0 0 0 0 0\n",
            " 0 0 0 0 0 0 0 0 0 0 0 0 0 0 0 0 0 0 0 0 0 0 0 0 0 0 0 0 0 0 0 0 0 0 0 0 0\n",
            " 0 0 0 0 0 0 0 0 0 0 0 0 0 0 0 0 0 0 0 0 0 0 0 0 0 0 0 0 0 0 0 0 0 0 0 0 0\n",
            " 0 0 0 0 0 0 0 0 0 0 0 0 0 0 0 0 0 0 0 0 0 0 0 0 0 0 0 0 0 0 0 0 0 0 0 0 0\n",
            " 0 0 0 0 0 0 0 0 0 0 0 0 0 0 0 0 0 0 0 0 0 0 0 0 0 0 0 0 0 0 0 0 0 0 0 0 0\n",
            " 0 0 0 0 0 0 0 0 0 0 0 0 0 0 0 0 0 0 0 0 0 0 0 0 0 0 0 0 0 0 0 0 0 0 0 0 0\n",
            " 0 0 0 0 0 0 0 0 0 0 0 0 0 0 0 0 0 0 0 0 0 0 0 0 0 0 0 0 0 0 0 0 0 0 0 0 0\n",
            " 0 0 0 0 0 0 0 0 0 0 0 0 0 0 0 0 0 0 0 0 0 0 0 0 0 0 0 0 0 0 0 0 0 0 0 0 0\n",
            " 0 0 0 0 0 0 0 0 0 0 0 0 0 0 0 0 0 0 0 0 0 0 0 0 0 0 0 0 0 0 0 0 0 0 0 0 0\n",
            " 0 0 0 0 0 0 0 0 0 0 0 0 0 0 0 0 0 0 0 0 0 0 0 0 0 0 0 0 0 0 0 0 0 0 0 0 0\n",
            " 0 0 0 0 0 0 0 0 0 0 0 0 0 0 0 0 0 0 0 0 0 0 0 0 0 0 0 0 0 0 0 0 0 0 0 0 0\n",
            " 0 0 0 0 0 0 0 0 0 0 0 0 0 0 0 0 0 0 0 0 0 0 0 0 0 0 0 0 0 0 0 0 0 0 0 0 0\n",
            " 0 0 0 0 0 0 0 0 0 0 0 0 0 0 0 0 0 0 0 0 0 0 0 0 0 0 0 0 0 0 0 0 0 0 0 0 0\n",
            " 0 0 0 0 0 0 0 0 0 0 0 0 0 0 0 0 0 0 0 0 0 0 0 0 0 0 0 0 0 0 0 0 0 0 0 0 0\n",
            " 0 0 0 0 0 0 0 0 0 0 0 0 0 0 0 0 0]\n"
          ]
        }
      ]
    },
    {
      "cell_type": "code",
      "source": [
        "#Implementing Grid Search for hyperparameter tuning\n",
        "\n",
        "iters = 2000\n",
        "def grid_search40(w,X,y):\n",
        "  alpha_val = [0.01 , 0.05 , 0.1 , 0.15 , 0.2 , 0.5]\n",
        "  lambda_val = [0.05 , 0.1 , 0.15 , 0.2 , 0.5 , 1]\n",
        "  max_w = w\n",
        "  max_accuracy = 0\n",
        "  for alpha in alpha_val:\n",
        "    for Lambda in lambda_val:\n",
        "      w_temp , J_temp = batch_gradient_descent(X,y,w,alpha,iters)\n",
        "      m = y.shape[0]\n",
        "      hypothesis = sigmoid(np.dot(X0_val,w_temp.T))\n",
        "      error = hypothesis - y\n",
        "      accuracy = 100 - (np.mean(np.abs(hypothesis - y))*100)\n",
        "      if max_accuracy < accuracy:\n",
        "        max_accuracy = accuracy\n",
        "        max_w = w_temp\n",
        "  return max_w , max_accuracy\n"
      ],
      "metadata": {
        "id": "mBND3LK4PTGj"
      },
      "execution_count": null,
      "outputs": []
    },
    {
      "cell_type": "code",
      "source": [
        "final_w , final_accuracy40 = grid_search40(w,X4_val,Y4_val)\n",
        "#print(final_w)\n",
        "print(final_accuracy40)"
      ],
      "metadata": {
        "colab": {
          "base_uri": "https://localhost:8080/"
        },
        "outputId": "0736ffc8-342a-4109-bb44-e7d2be5e440f",
        "id": "ZH1vdWIoPTGj"
      },
      "execution_count": null,
      "outputs": [
        {
          "output_type": "stream",
          "name": "stdout",
          "text": [
            "67.56499157287459\n"
          ]
        }
      ]
    },
    {
      "cell_type": "code",
      "source": [
        "alpha=0.2\n",
        "iters=2000\n",
        "batch_size=5\n",
        "mini_batch_w,J_mini_batch = MB_gradient_descent(X4_train,Y4_train,w,alpha,iters, batch_size)\n",
        "plt.plot(range(iters),J_mini_batch)\n",
        "plt.show()\n"
      ],
      "metadata": {
        "colab": {
          "base_uri": "https://localhost:8080/",
          "height": 265
        },
        "outputId": "3cc3f24f-8be5-4029-e28f-abeca028e3b8",
        "id": "-qzo2JNQPTGj"
      },
      "execution_count": null,
      "outputs": [
        {
          "output_type": "display_data",
          "data": {
            "image/png": "[encoded data removed]",
            "text/plain": [
              "<Figure size 432x288 with 1 Axes>"
            ]
          },
          "metadata": {
            "needs_background": "light"
          }
        }
      ]
    },
    {
      "cell_type": "code",
      "source": [
        "z = np.dot(X4_test, mini_batch_w.T)\n",
        "print(z.T)\n",
        "h = sigmoid(z)\n",
        "y_pred=h>0.5\n",
        "y_pred41=y_pred.astype(int)\n",
        "print(y_pred41.T)\n"
      ],
      "metadata": {
        "colab": {
          "base_uri": "https://localhost:8080/"
        },
        "outputId": "e3e99af8-acc7-4988-f178-59806a2169a7",
        "id": "oA-VE7Q6PTGj"
      },
      "execution_count": null,
      "outputs": [
        {
          "output_type": "stream",
          "name": "stdout",
          "text": [
            "[-1.99932397 -1.5040168  -2.15253967 -1.85508533 -1.75227805 -2.06351191\n",
            " -1.5084954  -1.95493545 -2.0257586  -1.84582477 -2.43802375 -2.02040037\n",
            " -2.48119549 -1.86673725 -2.02014583 -1.95300689 -1.99892882 -1.52459728\n",
            " -2.24337551 -2.03924568 -1.83230652 -1.90421034 -1.88421209 -1.65195821\n",
            " -2.38881459 -2.28842982 -1.66171736 -2.13519275 -1.80742571 -2.41096802\n",
            " -2.11086859 -2.18717972 -1.92909712 -2.24533879 -2.2076027  -2.11141655\n",
            " -1.63370077 -2.10531368 -1.85396683 -1.98753753 -2.16524974 -1.87951003\n",
            " -2.07285443 -2.42897979 -1.69930201 -1.73013972 -1.8374958  -2.13027833\n",
            " -2.20911296 -2.45682316 -2.44297326 -1.79304728 -2.30861453 -1.89637572\n",
            " -2.52237543 -2.22713015 -2.39425356 -1.82516496 -2.2977119  -2.3412702\n",
            " -2.27764529 -1.73003691 -1.80491506 -2.11419009 -1.94450842 -1.83514108\n",
            " -1.66870798 -1.95933876 -1.73790299 -2.31179224 -1.98858264 -2.38740359\n",
            " -2.15728396 -2.00571549 -1.64227687 -2.1231119  -2.12630585 -1.77915718\n",
            " -2.20930472 -1.96788631 -1.86995504 -1.62983673 -1.91467101 -1.68289029\n",
            " -1.84359801 -2.12032747 -1.77864327 -2.19776225 -1.43962364 -1.91121995\n",
            " -2.02313781 -1.81246561 -1.72760368 -2.11299866 -1.70968948 -1.91772157\n",
            " -1.87695854 -1.94751546 -1.76595158 -1.90547976 -2.01606469 -2.24938532\n",
            " -2.21675499 -1.78811153 -1.68826822 -2.41000636 -1.70974802 -1.89967618\n",
            " -1.81164366 -1.86192327 -2.33948823 -2.13299194 -2.27336981 -2.03322134\n",
            " -1.60227002 -2.35352012 -1.77311296 -1.63695759 -2.00625622 -1.97706402\n",
            " -2.0344823  -1.81222742 -1.67375834 -2.29154687 -2.31662706 -1.40832896\n",
            " -1.82350838 -2.13657239 -2.03708383 -1.7477951  -2.37636842 -1.82702792\n",
            " -2.2546116  -1.97579427 -1.22499097 -2.02464445 -2.22184175 -2.19826813\n",
            " -2.14753656 -2.42092565 -1.71162654 -1.95575308 -1.92692484 -1.80230505\n",
            " -2.20498793 -2.69027296 -2.24772541 -2.3505129  -1.77479058 -2.03971473\n",
            " -2.25756542 -1.98431379 -2.08566667 -1.68544996 -2.21676296 -1.81089096\n",
            " -1.7710384  -2.06548409 -1.58511338 -1.82230714 -2.37907159 -1.79950492\n",
            " -1.78937929 -2.1874407  -1.98987639 -2.07229621 -2.00023723 -2.25715433\n",
            " -2.29991826 -1.66632186 -2.1067189  -1.72871819 -1.79048283 -1.55733054\n",
            " -1.98980379 -1.84866162 -1.9926928  -1.79747877 -1.72900047 -2.32186567\n",
            " -2.28505246 -2.1121485  -2.63080644 -1.46804301 -2.3853632  -1.71660799\n",
            " -1.89779214 -2.19716626 -2.0493039  -2.2258244  -2.1012306  -2.27366943\n",
            " -1.60220847 -1.62698132 -1.83160319 -2.01628968 -2.12837958 -2.08263096\n",
            " -1.83964204 -1.86588612 -1.48510396 -1.71272379 -1.60977036 -2.47463252\n",
            " -1.82641429 -2.221438   -2.19605326 -1.93156375 -2.56013683 -1.93219243\n",
            " -1.46481981 -1.73812339 -2.00538481 -2.25601211 -1.79644157 -2.22033047\n",
            " -1.88520135 -2.14676713 -1.87820817 -1.37529736 -2.08020567 -2.46259708\n",
            " -2.15526434 -2.30305843 -2.58579057 -1.75308212 -1.78278593 -1.80140246\n",
            " -1.85648958 -1.87316172 -1.97207354 -1.65412599 -2.66066128 -1.80764606\n",
            " -2.39049853 -2.05380716 -1.69094552 -1.76799474 -2.06219329 -1.49330326\n",
            " -2.23473055 -2.32743357 -1.68341883 -1.57914696 -2.41249791 -1.77645692\n",
            " -1.70968948 -2.10619735 -2.07401036 -2.01916854 -2.01530203 -1.79858151\n",
            " -2.32723679 -2.59957786 -2.06223492 -1.96123882 -2.44501298 -1.95292451\n",
            " -2.12539974 -2.19499801 -2.16284643 -1.97483882 -1.56234808 -2.31204541\n",
            " -2.03550923 -1.3793482  -1.93046702 -1.71024883 -2.02057057 -2.37005717\n",
            " -2.18997829 -1.99697026 -2.33497479 -1.90840102 -2.18069434 -2.30051559\n",
            " -2.1207669  -1.96572752 -1.56532515 -2.13631128 -1.80962295 -1.96213121\n",
            " -2.17889445 -1.80507106 -2.11086859 -1.87735477 -2.07200844 -1.95291012\n",
            " -2.02793946 -2.01148    -2.14841898 -1.89525521 -1.79831645 -2.35001966\n",
            " -1.66884342 -1.87582307 -2.01571666 -2.08190757 -1.92254538 -1.6707908\n",
            " -1.90980494 -1.37416524 -2.22144921 -2.07617969 -2.33643085 -1.98858674\n",
            " -2.11042328 -2.14776452 -2.03029592 -1.92766225 -2.25648517 -1.98531478\n",
            " -2.48179439 -1.94383725 -1.98053645 -2.07620581 -1.93074558 -1.95061482\n",
            " -1.67604078 -1.86286748 -2.31815277 -1.98013822 -1.97956998 -1.60762427\n",
            " -1.73047736 -1.82110673 -1.39820102 -1.92823676 -2.19993878 -2.29922636\n",
            " -1.98867876 -1.64582088 -2.07700582 -1.87201382 -1.733328   -1.39372379\n",
            " -1.92886644 -2.07525826 -1.758257   -2.1510906  -2.23637584 -2.11626644\n",
            " -2.06145608 -1.25965235 -1.75384393 -2.55354936 -1.77695488 -1.71639642\n",
            " -1.81900777 -1.76691086 -2.156228   -1.97848788 -1.9445383  -1.29423279\n",
            " -1.42264992 -2.01210297 -1.74689315 -1.89368325 -2.16556653 -2.32678042\n",
            " -1.69689732 -1.58315145 -1.46094176 -2.66487525 -1.80197767 -2.17146444\n",
            " -1.5964285  -1.71038265 -2.0079751  -1.92753897 -2.19750226 -2.19993775\n",
            " -1.97671665 -1.5798022  -1.80719172 -2.09965352 -1.91119755 -1.98263725\n",
            " -2.00408747 -2.23537605 -1.61429676 -1.79745208 -1.62052361 -2.43032217\n",
            " -1.7032363  -2.0400908  -1.81760588 -2.23466895 -2.36577304 -2.05683203\n",
            " -1.96561295 -1.80599573 -1.79189898 -1.93360137 -1.73708033 -1.95980878\n",
            " -2.25195872 -2.15417121 -2.16342699 -2.0722557  -2.17961564 -2.25951824\n",
            " -1.89097226 -1.78283888 -2.00691849 -1.98531758 -2.04942465 -2.13329084\n",
            " -2.23310368 -2.20610245 -1.83612933 -2.0375374  -2.04793089 -2.56448514\n",
            " -1.49884186 -1.79486823 -2.09893736 -2.63631325 -1.85535221 -1.31834375\n",
            " -1.55170706 -1.90896427 -1.93398036 -1.927597   -2.22340293 -2.08973235\n",
            " -1.89965503 -2.46543169 -1.43922559 -1.71176867 -1.96593104 -1.88089431\n",
            " -1.99427524 -1.91735584 -2.05467579 -1.58373477 -2.20194157 -2.07036702\n",
            " -1.63982923 -2.75686737 -2.01081526 -1.83303967 -1.92152347 -2.34268854\n",
            " -1.9783892  -1.62126993 -1.78284633 -1.98256074 -1.52323094 -1.86880329\n",
            " -2.03234288 -2.20398851 -2.2199029  -2.39934776 -2.17879935 -2.3073798\n",
            " -1.85028464 -2.26752906 -1.97629226 -2.17778018 -1.95926602 -2.27855222\n",
            " -1.64690158 -2.007702   -2.03533892 -2.13785995 -2.06334221 -1.58044714\n",
            " -1.8385013  -2.30115488 -2.05170874 -2.24767586 -2.12397799 -1.91533129\n",
            " -2.2321407  -2.06162319 -2.11387736 -1.65455261 -2.08945783 -1.96859021\n",
            " -2.19038725 -1.71969908 -2.80346302 -2.15125734 -2.082321   -1.99612078\n",
            " -1.83102732 -2.00967113 -2.13846816 -2.03707349 -1.71965393 -2.00348924\n",
            " -2.0304223  -2.24738695 -1.76312735 -1.90671116 -2.14743558 -1.77903748\n",
            " -2.07690023 -1.94314603 -2.25013544 -1.56585661 -1.92682712 -2.20546644\n",
            " -2.0433508  -1.84874722 -1.89845237 -2.433088   -2.37335705 -2.57416133\n",
            " -1.83269732 -2.48508935 -1.99860718 -2.72009977 -1.78792834 -2.27506799\n",
            " -2.18644247 -2.31923573 -1.72976203 -2.42204106 -2.07207113 -2.33131373\n",
            " -2.00644875 -2.32475611 -1.98787931 -1.84175895 -2.05360887 -2.05479886\n",
            " -2.23239293 -2.55114778 -2.05475284 -1.9245279  -1.95096443 -2.14525206\n",
            " -2.08835554 -1.82646259 -2.00248909 -1.81827744 -1.97370201 -2.20687798\n",
            " -1.81032299 -1.85060546 -1.90686001 -2.26335612 -1.45865273 -1.79995385\n",
            " -1.95672502 -1.93485806 -2.10801098 -2.04525802 -1.52455585 -2.28811009\n",
            " -1.95964624 -2.40949401 -2.28642737 -1.67129693 -1.96859021 -1.55062905\n",
            " -2.48500292 -2.1195095  -1.61490502 -2.49687324 -1.71866044 -1.66105961\n",
            " -1.88977305 -1.87018246 -1.59778958 -1.69402764 -2.03003536 -1.89417525\n",
            " -2.13913333 -1.8624421  -1.67712531 -1.71132945 -2.19857469 -1.70517963\n",
            " -1.94056114 -2.35998026 -2.32403989 -2.37285973 -2.1019579  -1.98639238\n",
            " -2.1679549  -2.89025418 -1.44647114 -1.81861115 -1.95788472 -1.77428616\n",
            " -1.83883749 -2.15272422 -2.4574827  -2.32311139 -1.45204893 -2.01199612\n",
            " -1.97855769 -1.77547633 -2.06154091 -2.07745509 -2.05109312 -1.48351883\n",
            " -2.04044074 -1.91388554 -1.95485349 -2.5208131  -1.97240915 -2.2225502\n",
            " -2.51663395 -1.80700829 -2.2341992  -2.18647519 -1.63511141 -1.68403979\n",
            " -2.55994552 -1.87391663 -1.9090274  -1.92439843 -2.455669   -2.11985604\n",
            " -1.85505813 -2.25749942 -1.8965996  -2.45635383 -1.58373643 -2.43114185\n",
            " -2.20148334 -1.80403602 -2.0488872  -1.61793919 -2.07973399 -2.44362038\n",
            " -2.23842387 -2.14327963 -1.89037163 -2.01438064 -1.63068518 -2.25042589\n",
            " -2.01385217 -2.2492519  -2.26758398 -1.98605732 -2.41979986 -2.01008169\n",
            " -2.23756436 -1.53501899 -2.05811923 -1.79916906 -1.92687259 -1.64511655\n",
            " -2.15722782 -1.73231086 -2.24512368 -1.91703036 -1.99109864 -1.93063937\n",
            " -1.86463746 -1.70928632 -1.97715055 -1.79011463 -2.00931911 -2.1910285\n",
            " -2.60196706 -1.87175372 -1.67262731 -2.26105792 -1.79964794 -2.20410078\n",
            " -1.69495952 -1.95046929 -2.03150201 -2.18446878 -2.1062159  -1.7901631\n",
            " -2.18587671 -2.64078237 -2.00637326 -1.96714381 -2.32950146 -2.01028888\n",
            " -2.14901212 -2.24710353 -2.11741325 -2.08630064 -2.35158646]\n",
            "[0 0 0 0 0 0 0 0 0 0 0 0 0 0 0 0 0 0 0 0 0 0 0 0 0 0 0 0 0 0 0 0 0 0 0 0 0\n",
            " 0 0 0 0 0 0 0 0 0 0 0 0 0 0 0 0 0 0 0 0 0 0 0 0 0 0 0 0 0 0 0 0 0 0 0 0 0\n",
            " 0 0 0 0 0 0 0 0 0 0 0 0 0 0 0 0 0 0 0 0 0 0 0 0 0 0 0 0 0 0 0 0 0 0 0 0 0\n",
            " 0 0 0 0 0 0 0 0 0 0 0 0 0 0 0 0 0 0 0 0 0 0 0 0 0 0 0 0 0 0 0 0 0 0 0 0 0\n",
            " 0 0 0 0 0 0 0 0 0 0 0 0 0 0 0 0 0 0 0 0 0 0 0 0 0 0 0 0 0 0 0 0 0 0 0 0 0\n",
            " 0 0 0 0 0 0 0 0 0 0 0 0 0 0 0 0 0 0 0 0 0 0 0 0 0 0 0 0 0 0 0 0 0 0 0 0 0\n",
            " 0 0 0 0 0 0 0 0 0 0 0 0 0 0 0 0 0 0 0 0 0 0 0 0 0 0 0 0 0 0 0 0 0 0 0 0 0\n",
            " 0 0 0 0 0 0 0 0 0 0 0 0 0 0 0 0 0 0 0 0 0 0 0 0 0 0 0 0 0 0 0 0 0 0 0 0 0\n",
            " 0 0 0 0 0 0 0 0 0 0 0 0 0 0 0 0 0 0 0 0 0 0 0 0 0 0 0 0 0 0 0 0 0 0 0 0 0\n",
            " 0 0 0 0 0 0 0 0 0 0 0 0 0 0 0 0 0 0 0 0 0 0 0 0 0 0 0 0 0 0 0 0 0 0 0 0 0\n",
            " 0 0 0 0 0 0 0 0 0 0 0 0 0 0 0 0 0 0 0 0 0 0 0 0 0 0 0 0 0 0 0 0 0 0 0 0 0\n",
            " 0 0 0 0 0 0 0 0 0 0 0 0 0 0 0 0 0 0 0 0 0 0 0 0 0 0 0 0 0 0 0 0 0 0 0 0 0\n",
            " 0 0 0 0 0 0 0 0 0 0 0 0 0 0 0 0 0 0 0 0 0 0 0 0 0 0 0 0 0 0 0 0 0 0 0 0 0\n",
            " 0 0 0 0 0 0 0 0 0 0 0 0 0 0 0 0 0 0 0 0 0 0 0 0 0 0 0 0 0 0 0 0 0 0 0 0 0\n",
            " 0 0 0 0 0 0 0 0 0 0 0 0 0 0 0 0 0 0 0 0 0 0 0 0 0 0 0 0 0 0 0 0 0 0 0 0 0\n",
            " 0 0 0 0 0 0 0 0 0 0 0 0 0 0 0 0 0 0 0 0 0 0 0 0 0 0 0 0 0 0 0 0 0 0 0 0 0\n",
            " 0 0 0 0 0 0 0 0 0 0 0 0 0 0 0 0 0 0 0 0 0 0 0 0 0 0 0 0 0 0 0 0 0 0 0 0 0\n",
            " 0 0 0 0 0 0 0 0 0 0 0 0 0 0 0 0 0 0 0 0 0 0 0 0 0 0 0 0 0 0 0 0 0 0 0 0 0\n",
            " 0 0 0 0 0 0 0 0 0 0 0 0 0 0 0 0 0]\n"
          ]
        }
      ]
    },
    {
      "cell_type": "code",
      "source": [
        "#Implementing Grid Search for hyperparameter tuning\n",
        "\n",
        "iters = 2000\n",
        "def grid_search31(w,X,y):\n",
        "  alpha_val = [0.01 , 0.05 , 0.1 , 0.15 , 0.2 , 0.5]\n",
        "  lambda_val = [0.05 , 0.1 , 0.15 , 0.2 , 0.5 , 1]\n",
        "  max_w = w\n",
        "  max_accuracy = 0\n",
        "  for alpha in alpha_val:\n",
        "    for Lambda in lambda_val:\n",
        "      w_temp , J_temp = MB_gradient_descent(X,y,w,alpha,iters, batch_size)\n",
        "      m = y.shape[0]\n",
        "      hypothesis = sigmoid(np.dot(X0_val,w_temp.T))\n",
        "      error = hypothesis - y\n",
        "      accuracy = 100 - (np.mean(np.abs(hypothesis - y))*100)\n",
        "      if max_accuracy < accuracy:\n",
        "        max_accuracy = accuracy\n",
        "        max_w = w_temp\n",
        "  return max_w , max_accuracy"
      ],
      "metadata": {
        "id": "wzOnegg2PTGk"
      },
      "execution_count": null,
      "outputs": []
    },
    {
      "cell_type": "code",
      "source": [
        "final_w , final_accuracy41 = grid_search31(w,X4_val,Y4_val)\n",
        "#print(final_w)\n",
        "print(final_accuracy41)"
      ],
      "metadata": {
        "colab": {
          "base_uri": "https://localhost:8080/"
        },
        "outputId": "a94821eb-ee9d-4b67-8045-b67722fdee84",
        "id": "Dx5yxsS_PTGk"
      },
      "execution_count": null,
      "outputs": [
        {
          "output_type": "stream",
          "name": "stdout",
          "text": [
            "76.08902258621174\n"
          ]
        }
      ]
    },
    {
      "cell_type": "code",
      "source": [
        "n_epochs=2000\n",
        "alpha=0.02\n",
        "w_n,J_sgd = stochastic_gradient_descent(X4_train,Y4_train,w, alpha, n_epochs)\n",
        "plt.plot(range(n_epochs),J_sgd)\n",
        "plt.show()\n"
      ],
      "metadata": {
        "colab": {
          "base_uri": "https://localhost:8080/",
          "height": 265
        },
        "outputId": "1facc331-171e-4436-fd96-967fc27c1a77",
        "id": "HA-gc1SBPTGk"
      },
      "execution_count": null,
      "outputs": [
        {
          "output_type": "display_data",
          "data": {
            "image/png": "[encoded data removed]",
            "text/plain": [
              "<Figure size 432x288 with 1 Axes>"
            ]
          },
          "metadata": {
            "needs_background": "light"
          }
        }
      ]
    },
    {
      "cell_type": "code",
      "source": [
        "z = np.dot(X3_test, w_n.T)\n",
        "print(z.T)\n",
        "h = sigmoid(z)\n",
        "y_pred=h>0.5\n",
        "y_pred32=y_pred.astype(int)\n",
        "print(y_pred32.T)\n"
      ],
      "metadata": {
        "colab": {
          "base_uri": "https://localhost:8080/"
        },
        "outputId": "ca9e36d5-2be4-4264-dcb1-b3fb87d08487",
        "id": "TyozEhPlPTGk"
      },
      "execution_count": null,
      "outputs": [
        {
          "output_type": "stream",
          "name": "stdout",
          "text": [
            "[-1.03501988 -0.59432522 -1.16585484 -1.05578706 -0.8202109  -1.1080791\n",
            " -0.66225671 -0.95152435 -0.8076464  -0.82259861 -1.17331359 -0.91835808\n",
            " -1.09913504 -0.95543542 -0.87509259 -0.85889337 -0.97014711 -0.80342551\n",
            " -1.18069089 -0.95308444 -0.98905065 -0.7573183  -0.84132272 -0.90853523\n",
            " -0.92437626 -1.16421523 -0.55829489 -0.98023309 -0.90695773 -0.99539635\n",
            " -0.98969422 -1.14837123 -0.79100072 -1.03192895 -0.96212502 -1.13435525\n",
            " -0.78605534 -0.77588693 -0.98825522 -0.9522373  -0.97934325 -0.93234204\n",
            " -1.02348985 -1.07630896 -0.93339626 -0.96467072 -0.93788843 -0.96719024\n",
            " -1.13699944 -1.27754864 -1.2507157  -0.94806574 -1.04577736 -0.9596432\n",
            " -1.18571796 -1.01238983 -1.27329214 -0.8608226  -0.99628881 -1.10035753\n",
            " -1.18813333 -0.8085621  -0.84153192 -0.91869385 -0.78820478 -0.84969776\n",
            " -0.80261938 -0.938617   -0.87319612 -1.08367914 -0.92737704 -1.00875674\n",
            " -1.18388718 -0.94460767 -0.79493406 -1.10411076 -0.94935726 -1.04108968\n",
            " -1.0941996  -0.98970989 -0.84986468 -0.81265806 -1.06534363 -0.6851033\n",
            " -0.9635216  -1.20646619 -0.88126217 -1.04334816 -0.72959039 -1.00764316\n",
            " -0.75712761 -0.97418526 -1.03227134 -1.0078293  -0.91265642 -0.96918581\n",
            " -0.92567642 -0.90200324 -0.91878931 -0.89311733 -0.8705964  -1.09840722\n",
            " -1.17968917 -1.0652337  -0.91963468 -1.23628829 -0.84042588 -0.85917183\n",
            " -0.84446101 -0.86443776 -1.08091347 -1.08394009 -1.09439727 -1.06611232\n",
            " -0.8660507  -1.18001801 -0.84394973 -0.87178236 -0.77853358 -0.96969813\n",
            " -1.05825376 -0.86879882 -0.65879677 -1.13942777 -0.974739   -0.82159259\n",
            " -0.80436454 -1.04980271 -1.01172669 -0.79791931 -1.05849084 -1.13352918\n",
            " -0.98227949 -1.0106966  -0.647795   -0.91981828 -1.00610688 -1.20150255\n",
            " -0.99159645 -1.25071434 -0.76943016 -0.86474332 -1.03312687 -0.89598061\n",
            " -0.94864767 -1.30872185 -1.17190733 -1.19585105 -0.74542851 -1.01841813\n",
            " -1.08048197 -0.93153175 -1.06576307 -0.85769032 -0.84899925 -0.87450526\n",
            " -0.78010614 -1.07132745 -0.70628713 -1.1219629  -1.09384419 -0.73982298\n",
            " -0.9889833  -1.09226551 -0.81683771 -0.79494325 -0.79514434 -1.06885747\n",
            " -1.07059979 -0.86813526 -0.98019466 -0.90791488 -0.90982423 -0.88403781\n",
            " -0.80677149 -0.98346968 -0.94803169 -0.87979752 -0.80770527 -1.02003199\n",
            " -0.98855047 -1.09886185 -1.19090822 -0.79990398 -1.18151608 -0.8002933\n",
            " -0.84012745 -1.01954097 -0.83236602 -1.06920515 -0.85190714 -1.0567797\n",
            " -0.73540721 -0.78684481 -0.92608704 -0.98137142 -1.11733508 -1.02910503\n",
            " -0.87963502 -0.85209359 -0.64825355 -0.79269286 -0.71887608 -1.16914231\n",
            " -0.84213702 -1.11041324 -1.04833894 -0.89953212 -1.23343785 -0.91224369\n",
            " -0.73734315 -0.84771722 -0.86635292 -0.89677413 -0.87620453 -0.99652915\n",
            " -0.91472071 -1.13359241 -0.88661457 -0.76489643 -1.04592919 -1.17008216\n",
            " -0.98729705 -1.22952595 -1.22328176 -0.82139067 -0.93554357 -0.97157184\n",
            " -0.90036456 -0.80215258 -0.87172601 -0.78493552 -1.17769698 -0.74223219\n",
            " -1.09723663 -0.91565796 -0.84630167 -0.82983671 -0.8263576  -0.77202736\n",
            " -0.89983261 -0.91138001 -0.83534406 -0.77261834 -1.04707623 -0.83052265\n",
            " -0.91265642 -0.95977252 -1.014001   -1.00249294 -0.84938508 -0.7542965\n",
            " -1.17698488 -1.12647352 -0.95634997 -0.85963482 -1.02384872 -1.0524106\n",
            " -0.98816185 -1.02202195 -0.89909327 -0.92760758 -0.74915088 -1.06037514\n",
            " -1.01489295 -0.76055972 -1.0123147  -0.88586186 -0.99489747 -0.98673424\n",
            " -1.17024297 -0.87824486 -1.030804   -0.82511493 -0.99683387 -1.09820648\n",
            " -1.19540499 -0.86219125 -0.74662583 -1.10066645 -0.88036522 -0.90853205\n",
            " -0.89803919 -0.87266713 -0.98969422 -1.00295238 -0.99145592 -0.92920848\n",
            " -0.95514219 -1.00640341 -0.95563077 -1.00284268 -0.93664127 -1.23753693\n",
            " -0.64497118 -0.89710295 -1.14843101 -0.95638914 -0.8384363  -0.76673129\n",
            " -0.87858145 -0.46721146 -1.2365531  -0.98846726 -1.29332515 -0.94851817\n",
            " -1.0569609  -0.94085073 -0.96489683 -0.88631328 -0.94973406 -0.9170986\n",
            " -1.30331783 -0.99579788 -1.02812956 -0.8630152  -0.86464896 -0.89259435\n",
            " -0.74800295 -0.97711935 -1.17598943 -0.90784095 -0.84857161 -0.68590221\n",
            " -0.97645835 -0.85607447 -0.66603893 -1.02085773 -1.0399945  -1.07374375\n",
            " -1.05204104 -0.88614602 -0.91930478 -0.93640558 -0.84630106 -0.84157595\n",
            " -0.91364794 -1.02353915 -0.93928376 -0.96613675 -0.9271681  -1.08966121\n",
            " -0.96806596 -0.71593603 -1.01375277 -1.33730905 -0.69349701 -0.82907881\n",
            " -0.88044935 -0.8320237  -1.0221441  -0.98078137 -0.98959664 -0.93802701\n",
            " -0.77288856 -1.01882564 -0.79412867 -0.75271426 -1.21687978 -1.10639676\n",
            " -0.79164896 -0.72970975 -0.68942902 -1.26308547 -0.86777872 -1.02724923\n",
            " -0.79697026 -0.88152798 -0.82859994 -1.00764057 -1.09340252 -1.09038663\n",
            " -0.8796238  -0.7924059  -0.85845251 -1.03497752 -0.94442952 -1.14919511\n",
            " -0.96448768 -1.0881812  -0.75798543 -0.92736598 -0.84826742 -1.19715347\n",
            " -0.89608016 -1.02240983 -0.92112773 -1.01927309 -1.1904818  -0.9089759\n",
            " -0.92190398 -0.7418784  -0.92978498 -0.97237907 -0.86491214 -0.93740484\n",
            " -1.00902457 -1.03714069 -0.86914467 -0.90213482 -0.9122586  -1.0520714\n",
            " -0.91066631 -0.88093257 -0.95006888 -0.97026126 -1.05304036 -0.96111821\n",
            " -1.28492075 -1.05865456 -0.79612058 -0.88466798 -0.94343397 -1.21378234\n",
            " -0.75757701 -0.82898963 -0.8717701  -1.1675981  -0.80375803 -0.67699294\n",
            " -0.69761071 -0.95061348 -1.06068094 -0.94198475 -1.05767181 -0.92792085\n",
            " -1.03940144 -1.36709114 -0.83771074 -0.9535273  -0.9297997  -1.07382408\n",
            " -1.01791562 -1.02794409 -0.93690656 -0.74387804 -0.98043454 -1.01108306\n",
            " -0.72854248 -1.21471356 -0.97486382 -0.85411108 -1.0045913  -1.15604708\n",
            " -0.9581377  -0.85421592 -0.94068399 -0.92905878 -0.80370172 -0.87218425\n",
            " -0.96294922 -0.99694154 -1.03649564 -1.06274239 -0.88603147 -1.13160176\n",
            " -0.88685184 -1.14553781 -0.94708598 -0.89522332 -0.9659752  -1.1336546\n",
            " -0.87839917 -1.03914983 -0.88936941 -1.02400875 -0.93760115 -0.71994654\n",
            " -0.71024713 -1.06399668 -1.027736   -1.16091968 -1.04445664 -0.98977717\n",
            " -1.06364408 -1.0394737  -1.11418985 -0.90519058 -1.06273215 -0.8639209\n",
            " -0.90637611 -0.74047906 -1.32658332 -0.97656434 -0.96587152 -0.86250132\n",
            " -0.87075094 -0.86713924 -0.93833727 -1.2136322  -0.71684203 -0.90637708\n",
            " -1.0073983  -1.00053909 -1.12872908 -0.89784292 -1.0578328  -0.92165283\n",
            " -0.96710505 -0.8616678  -1.03603953 -0.83376516 -0.9337302  -0.99672803\n",
            " -0.96370426 -0.81238681 -1.0282474  -0.99158941 -1.13207204 -1.08288426\n",
            " -0.80701235 -0.99293056 -0.93146266 -1.17681803 -0.89971302 -1.04474968\n",
            " -1.09917297 -1.10974648 -0.9622454  -1.16356005 -0.9549377  -1.08129362\n",
            " -0.91523898 -1.05067874 -0.99821353 -0.87484337 -1.02344894 -0.95399386\n",
            " -1.07563023 -1.08957764 -0.97064579 -1.01272508 -0.98882159 -1.21571704\n",
            " -0.95053844 -0.67500849 -1.01492396 -0.98893715 -0.92821081 -1.03970466\n",
            " -0.72104185 -0.89249264 -0.84062469 -1.16451825 -0.73522334 -0.99929847\n",
            " -0.84909166 -0.97166513 -1.00322215 -0.92081568 -0.69920219 -1.25539234\n",
            " -0.81386131 -1.23711912 -1.1335438  -0.85656128 -0.8639209  -0.79145445\n",
            " -1.19293525 -0.95057924 -0.86504867 -1.14008091 -0.84948209 -0.94840623\n",
            " -1.00826651 -0.78154243 -0.6769505  -0.92972456 -0.97281783 -0.83060085\n",
            " -1.16647521 -0.94609687 -0.83702359 -0.84074265 -0.94495202 -0.85105613\n",
            " -1.05327243 -1.06043478 -1.01482503 -1.01858392 -1.09115809 -0.95571911\n",
            " -1.07193512 -1.23063013 -0.92087543 -0.9391309  -1.02172495 -0.77888158\n",
            " -0.8402143  -1.03077167 -1.05409794 -1.00635871 -0.92863335 -1.05046279\n",
            " -1.037092   -0.76555778 -1.06538127 -1.10607777 -1.0681444  -0.84563015\n",
            " -0.77098581 -0.78345616 -0.93268644 -1.2463969  -1.09176104 -1.11502992\n",
            " -1.35305698 -1.03429129 -1.16671548 -1.06082901 -0.75727017 -0.89718735\n",
            " -1.2501688  -0.89239365 -0.97628508 -0.89334919 -1.09942812 -1.05785394\n",
            " -0.94003423 -1.04959012 -0.9850847  -1.16656299 -0.85444516 -1.03633844\n",
            " -0.96353032 -0.97838694 -0.9821617  -0.70405302 -0.94826621 -1.06163651\n",
            " -1.16596454 -0.94782986 -0.94754432 -0.97764239 -0.90102648 -1.09255038\n",
            " -0.98304217 -1.13996916 -1.0764079  -1.02609536 -1.06404782 -1.05618739\n",
            " -1.17147055 -0.81238968 -1.05183742 -0.7303337  -1.11839502 -0.87868442\n",
            " -0.90395889 -0.92681881 -1.08462821 -0.93190463 -0.86013009 -0.99036498\n",
            " -0.87586224 -0.81927864 -0.87818047 -0.97753947 -0.8909459  -1.10261567\n",
            " -1.26895604 -0.8451806  -0.82146329 -1.12268313 -0.85652986 -0.99529942\n",
            " -0.85721472 -0.93305603 -1.06146373 -1.02598845 -1.11351092 -0.90309438\n",
            " -0.90831265 -1.0431111  -1.01501889 -0.82997324 -1.11698791 -1.16409924\n",
            " -0.90292928 -1.13029696 -0.80390362 -1.02426626 -1.29333003]\n",
            "[0 0 0 0 0 0 0 0 0 0 0 0 0 0 0 0 0 0 0 0 0 0 0 0 0 0 0 0 0 0 0 0 0 0 0 0 0\n",
            " 0 0 0 0 0 0 0 0 0 0 0 0 0 0 0 0 0 0 0 0 0 0 0 0 0 0 0 0 0 0 0 0 0 0 0 0 0\n",
            " 0 0 0 0 0 0 0 0 0 0 0 0 0 0 0 0 0 0 0 0 0 0 0 0 0 0 0 0 0 0 0 0 0 0 0 0 0\n",
            " 0 0 0 0 0 0 0 0 0 0 0 0 0 0 0 0 0 0 0 0 0 0 0 0 0 0 0 0 0 0 0 0 0 0 0 0 0\n",
            " 0 0 0 0 0 0 0 0 0 0 0 0 0 0 0 0 0 0 0 0 0 0 0 0 0 0 0 0 0 0 0 0 0 0 0 0 0\n",
            " 0 0 0 0 0 0 0 0 0 0 0 0 0 0 0 0 0 0 0 0 0 0 0 0 0 0 0 0 0 0 0 0 0 0 0 0 0\n",
            " 0 0 0 0 0 0 0 0 0 0 0 0 0 0 0 0 0 0 0 0 0 0 0 0 0 0 0 0 0 0 0 0 0 0 0 0 0\n",
            " 0 0 0 0 0 0 0 0 0 0 0 0 0 0 0 0 0 0 0 0 0 0 0 0 0 0 0 0 0 0 0 0 0 0 0 0 0\n",
            " 0 0 0 0 0 0 0 0 0 0 0 0 0 0 0 0 0 0 0 0 0 0 0 0 0 0 0 0 0 0 0 0 0 0 0 0 0\n",
            " 0 0 0 0 0 0 0 0 0 0 0 0 0 0 0 0 0 0 0 0 0 0 0 0 0 0 0 0 0 0 0 0 0 0 0 0 0\n",
            " 0 0 0 0 0 0 0 0 0 0 0 0 0 0 0 0 0 0 0 0 0 0 0 0 0 0 0 0 0 0 0 0 0 0 0 0 0\n",
            " 0 0 0 0 0 0 0 0 0 0 0 0 0 0 0 0 0 0 0 0 0 0 0 0 0 0 0 0 0 0 0 0 0 0 0 0 0\n",
            " 0 0 0 0 0 0 0 0 0 0 0 0 0 0 0 0 0 0 0 0 0 0 0 0 0 0 0 0 0 0 0 0 0 0 0 0 0\n",
            " 0 0 0 0 0 0 0 0 0 0 0 0 0 0 0 0 0 0 0 0 0 0 0 0 0 0 0 0 0 0 0 0 0 0 0 0 0\n",
            " 0 0 0 0 0 0 0 0 0 0 0 0 0 0 0 0 0 0 0 0 0 0 0 0 0 0 0 0 0 0 0 0 0 0 0 0 0\n",
            " 0 0 0 0 0 0 0 0 0 0 0 0 0 0 0 0 0 0 0 0 0 0 0 0 0 0 0 0 0 0 0 0 0 0 0 0 0\n",
            " 0 0 0 0 0 0 0 0 0 0 0 0 0 0 0 0 0 0 0 0 0 0 0 0 0 0 0 0 0 0 0 0 0 0 0 0 0\n",
            " 0 0 0 0 0 0 0 0 0 0 0 0 0 0 0 0 0 0 0 0 0 0 0 0 0 0 0 0 0 0 0 0 0 0 0 0 0\n",
            " 0 0 0 0 0 0 0 0 0 0 0 0 0 0 0 0 0]\n"
          ]
        }
      ]
    },
    {
      "cell_type": "code",
      "source": [
        "#Implementing Grid Search for hyperparameter tuning\n",
        "\n",
        "iters = 2000\n",
        "def grid_search32(w,X,y):\n",
        "  alpha_val = [0.01 , 0.05 , 0.1 , 0.15 , 0.2 , 0.5]\n",
        "  lambda_val = [0.05 , 0.1 , 0.15 , 0.2 , 0.5 , 1]\n",
        "  max_w = w\n",
        "  max_accuracy = 0\n",
        "  for alpha in alpha_val:\n",
        "    for Lambda in lambda_val:\n",
        "      w_temp , J_temp = stochastic_gradient_descent(X0_train,Y0_train,w, alpha, n_epochs)\n",
        "      m = y.shape[0]\n",
        "      hypothesis = sigmoid(np.dot(X0_val,w_temp.T))\n",
        "      error = hypothesis - y\n",
        "      accuracy = 100 - (np.mean(np.abs(hypothesis - y))*100)\n",
        "      if max_accuracy < accuracy:\n",
        "        max_accuracy = accuracy\n",
        "        max_w = w_temp\n",
        "  return max_w , max_accuracy"
      ],
      "metadata": {
        "id": "kr-OAsm_PTGk"
      },
      "execution_count": null,
      "outputs": []
    },
    {
      "cell_type": "code",
      "source": [
        "final_w , final_accuracy42 = grid_search32(w,X3_val,Y3_val)\n",
        "#print(final_w)\n",
        "print(final_accuracy42)"
      ],
      "metadata": {
        "colab": {
          "base_uri": "https://localhost:8080/"
        },
        "outputId": "366c5568-878a-4b9f-f233-fe8bba99c99a",
        "id": "rxrHcSgvPTGk"
      },
      "execution_count": null,
      "outputs": [
        {
          "output_type": "stream",
          "name": "stdout",
          "text": [
            "76.24406603216175\n"
          ]
        }
      ]
    },
    {
      "cell_type": "code",
      "source": [
        ""
      ],
      "metadata": {
        "id": "TJAA6uCaPUDJ"
      },
      "execution_count": null,
      "outputs": []
    },
    {
      "cell_type": "markdown",
      "source": [
        "For 6th class\n"
      ],
      "metadata": {
        "id": "NZucjo8QPvrb"
      }
    },
    {
      "cell_type": "code",
      "source": [
        "alpha=0.5 ##learning rate\n",
        "iters=2000 ###iterations\n",
        "batch_w,J_his = batch_gradient_descent(X4_train,Y4_train,w,alpha,iters)\n",
        "plt.plot(range(iters),J_his)\n",
        "plt.show()"
      ],
      "metadata": {
        "colab": {
          "base_uri": "https://localhost:8080/",
          "height": 265
        },
        "outputId": "e19d5f5e-e06c-4d81-99af-c1786e5670cf",
        "id": "G5ULhulTPUQe"
      },
      "execution_count": null,
      "outputs": [
        {
          "output_type": "display_data",
          "data": {
            "image/png": "[encoded data removed]",
            "text/plain": [
              "<Figure size 432x288 with 1 Axes>"
            ]
          },
          "metadata": {
            "needs_background": "light"
          }
        }
      ]
    },
    {
      "cell_type": "code",
      "source": [
        "z = np.dot(X3_test, batch_w.T)\n",
        "print(z.T)\n",
        "h = sigmoid(z)\n",
        "y_pred=h>0.5\n",
        "y_pred30=y_pred.astype(int)\n",
        "print(y_pred30.T)\n"
      ],
      "metadata": {
        "colab": {
          "base_uri": "https://localhost:8080/"
        },
        "outputId": "bfacdc82-e3f4-4470-e6b1-51692d92d849",
        "id": "a9_yGTglPUQe"
      },
      "execution_count": null,
      "outputs": [
        {
          "output_type": "stream",
          "name": "stdout",
          "text": [
            "[-0.97105319 -0.56674545 -1.22028454 -0.79904274 -0.91280132 -1.29408098\n",
            " -0.44498686 -1.13016261 -1.32379163 -0.92314524 -1.27572459 -1.00306506\n",
            " -1.65221096 -0.95741856 -1.05704929 -1.08581719 -0.92054227 -0.58948741\n",
            " -1.12496444 -1.09929922 -0.94388326 -0.71246285 -1.34717504 -0.69874081\n",
            " -1.47162796 -1.85518081 -1.12535151 -1.34090593 -1.11075075 -1.50352519\n",
            " -1.16279096 -1.36988967 -1.01442035 -1.36163184 -1.2820262  -1.07649146\n",
            " -0.93835108 -1.00232418 -0.9981199  -1.28564738 -1.19027284 -1.13707238\n",
            " -1.41574517 -1.62313856 -0.9074018  -0.95508583 -1.19932987 -1.31796713\n",
            " -1.34320609 -1.61277665 -1.47925803 -0.88763036 -1.38559746 -1.125286\n",
            " -1.59574299 -1.46490629 -1.33012676 -0.88288548 -1.69397419 -1.4088091\n",
            " -1.4577492  -1.04144962 -1.05421568 -1.13410368 -1.37128268 -0.90138876\n",
            " -0.74808224 -1.16223015 -1.2547576  -1.49089225 -1.52003692 -1.4570548\n",
            " -1.39994487 -1.02435633 -0.47375398 -1.15496155 -1.23420213 -0.67421903\n",
            " -1.59151658 -0.9135219  -1.05609458 -0.8991721  -1.09594567 -0.86770359\n",
            " -1.32714107 -1.08823192 -1.22914841 -1.49769071 -0.52046886 -0.99842509\n",
            " -1.1116278  -1.09547657 -0.79225566 -1.10509602 -1.10926757 -1.24082102\n",
            " -1.13408889 -1.25314591 -1.10247796 -1.0829376  -0.93572857 -1.26305745\n",
            " -1.20309443 -0.91913966 -0.92518737 -1.44741073 -0.68880408 -0.93462965\n",
            " -1.01090652 -0.90872234 -1.48942665 -1.01663786 -1.08908627 -0.93913478\n",
            " -0.72652384 -1.32879912 -1.12600773 -0.9871931  -1.3883675  -1.23888447\n",
            " -0.9695227  -0.94736864 -0.8377861  -1.4340992  -1.68769459 -0.68718858\n",
            " -1.10736924 -1.41767557 -1.17649575 -0.9698115  -1.41622389 -0.95456789\n",
            " -1.22214555 -1.0512391  -0.43778828 -1.25004901 -1.27585916 -1.22746559\n",
            " -1.21250423 -1.38773148 -1.01375843 -0.91645044 -1.17154291 -0.77253502\n",
            " -1.81468049 -1.89349929 -1.37419438 -1.28019978 -0.75340284 -0.90094373\n",
            " -1.20140968 -0.96442692 -1.45186487 -0.60594974 -1.42272176 -0.6555952\n",
            " -0.99143862 -0.88645128 -0.75542848 -0.95510138 -1.34533601 -0.96227178\n",
            " -0.84463068 -1.12644171 -1.1973275  -1.17738544 -1.07054396 -1.51808763\n",
            " -1.51318743 -0.67692536 -1.20469743 -0.91422634 -1.2486698  -0.74474461\n",
            " -1.07859898 -1.1550806  -1.24961428 -1.2046071  -0.76073279 -1.64341578\n",
            " -1.33288857 -1.50921588 -1.66467593 -0.58191876 -1.58747127 -1.08821316\n",
            " -1.04740013 -1.25584727 -0.99237878 -1.13019025 -1.25712471 -1.46925192\n",
            " -0.78745393 -0.80894757 -0.85250022 -0.81553734 -1.20418826 -1.19747613\n",
            " -1.06726557 -1.18448323 -0.67179649 -0.90477903 -0.50215438 -1.4908324\n",
            " -0.66904082 -1.47979128 -1.39666894 -0.97239822 -1.79055355 -1.20627009\n",
            " -0.69713439 -0.89345421 -1.06307305 -1.41665517 -1.11238244 -1.1164502\n",
            " -1.14938759 -1.32473303 -1.00084985 -0.40580206 -1.32228928 -1.47188959\n",
            " -1.27543264 -1.49852967 -1.44385238 -1.0431337  -0.71969182 -0.99978711\n",
            " -0.89279695 -0.55688076 -1.25361491 -0.95181756 -1.77109367 -0.72034402\n",
            " -1.50562662 -0.9466028  -0.41430922 -0.99631173 -1.09561399 -0.69255946\n",
            " -1.26809457 -1.37952488 -0.82269118 -0.69353704 -1.46803977 -0.7716746\n",
            " -1.10926757 -1.20236945 -1.45470649 -1.24059153 -0.90873951 -0.85954305\n",
            " -1.37399571 -1.63241073 -0.92294625 -1.1317446  -1.62816975 -1.12528849\n",
            " -1.19232394 -1.33962502 -1.62159432 -1.02635013 -0.52179367 -1.39637491\n",
            " -1.31693126 -0.51807422 -0.8467908  -0.57567158 -1.22318221 -1.57780714\n",
            " -1.42426477 -1.02699083 -1.68164454 -1.03085395 -1.23380033 -1.51774121\n",
            " -0.96927011 -0.88304113 -0.51794389 -1.41343435 -0.88908254 -1.27785939\n",
            " -1.37565161 -0.68613296 -1.16279096 -0.96150972 -1.11951177 -1.03621375\n",
            " -1.23590907 -1.00496996 -1.35804503 -1.06445271 -1.1030034  -1.31399575\n",
            " -0.75401424 -0.82858071 -1.08129401 -1.40963504 -1.2039115  -0.7053565\n",
            " -1.0801342  -0.28377342 -1.29476005 -1.11668547 -1.64919173 -0.9173797\n",
            " -1.21557815 -1.44253242 -1.00774662 -1.32095387 -1.5878158  -0.92296027\n",
            " -1.69396048 -1.06760349 -0.82607168 -1.13642311 -0.97235159 -1.30791668\n",
            " -0.98449329 -0.94290382 -1.43967595 -1.17765445 -1.01703071 -1.01764614\n",
            " -1.02512377 -0.70689471 -0.15256783 -1.11358352 -1.4703007  -1.35471871\n",
            " -1.03703167 -0.86080129 -1.37000285 -1.01127098 -0.83565307 -0.54648588\n",
            " -0.78324862 -1.5128957  -1.05626237 -1.22624324 -0.98693111 -1.11287042\n",
            " -1.06518765 -0.19279805 -1.01498347 -2.20713585 -1.18534493 -0.86518988\n",
            " -0.68281334 -0.75163569 -1.05892905 -1.23822491 -1.33696506 -0.29126448\n",
            " -0.45600936 -1.33136724 -0.85608961 -1.26375144 -1.10621386 -1.40332759\n",
            " -0.68349533 -0.62821196 -0.25229869 -1.64447793 -1.20453098 -1.38006142\n",
            " -0.66125154 -0.76077912 -1.25335448 -0.98430238 -1.35268376 -0.96148505\n",
            " -1.08458582 -0.64163744 -0.99440349 -1.3360728  -1.03183491 -1.28496736\n",
            " -1.16260097 -1.34018594 -0.88584516 -0.86530575 -0.71577292 -1.792939\n",
            " -0.77977976 -1.21765374 -0.97926185 -1.39112442 -1.56111937 -0.9755219\n",
            " -1.14984684 -0.79262291 -1.22688566 -1.08518328 -0.74703577 -1.39756804\n",
            " -1.43083002 -1.09000856 -1.21328887 -1.50982406 -1.27638875 -1.37206261\n",
            " -1.03592511 -0.67576139 -0.9473077  -1.168251   -0.87064583 -1.14981758\n",
            " -1.11088899 -1.30888208 -0.61359725 -1.11836514 -1.25514335 -1.56239563\n",
            " -0.74157403 -0.87423435 -0.97013367 -1.68401999 -1.12218128 -0.43910669\n",
            " -0.57310292 -0.90071333 -0.96020866 -0.97074268 -1.41835868 -1.39784318\n",
            " -0.99666623 -1.2953665  -0.57749963 -0.75554744 -1.384274   -0.67706578\n",
            " -1.29331693 -1.13981715 -1.05583408 -0.64747903 -1.51056317 -1.00899627\n",
            " -0.65522522 -1.90068665 -1.19149361 -0.87360794 -1.06427754 -1.39685939\n",
            " -1.00517743 -0.80489217 -0.97309897 -1.38166787 -0.58502255 -0.9514587\n",
            " -1.22548084 -1.43594789 -1.51885568 -1.45872011 -1.39878006 -1.40795247\n",
            " -1.09003524 -1.20135748 -1.03428299 -1.33678226 -1.09237443 -1.55593551\n",
            " -0.87520413 -0.87945936 -1.17702221 -1.25805021 -1.23753145 -0.72646667\n",
            " -0.93507934 -1.40489514 -1.09392559 -1.4379338  -1.29152801 -0.95054612\n",
            " -1.21161391 -1.34532122 -0.88151095 -0.80828223 -1.13388887 -0.92470635\n",
            " -1.26096659 -0.83631709 -1.83362235 -1.29486694 -0.64739828 -1.27433101\n",
            " -0.97436144 -1.20708595 -1.00515212 -1.14949171 -0.85558398 -1.20633105\n",
            " -1.47303946 -1.09707117 -0.89694615 -1.30244045 -1.18564453 -0.88722845\n",
            " -0.95086019 -1.00433766 -1.4342555  -0.91459865 -1.40373533 -1.19394748\n",
            " -1.10307476 -1.05867394 -1.18020353 -1.5453362  -1.38493236 -1.57678925\n",
            " -0.90336336 -1.57923316 -1.28693135 -1.81245026 -0.71134144 -1.40782222\n",
            " -1.18856122 -1.30514987 -0.95193874 -1.38865522 -1.19784279 -1.48176662\n",
            " -1.17324259 -1.33018324 -1.24328174 -1.10848453 -0.96766428 -0.84143674\n",
            " -1.43530387 -1.7267105  -0.90956678 -1.25397469 -1.02088153 -1.36503226\n",
            " -1.18504815 -0.85257337 -1.25205154 -0.69077874 -1.36467785 -1.6509565\n",
            " -0.85781662 -0.87758884 -1.24760053 -1.31393183 -0.48397432 -1.04920202\n",
            " -1.05853973 -1.04826619 -1.29542641 -1.24545001 -0.3265233  -1.0679137\n",
            " -0.93081607 -1.39985379 -1.41326954 -0.75726431 -0.92470635 -0.5467615\n",
            " -1.68788301 -1.53584122 -0.94422239 -1.55342703 -0.62880445 -0.75048561\n",
            " -1.24313858 -1.27996168 -0.4558911  -0.90241328 -1.12365153 -1.188443\n",
            " -1.164278   -1.01513902 -0.80071713 -0.62239045 -1.50791483 -0.92757376\n",
            " -0.98400417 -1.2011062  -1.60053036 -1.41660355 -1.45800372 -1.30425974\n",
            " -1.46344745 -2.17472942 -0.61945664 -1.01870625 -1.04301622 -0.9721452\n",
            " -0.92707251 -1.47791904 -1.5881108  -1.14823717 -0.64123882 -1.0084236\n",
            " -1.04492678 -0.80413833 -1.35965234 -1.08309508 -1.19299762 -0.65275513\n",
            " -0.71453543 -0.98889802 -1.02395758 -1.73262158 -1.23350925 -1.56558082\n",
            " -1.64462146 -1.02485195 -1.94694032 -1.08905342 -0.76485628 -0.66604262\n",
            " -1.73471553 -0.99183668 -1.12696469 -1.22377273 -1.68693828 -1.12154404\n",
            " -1.05732075 -1.52952611 -1.17034985 -1.79492142 -0.66401545 -1.55609478\n",
            " -1.45360803 -0.73066484 -1.0955927  -0.93732763 -1.31032216 -1.36518866\n",
            " -1.30763956 -1.08068981 -1.15187473 -1.18598333 -0.77493007 -1.0995912\n",
            " -1.2093927  -1.36130102 -1.20932662 -1.0491705  -1.26894866 -1.19925475\n",
            " -0.86053938 -0.8457149  -1.29856064 -0.86457214 -0.86587415 -1.01733757\n",
            " -1.07390867 -0.90907322 -1.34545189 -1.0870918  -1.38713012 -0.86696075\n",
            " -1.13825498 -0.90855214 -1.18419109 -0.80124398 -1.16358538 -1.28778866\n",
            " -1.89063886 -0.92889168 -0.95675564 -1.70306537 -0.86385221 -1.47137919\n",
            " -0.96503981 -1.33449543 -1.22807915 -1.36868147 -1.22549881 -0.71738663\n",
            " -1.34130141 -1.71176281 -1.28820025 -1.18961063 -1.41255123 -1.12755337\n",
            " -1.32871071 -1.38921476 -1.28659953 -1.4198676  -1.39182954]\n",
            "[0 0 0 0 0 0 0 0 0 0 0 0 0 0 0 0 0 0 0 0 0 0 0 0 0 0 0 0 0 0 0 0 0 0 0 0 0\n",
            " 0 0 0 0 0 0 0 0 0 0 0 0 0 0 0 0 0 0 0 0 0 0 0 0 0 0 0 0 0 0 0 0 0 0 0 0 0\n",
            " 0 0 0 0 0 0 0 0 0 0 0 0 0 0 0 0 0 0 0 0 0 0 0 0 0 0 0 0 0 0 0 0 0 0 0 0 0\n",
            " 0 0 0 0 0 0 0 0 0 0 0 0 0 0 0 0 0 0 0 0 0 0 0 0 0 0 0 0 0 0 0 0 0 0 0 0 0\n",
            " 0 0 0 0 0 0 0 0 0 0 0 0 0 0 0 0 0 0 0 0 0 0 0 0 0 0 0 0 0 0 0 0 0 0 0 0 0\n",
            " 0 0 0 0 0 0 0 0 0 0 0 0 0 0 0 0 0 0 0 0 0 0 0 0 0 0 0 0 0 0 0 0 0 0 0 0 0\n",
            " 0 0 0 0 0 0 0 0 0 0 0 0 0 0 0 0 0 0 0 0 0 0 0 0 0 0 0 0 0 0 0 0 0 0 0 0 0\n",
            " 0 0 0 0 0 0 0 0 0 0 0 0 0 0 0 0 0 0 0 0 0 0 0 0 0 0 0 0 0 0 0 0 0 0 0 0 0\n",
            " 0 0 0 0 0 0 0 0 0 0 0 0 0 0 0 0 0 0 0 0 0 0 0 0 0 0 0 0 0 0 0 0 0 0 0 0 0\n",
            " 0 0 0 0 0 0 0 0 0 0 0 0 0 0 0 0 0 0 0 0 0 0 0 0 0 0 0 0 0 0 0 0 0 0 0 0 0\n",
            " 0 0 0 0 0 0 0 0 0 0 0 0 0 0 0 0 0 0 0 0 0 0 0 0 0 0 0 0 0 0 0 0 0 0 0 0 0\n",
            " 0 0 0 0 0 0 0 0 0 0 0 0 0 0 0 0 0 0 0 0 0 0 0 0 0 0 0 0 0 0 0 0 0 0 0 0 0\n",
            " 0 0 0 0 0 0 0 0 0 0 0 0 0 0 0 0 0 0 0 0 0 0 0 0 0 0 0 0 0 0 0 0 0 0 0 0 0\n",
            " 0 0 0 0 0 0 0 0 0 0 0 0 0 0 0 0 0 0 0 0 0 0 0 0 0 0 0 0 0 0 0 0 0 0 0 0 0\n",
            " 0 0 0 0 0 0 0 0 0 0 0 0 0 0 0 0 0 0 0 0 0 0 0 0 0 0 0 0 0 0 0 0 0 0 0 0 0\n",
            " 0 0 0 0 0 0 0 0 0 0 0 0 0 0 0 0 0 0 0 0 0 0 0 0 0 0 0 0 0 0 0 0 0 0 0 0 0\n",
            " 0 0 0 0 0 0 0 0 0 0 0 0 0 0 0 0 0 0 0 0 0 0 0 0 0 0 0 0 0 0 0 0 0 0 0 0 0\n",
            " 0 0 0 0 0 0 0 0 0 0 0 0 0 0 0 0 0 0 0 0 0 0 0 0 0 0 0 0 0 0 0 0 0 0 0 0 0\n",
            " 0 0 0 0 0 0 0 0 0 0 0 0 0 0 0 0 0]\n"
          ]
        }
      ]
    },
    {
      "cell_type": "code",
      "source": [
        "#Implementing Grid Search for hyperparameter tuning\n",
        "\n",
        "iters = 2000\n",
        "def grid_search30(w,X,y):\n",
        "  alpha_val = [0.01 , 0.05 , 0.1 , 0.15 , 0.2 , 0.5]\n",
        "  lambda_val = [0.05 , 0.1 , 0.15 , 0.2 , 0.5 , 1]\n",
        "  max_w = w\n",
        "  max_accuracy = 0\n",
        "  for alpha in alpha_val:\n",
        "    for Lambda in lambda_val:\n",
        "      w_temp , J_temp = batch_gradient_descent(X,y,w,alpha,iters)\n",
        "      m = y.shape[0]\n",
        "      hypothesis = sigmoid(np.dot(X0_val,w_temp.T))\n",
        "      error = hypothesis - y\n",
        "      accuracy = 100 - (np.mean(np.abs(hypothesis - y))*100)\n",
        "      if max_accuracy < accuracy:\n",
        "        max_accuracy = accuracy\n",
        "        max_w = w_temp\n",
        "  return max_w , max_accuracy\n"
      ],
      "metadata": {
        "id": "2WNMxbkBPUQe"
      },
      "execution_count": null,
      "outputs": []
    },
    {
      "cell_type": "code",
      "source": [
        "final_w , final_accuracy50 = grid_search30(w,X4_val,Y4_val)\n",
        "#print(final_w)\n",
        "print(final_accuracy50)"
      ],
      "metadata": {
        "colab": {
          "base_uri": "https://localhost:8080/"
        },
        "outputId": "0736ffc8-342a-4109-bb44-e7d2be5e440f",
        "id": "1h6h2vsAPUQe"
      },
      "execution_count": null,
      "outputs": [
        {
          "output_type": "stream",
          "name": "stdout",
          "text": [
            "67.56499157287459\n"
          ]
        }
      ]
    },
    {
      "cell_type": "code",
      "source": [
        "alpha=0.2\n",
        "iters=2000\n",
        "batch_size=5\n",
        "mini_batch_w,J_mini_batch = MB_gradient_descent(X4_train,Y4_train,w,alpha,iters, batch_size)\n",
        "plt.plot(range(iters),J_mini_batch)\n",
        "plt.show()\n"
      ],
      "metadata": {
        "colab": {
          "base_uri": "https://localhost:8080/",
          "height": 265
        },
        "outputId": "3cc3f24f-8be5-4029-e28f-abeca028e3b8",
        "id": "yJWNCLTVPUQf"
      },
      "execution_count": null,
      "outputs": [
        {
          "output_type": "display_data",
          "data": {
            "image/png": "[encoded data removed]",
            "text/plain": [
              "<Figure size 432x288 with 1 Axes>"
            ]
          },
          "metadata": {
            "needs_background": "light"
          }
        }
      ]
    },
    {
      "cell_type": "code",
      "source": [
        "z = np.dot(X3_test, mini_batch_w.T)\n",
        "print(z.T)\n",
        "h = sigmoid(z)\n",
        "y_pred=h>0.5\n",
        "y_pred31=y_pred.astype(int)\n",
        "print(y_pred31.T)\n"
      ],
      "metadata": {
        "colab": {
          "base_uri": "https://localhost:8080/"
        },
        "outputId": "e3e99af8-acc7-4988-f178-59806a2169a7",
        "id": "zPOADV_sPUQf"
      },
      "execution_count": null,
      "outputs": [
        {
          "output_type": "stream",
          "name": "stdout",
          "text": [
            "[-1.99932397 -1.5040168  -2.15253967 -1.85508533 -1.75227805 -2.06351191\n",
            " -1.5084954  -1.95493545 -2.0257586  -1.84582477 -2.43802375 -2.02040037\n",
            " -2.48119549 -1.86673725 -2.02014583 -1.95300689 -1.99892882 -1.52459728\n",
            " -2.24337551 -2.03924568 -1.83230652 -1.90421034 -1.88421209 -1.65195821\n",
            " -2.38881459 -2.28842982 -1.66171736 -2.13519275 -1.80742571 -2.41096802\n",
            " -2.11086859 -2.18717972 -1.92909712 -2.24533879 -2.2076027  -2.11141655\n",
            " -1.63370077 -2.10531368 -1.85396683 -1.98753753 -2.16524974 -1.87951003\n",
            " -2.07285443 -2.42897979 -1.69930201 -1.73013972 -1.8374958  -2.13027833\n",
            " -2.20911296 -2.45682316 -2.44297326 -1.79304728 -2.30861453 -1.89637572\n",
            " -2.52237543 -2.22713015 -2.39425356 -1.82516496 -2.2977119  -2.3412702\n",
            " -2.27764529 -1.73003691 -1.80491506 -2.11419009 -1.94450842 -1.83514108\n",
            " -1.66870798 -1.95933876 -1.73790299 -2.31179224 -1.98858264 -2.38740359\n",
            " -2.15728396 -2.00571549 -1.64227687 -2.1231119  -2.12630585 -1.77915718\n",
            " -2.20930472 -1.96788631 -1.86995504 -1.62983673 -1.91467101 -1.68289029\n",
            " -1.84359801 -2.12032747 -1.77864327 -2.19776225 -1.43962364 -1.91121995\n",
            " -2.02313781 -1.81246561 -1.72760368 -2.11299866 -1.70968948 -1.91772157\n",
            " -1.87695854 -1.94751546 -1.76595158 -1.90547976 -2.01606469 -2.24938532\n",
            " -2.21675499 -1.78811153 -1.68826822 -2.41000636 -1.70974802 -1.89967618\n",
            " -1.81164366 -1.86192327 -2.33948823 -2.13299194 -2.27336981 -2.03322134\n",
            " -1.60227002 -2.35352012 -1.77311296 -1.63695759 -2.00625622 -1.97706402\n",
            " -2.0344823  -1.81222742 -1.67375834 -2.29154687 -2.31662706 -1.40832896\n",
            " -1.82350838 -2.13657239 -2.03708383 -1.7477951  -2.37636842 -1.82702792\n",
            " -2.2546116  -1.97579427 -1.22499097 -2.02464445 -2.22184175 -2.19826813\n",
            " -2.14753656 -2.42092565 -1.71162654 -1.95575308 -1.92692484 -1.80230505\n",
            " -2.20498793 -2.69027296 -2.24772541 -2.3505129  -1.77479058 -2.03971473\n",
            " -2.25756542 -1.98431379 -2.08566667 -1.68544996 -2.21676296 -1.81089096\n",
            " -1.7710384  -2.06548409 -1.58511338 -1.82230714 -2.37907159 -1.79950492\n",
            " -1.78937929 -2.1874407  -1.98987639 -2.07229621 -2.00023723 -2.25715433\n",
            " -2.29991826 -1.66632186 -2.1067189  -1.72871819 -1.79048283 -1.55733054\n",
            " -1.98980379 -1.84866162 -1.9926928  -1.79747877 -1.72900047 -2.32186567\n",
            " -2.28505246 -2.1121485  -2.63080644 -1.46804301 -2.3853632  -1.71660799\n",
            " -1.89779214 -2.19716626 -2.0493039  -2.2258244  -2.1012306  -2.27366943\n",
            " -1.60220847 -1.62698132 -1.83160319 -2.01628968 -2.12837958 -2.08263096\n",
            " -1.83964204 -1.86588612 -1.48510396 -1.71272379 -1.60977036 -2.47463252\n",
            " -1.82641429 -2.221438   -2.19605326 -1.93156375 -2.56013683 -1.93219243\n",
            " -1.46481981 -1.73812339 -2.00538481 -2.25601211 -1.79644157 -2.22033047\n",
            " -1.88520135 -2.14676713 -1.87820817 -1.37529736 -2.08020567 -2.46259708\n",
            " -2.15526434 -2.30305843 -2.58579057 -1.75308212 -1.78278593 -1.80140246\n",
            " -1.85648958 -1.87316172 -1.97207354 -1.65412599 -2.66066128 -1.80764606\n",
            " -2.39049853 -2.05380716 -1.69094552 -1.76799474 -2.06219329 -1.49330326\n",
            " -2.23473055 -2.32743357 -1.68341883 -1.57914696 -2.41249791 -1.77645692\n",
            " -1.70968948 -2.10619735 -2.07401036 -2.01916854 -2.01530203 -1.79858151\n",
            " -2.32723679 -2.59957786 -2.06223492 -1.96123882 -2.44501298 -1.95292451\n",
            " -2.12539974 -2.19499801 -2.16284643 -1.97483882 -1.56234808 -2.31204541\n",
            " -2.03550923 -1.3793482  -1.93046702 -1.71024883 -2.02057057 -2.37005717\n",
            " -2.18997829 -1.99697026 -2.33497479 -1.90840102 -2.18069434 -2.30051559\n",
            " -2.1207669  -1.96572752 -1.56532515 -2.13631128 -1.80962295 -1.96213121\n",
            " -2.17889445 -1.80507106 -2.11086859 -1.87735477 -2.07200844 -1.95291012\n",
            " -2.02793946 -2.01148    -2.14841898 -1.89525521 -1.79831645 -2.35001966\n",
            " -1.66884342 -1.87582307 -2.01571666 -2.08190757 -1.92254538 -1.6707908\n",
            " -1.90980494 -1.37416524 -2.22144921 -2.07617969 -2.33643085 -1.98858674\n",
            " -2.11042328 -2.14776452 -2.03029592 -1.92766225 -2.25648517 -1.98531478\n",
            " -2.48179439 -1.94383725 -1.98053645 -2.07620581 -1.93074558 -1.95061482\n",
            " -1.67604078 -1.86286748 -2.31815277 -1.98013822 -1.97956998 -1.60762427\n",
            " -1.73047736 -1.82110673 -1.39820102 -1.92823676 -2.19993878 -2.29922636\n",
            " -1.98867876 -1.64582088 -2.07700582 -1.87201382 -1.733328   -1.39372379\n",
            " -1.92886644 -2.07525826 -1.758257   -2.1510906  -2.23637584 -2.11626644\n",
            " -2.06145608 -1.25965235 -1.75384393 -2.55354936 -1.77695488 -1.71639642\n",
            " -1.81900777 -1.76691086 -2.156228   -1.97848788 -1.9445383  -1.29423279\n",
            " -1.42264992 -2.01210297 -1.74689315 -1.89368325 -2.16556653 -2.32678042\n",
            " -1.69689732 -1.58315145 -1.46094176 -2.66487525 -1.80197767 -2.17146444\n",
            " -1.5964285  -1.71038265 -2.0079751  -1.92753897 -2.19750226 -2.19993775\n",
            " -1.97671665 -1.5798022  -1.80719172 -2.09965352 -1.91119755 -1.98263725\n",
            " -2.00408747 -2.23537605 -1.61429676 -1.79745208 -1.62052361 -2.43032217\n",
            " -1.7032363  -2.0400908  -1.81760588 -2.23466895 -2.36577304 -2.05683203\n",
            " -1.96561295 -1.80599573 -1.79189898 -1.93360137 -1.73708033 -1.95980878\n",
            " -2.25195872 -2.15417121 -2.16342699 -2.0722557  -2.17961564 -2.25951824\n",
            " -1.89097226 -1.78283888 -2.00691849 -1.98531758 -2.04942465 -2.13329084\n",
            " -2.23310368 -2.20610245 -1.83612933 -2.0375374  -2.04793089 -2.56448514\n",
            " -1.49884186 -1.79486823 -2.09893736 -2.63631325 -1.85535221 -1.31834375\n",
            " -1.55170706 -1.90896427 -1.93398036 -1.927597   -2.22340293 -2.08973235\n",
            " -1.89965503 -2.46543169 -1.43922559 -1.71176867 -1.96593104 -1.88089431\n",
            " -1.99427524 -1.91735584 -2.05467579 -1.58373477 -2.20194157 -2.07036702\n",
            " -1.63982923 -2.75686737 -2.01081526 -1.83303967 -1.92152347 -2.34268854\n",
            " -1.9783892  -1.62126993 -1.78284633 -1.98256074 -1.52323094 -1.86880329\n",
            " -2.03234288 -2.20398851 -2.2199029  -2.39934776 -2.17879935 -2.3073798\n",
            " -1.85028464 -2.26752906 -1.97629226 -2.17778018 -1.95926602 -2.27855222\n",
            " -1.64690158 -2.007702   -2.03533892 -2.13785995 -2.06334221 -1.58044714\n",
            " -1.8385013  -2.30115488 -2.05170874 -2.24767586 -2.12397799 -1.91533129\n",
            " -2.2321407  -2.06162319 -2.11387736 -1.65455261 -2.08945783 -1.96859021\n",
            " -2.19038725 -1.71969908 -2.80346302 -2.15125734 -2.082321   -1.99612078\n",
            " -1.83102732 -2.00967113 -2.13846816 -2.03707349 -1.71965393 -2.00348924\n",
            " -2.0304223  -2.24738695 -1.76312735 -1.90671116 -2.14743558 -1.77903748\n",
            " -2.07690023 -1.94314603 -2.25013544 -1.56585661 -1.92682712 -2.20546644\n",
            " -2.0433508  -1.84874722 -1.89845237 -2.433088   -2.37335705 -2.57416133\n",
            " -1.83269732 -2.48508935 -1.99860718 -2.72009977 -1.78792834 -2.27506799\n",
            " -2.18644247 -2.31923573 -1.72976203 -2.42204106 -2.07207113 -2.33131373\n",
            " -2.00644875 -2.32475611 -1.98787931 -1.84175895 -2.05360887 -2.05479886\n",
            " -2.23239293 -2.55114778 -2.05475284 -1.9245279  -1.95096443 -2.14525206\n",
            " -2.08835554 -1.82646259 -2.00248909 -1.81827744 -1.97370201 -2.20687798\n",
            " -1.81032299 -1.85060546 -1.90686001 -2.26335612 -1.45865273 -1.79995385\n",
            " -1.95672502 -1.93485806 -2.10801098 -2.04525802 -1.52455585 -2.28811009\n",
            " -1.95964624 -2.40949401 -2.28642737 -1.67129693 -1.96859021 -1.55062905\n",
            " -2.48500292 -2.1195095  -1.61490502 -2.49687324 -1.71866044 -1.66105961\n",
            " -1.88977305 -1.87018246 -1.59778958 -1.69402764 -2.03003536 -1.89417525\n",
            " -2.13913333 -1.8624421  -1.67712531 -1.71132945 -2.19857469 -1.70517963\n",
            " -1.94056114 -2.35998026 -2.32403989 -2.37285973 -2.1019579  -1.98639238\n",
            " -2.1679549  -2.89025418 -1.44647114 -1.81861115 -1.95788472 -1.77428616\n",
            " -1.83883749 -2.15272422 -2.4574827  -2.32311139 -1.45204893 -2.01199612\n",
            " -1.97855769 -1.77547633 -2.06154091 -2.07745509 -2.05109312 -1.48351883\n",
            " -2.04044074 -1.91388554 -1.95485349 -2.5208131  -1.97240915 -2.2225502\n",
            " -2.51663395 -1.80700829 -2.2341992  -2.18647519 -1.63511141 -1.68403979\n",
            " -2.55994552 -1.87391663 -1.9090274  -1.92439843 -2.455669   -2.11985604\n",
            " -1.85505813 -2.25749942 -1.8965996  -2.45635383 -1.58373643 -2.43114185\n",
            " -2.20148334 -1.80403602 -2.0488872  -1.61793919 -2.07973399 -2.44362038\n",
            " -2.23842387 -2.14327963 -1.89037163 -2.01438064 -1.63068518 -2.25042589\n",
            " -2.01385217 -2.2492519  -2.26758398 -1.98605732 -2.41979986 -2.01008169\n",
            " -2.23756436 -1.53501899 -2.05811923 -1.79916906 -1.92687259 -1.64511655\n",
            " -2.15722782 -1.73231086 -2.24512368 -1.91703036 -1.99109864 -1.93063937\n",
            " -1.86463746 -1.70928632 -1.97715055 -1.79011463 -2.00931911 -2.1910285\n",
            " -2.60196706 -1.87175372 -1.67262731 -2.26105792 -1.79964794 -2.20410078\n",
            " -1.69495952 -1.95046929 -2.03150201 -2.18446878 -2.1062159  -1.7901631\n",
            " -2.18587671 -2.64078237 -2.00637326 -1.96714381 -2.32950146 -2.01028888\n",
            " -2.14901212 -2.24710353 -2.11741325 -2.08630064 -2.35158646]\n",
            "[0 0 0 0 0 0 0 0 0 0 0 0 0 0 0 0 0 0 0 0 0 0 0 0 0 0 0 0 0 0 0 0 0 0 0 0 0\n",
            " 0 0 0 0 0 0 0 0 0 0 0 0 0 0 0 0 0 0 0 0 0 0 0 0 0 0 0 0 0 0 0 0 0 0 0 0 0\n",
            " 0 0 0 0 0 0 0 0 0 0 0 0 0 0 0 0 0 0 0 0 0 0 0 0 0 0 0 0 0 0 0 0 0 0 0 0 0\n",
            " 0 0 0 0 0 0 0 0 0 0 0 0 0 0 0 0 0 0 0 0 0 0 0 0 0 0 0 0 0 0 0 0 0 0 0 0 0\n",
            " 0 0 0 0 0 0 0 0 0 0 0 0 0 0 0 0 0 0 0 0 0 0 0 0 0 0 0 0 0 0 0 0 0 0 0 0 0\n",
            " 0 0 0 0 0 0 0 0 0 0 0 0 0 0 0 0 0 0 0 0 0 0 0 0 0 0 0 0 0 0 0 0 0 0 0 0 0\n",
            " 0 0 0 0 0 0 0 0 0 0 0 0 0 0 0 0 0 0 0 0 0 0 0 0 0 0 0 0 0 0 0 0 0 0 0 0 0\n",
            " 0 0 0 0 0 0 0 0 0 0 0 0 0 0 0 0 0 0 0 0 0 0 0 0 0 0 0 0 0 0 0 0 0 0 0 0 0\n",
            " 0 0 0 0 0 0 0 0 0 0 0 0 0 0 0 0 0 0 0 0 0 0 0 0 0 0 0 0 0 0 0 0 0 0 0 0 0\n",
            " 0 0 0 0 0 0 0 0 0 0 0 0 0 0 0 0 0 0 0 0 0 0 0 0 0 0 0 0 0 0 0 0 0 0 0 0 0\n",
            " 0 0 0 0 0 0 0 0 0 0 0 0 0 0 0 0 0 0 0 0 0 0 0 0 0 0 0 0 0 0 0 0 0 0 0 0 0\n",
            " 0 0 0 0 0 0 0 0 0 0 0 0 0 0 0 0 0 0 0 0 0 0 0 0 0 0 0 0 0 0 0 0 0 0 0 0 0\n",
            " 0 0 0 0 0 0 0 0 0 0 0 0 0 0 0 0 0 0 0 0 0 0 0 0 0 0 0 0 0 0 0 0 0 0 0 0 0\n",
            " 0 0 0 0 0 0 0 0 0 0 0 0 0 0 0 0 0 0 0 0 0 0 0 0 0 0 0 0 0 0 0 0 0 0 0 0 0\n",
            " 0 0 0 0 0 0 0 0 0 0 0 0 0 0 0 0 0 0 0 0 0 0 0 0 0 0 0 0 0 0 0 0 0 0 0 0 0\n",
            " 0 0 0 0 0 0 0 0 0 0 0 0 0 0 0 0 0 0 0 0 0 0 0 0 0 0 0 0 0 0 0 0 0 0 0 0 0\n",
            " 0 0 0 0 0 0 0 0 0 0 0 0 0 0 0 0 0 0 0 0 0 0 0 0 0 0 0 0 0 0 0 0 0 0 0 0 0\n",
            " 0 0 0 0 0 0 0 0 0 0 0 0 0 0 0 0 0 0 0 0 0 0 0 0 0 0 0 0 0 0 0 0 0 0 0 0 0\n",
            " 0 0 0 0 0 0 0 0 0 0 0 0 0 0 0 0 0]\n"
          ]
        }
      ]
    },
    {
      "cell_type": "code",
      "source": [
        "#Implementing Grid Search for hyperparameter tuning\n",
        "\n",
        "iters = 2000\n",
        "def grid_search31(w,X,y):\n",
        "  alpha_val = [0.01 , 0.05 , 0.1 , 0.15 , 0.2 , 0.5]\n",
        "  lambda_val = [0.05 , 0.1 , 0.15 , 0.2 , 0.5 , 1]\n",
        "  max_w = w\n",
        "  max_accuracy = 0\n",
        "  for alpha in alpha_val:\n",
        "    for Lambda in lambda_val:\n",
        "      w_temp , J_temp = MB_gradient_descent(X,y,w,alpha,iters, batch_size)\n",
        "      m = y.shape[0]\n",
        "      hypothesis = sigmoid(np.dot(X0_val,w_temp.T))\n",
        "      error = hypothesis - y\n",
        "      accuracy = 100 - (np.mean(np.abs(hypothesis - y))*100)\n",
        "      if max_accuracy < accuracy:\n",
        "        max_accuracy = accuracy\n",
        "        max_w = w_temp\n",
        "  return max_w , max_accuracy"
      ],
      "metadata": {
        "id": "TbSo7mYfPUQf"
      },
      "execution_count": null,
      "outputs": []
    },
    {
      "cell_type": "code",
      "source": [
        "final_w , final_accuracy51 = grid_search31(w,X3_val,Y3_val)\n",
        "#print(final_w)\n",
        "print(final_accuracy51)"
      ],
      "metadata": {
        "colab": {
          "base_uri": "https://localhost:8080/"
        },
        "outputId": "a94821eb-ee9d-4b67-8045-b67722fdee84",
        "id": "b0Qry-XVPUQf"
      },
      "execution_count": null,
      "outputs": [
        {
          "output_type": "stream",
          "name": "stdout",
          "text": [
            "76.08902258621174\n"
          ]
        }
      ]
    },
    {
      "cell_type": "code",
      "source": [
        "n_epochs=2000\n",
        "alpha=0.02\n",
        "w_n,J_sgd = stochastic_gradient_descent(X4_train,Y4_train,w, alpha, n_epochs)\n",
        "plt.plot(range(n_epochs),J_sgd)\n",
        "plt.show()\n"
      ],
      "metadata": {
        "colab": {
          "base_uri": "https://localhost:8080/",
          "height": 265
        },
        "outputId": "1facc331-171e-4436-fd96-967fc27c1a77",
        "id": "XCEmnAltPUQf"
      },
      "execution_count": null,
      "outputs": [
        {
          "output_type": "display_data",
          "data": {
            "image/png": "[encoded data removed]",
            "text/plain": [
              "<Figure size 432x288 with 1 Axes>"
            ]
          },
          "metadata": {
            "needs_background": "light"
          }
        }
      ]
    },
    {
      "cell_type": "code",
      "source": [
        "z = np.dot(X5_test, w_n.T)\n",
        "print(z.T)\n",
        "h = sigmoid(z)\n",
        "y_pred=h>0.5\n",
        "y_pred32=y_pred.astype(int)\n",
        "print(y_pred32.T)\n"
      ],
      "metadata": {
        "colab": {
          "base_uri": "https://localhost:8080/"
        },
        "outputId": "ca9e36d5-2be4-4264-dcb1-b3fb87d08487",
        "id": "clDHodiKPUQf"
      },
      "execution_count": null,
      "outputs": [
        {
          "output_type": "stream",
          "name": "stdout",
          "text": [
            "[-1.03501988 -0.59432522 -1.16585484 -1.05578706 -0.8202109  -1.1080791\n",
            " -0.66225671 -0.95152435 -0.8076464  -0.82259861 -1.17331359 -0.91835808\n",
            " -1.09913504 -0.95543542 -0.87509259 -0.85889337 -0.97014711 -0.80342551\n",
            " -1.18069089 -0.95308444 -0.98905065 -0.7573183  -0.84132272 -0.90853523\n",
            " -0.92437626 -1.16421523 -0.55829489 -0.98023309 -0.90695773 -0.99539635\n",
            " -0.98969422 -1.14837123 -0.79100072 -1.03192895 -0.96212502 -1.13435525\n",
            " -0.78605534 -0.77588693 -0.98825522 -0.9522373  -0.97934325 -0.93234204\n",
            " -1.02348985 -1.07630896 -0.93339626 -0.96467072 -0.93788843 -0.96719024\n",
            " -1.13699944 -1.27754864 -1.2507157  -0.94806574 -1.04577736 -0.9596432\n",
            " -1.18571796 -1.01238983 -1.27329214 -0.8608226  -0.99628881 -1.10035753\n",
            " -1.18813333 -0.8085621  -0.84153192 -0.91869385 -0.78820478 -0.84969776\n",
            " -0.80261938 -0.938617   -0.87319612 -1.08367914 -0.92737704 -1.00875674\n",
            " -1.18388718 -0.94460767 -0.79493406 -1.10411076 -0.94935726 -1.04108968\n",
            " -1.0941996  -0.98970989 -0.84986468 -0.81265806 -1.06534363 -0.6851033\n",
            " -0.9635216  -1.20646619 -0.88126217 -1.04334816 -0.72959039 -1.00764316\n",
            " -0.75712761 -0.97418526 -1.03227134 -1.0078293  -0.91265642 -0.96918581\n",
            " -0.92567642 -0.90200324 -0.91878931 -0.89311733 -0.8705964  -1.09840722\n",
            " -1.17968917 -1.0652337  -0.91963468 -1.23628829 -0.84042588 -0.85917183\n",
            " -0.84446101 -0.86443776 -1.08091347 -1.08394009 -1.09439727 -1.06611232\n",
            " -0.8660507  -1.18001801 -0.84394973 -0.87178236 -0.77853358 -0.96969813\n",
            " -1.05825376 -0.86879882 -0.65879677 -1.13942777 -0.974739   -0.82159259\n",
            " -0.80436454 -1.04980271 -1.01172669 -0.79791931 -1.05849084 -1.13352918\n",
            " -0.98227949 -1.0106966  -0.647795   -0.91981828 -1.00610688 -1.20150255\n",
            " -0.99159645 -1.25071434 -0.76943016 -0.86474332 -1.03312687 -0.89598061\n",
            " -0.94864767 -1.30872185 -1.17190733 -1.19585105 -0.74542851 -1.01841813\n",
            " -1.08048197 -0.93153175 -1.06576307 -0.85769032 -0.84899925 -0.87450526\n",
            " -0.78010614 -1.07132745 -0.70628713 -1.1219629  -1.09384419 -0.73982298\n",
            " -0.9889833  -1.09226551 -0.81683771 -0.79494325 -0.79514434 -1.06885747\n",
            " -1.07059979 -0.86813526 -0.98019466 -0.90791488 -0.90982423 -0.88403781\n",
            " -0.80677149 -0.98346968 -0.94803169 -0.87979752 -0.80770527 -1.02003199\n",
            " -0.98855047 -1.09886185 -1.19090822 -0.79990398 -1.18151608 -0.8002933\n",
            " -0.84012745 -1.01954097 -0.83236602 -1.06920515 -0.85190714 -1.0567797\n",
            " -0.73540721 -0.78684481 -0.92608704 -0.98137142 -1.11733508 -1.02910503\n",
            " -0.87963502 -0.85209359 -0.64825355 -0.79269286 -0.71887608 -1.16914231\n",
            " -0.84213702 -1.11041324 -1.04833894 -0.89953212 -1.23343785 -0.91224369\n",
            " -0.73734315 -0.84771722 -0.86635292 -0.89677413 -0.87620453 -0.99652915\n",
            " -0.91472071 -1.13359241 -0.88661457 -0.76489643 -1.04592919 -1.17008216\n",
            " -0.98729705 -1.22952595 -1.22328176 -0.82139067 -0.93554357 -0.97157184\n",
            " -0.90036456 -0.80215258 -0.87172601 -0.78493552 -1.17769698 -0.74223219\n",
            " -1.09723663 -0.91565796 -0.84630167 -0.82983671 -0.8263576  -0.77202736\n",
            " -0.89983261 -0.91138001 -0.83534406 -0.77261834 -1.04707623 -0.83052265\n",
            " -0.91265642 -0.95977252 -1.014001   -1.00249294 -0.84938508 -0.7542965\n",
            " -1.17698488 -1.12647352 -0.95634997 -0.85963482 -1.02384872 -1.0524106\n",
            " -0.98816185 -1.02202195 -0.89909327 -0.92760758 -0.74915088 -1.06037514\n",
            " -1.01489295 -0.76055972 -1.0123147  -0.88586186 -0.99489747 -0.98673424\n",
            " -1.17024297 -0.87824486 -1.030804   -0.82511493 -0.99683387 -1.09820648\n",
            " -1.19540499 -0.86219125 -0.74662583 -1.10066645 -0.88036522 -0.90853205\n",
            " -0.89803919 -0.87266713 -0.98969422 -1.00295238 -0.99145592 -0.92920848\n",
            " -0.95514219 -1.00640341 -0.95563077 -1.00284268 -0.93664127 -1.23753693\n",
            " -0.64497118 -0.89710295 -1.14843101 -0.95638914 -0.8384363  -0.76673129\n",
            " -0.87858145 -0.46721146 -1.2365531  -0.98846726 -1.29332515 -0.94851817\n",
            " -1.0569609  -0.94085073 -0.96489683 -0.88631328 -0.94973406 -0.9170986\n",
            " -1.30331783 -0.99579788 -1.02812956 -0.8630152  -0.86464896 -0.89259435\n",
            " -0.74800295 -0.97711935 -1.17598943 -0.90784095 -0.84857161 -0.68590221\n",
            " -0.97645835 -0.85607447 -0.66603893 -1.02085773 -1.0399945  -1.07374375\n",
            " -1.05204104 -0.88614602 -0.91930478 -0.93640558 -0.84630106 -0.84157595\n",
            " -0.91364794 -1.02353915 -0.93928376 -0.96613675 -0.9271681  -1.08966121\n",
            " -0.96806596 -0.71593603 -1.01375277 -1.33730905 -0.69349701 -0.82907881\n",
            " -0.88044935 -0.8320237  -1.0221441  -0.98078137 -0.98959664 -0.93802701\n",
            " -0.77288856 -1.01882564 -0.79412867 -0.75271426 -1.21687978 -1.10639676\n",
            " -0.79164896 -0.72970975 -0.68942902 -1.26308547 -0.86777872 -1.02724923\n",
            " -0.79697026 -0.88152798 -0.82859994 -1.00764057 -1.09340252 -1.09038663\n",
            " -0.8796238  -0.7924059  -0.85845251 -1.03497752 -0.94442952 -1.14919511\n",
            " -0.96448768 -1.0881812  -0.75798543 -0.92736598 -0.84826742 -1.19715347\n",
            " -0.89608016 -1.02240983 -0.92112773 -1.01927309 -1.1904818  -0.9089759\n",
            " -0.92190398 -0.7418784  -0.92978498 -0.97237907 -0.86491214 -0.93740484\n",
            " -1.00902457 -1.03714069 -0.86914467 -0.90213482 -0.9122586  -1.0520714\n",
            " -0.91066631 -0.88093257 -0.95006888 -0.97026126 -1.05304036 -0.96111821\n",
            " -1.28492075 -1.05865456 -0.79612058 -0.88466798 -0.94343397 -1.21378234\n",
            " -0.75757701 -0.82898963 -0.8717701  -1.1675981  -0.80375803 -0.67699294\n",
            " -0.69761071 -0.95061348 -1.06068094 -0.94198475 -1.05767181 -0.92792085\n",
            " -1.03940144 -1.36709114 -0.83771074 -0.9535273  -0.9297997  -1.07382408\n",
            " -1.01791562 -1.02794409 -0.93690656 -0.74387804 -0.98043454 -1.01108306\n",
            " -0.72854248 -1.21471356 -0.97486382 -0.85411108 -1.0045913  -1.15604708\n",
            " -0.9581377  -0.85421592 -0.94068399 -0.92905878 -0.80370172 -0.87218425\n",
            " -0.96294922 -0.99694154 -1.03649564 -1.06274239 -0.88603147 -1.13160176\n",
            " -0.88685184 -1.14553781 -0.94708598 -0.89522332 -0.9659752  -1.1336546\n",
            " -0.87839917 -1.03914983 -0.88936941 -1.02400875 -0.93760115 -0.71994654\n",
            " -0.71024713 -1.06399668 -1.027736   -1.16091968 -1.04445664 -0.98977717\n",
            " -1.06364408 -1.0394737  -1.11418985 -0.90519058 -1.06273215 -0.8639209\n",
            " -0.90637611 -0.74047906 -1.32658332 -0.97656434 -0.96587152 -0.86250132\n",
            " -0.87075094 -0.86713924 -0.93833727 -1.2136322  -0.71684203 -0.90637708\n",
            " -1.0073983  -1.00053909 -1.12872908 -0.89784292 -1.0578328  -0.92165283\n",
            " -0.96710505 -0.8616678  -1.03603953 -0.83376516 -0.9337302  -0.99672803\n",
            " -0.96370426 -0.81238681 -1.0282474  -0.99158941 -1.13207204 -1.08288426\n",
            " -0.80701235 -0.99293056 -0.93146266 -1.17681803 -0.89971302 -1.04474968\n",
            " -1.09917297 -1.10974648 -0.9622454  -1.16356005 -0.9549377  -1.08129362\n",
            " -0.91523898 -1.05067874 -0.99821353 -0.87484337 -1.02344894 -0.95399386\n",
            " -1.07563023 -1.08957764 -0.97064579 -1.01272508 -0.98882159 -1.21571704\n",
            " -0.95053844 -0.67500849 -1.01492396 -0.98893715 -0.92821081 -1.03970466\n",
            " -0.72104185 -0.89249264 -0.84062469 -1.16451825 -0.73522334 -0.99929847\n",
            " -0.84909166 -0.97166513 -1.00322215 -0.92081568 -0.69920219 -1.25539234\n",
            " -0.81386131 -1.23711912 -1.1335438  -0.85656128 -0.8639209  -0.79145445\n",
            " -1.19293525 -0.95057924 -0.86504867 -1.14008091 -0.84948209 -0.94840623\n",
            " -1.00826651 -0.78154243 -0.6769505  -0.92972456 -0.97281783 -0.83060085\n",
            " -1.16647521 -0.94609687 -0.83702359 -0.84074265 -0.94495202 -0.85105613\n",
            " -1.05327243 -1.06043478 -1.01482503 -1.01858392 -1.09115809 -0.95571911\n",
            " -1.07193512 -1.23063013 -0.92087543 -0.9391309  -1.02172495 -0.77888158\n",
            " -0.8402143  -1.03077167 -1.05409794 -1.00635871 -0.92863335 -1.05046279\n",
            " -1.037092   -0.76555778 -1.06538127 -1.10607777 -1.0681444  -0.84563015\n",
            " -0.77098581 -0.78345616 -0.93268644 -1.2463969  -1.09176104 -1.11502992\n",
            " -1.35305698 -1.03429129 -1.16671548 -1.06082901 -0.75727017 -0.89718735\n",
            " -1.2501688  -0.89239365 -0.97628508 -0.89334919 -1.09942812 -1.05785394\n",
            " -0.94003423 -1.04959012 -0.9850847  -1.16656299 -0.85444516 -1.03633844\n",
            " -0.96353032 -0.97838694 -0.9821617  -0.70405302 -0.94826621 -1.06163651\n",
            " -1.16596454 -0.94782986 -0.94754432 -0.97764239 -0.90102648 -1.09255038\n",
            " -0.98304217 -1.13996916 -1.0764079  -1.02609536 -1.06404782 -1.05618739\n",
            " -1.17147055 -0.81238968 -1.05183742 -0.7303337  -1.11839502 -0.87868442\n",
            " -0.90395889 -0.92681881 -1.08462821 -0.93190463 -0.86013009 -0.99036498\n",
            " -0.87586224 -0.81927864 -0.87818047 -0.97753947 -0.8909459  -1.10261567\n",
            " -1.26895604 -0.8451806  -0.82146329 -1.12268313 -0.85652986 -0.99529942\n",
            " -0.85721472 -0.93305603 -1.06146373 -1.02598845 -1.11351092 -0.90309438\n",
            " -0.90831265 -1.0431111  -1.01501889 -0.82997324 -1.11698791 -1.16409924\n",
            " -0.90292928 -1.13029696 -0.80390362 -1.02426626 -1.29333003]\n",
            "[0 0 0 0 0 0 0 0 0 0 0 0 0 0 0 0 0 0 0 0 0 0 0 0 0 0 0 0 0 0 0 0 0 0 0 0 0\n",
            " 0 0 0 0 0 0 0 0 0 0 0 0 0 0 0 0 0 0 0 0 0 0 0 0 0 0 0 0 0 0 0 0 0 0 0 0 0\n",
            " 0 0 0 0 0 0 0 0 0 0 0 0 0 0 0 0 0 0 0 0 0 0 0 0 0 0 0 0 0 0 0 0 0 0 0 0 0\n",
            " 0 0 0 0 0 0 0 0 0 0 0 0 0 0 0 0 0 0 0 0 0 0 0 0 0 0 0 0 0 0 0 0 0 0 0 0 0\n",
            " 0 0 0 0 0 0 0 0 0 0 0 0 0 0 0 0 0 0 0 0 0 0 0 0 0 0 0 0 0 0 0 0 0 0 0 0 0\n",
            " 0 0 0 0 0 0 0 0 0 0 0 0 0 0 0 0 0 0 0 0 0 0 0 0 0 0 0 0 0 0 0 0 0 0 0 0 0\n",
            " 0 0 0 0 0 0 0 0 0 0 0 0 0 0 0 0 0 0 0 0 0 0 0 0 0 0 0 0 0 0 0 0 0 0 0 0 0\n",
            " 0 0 0 0 0 0 0 0 0 0 0 0 0 0 0 0 0 0 0 0 0 0 0 0 0 0 0 0 0 0 0 0 0 0 0 0 0\n",
            " 0 0 0 0 0 0 0 0 0 0 0 0 0 0 0 0 0 0 0 0 0 0 0 0 0 0 0 0 0 0 0 0 0 0 0 0 0\n",
            " 0 0 0 0 0 0 0 0 0 0 0 0 0 0 0 0 0 0 0 0 0 0 0 0 0 0 0 0 0 0 0 0 0 0 0 0 0\n",
            " 0 0 0 0 0 0 0 0 0 0 0 0 0 0 0 0 0 0 0 0 0 0 0 0 0 0 0 0 0 0 0 0 0 0 0 0 0\n",
            " 0 0 0 0 0 0 0 0 0 0 0 0 0 0 0 0 0 0 0 0 0 0 0 0 0 0 0 0 0 0 0 0 0 0 0 0 0\n",
            " 0 0 0 0 0 0 0 0 0 0 0 0 0 0 0 0 0 0 0 0 0 0 0 0 0 0 0 0 0 0 0 0 0 0 0 0 0\n",
            " 0 0 0 0 0 0 0 0 0 0 0 0 0 0 0 0 0 0 0 0 0 0 0 0 0 0 0 0 0 0 0 0 0 0 0 0 0\n",
            " 0 0 0 0 0 0 0 0 0 0 0 0 0 0 0 0 0 0 0 0 0 0 0 0 0 0 0 0 0 0 0 0 0 0 0 0 0\n",
            " 0 0 0 0 0 0 0 0 0 0 0 0 0 0 0 0 0 0 0 0 0 0 0 0 0 0 0 0 0 0 0 0 0 0 0 0 0\n",
            " 0 0 0 0 0 0 0 0 0 0 0 0 0 0 0 0 0 0 0 0 0 0 0 0 0 0 0 0 0 0 0 0 0 0 0 0 0\n",
            " 0 0 0 0 0 0 0 0 0 0 0 0 0 0 0 0 0 0 0 0 0 0 0 0 0 0 0 0 0 0 0 0 0 0 0 0 0\n",
            " 0 0 0 0 0 0 0 0 0 0 0 0 0 0 0 0 0]\n"
          ]
        }
      ]
    },
    {
      "cell_type": "code",
      "source": [
        "#Implementing Grid Search for hyperparameter tuning\n",
        "\n",
        "iters = 2000\n",
        "def grid_search32(w,X,y):\n",
        "  alpha_val = [0.01 , 0.05 , 0.1 , 0.15 , 0.2 , 0.5]\n",
        "  lambda_val = [0.05 , 0.1 , 0.15 , 0.2 , 0.5 , 1]\n",
        "  max_w = w\n",
        "  max_accuracy = 0\n",
        "  for alpha in alpha_val:\n",
        "    for Lambda in lambda_val:\n",
        "      w_temp , J_temp = stochastic_gradient_descent(X0_train,Y0_train,w, alpha, n_epochs)\n",
        "      m = y.shape[0]\n",
        "      hypothesis = sigmoid(np.dot(X0_val,w_temp.T))\n",
        "      error = hypothesis - y\n",
        "      accuracy = 100 - (np.mean(np.abs(hypothesis - y))*100)\n",
        "      if max_accuracy < accuracy:\n",
        "        max_accuracy = accuracy\n",
        "        max_w = w_temp\n",
        "  return max_w , max_accuracy"
      ],
      "metadata": {
        "id": "_ZsowGrWPUQf"
      },
      "execution_count": null,
      "outputs": []
    },
    {
      "cell_type": "code",
      "source": [
        "final_w , final_accuracy52 = grid_search32(w,X5_val,Y5_val)\n",
        "#print(final_w)\n",
        "print(final_accuracy52)"
      ],
      "metadata": {
        "colab": {
          "base_uri": "https://localhost:8080/"
        },
        "outputId": "366c5568-878a-4b9f-f233-fe8bba99c99a",
        "id": "sCi4jW3cPUQf"
      },
      "execution_count": null,
      "outputs": [
        {
          "output_type": "stream",
          "name": "stdout",
          "text": [
            "76.24406603216175\n"
          ]
        }
      ]
    },
    {
      "cell_type": "markdown",
      "source": [
        "For batch gradient descent\n"
      ],
      "metadata": {
        "id": "FrJudfb2es-V"
      }
    },
    {
      "cell_type": "markdown",
      "source": [
        "For batch gradient descent\n"
      ],
      "metadata": {
        "id": "bgfPgFdlRKQG"
      }
    },
    {
      "cell_type": "code",
      "source": [
        "overall_acc = (final_accuracy00 + final_accuracy10 + final_accuracy20 + final_accuracy30 + final_accuracy40 + final_accuracy50)/6\n",
        "print(overall_acc)"
      ],
      "metadata": {
        "colab": {
          "base_uri": "https://localhost:8080/"
        },
        "outputId": "0eb19d90-6a11-48c3-cfaf-a8171fcc9479",
        "id": "XY5LVyYcRKQG"
      },
      "execution_count": null,
      "outputs": [
        {
          "output_type": "stream",
          "name": "stdout",
          "text": [
            "66.67237594943953\n"
          ]
        }
      ]
    },
    {
      "cell_type": "markdown",
      "source": [
        "For MBGD\n"
      ],
      "metadata": {
        "id": "4FoBdK-pRKQG"
      }
    },
    {
      "cell_type": "code",
      "source": [
        "overall_acc = (final_accuracy01 + final_accuracy11 + final_accuracy21 + final_accuracy31 + final_accuracy41 + final_accuracy51 )/4\n",
        "print(overall_acc)"
      ],
      "metadata": {
        "colab": {
          "base_uri": "https://localhost:8080/"
        },
        "outputId": "31a0e552-bc9e-41a3-bc4b-87f44e9d2621",
        "id": "KFA-3Dx6RKQG"
      },
      "execution_count": null,
      "outputs": [
        {
          "output_type": "stream",
          "name": "stdout",
          "text": [
            "74.64413927853383\n"
          ]
        }
      ]
    },
    {
      "cell_type": "markdown",
      "source": [
        "For SGD"
      ],
      "metadata": {
        "id": "jbsT647sRKQH"
      }
    },
    {
      "cell_type": "code",
      "source": [
        "overall_acc = (final_accuracy02 + final_accuracy12 + final_accuracy22 + final_accuracy32 + final_accuracy42 + final_accuracy52)/4\n",
        "print(overall_acc"
      ],
      "metadata": {
        "colab": {
          "base_uri": "https://localhost:8080/"
        },
        "outputId": "ebad69d5-ec7e-4f21-e01e-dae002c38cf0",
        "id": "jOeaSOuQRKQH"
      },
      "execution_count": null,
      "outputs": [
        {
          "output_type": "stream",
          "name": "stdout",
          "text": [
            "75.13334829609516\n"
          ]
        }
      ]
    }
  ]
}