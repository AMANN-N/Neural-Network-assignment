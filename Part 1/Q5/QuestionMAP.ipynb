{
  "nbformat": 4,
  "nbformat_minor": 0,
  "metadata": {
    "colab": {
      "name": "QuestionMAP.ipynb",
      "provenance": []
    },
    "kernelspec": {
      "name": "python3",
      "display_name": "Python 3"
    },
    "language_info": {
      "name": "python"
    }
  },
  "cells": [
    {
      "cell_type": "code",
      "metadata": {
        "id": "US_qB8EdyEB1"
      },
      "source": [
        "import numpy as np\n",
        "import matplotlib.pyplot as plt\n",
        "import pandas as pd\n",
        "#from numpy import genfromtxt\n",
        "import io\n",
        "import math\n",
        "import random\n",
        "from sklearn.model_selection import train_test_split"
      ],
      "execution_count": 1,
      "outputs": []
    },
    {
      "cell_type": "code",
      "source": [
        "from google.colab import drive\n",
        "drive.mount('/content/drive/')"
      ],
      "metadata": {
        "colab": {
          "base_uri": "https://localhost:8080/",
          "height": 0
        },
        "id": "R1fgYz9MCAgJ",
        "outputId": "a2de2334-afd9-44ce-a5f9-2af706bd9cf6"
      },
      "execution_count": 2,
      "outputs": [
        {
          "output_type": "stream",
          "name": "stdout",
          "text": [
            "Mounted at /content/drive/\n"
          ]
        }
      ]
    },
    {
      "cell_type": "code",
      "source": [
        "data = pd.read_excel('/content/drive/MyDrive/NNFL Assignment/data.xlsx');\n",
        "print(data.shape)\n",
        "\n",
        "xmin = np.min(data, axis = 0)\n",
        "xmax = np.max(data, axis = 0)\n",
        "data = (data- xmin)/(xmax-xmin)\n",
        "\n",
        "data = data.to_numpy();\n",
        "print(data.shape)"
      ],
      "metadata": {
        "id": "z0vukRtSF17p",
        "colab": {
          "base_uri": "https://localhost:8080/",
          "height": 0
        },
        "outputId": "0bfa8f01-7c0f-4c09-873a-6bb5bd9ba4f2"
      },
      "execution_count": 13,
      "outputs": [
        {
          "output_type": "stream",
          "name": "stdout",
          "text": [
            "(3411, 61)\n",
            "(3411, 61)\n"
          ]
        }
      ]
    },
    {
      "cell_type": "code",
      "source": [
        "m=data.shape[0]\n",
        "Y=data[:, 60] # class label\n",
        "X=data[:, 0:60] # feature matrix"
      ],
      "metadata": {
        "id": "Bwd5TzDur89j"
      },
      "execution_count": 4,
      "outputs": []
    },
    {
      "cell_type": "code",
      "source": [
        "X_train, X_test, Y_train, Y_test = train_test_split(X,Y,test_size=0.3, shuffle = True, random_state = 8)"
      ],
      "metadata": {
        "id": "Irg0revgrxIv"
      },
      "execution_count": 5,
      "outputs": []
    },
    {
      "cell_type": "code",
      "metadata": {
        "id": "UqAkJo9IwM_b"
      },
      "source": [
        "def max_ap(x_ts,x,y):\n",
        "  p1 = len([i for (i, val) in enumerate(y) if val == 1. ])\n",
        "  p2 = len([i for (i, val) in enumerate(y) if val == 2. ])\n",
        "  p3 = len([i for (i, val) in enumerate(y) if val == 3. ])\n",
        "  p4 = len([i for (i, val) in enumerate(y) if val == 4. ])\n",
        "  # priors P(y)\n",
        "  p1, p2, p3 , p4 = p1/(len(y)), p2/(len(y)), p3/(len(y)) , p4/(len(y))\n",
        "  x1 = np.array([x[i] for (i, val) in enumerate(y) if val == 1. ])\n",
        "  x2 = np.array([x[i] for (i, val) in enumerate(y) if val == 2. ])\n",
        "  x3 = np.array([x[i] for (i, val) in enumerate(y) if val == 3. ])\n",
        "  x4 = np.array([x[i] for (i, val) in enumerate(y) if val == 4. ])\n",
        "  # evidence P(x)\n",
        "  e1, e2, e3 , e4 = len(x1)/(len(x)), len(x2)/(len(x)), len(x3)/(len(x)) , len(x4)/(len(x))\n",
        "  m1 = mean(x1)\n",
        "  m2 = mean(x2)\n",
        "  m3 = mean(x3)\n",
        "  m4 = mean(x4)\n",
        "  cov1 = np.cov(np.transpose(x1))\n",
        "  cov2 = np.cov(np.transpose(x2))\n",
        "  cov3 = np.cov(np.transpose(x3))\n",
        "  cov4 = np.cov(np.transpose(x4))\n",
        "  #coeff1 = 1 /((( 2 * 3.14 )** 2 )*np.linalg.det(cov1)** 0.5 )\n",
        "  #coeff2 = 1 /((( 2 * 3.14 )** 2 )*np.linalg.det(cov2)** 0.5 )\n",
        "  #coeff3 = 1 /((( 2 * 3.14 )** 2 )*np.linalg.det(cov3)** 0.5 )\n",
        "  # likelihoods P(x|y)\n",
        "  l1 = likelihood(x_ts,m1,cov1)\n",
        "  l2 = likelihood(x_ts,m2,cov2)\n",
        "  l3 = likelihood(x_ts,m3,cov3)\n",
        "  l4 = likelihood(x_ts,m4,cov4)\n",
        "  # Posteriors P(y|x)\n",
        "  prob1, prob2, prob3 , prob4 = (l1*p1)/e1, (l2*p2)/e2, (l3*p3)/e3 , (l4*p4)/e4\n",
        "  if max(prob1,prob2,prob3) == prob1:\n",
        "    return 1.0\n",
        "  elif max(prob1,prob2,prob3) == prob2:\n",
        "    return 2.0\n",
        "  elif max(prob1,prob2,prob3) == prob3:\n",
        "    return 3.0\n",
        "  else:\n",
        "    return 4.0"
      ],
      "execution_count": 6,
      "outputs": []
    },
    {
      "cell_type": "code",
      "metadata": {
        "id": "V3L4nq69zM58"
      },
      "source": [
        "def mean(array):\n",
        "  m = []\n",
        "  for i in range(60):\n",
        "    m.append(sum(col(array,i))/len(col(array,i)))\n",
        "  return m"
      ],
      "execution_count": 7,
      "outputs": []
    },
    {
      "cell_type": "code",
      "metadata": {
        "id": "7daUPkWuznpC"
      },
      "source": [
        "def col(array, i):\n",
        "  return [row[i] for row in array]"
      ],
      "execution_count": 8,
      "outputs": []
    },
    {
      "cell_type": "code",
      "metadata": {
        "id": "6ssK1dgu1Olx"
      },
      "source": [
        "def likelihood(X,u,sig):\n",
        "  coeff = 1 /((( 2 * 3.14 )** 3.5 )*np.linalg.det(sig)** 0.5 )\n",
        "  dev = np.array(X)-np.array(u)\n",
        "  #lik = coeff*np.exp(- 0.5 *np.dot(np.dot(dev,np.linalg.inv(sig)),np.transpose(dev)))\n",
        "  gauss = -0.5*(np.dot(np.dot(dev,np.linalg.inv(sig)),np.transpose(dev)))\n",
        "  try:\n",
        "    lik = coeff*math.exp(gauss)\n",
        "  except:\n",
        "    lik = math.inf\n",
        "  return lik"
      ],
      "execution_count": 9,
      "outputs": []
    },
    {
      "cell_type": "code",
      "metadata": {
        "id": "YExwq03o6DEy"
      },
      "source": [
        "def conf_mat(y_pred,y_ts):\n",
        "  confmat = np.zeros((4,4))\n",
        "  for i in range(len(y_ts)):\n",
        "    if y_ts[i] == 1.:\n",
        "      if y_pred[i] == 1.:\n",
        "        confmat [0][0] += 1\n",
        "      if y_pred[i] == 2.:\n",
        "        confmat [0][1] += 1\n",
        "      if y_pred[i] == 3.:\n",
        "        confmat [0][2] += 1\n",
        "      if y_pred[i] == 4.:\n",
        "        confmat [0][3] += 1\n",
        "\n",
        "    if y_ts[i] == 2.:\n",
        "      if y_pred[i] == 1.:\n",
        "        confmat [1][0] += 1\n",
        "      if y_pred[i] == 2.:\n",
        "        confmat [1][1] += 1\n",
        "      if y_pred[i] == 3.:\n",
        "        confmat [1][2] += 1\n",
        "      if y_pred[i] == 4.:\n",
        "        confmat [1][3] += 1\n",
        "\n",
        "    if y_ts[i] == 3.:\n",
        "      if y_pred[i] == 1.:\n",
        "        confmat [2][0] += 1\n",
        "      if y_pred[i] == 2.:\n",
        "        confmat [2][1] += 1\n",
        "      if y_pred[i] == 3.:\n",
        "        confmat [2][2] += 1\n",
        "      if y_pred[i] == 4.:\n",
        "        confmat [2][3] += 1\n",
        "\n",
        "    if y_ts[i] == 4.:\n",
        "      if y_pred[i] == 1.:\n",
        "        confmat [3][0] += 1\n",
        "      if y_pred[i] == 2.:\n",
        "        confmat [3][1] += 1\n",
        "      if y_pred[i] == 3.:\n",
        "        confmat [3][2] += 1\n",
        "      if y_pred[i] == 4.:\n",
        "        confmat [3][3] += 1\n",
        "  return confmat\n"
      ],
      "execution_count": 10,
      "outputs": []
    },
    {
      "cell_type": "code",
      "metadata": {
        "colab": {
          "base_uri": "https://localhost:8080/",
          "height": 0
        },
        "id": "YppBinqht0xs",
        "outputId": "cc21f67b-e1ee-4512-a090-988edb92a2de"
      },
      "source": [
        "acc = 0\n",
        "acc1 = 0\n",
        "acc2 = 0\n",
        "acc3 = 0\n",
        "acc4 = 0\n",
        "\n",
        "p_outputs = []\n",
        "for b in range(len(X_test)):\n",
        "  pred_op = max_ap(X_test[b],X_train,Y_train)\n",
        "  p_outputs.append(pred_op)\n",
        "confmat = conf_mat(p_outputs,Y_test)\n",
        "print(confmat)\n",
        "Acc = (confmat[ 0 ][ 0 ] + confmat[ 1 ][ 1 ] + confmat[ 2 ][ 2 ] + confmat[3][3])/sum(sum(confmat))\n",
        "Acc1 = confmat[ 0 ][ 0 ]/sum(confmat[ 0 ])\n",
        "Acc2 = confmat[ 1 ][ 1 ]/sum(confmat[ 1 ])\n",
        "Acc3 = confmat[ 2 ][ 2 ]/sum(confmat[ 2 ])\n",
        "Acc4 = confmat[ 3 ][ 3 ]/sum(confmat[ 3 ])\n",
        "print( 'Overall Accuracy : ' + str(Acc*100))\n",
        "print( 'Accuracy of class 1 : ' + str(Acc1*100))\n",
        "print( 'Accuracy of class 2 : ' + str(Acc2*100))\n",
        "print( 'Accuracy of class 3 : ' + str(Acc3*100))\n",
        "print( 'Accuracy of class 4 : ' + str(Acc4*100))"
      ],
      "execution_count": 14,
      "outputs": [
        {
          "output_type": "stream",
          "name": "stdout",
          "text": [
            "[[ 99.  89.  69.   0.]\n",
            " [ 73.  97.  85.   0.]\n",
            " [ 91.  85.  83.   0.]\n",
            " [101.  70.  82.   0.]]\n",
            "Overall Accuracy : 27.24609375\n",
            "Accuracy of class 1 : 38.52140077821012\n",
            "Accuracy of class 2 : 38.03921568627451\n",
            "Accuracy of class 3 : 32.04633204633205\n",
            "Accuracy of class 4 : 0.0\n"
          ]
        }
      ]
    }
  ]
}