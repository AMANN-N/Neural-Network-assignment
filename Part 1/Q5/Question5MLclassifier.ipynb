{
  "nbformat": 4,
  "nbformat_minor": 0,
  "metadata": {
    "colab": {
      "name": "Question5MLclassifier.ipynb",
      "provenance": []
    },
    "kernelspec": {
      "name": "python3",
      "display_name": "Python 3"
    },
    "language_info": {
      "name": "python"
    }
  },
  "cells": [
    {
      "cell_type": "code",
      "metadata": {
        "id": "US_qB8EdyEB1"
      },
      "source": [
        "import numpy as np\n",
        "import matplotlib.pyplot as plt\n",
        "import pandas as pd\n",
        "#from numpy import genfromtxt\n",
        "import io\n",
        "import math\n",
        "import random\n",
        "from sklearn.model_selection import train_test_split"
      ],
      "execution_count": null,
      "outputs": []
    },
    {
      "cell_type": "code",
      "source": [
        "from google.colab import drive\n",
        "drive.mount('/content/drive/')"
      ],
      "metadata": {
        "colab": {
          "base_uri": "https://localhost:8080/"
        },
        "id": "R1fgYz9MCAgJ",
        "outputId": "3909924f-806a-4fde-8037-74e98227c78e"
      },
      "execution_count": null,
      "outputs": [
        {
          "output_type": "stream",
          "name": "stdout",
          "text": [
            "Mounted at /content/drive/\n"
          ]
        }
      ]
    },
    {
      "cell_type": "code",
      "source": [
        "data = pd.read_excel('/content/drive/MyDrive/NNFL Assignment/data.xlsx');\n",
        "print(data.shape)\n",
        "\n",
        "xmin = np.min(data, axis = 0)\n",
        "xmax = np.max(data, axis = 0)\n",
        "data = (data- xmin)/(xmax-xmin)\n",
        "\n",
        "data = data.to_numpy();\n",
        "print(data.shape)\n"
      ],
      "metadata": {
        "id": "z0vukRtSF17p",
        "colab": {
          "base_uri": "https://localhost:8080/",
          "height": 0
        },
        "outputId": "84390620-7dd2-465a-a1ac-9d4b66509972"
      },
      "execution_count": 32,
      "outputs": [
        {
          "output_type": "stream",
          "name": "stdout",
          "text": [
            "(3411, 61)\n",
            "(3411, 61)\n"
          ]
        }
      ]
    },
    {
      "cell_type": "code",
      "source": [
        "m=data.shape[0]\n",
        "Y=data[:, 60] # class label\n",
        "X=data[:, 0:60] # feature matrix"
      ],
      "metadata": {
        "id": "Bwd5TzDur89j"
      },
      "execution_count": null,
      "outputs": []
    },
    {
      "cell_type": "code",
      "source": [
        "X_train, X_test, Y_train, Y_test = train_test_split(X,Y,test_size=0.3, shuffle = True, random_state = 8)"
      ],
      "metadata": {
        "id": "Irg0revgrxIv"
      },
      "execution_count": null,
      "outputs": []
    },
    {
      "cell_type": "code",
      "metadata": {
        "colab": {
          "base_uri": "https://localhost:8080/"
        },
        "id": "pL6FJgTnyTuQ",
        "outputId": "daa57cbb-cee8-434c-9898-fd24f50503bc"
      },
      "source": [
        "\n",
        "print(len(X_train),len(X_test))"
      ],
      "execution_count": null,
      "outputs": [
        {
          "output_type": "stream",
          "name": "stdout",
          "text": [
            "2387 1024\n"
          ]
        }
      ]
    },
    {
      "cell_type": "code",
      "metadata": {
        "id": "DZSm_djq2EEP"
      },
      "source": [
        "def max_lik(x_ts,x,y):\n",
        "  x1 = np.array([x[i] for (i, val) in enumerate(y) if val == 1. ])\n",
        "  x2 = np.array([x[i] for (i, val) in enumerate(y) if val == 2. ])\n",
        "  x3 = np.array([x[i] for (i, val) in enumerate(y) if val == 3. ])\n",
        "  x4 = np.array([x[i] for (i, val) in enumerate(y) if val == 4. ])\n",
        "  # evidence P(x)\n",
        "  e1, e2, e3 , e4 = len(x1)/(len(x)), len(x2)/(len(x)), len(x3)/(len(x)), len(x4)/(len(x))\n",
        "  m1 = mean(x1)\n",
        "  m2 = mean(x2)\n",
        "  m3 = mean(x3)\n",
        "  m4 = mean(x4)\n",
        "  cov1 = np.cov(np.transpose(x1))\n",
        "  cov2 = np.cov(np.transpose(x2))\n",
        "  cov3 = np.cov(np.transpose(x3))\n",
        "  cov4 = np.cov(np.transpose(x4))\n",
        "  l1 = likelihood(x_ts,m1,cov1)\n",
        "  l2 = likelihood(x_ts,m2,cov2)\n",
        "  l3 = likelihood(x_ts,m3,cov3)\n",
        "  l4 = likelihood(x_ts,m3,cov4)\n",
        "  if max(l1,l2,l3,l4) == l1:\n",
        "    return 1.\n",
        "  elif max(l1,l2,l3) == l2:\n",
        "    return 2.\n",
        "  elif max(l1,l2,l3) == l3 :\n",
        "    return 3.\n",
        "  else:\n",
        "    return 4."
      ],
      "execution_count": null,
      "outputs": []
    },
    {
      "cell_type": "code",
      "metadata": {
        "id": "jTK2UR5O3xHB"
      },
      "source": [
        "def mean(array):\n",
        "  m = []\n",
        "  for i in range(60):\n",
        "    m.append(sum(col(array,i))/len(col(array,i)))\n",
        "  return m"
      ],
      "execution_count": null,
      "outputs": []
    },
    {
      "cell_type": "code",
      "metadata": {
        "id": "cFWjla-53x_w"
      },
      "source": [
        "def col(array, i):\n",
        "  return [row[i] for row in array]"
      ],
      "execution_count": null,
      "outputs": []
    },
    {
      "cell_type": "code",
      "metadata": {
        "id": "qOr3Q9NT38Nn"
      },
      "source": [
        "def likelihood(X,u,sig):\n",
        "  coeff = 1 /((( 2 * 3.14 )** 3.5 )*np.linalg.det(sig)** 0.5 )\n",
        "  dev = np.array(X)-np.array(u)\n",
        "  #lik = coeff*np.exp(- 0.5 *np.dot(np.dot(dev,np.linalg.inv(sig)),np.transpose(dev)))\n",
        "  gauss = -0.5*(np.dot(np.dot(dev,np.linalg.inv(sig)),np.transpose(dev)))\n",
        "  try:\n",
        "    lik = coeff*math.exp(gauss)\n",
        "  except:\n",
        "    lik = math.inf\n",
        "  return lik"
      ],
      "execution_count": null,
      "outputs": []
    },
    {
      "cell_type": "code",
      "metadata": {
        "id": "24QqXSli39Z_"
      },
      "source": [
        "def conf_mat(y_pred,y_ts):\n",
        "  confmat = np.zeros((4,4))\n",
        "  for i in range(len(y_ts)):\n",
        "    if y_ts[i] == 1.:\n",
        "      if y_pred[i] == 1.:\n",
        "        confmat [0][0] += 1\n",
        "      if y_pred[i] == 2.:\n",
        "        confmat [0][1] += 1\n",
        "      if y_pred[i] == 3.:\n",
        "        confmat [0][2] += 1\n",
        "      if y_pred[i] == 4.:\n",
        "        confmat [0][3] += 1\n",
        "\n",
        "    if y_ts[i] == 2.:\n",
        "      if y_pred[i] == 1.:\n",
        "        confmat [1][0] += 1\n",
        "      if y_pred[i] == 2.:\n",
        "        confmat [1][1] += 1\n",
        "      if y_pred[i] == 3.:\n",
        "        confmat [1][2] += 1\n",
        "      if y_pred[i] == 4.:\n",
        "        confmat [1][3] += 1\n",
        "\n",
        "    if y_ts[i] == 3.:\n",
        "      if y_pred[i] == 1.:\n",
        "        confmat [2][0] += 1\n",
        "      if y_pred[i] == 2.:\n",
        "        confmat [2][1] += 1\n",
        "      if y_pred[i] == 3.:\n",
        "        confmat [2][2] += 1\n",
        "      if y_pred[i] == 4.:\n",
        "        confmat [2][3] += 1\n",
        "\n",
        "    if y_ts[i] == 4.:\n",
        "      if y_pred[i] == 1.:\n",
        "        confmat [3][0] += 1\n",
        "      if y_pred[i] == 2.:\n",
        "        confmat [3][1] += 1\n",
        "      if y_pred[i] == 3.:\n",
        "        confmat [3][2] += 1\n",
        "      if y_pred[i] == 4.:\n",
        "        confmat [3][3] += 1\n",
        "  return confmat"
      ],
      "execution_count": null,
      "outputs": []
    },
    {
      "cell_type": "code",
      "metadata": {
        "colab": {
          "base_uri": "https://localhost:8080/",
          "height": 0
        },
        "id": "fVGc2Si804FI",
        "outputId": "879bd92e-eafa-4ed6-d10e-74afa88dd79b"
      },
      "source": [
        "p_outputs = []\n",
        "for b in range(len(X_test)):\n",
        "  pred_op = max_lik(X_test[b],X_train,Y_train)\n",
        "  p_outputs.append(pred_op)\n",
        "confmat = conf_mat(p_outputs,Y_test)\n",
        "print(confmat)\n",
        "Acc = (confmat[ 0 ][ 0 ] + confmat[ 1 ][ 1 ] + confmat[ 2 ][ 2 ] + confmat[3][3])/sum(sum(confmat))\n",
        "Acc1 = confmat[ 0 ][ 0 ]/sum(confmat[ 0 ])\n",
        "Acc2 = confmat[ 1 ][ 1 ]/sum(confmat[ 1 ])\n",
        "Acc3 = confmat[ 2 ][ 2 ]/sum(confmat[ 2 ])\n",
        "Acc4 = confmat[ 3 ][ 3 ]/sum(confmat[ 3 ])\n",
        "print( 'Overall Accuracy : ' + str(Acc*100))\n",
        "print( 'Accuracy of class 1 : ' + str(Acc1*100))\n",
        "print( 'Accuracy of class 2 : ' + str(Acc2*100))\n",
        "print( 'Accuracy of class 3 : ' + str(Acc3*100))\n",
        "print( 'Accuracy of class 4 : ' + str(Acc4*100))"
      ],
      "execution_count": 33,
      "outputs": [
        {
          "output_type": "stream",
          "name": "stdout",
          "text": [
            "[[78. 89. 69. 21.]\n",
            " [57. 97. 85. 16.]\n",
            " [63. 85. 83. 28.]\n",
            " [78. 70. 82. 23.]]\n",
            "Overall Accuracy : 27.44140625\n",
            "Accuracy of class 1 : 30.35019455252918\n",
            "Accuracy of class 2 : 38.03921568627451\n",
            "Accuracy of class 3 : 32.04633204633205\n",
            "Accuracy of class 4 : 9.090909090909092\n"
          ]
        }
      ]
    }
  ]
}